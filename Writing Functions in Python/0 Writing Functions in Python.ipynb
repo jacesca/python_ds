{
 "cells": [
  {
   "cell_type": "markdown",
   "metadata": {},
   "source": [
    "# Writing Functions in Python\n",
    "\n",
    "You've done your analysis, built your report, and trained a model. What's next? Well, if you want to deploy your model into production, your code will need to be more reliable than exploratory scripts in a Jupyter notebook. Writing Functions in Python will give you a strong foundation in writing complex and beautiful functions so that you can contribute research and engineering skills to your team. You'll learn useful tricks, like how to write context managers and decorators. You'll also learn best practices around how to write maintainable reusable functions with good documentation. They say that people who can do good research and write high-quality code are unicorns. Take this course and discover the magic!"
   ]
  },
  {
   "cell_type": "markdown",
   "metadata": {},
   "source": [
    "## 1. Best Practices\n",
    "\n",
    "The goal of this course is to transform you into a Python expert, and so the first chapter starts off with best practices when writing functions. You'll cover docstrings and why they matter and how to know when you need to turn a chunk of code into a function. You will also learn the details of how Python passes arguments to functions, as well as some common gotchas that can cause debugging headaches when calling functions.\n",
    "\n",
    "    1.1 Docstrings\n",
    "    1.2 Crafting a docstring\n",
    "    1.3 Retrieving docstrings\n",
    "    1.4 Docstrings to the rescue!\n",
    "    1.5 DRY and \"Do One Thing\"\n",
    "    1.6 Extract a function\n",
    "    1.7 Split up a function\n",
    "    1.8 Pass by assignment\n",
    "    1.9 Mutable or immutable?\n",
    "    1.10 Best practice for default arguments"
   ]
  },
  {
   "cell_type": "markdown",
   "metadata": {},
   "source": [
    "## 2. Context Managers\n",
    "\n",
    "If you've ever seen the \"with\" keyword in Python and wondered what its deal was, then this is the chapter for you! Context managers are a convenient way to provide connections in Python and guarantee that those connections get cleaned up when you are done using them. This chapter will show you how to use context managers, as well as how to write your own.\n",
    "\n",
    "    2.1 Using context managers\n",
    "    2.2 The number of cats\n",
    "    2.3 The speed of cats\n",
    "    2.4 Writing context managers\n",
    "    2.5 The timer() context manager\n",
    "    2.6 A read-only open() context manager\n",
    "    2.7 Advanced topics\n",
    "    2.8 Context manager use cases\n",
    "    2.9 Scraping the NASDAQ\n",
    "    2.10 Changing the working directory"
   ]
  },
  {
   "cell_type": "markdown",
   "metadata": {},
   "source": [
    "## 3. Decorators\n",
    "\n",
    "Decorators are an extremely powerful concept in Python. They allow you to modify the behavior of a function without changing the code of the function itself. This chapter will lay the foundational concepts needed to thoroughly understand decorators (functions as objects, scope, and closures), and give you a good introduction into how decorators are used and defined. This deep dive into Python internals will set you up to be a superstar Pythonista.\n",
    "\n",
    "    3.1 Functions are objects\n",
    "    3.2 Building a command line data app\n",
    "    3.3 Reviewing your co-worker's code\n",
    "    3.4 Returning functions for a math game\n",
    "    3.5 Scope\n",
    "    3.6 Understanding scope\n",
    "    3.7 Modifying variables outside local scope\n",
    "    3.8 Closures\n",
    "    3.9 Checking for closure\n",
    "    3.10 Closures keep your values safe\n",
    "    3.11 Decorators\n",
    "    3.12 Using decorator syntax\n",
    "    3.13 Defining a decorator"
   ]
  },
  {
   "cell_type": "markdown",
   "metadata": {},
   "source": [
    "## 4. More on Decorators\n",
    "\n",
    "Now that you understand how decorators work under the hood, this chapter gives you a bunch of real-world examples of when and how you would write decorators in your own code. You will also learn advanced decorator concepts like how to preserve the metadata of your decorated functions and how to write decorators that take arguments.\n",
    "\n",
    "    4.1 Real-world examples\n",
    "    4.2 Print the return type\n",
    "    4.3 Counter\n",
    "    4.4 Decorators and metadata\n",
    "    4.5 Preserving docstrings when decorating functions\n",
    "    4.6 Measuring decorator overhead\n",
    "    4.7 Decorators that take arguments\n",
    "    4.8 Run_n_times()\n",
    "    4.9 HTML Generator\n",
    "    4.10 Timeout(): a real world example\n",
    "    4.11 Tag your functions\n",
    "    4.12 Check the return type\n",
    "    4.13 Great job!"
   ]
  },
  {
   "cell_type": "markdown",
   "metadata": {},
   "source": [
    "# Aditional material\n",
    "\n",
    "- Datacamp course: https://learn.datacamp.com/courses/writing-functions-in-python"
   ]
  }
 ],
 "metadata": {
  "kernelspec": {
   "display_name": "Python 3",
   "language": "python",
   "name": "python3"
  },
  "language_info": {
   "codemirror_mode": {
    "name": "ipython",
    "version": 3
   },
   "file_extension": ".py",
   "mimetype": "text/x-python",
   "name": "python",
   "nbconvert_exporter": "python",
   "pygments_lexer": "ipython3",
   "version": "3.8.8"
  }
 },
 "nbformat": 4,
 "nbformat_minor": 4
}
