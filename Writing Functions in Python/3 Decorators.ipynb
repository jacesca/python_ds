{
 "cells": [
  {
   "cell_type": "code",
   "execution_count": 1,
   "metadata": {},
   "outputs": [],
   "source": [
    "# Import libraries\n",
    "import pandas as pd\n",
    "import random\n",
    "import numpy as np\n",
    "\n",
    "import inspect\n",
    "\n",
    "import expectexception"
   ]
  },
  {
   "cell_type": "markdown",
   "metadata": {},
   "source": [
    "# 3. Decorators\n",
    "\n",
    "Decorators are an extremely powerful concept in Python. They allow you to modify the behavior of a function without changing the code of the function itself. This chapter will lay the foundational concepts needed to thoroughly understand decorators (functions as objects, scope, and closures), and give you a good introduction into how decorators are used and defined. This deep dive into Python internals will set you up to be a superstar Pythonista."
   ]
  },
  {
   "cell_type": "markdown",
   "metadata": {},
   "source": [
    "# <font color=darkred>3.1 Functions are objects</font>\n",
    "\n",
    "1. Functions as objects\n",
    ">In this chapter, you are going to learn about decorators, a powerful way of modifying the behavior of functions. But first, we need to build up some foundational concepts that will make decorators easier to understand.\n",
    "\n",
    "2. Functions are just another type of object\n",
    ">The main thing you should take away from this lesson is that functions are just like any other object in Python. They are not fundamentally different from lists, dictionaries, DataFrames, strings, integers, floats, modules, or anything else in Python.\n",
    "\n",
    "3. Functions as variables\n",
    ">And because functions are just another type of object, you can do anything to or with them that you would do with any other kind of object. You can take a function and assign it to a variable, like \"x\". Then, if you wanted to, you could call x() instead of my_function(). It doesn't have to be a function you defined, either. If you felt so inclined, you could assign the print() function to PrintyMcPrintface, and use it as your print() function.\n",
    "\n",
    "4. Lists and dictionaries of functions\n",
    ">You can also add functions to a list or dictionary. Here, we've added the functions my_function(), open(), and print() to the list \"list_of_functions\". We can call an element of the list, and pass it arguments. Since the third element of the list is the print() function, it prints the string argument to the console. Below that, we've added the same three functions to a dictionary, under the keys \"func1\", \"func2\", and \"func3\". Since the print() function is stored under the key \"func3\", we can reference it and use it as if we were calling the function directly.\n",
    "\n",
    "5. Referencing a function\n",
    ">Notice that when you assign a function to a variable, you do not include the parentheses after the function name. This is a subtle but very important distinction. When you type my_function() with the parentheses, you are calling that function. It evaluates to the value that the function returns. However, when you type \"my_function\" without the parentheses, you are referencing the function itself. It evaluates to a function object.\n",
    "\n",
    "6. Functions as arguments\n",
    ">Here's where things get really fun. Since a function is just an object like anything else in Python, you can pass one as an argument to another function. The has_docstring() function checks to see whether the function that is passed to it has a docstring or not. We could define these two functions, no() and yes(), and pass them as arguments to the has_docstring() function. Since the no() function doesn't have a docstring, the has_docstring() function returns False. Likewise, has_docstring() returns True for the yes() function.\n",
    "\n",
    "7. Defining a function inside another function\n",
    ">Functions can also be defined inside other functions. These kinds of functions are called nested functions, although you may also hear them called inner functions, helper functions, or child functions.\n",
    "\n",
    "8. Defining a function inside another function\n",
    ">A nested function can make your code easier to read. In this example, if x and y are within some bounds, foo() prints x times y. We can make that if statement easier to read by defining an in_range() function.\n",
    "\n",
    "9. Functions as return values\n",
    ">There's also nothing stopping us from returning a function. For instance, the function get_function() creates a new function, print_me(), and then returns it. If we assign the result of calling get_function() to the variable \"new_func\", we are assigning the return value, \"print_me()\" to \"new_func\". We can then call new_func() as if it were the print_me() function.\n",
    "\n",
    "10. Let's practice!\n",
    ">The way that Python treats everything as an object is one of my favorite things about the language, and it gives you the ability to do a lot of really complex things. In the coming lessons, we'll dig into what this ability allows us to do. For now, you can check your understanding with a few exercises."
   ]
  },
  {
   "cell_type": "code",
   "execution_count": 2,
   "metadata": {},
   "outputs": [
    {
     "name": "stdout",
     "output_type": "stream",
     "text": [
      "<class 'function'>\n",
      "Hello\n"
     ]
    }
   ],
   "source": [
    "# Functions as variables\n",
    "def my_function():\n",
    "    print('Hello')\n",
    "\n",
    "x = my_function\n",
    "print(type(x))\n",
    "x()"
   ]
  },
  {
   "cell_type": "code",
   "execution_count": 3,
   "metadata": {},
   "outputs": [
    {
     "name": "stdout",
     "output_type": "stream",
     "text": [
      "Python is awesome!\n"
     ]
    }
   ],
   "source": [
    "PrintyMcPrintface = print\n",
    "PrintyMcPrintface('Python is awesome!')"
   ]
  },
  {
   "cell_type": "code",
   "execution_count": 4,
   "metadata": {},
   "outputs": [
    {
     "name": "stdout",
     "output_type": "stream",
     "text": [
      "I am printing with an element of a list!\n",
      "I am printing with a value of a dict!\n"
     ]
    }
   ],
   "source": [
    "# Lists and dictionaries of functions\n",
    "list_of_functions = [my_function, open, print]\n",
    "list_of_functions[2]('I am printing with an element of a list!')\n",
    "\n",
    "dict_of_functions = {'func1': my_function,\n",
    "                     'func2': open,\n",
    "                     'func3': print\n",
    "                    }\n",
    "dict_of_functions['func3']('I am printing with a value of a dict!')"
   ]
  },
  {
   "cell_type": "code",
   "execution_count": 5,
   "metadata": {},
   "outputs": [
    {
     "name": "stdout",
     "output_type": "stream",
     "text": [
      "False\n",
      "True\n"
     ]
    }
   ],
   "source": [
    "# Functions as arguments\n",
    "def has_docstring(func):\n",
    "    \"\"\"Check to see if the function\n",
    "    `func` has a docstring.\n",
    "    Args:\n",
    "        func (callable): A function.\n",
    "    Returns:\n",
    "        bool\n",
    "    \"\"\"\n",
    "    return func.__doc__ is not None\n",
    "\n",
    "def no():\n",
    "    return 42\n",
    "def yes():\n",
    "    \"\"\"Return the value 42\n",
    "    \"\"\"\n",
    "    return 42\n",
    "\n",
    "print(has_docstring(no))\n",
    "print(has_docstring(yes))"
   ]
  },
  {
   "cell_type": "code",
   "execution_count": 6,
   "metadata": {},
   "outputs": [],
   "source": [
    "# Defining a function inside another function\n",
    "def foo(x, y):\n",
    "    if x > 4 and x < 10 and y > 4 and y < 10:\n",
    "        print(x * y)\n",
    "\n",
    "def foo(x, y):\n",
    "    def in_range(v):\n",
    "        return v > 4 and v < 10\n",
    "    \n",
    "    if in_range(x) and in_range(y):\n",
    "        print(x * y)"
   ]
  },
  {
   "cell_type": "code",
   "execution_count": 7,
   "metadata": {},
   "outputs": [
    {
     "name": "stdout",
     "output_type": "stream",
     "text": [
      "This is a sentence.\n"
     ]
    }
   ],
   "source": [
    "# Functions as return values\n",
    "def get_function():\n",
    "    def print_me(s):\n",
    "        print(s)\n",
    "    return print_me\n",
    "\n",
    "new_func = get_function()\n",
    "new_func('This is a sentence.')"
   ]
  },
  {
   "cell_type": "markdown",
   "metadata": {},
   "source": [
    "# <font color=darkred>3.2 Building a command line data app</font> \n",
    "\n",
    "You are building a command line tool that lets a user interactively explore a data set. We've defined four functions: mean(), std(), minimum(), and maximum() that users can call to analyze their data. Help finish this section of the code so that your users can call any of these functions by typing the function name at the input prompt.\n",
    "\n",
    "__Note__: The function get_user_input() in this exercise is a mock version of asking the user to enter a command. It randomly returns one of the four function names. In real life, you would ask for input and wait until the user entered a value.\n",
    "\n",
    "**Instructions**\n",
    "- Add the functions std(), minimum(), and maximum() to the function_map dictionary, like we did with mean().\n",
    "- The name of the function the user wants to call is stored in func_name. Use the dictionary of functions, function_map, to call the chosen function and pass data as an argument.\n",
    "\n",
    "**Results**\n",
    "\n",
    "<font color=darkgreen>Phenomenal function referencing! By adding the functions to a dictionary, you can select the function based on the user's input. You could have also used a series of if/else statements, but putting them in a dictionary like this is much easier to read and maintain.</font>"
   ]
  },
  {
   "cell_type": "code",
   "execution_count": 8,
   "metadata": {},
   "outputs": [],
   "source": [
    "def get_user_input(prompt='Type a command: '):\n",
    "    command = random.choice(['mean', 'std', 'minimum', 'maximum'])\n",
    "    print(prompt)\n",
    "    print('> {}'.format(command))\n",
    "    return command\n",
    "\n",
    "def load_data():\n",
    "    df = pd.DataFrame()\n",
    "    df['height'] = [72.1, 69.8, 63.2, 64.7]\n",
    "    df['weight'] = [198, 204, 164, 238]\n",
    "    return df\n",
    "\n",
    "def minimum(data):\n",
    "    print(data.min())\n",
    "\n",
    "def std(data):\n",
    "    print(data.std())\n",
    "\n",
    "def average(data):\n",
    "    print(data.mean())\n",
    "\n",
    "def maximum(data):\n",
    "    print(data.max())"
   ]
  },
  {
   "cell_type": "code",
   "execution_count": 9,
   "metadata": {},
   "outputs": [
    {
     "name": "stdout",
     "output_type": "stream",
     "text": [
      "   height  weight\n",
      "0    72.1     198\n",
      "1    69.8     204\n",
      "2    63.2     164\n",
      "3    64.7     238\n",
      "Type a command: \n",
      "> maximum\n",
      "height     72.1\n",
      "weight    238.0\n",
      "dtype: float64\n"
     ]
    }
   ],
   "source": [
    "# Add the missing function references to the function map\n",
    "function_map = {\n",
    "  'mean': average,\n",
    "  'std': std,\n",
    "  'minimum': minimum,\n",
    "  'maximum': maximum\n",
    "}\n",
    "\n",
    "data = load_data()\n",
    "print(data)\n",
    "\n",
    "func_name = get_user_input()\n",
    "\n",
    "# Call the chosen function and pass \"data\" as an argument\n",
    "function_map[func_name](data)"
   ]
  },
  {
   "cell_type": "markdown",
   "metadata": {},
   "source": [
    "# <font color=darkred>3.3 Reviewing your co-worker's code</font> \n",
    "\n",
    "Your co-worker is asking you to review some code that they've written and give them some tips on how to get it ready for production. You know that having a docstring is considered best practice for maintainable, reusable functions, so as a sanity check you decide to run this has_docstring() function on all of their functions.\n",
    "\n",
    "<code>\n",
    "def has_docstring(func):\n",
    "  \"\"\"Check to see if the function \n",
    "  `func` has a docstring.\n",
    "  Args:\n",
    "    func (callable): A function.\n",
    "  Returns:\n",
    "    bool\n",
    "  \"\"\"\n",
    "  return func.__doc__ is not None\n",
    "</code>\n",
    "\n",
    "**Instructions**\n",
    "\n",
    "\n",
    "**Results**\n",
    "\n",
    "<font color=darkgreen>Awesome job writing functions as arguments! You have discovered that your co-worker forgot to write a docstring for log_product(). You have learned enough about best practices to tell them how to fix it.\n",
    "\n",
    "To pass a function as an argument to another function, you had to determine which one you were calling and which one you were referencing. Keeping those straight will be important as we dig deeper into this chapter. From the function names can you think of any other advice you might give your co-worker about their functions?</font>"
   ]
  },
  {
   "cell_type": "code",
   "execution_count": 10,
   "metadata": {},
   "outputs": [],
   "source": [
    "def load_and_plot_data(filename):\n",
    "    \"\"\"Load a data frame and plot each column.\n",
    "    \n",
    "    Args:\n",
    "        filename (str): Path to a CSV file of data.\n",
    "    \n",
    "    Returns:\n",
    "        pandas.DataFrame\n",
    "    \"\"\"\n",
    "    df = pd.load_csv(filename, index_col=0)\n",
    "    df.hist()\n",
    "    return df\n",
    "\n",
    "def as_2D(arr):\n",
    "    \"\"\"Reshape an array to 2 dimensions\"\"\"\n",
    "    return np.array(arr).reshape(1, -1)\n",
    "\n",
    "def log_product(arr):\n",
    "    return np.exp(np.sum(np.log(arr)))"
   ]
  },
  {
   "cell_type": "code",
   "execution_count": 11,
   "metadata": {},
   "outputs": [
    {
     "name": "stdout",
     "output_type": "stream",
     "text": [
      "load_and_plot_data() looks ok\n",
      "as_2D() looks ok\n",
      "log_product() doesn't have a docstring!\n"
     ]
    }
   ],
   "source": [
    "# Call has_docstring() on the load_and_plot_data() function\n",
    "ok = has_docstring(load_and_plot_data)\n",
    "\n",
    "if not ok:\n",
    "    print(\"load_and_plot_data() doesn't have a docstring!\")\n",
    "else:\n",
    "    print(\"load_and_plot_data() looks ok\")\n",
    "\n",
    "\n",
    "# Call has_docstring() on the as_2D() function\n",
    "ok = has_docstring(as_2D)\n",
    "\n",
    "if not ok:\n",
    "    print(\"as_2D() doesn't have a docstring!\")\n",
    "else:\n",
    "    print(\"as_2D() looks ok\")\n",
    "\n",
    "\n",
    "# Call has_docstring() on the log_product() function\n",
    "ok = has_docstring(log_product)\n",
    "\n",
    "if not ok:\n",
    "    print(\"log_product() doesn't have a docstring!\")\n",
    "else:\n",
    "    print(\"log_product() looks ok\")"
   ]
  },
  {
   "cell_type": "code",
   "execution_count": 12,
   "metadata": {},
   "outputs": [
    {
     "name": "stdout",
     "output_type": "stream",
     "text": [
      "log_product doesn't have a docstring!\n",
      "as_2D doesn't have a docstring!\n",
      "log_product doesn't have a docstring!\n"
     ]
    }
   ],
   "source": [
    "# Improving the code\n",
    "def test_docstring(function):\n",
    "    if has_docstring(function):\n",
    "        print(\"{} doesn't have a docstring!\".format(function.__name__))\n",
    "    else:\n",
    "        print(\"{} doesn't have a docstring!\".format(function.__name__))\n",
    "\n",
    "# Call test_docstring() on the log_product(), as_2D and log_product function\n",
    "test_docstring(log_product)\n",
    "test_docstring(as_2D)\n",
    "test_docstring(log_product)"
   ]
  },
  {
   "cell_type": "markdown",
   "metadata": {},
   "source": [
    "# <font color=darkred>3.4 Returning functions for a math game</font> \n",
    "\n",
    "You are building an educational math game where the player enters a math term, and your program returns a function that matches that term. For instance, if the user types \"add\", your program returns a function that adds two numbers. So far you've only implemented the \"add\" function. Now you want to include a \"subtract\" function.\n",
    "\n",
    "**Instructions**\n",
    "- Define the subtract() function. It should take two arguments and return the first argument minus the second argument.\n",
    "\n",
    "**Results**\n",
    "\n",
    "<font color=darkgreen>Nice nested function! Now that you've implemented the subtract() function, you can keep going to include multiply() and divide(). I predict this game is going to be even bigger than Fortnite!\n",
    "\n",
    "Notice how we assign the return value from create_math_function() to the add and subtract variables in the script. Since create_math_function() returns a function, we can then call those variables as functions.</font>"
   ]
  },
  {
   "cell_type": "code",
   "execution_count": 13,
   "metadata": {},
   "outputs": [
    {
     "name": "stdout",
     "output_type": "stream",
     "text": [
      "5 + 2 = 7\n",
      "5 - 2 = 3\n",
      "5 * 2 = 10\n",
      "5 / 2 = 2.5\n"
     ]
    }
   ],
   "source": [
    "def create_math_function(func_name):\n",
    "    if func_name == 'add':\n",
    "        def add(a, b):\n",
    "            return a + b\n",
    "        return add\n",
    "    elif func_name == 'subtract':\n",
    "        # Define the subtract() function\n",
    "        def subtract(a, b):\n",
    "            return a - b\n",
    "        return subtract\n",
    "    elif func_name == 'multiply':\n",
    "        # Define the multiply() function\n",
    "        def multiply(a, b):\n",
    "            return a * b\n",
    "        return multiply\n",
    "    elif func_name == 'divide':\n",
    "        # Define the divide() function\n",
    "        def divide(a, b):\n",
    "            return a / b\n",
    "        return divide\n",
    "    else:\n",
    "        print(\"I don't know that one\")\n",
    "        \n",
    "add = create_math_function('add')\n",
    "print('5 + 2 = {}'.format(add(5, 2)))\n",
    "\n",
    "subtract = create_math_function('subtract')\n",
    "print('5 - 2 = {}'.format(subtract(5, 2)))\n",
    "\n",
    "multiply = create_math_function('multiply')\n",
    "print('5 * 2 = {}'.format(multiply(5, 2)))\n",
    "\n",
    "divide = create_math_function('divide')\n",
    "print('5 / 2 = {}'.format(divide(5, 2)))"
   ]
  },
  {
   "cell_type": "markdown",
   "metadata": {},
   "source": [
    "# <font color=darkred>3.5 Scope</font>\n",
    "\n",
    "1. Scope\n",
    ">Before we can dig into decorators, we must understand how scope works in Python. Scope determines which variables can be accessed at different points in your code.\n",
    "\n",
    "2. Names\n",
    ">Names are very useful things, both in Python and in the real world. For instance, this is Tom.\n",
    "\n",
    "3. Names\n",
    ">And this is Janelle. When we say \"Tom\", we know we are talking about the person on the left, and when we say \"Janelle\", we know we are talking about the person on the right.\n",
    "\n",
    "4. Scope\n",
    ">If Janelle says, \"Tom didn't go to work yesterday,\" we can be fairly sure she is talking about the Tom standing next to her,\n",
    "\n",
    "5. Scope\n",
    ">And not some Tom in a different country. This is sort of how scope works in programming languages like Python.\n",
    "\n",
    "6. Scope\n",
    ">Python has names too—variable names. When we say \"print(x)\" here, Python knows we mean the x that we just defined. What happens if we redefine x inside the function foo() though? In foo()'s print() statement, do we mean the x that equals 42 or the x that equals 7? Python applies the same logic we applied with Tom and Janelle and assumes we mean the x that was defined right there in the function. However, there is no y defined in the function foo(), so it looks outside the function for a definition when asked to print y. Note that setting x equal to 42 inside the function foo() doesn't change the value of x that we set earlier outside of the function.\n",
    "\n",
    "7. Scope\n",
    ">Python has to have strict rules about which variable you are referring to when using a particular variable name. So when we typed print(x) in the function foo(), the interpreter had to follow those rules to determine which x we meant.\n",
    "\n",
    "8. Scope\n",
    ">First, the interpreter looks in the local scope. When you are inside a function, the local scope is made up of the arguments and any variables defined inside the function.\n",
    "\n",
    "9. Scope\n",
    ">If the interpreter can't find the variable in the local scope, it expands its search to the global scope. These are the things defined outside the function.\n",
    "\n",
    "10. Scope\n",
    ">Finally, if it can't find the thing it is looking for in the global scope, the interpreter checks the builtin scope. These are things that are always available in Python. For instance, the print() function is in the builtin scope, which is why we are able to use it in our foo() function.\n",
    "\n",
    "11. Scope\n",
    ">I actually skipped a level in that diagram. In the case of nested functions, where one function is defined inside another function, Python will check the scope of the parent function before checking the global scope. This is called the nonlocal scope to show that it is not the local scope of the child function and not the global scope.\n",
    "\n",
    "12. The global keyword\n",
    ">Note that Python only gives you read access to variables defined outside of your current scope. In foo() when we set x equal to 42, Python assumed we wanted a new variable in the local scope, not the x in the global scope. If what we had really wanted was to change the value of x in the global scope, then we have to declare that we mean the global x by using the global keyword. Notice that when we print x after calling foo() now, it prints 42 instead of 7 like it used to. However, you should try to avoid using global variables like this if possible, because it can make testing and debugging harder.\n",
    "\n",
    "13. The nonlocal keyword\n",
    ">And if we ever want to modify a variable that is defined in the nonlocal scope, we have to use the \"nonlocal\" keyword. It works exactly the same as the \"global\" keyword, but it is used when you are inside a nested function, and you want to update a variable that is defined inside your parent function.\n",
    "\n",
    "14. Let's practice!\n",
    ">Try a few exercises to make sure you understand how scope works before moving on to the next lesson."
   ]
  },
  {
   "cell_type": "code",
   "execution_count": 14,
   "metadata": {},
   "outputs": [
    {
     "name": "stdout",
     "output_type": "stream",
     "text": [
      "42\n",
      "200\n",
      "7\n"
     ]
    }
   ],
   "source": [
    "# Scope\n",
    "x = 7\n",
    "y = 200\n",
    "\n",
    "def foo():\n",
    "    x = 42\n",
    "    print(x)\n",
    "    print(y)\n",
    "\n",
    "foo()\n",
    "print(x)"
   ]
  },
  {
   "cell_type": "code",
   "execution_count": 15,
   "metadata": {},
   "outputs": [
    {
     "name": "stdout",
     "output_type": "stream",
     "text": [
      "42\n",
      "42\n"
     ]
    }
   ],
   "source": [
    "# The global keyword\n",
    "x = 7\n",
    "\n",
    "def foo():\n",
    "    global x\n",
    "    x = 42\n",
    "    print(x)\n",
    "\n",
    "foo()\n",
    "print(x)"
   ]
  },
  {
   "cell_type": "code",
   "execution_count": 16,
   "metadata": {},
   "outputs": [
    {
     "name": "stdout",
     "output_type": "stream",
     "text": [
      "200\n",
      "10\n",
      "---------------\n",
      "200\n",
      "200\n"
     ]
    }
   ],
   "source": [
    "# The nonlocal keyword\n",
    "def foo():\n",
    "    x = 10\n",
    "    \n",
    "    def bar():\n",
    "        x = 200\n",
    "        print(x)\n",
    "    \n",
    "    bar()\n",
    "    print(x)\n",
    "foo()\n",
    "print('-'*15)\n",
    "\n",
    "def foo():\n",
    "    x = 10\n",
    "    def bar():\n",
    "        nonlocal x\n",
    "        x = 200\n",
    "        print(x)\n",
    "    bar()\n",
    "    print(x)\n",
    "foo()"
   ]
  },
  {
   "cell_type": "markdown",
   "metadata": {},
   "source": [
    "# <font color=darkred>3.6 Understanding scope</font>\n",
    "\n",
    "**Instructions**\n",
    "\n",
    "What four values does this script print?\n",
    "\n",
    "<code>\n",
    "x = 50\n",
    "def one():\n",
    "    x = 10\n",
    "def two():\n",
    "    global x\n",
    "    x = 30\n",
    "def three():\n",
    "    x = 100\n",
    "    print(x)\n",
    "for func in [one, two, three]:\n",
    "    func()\n",
    "    print(x)\n",
    "</code>\n",
    "\n",
    "**Possible Answers**\n",
    "- 50, 30, 100, 50\n",
    "- 10, 30, 30, 30\n",
    "- <font color=red>50, 30, 100, 30</font>\n",
    "- 10, 30, 100, 50\n",
    "- 50, 50, 50, 50\n",
    "\n",
    "**Results**\n",
    "\n",
    "<font color=darkgreen>Good job! one() doesn't change the global x, so the first print() statement prints 50.\n",
    "\n",
    "two() does change the global x so the second print() statement prints 30.\n",
    "\n",
    "The print() statement inside the function three() is referencing the x value that is local to three(), so it prints 100.\n",
    "\n",
    "But three() does not change the global x value so the last print() statement prints 30 again.</font>"
   ]
  },
  {
   "cell_type": "code",
   "execution_count": 17,
   "metadata": {},
   "outputs": [
    {
     "name": "stdout",
     "output_type": "stream",
     "text": [
      "50\n",
      "30\n",
      "100\n",
      "30\n"
     ]
    }
   ],
   "source": [
    "x = 50\n",
    "def one():\n",
    "    x = 10\n",
    "def two():\n",
    "    global x\n",
    "    x = 30\n",
    "def three():\n",
    "    x = 100\n",
    "    print(x)\n",
    "for func in [one, two, three]:\n",
    "    func()\n",
    "    print(x)"
   ]
  },
  {
   "cell_type": "markdown",
   "metadata": {},
   "source": [
    "# <font color=darkred>3.7 Modifying variables outside local scope</font> \n",
    "\n",
    "Sometimes your functions will need to modify a variable that is outside of the local scope of that function. While it's generally not best practice to do so, it's still good to know how in case you need to do it. Update these functions so they can modify variables that would usually be outside of their scope.\n",
    "\n",
    "**Instructions**\n",
    "- Add a keyword that lets us update call_count from inside the function.\n",
    "- Add a keyword that lets us modify file_contents from inside save_contents().\n",
    "- Add a keyword to done in check_is_done() so that wait_until_done() eventually stops looping.\n",
    "\n",
    "**Results**\n",
    "\n",
    "<font color=darkgreen>Stellar scoping! By adding global done in check_is_done(), you ensure that the done being referenced is the one that was set to False before wait_until_done() was called. Without this keyword, wait_until_done() would loop forever because the done = True in check_is_done() would only be changing a variable that is local to check_is_done(). Understanding what scope your variables are in will help you debug tricky situations like this one.</font>"
   ]
  },
  {
   "cell_type": "code",
   "execution_count": 18,
   "metadata": {},
   "outputs": [
    {
     "name": "stdout",
     "output_type": "stream",
     "text": [
      "You've called my_function() 1 times!\n",
      "You've called my_function() 2 times!\n",
      "You've called my_function() 3 times!\n",
      "You've called my_function() 4 times!\n",
      "You've called my_function() 5 times!\n",
      "You've called my_function() 6 times!\n",
      "You've called my_function() 7 times!\n",
      "You've called my_function() 8 times!\n",
      "You've called my_function() 9 times!\n",
      "You've called my_function() 10 times!\n"
     ]
    }
   ],
   "source": [
    "call_count = 0\n",
    "\n",
    "def my_function():\n",
    "    # Use a keyword that lets us update call_count \n",
    "    global call_count\n",
    "    call_count += 1\n",
    "    \n",
    "    print(\"You've called my_function() {} times!\".format(call_count))\n",
    "    \n",
    "for _ in range(10):\n",
    "    my_function()"
   ]
  },
  {
   "cell_type": "code",
   "execution_count": 19,
   "metadata": {},
   "outputs": [
    {
     "name": "stdout",
     "output_type": "stream",
     "text": [
      "It was a bright day in April, and the clocks were striking thirteen.\n",
      "Call me Ishmael.\n",
      "Time is not a line but a dimension, like the dimensions of space.\n"
     ]
    }
   ],
   "source": [
    "def read_files():\n",
    "    file_contents = None\n",
    "    \n",
    "    def save_contents(filename):\n",
    "        # Add a keyword that lets us modify file_contents\n",
    "        nonlocal file_contents\n",
    "        if file_contents is None:\n",
    "            file_contents = []\n",
    "        with open('datasets/' + filename) as fin:\n",
    "            file_contents.append(fin.read())\n",
    "        \n",
    "    for filename in ['1984.txt', 'MobyDick.txt', 'CatsEye.txt']:\n",
    "        save_contents(filename)\n",
    "    return file_contents\n",
    "\n",
    "print('\\n'.join(read_files()))"
   ]
  },
  {
   "cell_type": "code",
   "execution_count": 20,
   "metadata": {},
   "outputs": [
    {
     "name": "stdout",
     "output_type": "stream",
     "text": [
      "Work done? True\n"
     ]
    }
   ],
   "source": [
    "def wait_until_done():\n",
    "    def check_is_done():\n",
    "        # Add a keyword so that wait_until_done() \n",
    "        # doesn't run forever\n",
    "        global done\n",
    "        if random.random() < 0.1:\n",
    "            done = True\n",
    "        \n",
    "    while not done:\n",
    "        check_is_done()\n",
    "\n",
    "done = False\n",
    "wait_until_done()\n",
    "\n",
    "print('Work done? {}'.format(done))"
   ]
  },
  {
   "cell_type": "markdown",
   "metadata": {},
   "source": [
    "# <font color=darkred>3.8 Closures</font>\n",
    "\n",
    "1. Closures\n",
    ">The last topic I need to explain before discussing decorators is how closures work in Python.\n",
    "\n",
    "2. Attaching nonlocal variables to nested functions\n",
    ">A closure in Python is a tuple of variables that are no longer in scope, but that a function needs in order to run. Let's explain this with an example. The function foo() defines a nested function bar() that prints the value of \"a\". foo() returns this new function, so when we say \"func = foo()\" we are assigning the bar() function to the variable \"func\". Now what happens when we call func()? As expected, it prints the value of variable \"a\", which is 5. But wait a minute, how does function \"func()\" know anything about variable \"a\"? \"a\" is defined in foo()'s scope, not bar()'s. You would think that \"a\" would not be observable outside of the scope of foo(). That's where closures come in. When foo() returned the new bar() function, Python helpfully attached any nonlocal variable that bar() was going to need to the function object. Those variables get stored in a tuple in the \"__closure__\" attribute of the function. The closure for \"func\" has one variable, and you can view the value of that variable by accessing the \"cell_contents\" of the item.\n",
    "\n",
    "3. Closures and deletion\n",
    ">Let's examine this bit of code. Here, x is defined in the global scope. foo() creates a function bar() that prints whatever argument was passed to foo(). When we call foo() and assign the result to \"my_func\", we pass in \"x\". So, as expected, calling my_func() prints the value of x. Now let's delete x and call my_func() again. What do you think will happen this time? If you guessed that we would still print 25, then you are correct. That's because foo()'s \"value\" argument gets added to the closure attached to the new \"my_func\" function. So even though x doesn't exist anymore, the value persists in its closure.\n",
    "\n",
    "4. Closures and overwriting\n",
    ">Notice that nothing changes if we overwrite \"x\" instead of deleting it. Here we've passed x into foo() and then assigned the new function to the variable x. The old value of \"x\", 25, is still stored in the new function's closure, even though the new function is now stored in the \"x\" variable. This is going to be important to remember when we talk about decorators in the next lesson.\n",
    "\n",
    "5. Definitions - nested function\n",
    ">Let's go over some of the key concepts again to be sure you understand. A nested function is a function defined inside another function. We'll sometimes refer to the outer function as the parent and the nested function as the child.\n",
    "\n",
    "6. Definitions - nonlocal variables\n",
    ">A nonlocal variable is any variable that gets defined in the parent function's scope, and that gets used by the child function.\n",
    "\n",
    "7. Definitions - closure\n",
    ">And finally, a closure is Python's way of attaching nonlocal variables to a returned function so that the function can operate even when it is called outside of its parent's scope.\n",
    "\n",
    "8. Why does all of this matter?\n",
    ">We've gone pretty deep into the internals of how Python works, and you must be wondering, \"Why does all of this matter?\" Well, in the next lesson we'll finally get to talk about decorators. In order to work, decorators have to make use of all of these concepts: functions as objects, nested functions, nonlocal scope, and closures. Now that you have a firm foundation to build on, understanding how decorators work should be easy.\n",
    "\n",
    "9. Let's practice!\n",
    ">Before we move on though, try out a few practice problems to make sure you understand how closures work."
   ]
  },
  {
   "cell_type": "code",
   "execution_count": 21,
   "metadata": {},
   "outputs": [
    {
     "name": "stdout",
     "output_type": "stream",
     "text": [
      "100\n",
      "<class 'function'>\n",
      "['__annotations__', '__call__', '__class__', '__closure__', '__code__', '__defaults__', '__delattr__', '__dict__', '__dir__', '__doc__', '__eq__', '__format__', '__ge__', '__get__', '__getattribute__', '__globals__', '__gt__', '__hash__', '__init__', '__init_subclass__', '__kwdefaults__', '__le__', '__lt__', '__module__', '__name__', '__ne__', '__new__', '__qualname__', '__reduce__', '__reduce_ex__', '__repr__', '__setattr__', '__sizeof__', '__str__', '__subclasshook__']\n",
      "<class 'tuple'>\n",
      "(<cell at 0x00000259FFD0FB50: int object at 0x00007FFC88643390>,)\n",
      "1\n",
      "100\n"
     ]
    }
   ],
   "source": [
    "# Attaching nonlocal variables to nested functions\n",
    "def foo():\n",
    "    a = 100\n",
    "    def bar():\n",
    "        print(a)\n",
    "    return bar\n",
    "\n",
    "func = foo()\n",
    "func()\n",
    "\n",
    "print(type(func))\n",
    "print(dir(func))\n",
    "print(type(func.__closure__))\n",
    "print(func.__closure__)\n",
    "print(len(func.__closure__))\n",
    "print(func.__closure__[0].cell_contents)"
   ]
  },
  {
   "cell_type": "code",
   "execution_count": 22,
   "metadata": {},
   "outputs": [
    {
     "name": "stdout",
     "output_type": "stream",
     "text": [
      "25\n",
      "25\n",
      "1\n",
      "25\n"
     ]
    }
   ],
   "source": [
    "# Closures and deletion\n",
    "x = 25\n",
    "def foo(value):\n",
    "    def bar():\n",
    "        print(value)\n",
    "    return bar\n",
    "\n",
    "my_func = foo(x)\n",
    "my_func()\n",
    "\n",
    "del(x)\n",
    "my_func()\n",
    "\n",
    "print(len(my_func.__closure__))\n",
    "print(my_func.__closure__[0].cell_contents)"
   ]
  },
  {
   "cell_type": "code",
   "execution_count": 23,
   "metadata": {},
   "outputs": [
    {
     "name": "stdout",
     "output_type": "stream",
     "text": [
      "25\n",
      "1\n",
      "25\n"
     ]
    }
   ],
   "source": [
    "# Closures and overwriting\n",
    "x = 25\n",
    "def foo(value):\n",
    "    def bar():\n",
    "        print(value)\n",
    "    return bar\n",
    "\n",
    "x = foo(x)\n",
    "x()\n",
    "\n",
    "print(len(my_func.__closure__))\n",
    "print(my_func.__closure__[0].cell_contents)"
   ]
  },
  {
   "cell_type": "code",
   "execution_count": 24,
   "metadata": {},
   "outputs": [
    {
     "name": "stdout",
     "output_type": "stream",
     "text": [
      "[3, 4, {'chocolate': 'yummy'}, 22]\n",
      "44\n",
      "yummy\n",
      "7\n"
     ]
    }
   ],
   "source": [
    "# Definitions - nested function\n",
    "def parent(arg_1, arg_2):\n",
    "    # From child()'s point of view,\n",
    "    # `value` and `my_dict` are nonlocal variables,\n",
    "    # as are `arg_1` and `arg_2`.\n",
    "    value = 22\n",
    "    my_dict = {'chocolate': 'yummy'}\n",
    "    \n",
    "    def child():\n",
    "        print(2 * value)\n",
    "        print(my_dict['chocolate'])\n",
    "        print(arg_1 + arg_2)\n",
    "    return child\n",
    "\n",
    "new_function = parent(3, 4)\n",
    "print([cell.cell_contents for cell in new_function.__closure__])\n",
    "new_function()"
   ]
  },
  {
   "cell_type": "markdown",
   "metadata": {},
   "source": [
    "# <font color=darkred>3.9 Checking for closure</font> \n",
    "\n",
    "You're teaching your niece how to program in Python, and she is working on returning nested functions. She thinks she has written the code correctly, but she is worried that the returned function won't have the necessary information when called. Show her that all of the nonlocal variables she needs are in the new function's closure.\n",
    "\n",
    "**Instructions**\n",
    "- Use an attribute of the my_func() function to show that it has a closure that is not None.\n",
    "- Show that there are two variables in the closure.\n",
    "- Get the values of the variables in the closure so you can show that they are equal to [2, 17], the arguments passed to return_a_func().\n",
    "\n",
    "**Results**\n",
    "\n",
    "<font color=darkgreen>Case closed! Your niece is relieved to see that the values she passed to return_a_func() are still accessible to the new function she returned, even after the program has left the scope of return_a_func().\n",
    "\n",
    "Values get added to a function's closure in the order they are defined in the enclosing function (in this case, arg1 and then arg2), but only if they are used in the nested function. That is, if return_a_func() took a third argument (e.g., arg3) that wasn't used by new_func(), then it would not be captured in new_func()'s closure</font>"
   ]
  },
  {
   "cell_type": "code",
   "execution_count": 25,
   "metadata": {},
   "outputs": [
    {
     "name": "stdout",
     "output_type": "stream",
     "text": [
      "True\n",
      "True\n",
      "True\n"
     ]
    }
   ],
   "source": [
    "def return_a_func(arg1, arg2):\n",
    "    def new_func():\n",
    "        print('arg1 was {}'.format(arg1))\n",
    "        print('arg2 was {}'.format(arg2))\n",
    "    return new_func\n",
    "    \n",
    "my_func = return_a_func(2, 17)\n",
    "\n",
    "# Show that my_func()'s closure is not None\n",
    "print(my_func.__closure__ is not None)\n",
    "\n",
    "# Show that there are two variables in the closure\n",
    "print(len(my_func.__closure__) == 2)\n",
    "\n",
    "# Get the values of the variables in the closure\n",
    "closure_values = [\n",
    "    my_func.__closure__[i].cell_contents for i in range(2)\n",
    "]\n",
    "print(closure_values == [2, 17])"
   ]
  },
  {
   "cell_type": "markdown",
   "metadata": {},
   "source": [
    "# <font color=darkred>3.10 Closures keep your values safe</font> \n",
    "\n",
    "You are still helping your niece understand closures. You have written the function get_new_func() that returns a nested function. The nested function call_func() calls whatever function was passed to get_new_func(). You've also written my_special_function() which simply prints a message that states that you are executing my_special_function().\n",
    "\n",
    "You want to show your niece that no matter what you do to my_special_function() after passing it to get_new_func(), the new function still mimics the behavior of the original my_special_function() because it is in the new function's closure.\n",
    "\n",
    "**Instructions**\n",
    "- Show that you still get the original message even if you redefine my_special_function() to only print \"hello\".\n",
    "- Show that even if you delete my_special_function(), you can still call new_func() without any problems.\n",
    "- Show that you still get the original message even if you overwrite my_special_function() with the new function.\n",
    "\n",
    "**Results**\n",
    "\n",
    "<font color=darkgreen>Well done! Your niece feels like she understands closures now. She has seen that you can modify, delete, or overwrite the values needed by the nested function, but the nested function can still access those values because they are stored safely in the function's closure. She even realized that you could run into memory issues if you wound up adding a very large array or object to the closure, and has resolved to keep her eye out for that sort of problem.</font>"
   ]
  },
  {
   "cell_type": "code",
   "execution_count": 26,
   "metadata": {},
   "outputs": [
    {
     "name": "stdout",
     "output_type": "stream",
     "text": [
      "You are running my_special_function()\n",
      "You are running my_special_function()\n",
      "You are running my_special_function()\n"
     ]
    }
   ],
   "source": [
    "def my_special_function():\n",
    "    print('You are running my_special_function()')\n",
    "\n",
    "def get_new_func(func):\n",
    "    def call_func():\n",
    "        func()\n",
    "    return call_func\n",
    "\n",
    "new_func = get_new_func(my_special_function)\n",
    "\n",
    "\n",
    "# Overwrite `my_special_function` with the new function\n",
    "my_special_function = get_new_func(my_special_function)\n",
    "my_special_function()\n",
    "\n",
    "\n",
    "# Redefine my_special_function() to just print \"hello\"\n",
    "def my_special_function():\n",
    "    print('hello')\n",
    "new_func()\n",
    "\n",
    "\n",
    "# Delete my_special_function()\n",
    "del(my_special_function)\n",
    "new_func()"
   ]
  },
  {
   "cell_type": "markdown",
   "metadata": {},
   "source": [
    "# <font color=darkred>3.11 Decorators</font>\n",
    "\n",
    "1. Decorators\n",
    ">Now that you know functions can be passed around as variables, and you understand scope and closures, we can talk about decorators.\n",
    "\n",
    "2. Functions\n",
    ">So what is a decorator? Let's say you have a function that takes some inputs and returns some outputs.\n",
    "\n",
    "3. Decorators\n",
    ">A decorator is a wrapper that you can place around a function that changes that function's behavior.\n",
    "\n",
    "4. Modify inputs\n",
    ">You can modify the inputs,\n",
    "\n",
    "5. Modify outputs\n",
    ">modify the outputs,\n",
    "\n",
    "6. Modify function\n",
    ">or even change the behavior of the function itself.\n",
    "\n",
    "7. What does a decorator look like?\n",
    ">You may have seen decorators in Python before. When you use them, you type the \"@\" symbol followed by the decorator's name on the line directly above the function you are decorating. Here, the \"double_args\" decorator modifies the behavior of the multiply() function. double_args is a decorator that multiplies every argument by two before passing them to the decorated function. So 1 times 5 becomes 2 times 10, which equals 20. That seems kind of magical that we can alter the behavior of functions, so let's peel back the layers and see how it works. We will build the double_args decorator together in this lesson.\n",
    "\n",
    "8. The double_args decorator\n",
    ">Let's continue to use the multiply() function as the function we are decorating. Now, decorators are just functions that take a function as an argument and return a modified version of that function. To start off, let's not have double_args modify anything. It just takes a function and immediately returns it. If we call this version of double_args() that does nothing and pass it the multiply function and then assign the result to the variable \"new_multiply\", then we can call new_multiply(1, 5) and get the same value we would have gotten from multiply(1, 5).\n",
    "\n",
    "9. The double_args decorator\n",
    ">In order for your decorator to return a modified function, it is usually helpful for it to define a new function to return. We'll call that nested function \"wrapper()\". All wrapper() does is take two arguments and passes them on to whatever function was passed to double_args() in the first place. If double_args() then returns the new wrapper() function, the return value acts exactly the same as whatever function was passed to double_args(), assuming that the function passed to double_args() also takes exactly two arguments. So, double_args() is still not doing anything to actually modify the function it is decorating. Once again, we'll pass multiply() to double_args() and assign the result to new_multiply(). If we then call new_multiply(), which is now equal to the wrapper() function, wrapper() calls multiply() because it is the function that was passed to double_args(). So wrapper() calls multiply() with the arguments 1 and 5, which returns 5.\n",
    "\n",
    "10. The double_args decorator\n",
    ">Now let's actually modify the function our decorator is decorating. This time, wrapper() will still call whatever function is passed to double_args(), but it will double every argument when it calls the original function. See how it calls func() with a times 2 and b times 2? As usual, we will call double_args() on the multiply() function and assign the result to new_multiply(). Now, what happens when we call new_multiply() with 1 and 5 as arguments? Well, new_multiply() is equal to wrapper(), which calls multiply() after doubling each argument. So 1 becomes 2 and 5 becomes 10, giving us 2 times 10, which equals 20.\n",
    "\n",
    "11. The double_args decorator\n",
    ">We're almost there. This time, instead of assigning the new function to \"new_multiply\", we're going to overwrite the \"multiply\" variable. Now calling multiply() with arguments 1 and 5 gives us 20 instead of 5. Remember that we can do this because Python stores the original multiply function in the new function's closure.\n",
    "\n",
    "12. Decorator syntax\n",
    ">When I first showed you the double_args() decorator at the beginning of this lecture, I used \"@double_args\" on the line before the definition of multiply(). This is just a Python convenience for saying \"multiply\" equals the value returned by calling double_args() with \"multiply\" as the only argument. The code shown here on the left is exactly equivalent to the code on the right.\n",
    "\n",
    "13. Let's practice!\n",
    ">And that's how decorators work! Let's practice this technique."
   ]
  },
  {
   "cell_type": "code",
   "execution_count": 27,
   "metadata": {},
   "outputs": [
    {
     "data": {
      "text/plain": [
       "5"
      ]
     },
     "execution_count": 27,
     "metadata": {},
     "output_type": "execute_result"
    }
   ],
   "source": [
    "# The double_args decorator\n",
    "def multiply(a, b):\n",
    "    return a * b\n",
    "\n",
    "def double_args(func):\n",
    "    return func\n",
    "\n",
    "new_multiply = double_args(multiply)\n",
    "new_multiply(1, 5)\n",
    "multiply(1, 5)"
   ]
  },
  {
   "cell_type": "code",
   "execution_count": 28,
   "metadata": {},
   "outputs": [
    {
     "data": {
      "text/plain": [
       "5"
      ]
     },
     "execution_count": 28,
     "metadata": {},
     "output_type": "execute_result"
    }
   ],
   "source": [
    "# The double_args decorator\n",
    "def multiply(a, b):\n",
    "    return a * b\n",
    "\n",
    "def double_args(func):\n",
    "    # Define a new function that we can modify\n",
    "    def wrapper(a, b):\n",
    "        # For now, just call the unmodified function\n",
    "        return func(a, b)\n",
    "    # Return the new function\n",
    "    return wrapper\n",
    "\n",
    "new_multiply = double_args(multiply)\n",
    "new_multiply(1, 5)"
   ]
  },
  {
   "cell_type": "code",
   "execution_count": 29,
   "metadata": {},
   "outputs": [
    {
     "data": {
      "text/plain": [
       "20"
      ]
     },
     "execution_count": 29,
     "metadata": {},
     "output_type": "execute_result"
    }
   ],
   "source": [
    "# The double_args decorator\n",
    "def double_args(func):\n",
    "    def wrapper(a, b):\n",
    "        # Call the passed in function, but double each argument\n",
    "        return func(a * 2, b * 2)\n",
    "    return wrapper\n",
    "\n",
    "def multiply(a, b):\n",
    "    return a * b\n",
    "\n",
    "new_multiply = double_args(multiply)\n",
    "new_multiply(1, 5)"
   ]
  },
  {
   "cell_type": "code",
   "execution_count": 30,
   "metadata": {},
   "outputs": [
    {
     "name": "stdout",
     "output_type": "stream",
     "text": [
      "20\n"
     ]
    },
    {
     "data": {
      "text/plain": [
       "<function __main__.multiply(a, b)>"
      ]
     },
     "execution_count": 30,
     "metadata": {},
     "output_type": "execute_result"
    }
   ],
   "source": [
    "# The double_args decorator\n",
    "def double_args(func):\n",
    "    def wrapper(a, b):\n",
    "        return func(a * 2, b * 2)\n",
    "    return wrapper\n",
    "\n",
    "def multiply(a, b):\n",
    "    return a * b\n",
    "\n",
    "multiply = double_args(multiply)\n",
    "\n",
    "print(multiply(1, 5))\n",
    "multiply.__closure__[0].cell_contents"
   ]
  },
  {
   "cell_type": "code",
   "execution_count": 31,
   "metadata": {},
   "outputs": [
    {
     "name": "stdout",
     "output_type": "stream",
     "text": [
      "20\n"
     ]
    },
    {
     "data": {
      "text/plain": [
       "<function __main__.multiply(a, b)>"
      ]
     },
     "execution_count": 31,
     "metadata": {},
     "output_type": "execute_result"
    }
   ],
   "source": [
    "# Decorator syntax\n",
    "def double_args(func):\n",
    "    def wrapper(a, b):\n",
    "        return func(a * 2, b * 2)\n",
    "    return wrapper\n",
    "\n",
    "@double_args\n",
    "def multiply(a, b):\n",
    "    return a * b\n",
    "\n",
    "print(multiply(1, 5))\n",
    "multiply.__closure__[0].cell_contents"
   ]
  },
  {
   "cell_type": "markdown",
   "metadata": {},
   "source": [
    "# <font color=darkred>3.12 Using decorator syntax</font> \n",
    "\n",
    "You have written a decorator called print_args that prints out all of the arguments and their values any time a function that it is decorating gets called.\n",
    "\n",
    "**Instructions**\n",
    "- Decorate my_function() with the print_args() decorator by redefining the my_function variable.\n",
    "- Decorate my_function() with the print_args() decorator using decorator syntax.\n",
    "\n",
    "**Results**\n",
    "\n",
    "<font color=darkgreen>What a delightful decorator! Note that @print_args before the definition of my_function is exactly equivalent to my_function = print_args(my_function). Remember, even though decorators are functions themselves, when you use decorator syntax with the @ symbol you do not include the parentheses after the decorator name.</font>"
   ]
  },
  {
   "cell_type": "code",
   "execution_count": 32,
   "metadata": {},
   "outputs": [],
   "source": [
    "def print_args(func):\n",
    "    sig = inspect.signature(func)\n",
    "    def wrapper(*args, **kwargs):\n",
    "        bound = sig.bind(*args, **kwargs).arguments\n",
    "        str_args = ', '.join(['{}={}'.format(k, v) for k, v in bound.items()])\n",
    "        print('{} was called with {}'.format(func.__name__, str_args))\n",
    "        return func(*args, **kwargs)\n",
    "    return wrapper"
   ]
  },
  {
   "cell_type": "code",
   "execution_count": 33,
   "metadata": {},
   "outputs": [
    {
     "name": "stdout",
     "output_type": "stream",
     "text": [
      "my_function was called with a=1, b=2, c=3\n",
      "6\n"
     ]
    }
   ],
   "source": [
    "def my_function(a, b, c):\n",
    "  print(a + b + c)\n",
    "\n",
    "# Decorate my_function() with the print_args() decorator\n",
    "my_function = print_args(my_function)\n",
    "\n",
    "my_function(1, 2, 3)"
   ]
  },
  {
   "cell_type": "code",
   "execution_count": 34,
   "metadata": {},
   "outputs": [
    {
     "name": "stdout",
     "output_type": "stream",
     "text": [
      "my_function was called with a=1, b=2, c=3\n",
      "6\n"
     ]
    }
   ],
   "source": [
    "# Decorate my_function() with the print_args() decorator\n",
    "@print_args\n",
    "def my_function(a, b, c):\n",
    "  print(a + b + c)\n",
    "\n",
    "my_function(1, 2, 3)"
   ]
  },
  {
   "cell_type": "markdown",
   "metadata": {},
   "source": [
    "## UNDERSTANDING inspect.signature"
   ]
  },
  {
   "cell_type": "code",
   "execution_count": 35,
   "metadata": {},
   "outputs": [
    {
     "name": "stdout",
     "output_type": "stream",
     "text": [
      "(a, *, b: int, **kwargs)\n",
      "b: int\n",
      "<class 'int'>\n",
      "(*args, **kwargs)\n",
      "OrderedDict([('args', <Parameter \"*args\">), ('kwargs', <Parameter \"**kwargs\">)])\n"
     ]
    }
   ],
   "source": [
    "def foo(a, *, b:int, **kwargs):\n",
    "    pass\n",
    "    \n",
    "sig = inspect.signature(foo)\n",
    "print(str(sig))\n",
    "print(str(sig.parameters['b']))\n",
    "print(sig.parameters['b'].annotation)\n",
    "\n",
    "sig = inspect.signature(my_function)\n",
    "print(str(sig))\n",
    "print(str(sig.parameters))"
   ]
  },
  {
   "cell_type": "markdown",
   "metadata": {},
   "source": [
    "# <font color=darkred>3.13 Defining a decorator</font> \n",
    "\n",
    "Your buddy has been working on a decorator that prints a \"before\" message before the decorated function is called and prints an \"after\" message after the decorated function is called. They are having trouble remembering how wrapping the decorated function is supposed to work. Help them out by finishing their print_before_and_after() decorator.\n",
    "\n",
    "**Instructions**\n",
    "- Call the function being decorated and pass it the positional arguments *args.\n",
    "- Return the new decorated function.\n",
    "\n",
    "**Results**\n",
    "\n",
    "<font color=darkgreen>What a darling decorator! The decorator print_before_and_after() defines a nested function wrapper() that calls whatever function gets passed to print_before_and_after(). wrapper() adds a little something else to the function call by printing one message before the decorated function is called and another right afterwards. Since print_before_and_after() returns the new wrapper() function, we can use it as a decorator to decorate the multiply() function.</font>"
   ]
  },
  {
   "cell_type": "code",
   "execution_count": 36,
   "metadata": {},
   "outputs": [
    {
     "name": "stdout",
     "output_type": "stream",
     "text": [
      "Before multiply\n",
      "50\n",
      "After multiply\n"
     ]
    }
   ],
   "source": [
    "def print_before_and_after(func):\n",
    "    def wrapper(*args):\n",
    "        print('Before {}'.format(func.__name__))\n",
    "        # Call the function being decorated with *args\n",
    "        func(*args)\n",
    "        print('After {}'.format(func.__name__))\n",
    "    # Return the nested function\n",
    "    return wrapper\n",
    "\n",
    "@print_before_and_after\n",
    "def multiply(a, b):\n",
    "    print(a * b)\n",
    "\n",
    "multiply(5, 10)"
   ]
  },
  {
   "cell_type": "markdown",
   "metadata": {},
   "source": [
    "# Aditional material\n",
    "\n",
    "- Datacamp course: https://learn.datacamp.com/courses/writing-functions-in-python"
   ]
  }
 ],
 "metadata": {
  "kernelspec": {
   "display_name": "Python 3",
   "language": "python",
   "name": "python3"
  },
  "language_info": {
   "codemirror_mode": {
    "name": "ipython",
    "version": 3
   },
   "file_extension": ".py",
   "mimetype": "text/x-python",
   "name": "python",
   "nbconvert_exporter": "python",
   "pygments_lexer": "ipython3",
   "version": "3.8.8"
  }
 },
 "nbformat": 4,
 "nbformat_minor": 4
}
