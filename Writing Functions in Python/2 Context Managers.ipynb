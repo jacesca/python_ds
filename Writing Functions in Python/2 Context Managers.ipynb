{
 "cells": [
  {
   "cell_type": "code",
   "execution_count": 1,
   "metadata": {},
   "outputs": [],
   "source": [
    "# Import libraries\n",
    "import numpy as np\n",
    "\n",
    "import contextlib\n",
    "from contextlib import contextmanager\n",
    "\n",
    "import expectexception\n",
    "\n",
    "import pandas as pd\n",
    "\n",
    "import time\n",
    "import os"
   ]
  },
  {
   "cell_type": "markdown",
   "metadata": {},
   "source": [
    "# 2. Context Managers\n",
    "\n",
    "If you've ever seen the \"with\" keyword in Python and wondered what its deal was, then this is the chapter for you! Context managers are a convenient way to provide connections in Python and guarantee that those connections get cleaned up when you are done using them. This chapter will show you how to use context managers, as well as how to write your own."
   ]
  },
  {
   "cell_type": "markdown",
   "metadata": {},
   "source": [
    "# <font color=darkred>2.1 Using context managers</font>\n",
    "\n",
    "1. Using context managers\n",
    ">In this lesson, I'll introduce the concept of context managers and show you how to use these special kinds of functions.\n",
    "\n",
    "2. What is a context manager?\n",
    ">A context manager is a type of function that sets up a context for your code to run in, runs your code, and then removes the context. That's not a very helpful definition though, so let me explain with an analogy.\n",
    "\n",
    "3. A catered party\n",
    ">Imagine that you are throwing a fancy party, and have hired some caterers to provide refreshments for your guests.\n",
    "\n",
    "4. A catered party\n",
    ">Before the party starts, the caterers set up tables with food and drinks.\n",
    "\n",
    "5. A catered party\n",
    ">Then you and your friends dance, eat, and have a good time.\n",
    "\n",
    "6. A catered party\n",
    ">When the party is done,\n",
    "\n",
    "7. A catered party\n",
    ">the caterers clean up the food and remove the tables.\n",
    "\n",
    "8. Catered party as context\n",
    ">In this analogy, the caterers are like a context manager. First, they set up a context for your party, which was a room full of food and drinks. Then they let you and your friends do whatever you want. This is like you being able to run your code inside the context manager's context. Finally, when the party is over, the caterers clean up and remove the context that the party happened in.\n",
    "\n",
    "9. A real-world example\n",
    ">You may have used code like this before. The \"open()\" function is a context manager. When you write \"with open()\", it opens a file that you can read from or write to. Then, it gives control back to your code so that you can perform operations on the file object. In this example, we read the text of the file, store the contents of the file in the variable \"text\", and store the length of the contents in the variable \"length\". When the code inside the indented block is done, the \"open()\" function makes sure that the file is closed before continuing on in the script. The print statement is outside of the context, so by the time it runs the file is closed.\n",
    "\n",
    "10. Using a context manager\n",
    ">Any time you use a context manager, it will look like this. The keyword \"with\" lets Python know that you are trying to enter a context.\n",
    "\n",
    "11. Using a context manager\n",
    ">Then you call a function. You can call any function that is built to work as a context manager. In the next lesson, I'll show you how to write your own functions that work this way.\n",
    "\n",
    "12. Using a context manager\n",
    ">A context manager can take arguments like any normal function.\n",
    "\n",
    "13. Using a context manager\n",
    ">You end the \"with\" statement with a colon as if you were writing a for loop or an if statement.\n",
    "\n",
    "14. Using a context manager\n",
    ">Statements in Python that have an indented block after them, like for loops, if/else statements, function definitions, etc. are called \"compound statements\". The \"with\" statement is another type of compound statement. Any code that you want to run inside the context that the context manager created needs to be indented.\n",
    "\n",
    "15. Using a context manager\n",
    ">When the indented block is done, the context manager gets a chance to clean up anything that it needs to, like when the \"open()\" context manager closed the file.\n",
    "\n",
    "16. Using a context manager\n",
    ">Some context managers want to return a value that you can use inside the context. By adding \"as\" and a variable name at the end of the \"with\" statement, you can assign the returned value to the variable name. We used this ability when calling the \"open()\" context manager, which returns a file that we can read from or write to. By adding \"as my_file\" to the \"with\" statement, we assigned the file to the variable \"my_file\".\n",
    "\n",
    "17. Let's practice!\n",
    ">You'll learn how to write your own context managers in the next lesson. For now, you can practice using them in order to understand how they work."
   ]
  },
  {
   "cell_type": "code",
   "execution_count": 2,
   "metadata": {},
   "outputs": [
    {
     "name": "stdout",
     "output_type": "stream",
     "text": [
      "The file is 17 characters long\n"
     ]
    }
   ],
   "source": [
    "# A real-world example\n",
    "with open('datasets/my_file.txt') as my_file:\n",
    "    text = my_file.read()\n",
    "    length = len(text)\n",
    "\n",
    "print('The file is {} characters long'.format(length))"
   ]
  },
  {
   "cell_type": "markdown",
   "metadata": {},
   "source": [
    "# <font color=darkred>2.2 The number of cats</font> \n",
    "\n",
    "You are working on a natural language processing project to determine what makes great writers so great. Your current hypothesis is that great writers talk about cats a lot. To prove it, you want to count the number of times the word \"cat\" appears in \"Alice's Adventures in Wonderland\" by Lewis Carroll. You have already downloaded a text file, alice.txt, with the entire contents of this great book.\n",
    "\n",
    "**Instructions**\n",
    "- Use the open() context manager to open alice.txt and assign the file to the file variable.\n",
    "\n",
    "**Results**\n",
    "\n",
    "<font color=darkgreen>Cool cat counting! By opening the file using the with open() statement, you were able to read in the text of the file. More importantly, when you were done reading the text, the context manager closed the file for you.</font>"
   ]
  },
  {
   "cell_type": "code",
   "execution_count": 3,
   "metadata": {},
   "outputs": [
    {
     "name": "stdout",
     "output_type": "stream",
     "text": [
      "Lewis Carroll uses the word \"cat\" 24 times\n"
     ]
    }
   ],
   "source": [
    "# Open \"alice.txt\" and assign the file to \"file\"\n",
    "with open('datasets/alice.txt', encoding=\"utf-8\") as file:\n",
    "    text = file.read()\n",
    "\n",
    "n = 0\n",
    "for word in text.split():\n",
    "    if word.lower() in ['cat', 'cats']:\n",
    "        n += 1\n",
    "\n",
    "print('Lewis Carroll uses the word \"cat\" {} times'.format(n))"
   ]
  },
  {
   "cell_type": "code",
   "execution_count": 4,
   "metadata": {},
   "outputs": [
    {
     "name": "stdout",
     "output_type": "stream",
     "text": [
      "Lewis Carroll uses the word \"cat\" 24 times\n"
     ]
    }
   ],
   "source": [
    "# Open \"alice.txt\" and assign the file to \"file\"\n",
    "with open('datasets/alice.txt', encoding=\"utf-8\") as file:\n",
    "    text = file.read()\n",
    "\n",
    "n = text.lower().split().count('cat') + text.lower().split().count('cats')\n",
    "print('Lewis Carroll uses the word \"cat\" {} times'.format(n))"
   ]
  },
  {
   "cell_type": "markdown",
   "metadata": {},
   "source": [
    "# <font color=darkred>2.3 The speed of cats</font> \n",
    "\n",
    "You're working on a new web service that processes Instagram feeds to identify which pictures contain cats (don't ask why -- it's the internet). The code that processes the data is slower than you would like it to be, so you are working on tuning it up to run faster. Given an image, image, you have two functions that can process it:\n",
    "\n",
    "- process_with_numpy(image)\n",
    "- process_with_pytorch(image)\n",
    "\n",
    "Your colleague wrote a context manager, timer(), that will print out how long the code inside the context block takes to run. She is suggesting you use it to see which of the two options is faster. Time each function to determine which one to use in your web service.\n",
    "\n",
    "**Instructions**\n",
    "- Use the timer() context manager to time how long process_with_numpy(image) takes to run.\n",
    "- Use the timer() context manager to time how long process_with_pytorch(image) takes to run.\n",
    "\n",
    "**Results**\n",
    "\n",
    "<font color=darkgreen>Terrific timing! Now that you know the pytorch version is faster, you can use it in your web service to ensure your users get the rapid response time they expect.\n",
    "\n",
    "You may have noticed there was no as <variable name> at the end of the with statement in timer() context manager. That is because timer() is a context manager that does not return a value, so the as <variable name> at the end of the with statement isn't necessary. In the next lesson, you'll learn how to write your own context managers like timer().</font>"
   ]
  },
  {
   "cell_type": "code",
   "execution_count": 5,
   "metadata": {},
   "outputs": [],
   "source": [
    "def get_image_from_instagram():\n",
    "    return np.random.rand(84, 84)\n",
    "\n",
    "def _process_pic(n_sec):\n",
    "    print('Processing', end='', flush=True)\n",
    "    for i in range(10):\n",
    "        print('.', end='' if i < 9 else 'done!\\n', flush=True)\n",
    "        time.sleep(n_sec)\n",
    "\n",
    "def process_with_numpy(p):\n",
    "    _process_pic(0.1521)\n",
    "    \n",
    "def process_with_pytorch(p):\n",
    "    _process_pic(0.0328)\n",
    "    \n",
    "#@contextlib.contextmanager\n",
    "@contextmanager\n",
    "def timer():\n",
    "    \"\"\"Time how long code in the context block takes to run.\"\"\"\n",
    "    t0 = time.time()\n",
    "    try:\n",
    "        yield\n",
    "    except:\n",
    "        raise\n",
    "    finally:\n",
    "        t1 = time.time()\n",
    "        print('Elapsed: {:.2f} seconds'.format(t1 - t0))"
   ]
  },
  {
   "cell_type": "code",
   "execution_count": 6,
   "metadata": {},
   "outputs": [
    {
     "name": "stdout",
     "output_type": "stream",
     "text": [
      "Numpy version\n",
      "Processing..........done!\n",
      "Elapsed: 1.58 seconds\n",
      "Pytorch version\n",
      "Processing..........done!\n",
      "Elapsed: 0.47 seconds\n"
     ]
    }
   ],
   "source": [
    "image = get_image_from_instagram()\n",
    "\n",
    "# Time how long process_with_numpy(image) takes to run\n",
    "with timer():\n",
    "    print('Numpy version')\n",
    "    process_with_numpy(image)\n",
    "\n",
    "# Time how long process_with_pytorch(image) takes to run\n",
    "with timer():\n",
    "    print('Pytorch version')\n",
    "    process_with_pytorch(image)"
   ]
  },
  {
   "cell_type": "markdown",
   "metadata": {},
   "source": [
    "# <font color=darkred>2.4 Writing context managers</font>\n",
    "\n",
    "1. Writing context managers\n",
    ">Now that you know how to use context managers, I want to show you how to write a context manager for other people to use.\n",
    "\n",
    "2. Two ways to define a context manager\n",
    ">There are two ways to define a context manager in Python: by using a class that has special __enter__() and __exit__() methods or by decorating a certain kind of function.\n",
    "\n",
    "3. Two ways to define a context manager\n",
    ">This course is focused on writing functions, and some of you may not have been introduced to the concept of classes yet, so I will only present the function-based method here.\n",
    "\n",
    "4. How to create a context manager\n",
    ">There are five parts to creating a context manager. First, you need to define a function. Next, you can add any setup code your context needs. This is not required though. Third, you must use the \"yield\" keyword to signal to Python that this is a special kind of function. I will explain what this keyword means in a moment. After the \"yield\" statement, you can add any teardown code that you need to clean up the context.\n",
    "\n",
    "5. How to create a context manager\n",
    ">Finally, you must decorate the function with the \"contextmanager\" decorator from the \"contextlib\" module. You might not know what a decorator is, and that's ok. We will discuss decorators in-depth in the next chapter of this course. For now, the important thing to know is that you write the \"at\" symbol, followed by \"contextlib.contextmanager\" on the line immediately above your context manager function.\n",
    "\n",
    "6. The \"yield\" keyword\n",
    ">The \"yield\" keyword may also be new to you. When you write this word, it means that you are going to return a value, but you expect to finish the rest of the function at some point in the future. The value that your context manager yields can be assigned to a variable in the \"with\" statement by adding \"as <variable name\\>\". Here, we've assigned the value 42 that my_context() yields to the variable \"foo\". By running this code, you can see that after the context block is done executing, the rest of the my_context() function gets run, printing \"goodbye\". Some of you may recognize the \"yield\" keyword as a thing that gets used when creating generators. In fact, a context manager function is technically a generator that yields a single value.\n",
    "\n",
    "7. Setup and teardown\n",
    ">The ability for a function to yield control and know that it will get to finish running later is what makes context managers so useful. This context manager is an example of code that accesses a database. Like most context managers, it has some setup code that runs before the function yields. This context manager uses that setup code to connect to the database.\n",
    "\n",
    "8. Setup and teardown\n",
    ">Most context managers also have some teardown or cleanup code when they get control back after yielding. This one uses the teardown section to disconnect from the database.\n",
    "\n",
    "9. Setup and teardown\n",
    ">This setup/teardown behavior allows a context manager to hide things like connecting and disconnecting from a database so that a programmer using the context manager can just perform operations on the database without worrying about the underlying details.\n",
    "\n",
    "10. Yielding a value or None\n",
    ">The database() context manager that we've been looking at yields a specific value - the database connection - that can be used in the context block. Some context managers don't yield an explicit value. in_dir() is a context manager that changes the current working directory to a specific path and then changes it back after the context block is done. It does not need to return anything with its \"yield\" statement.\n",
    "\n",
    "11. Let's practice!\n",
    ">Now it's your turn to practice writing context managers."
   ]
  },
  {
   "cell_type": "code",
   "execution_count": 7,
   "metadata": {},
   "outputs": [
    {
     "name": "stdout",
     "output_type": "stream",
     "text": [
      "hello\n",
      "foo is 42\n",
      "goodbye\n"
     ]
    }
   ],
   "source": [
    "# The \"yield\" keyword\n",
    "@contextlib.contextmanager\n",
    "def my_context():\n",
    "    print('hello')\n",
    "    yield 42\n",
    "    print('goodbye')\n",
    "\n",
    "with my_context() as foo:\n",
    "    print('foo is {}'.format(foo))"
   ]
  },
  {
   "cell_type": "code",
   "execution_count": 8,
   "metadata": {},
   "outputs": [
    {
     "data": {
      "text/html": [
       "<div>\n",
       "<style scoped>\n",
       "    .dataframe tbody tr th:only-of-type {\n",
       "        vertical-align: middle;\n",
       "    }\n",
       "\n",
       "    .dataframe tbody tr th {\n",
       "        vertical-align: top;\n",
       "    }\n",
       "\n",
       "    .dataframe thead th {\n",
       "        text-align: right;\n",
       "    }\n",
       "</style>\n",
       "<table border=\"1\" class=\"dataframe\">\n",
       "  <thead>\n",
       "    <tr style=\"text-align: right;\">\n",
       "      <th></th>\n",
       "      <th>EmployeeId</th>\n",
       "      <th>LastName</th>\n",
       "      <th>FirstName</th>\n",
       "      <th>Title</th>\n",
       "      <th>ReportsTo</th>\n",
       "      <th>BirthDate</th>\n",
       "      <th>HireDate</th>\n",
       "      <th>Address</th>\n",
       "      <th>City</th>\n",
       "      <th>State</th>\n",
       "      <th>Country</th>\n",
       "      <th>PostalCode</th>\n",
       "      <th>Phone</th>\n",
       "      <th>Fax</th>\n",
       "      <th>Email</th>\n",
       "    </tr>\n",
       "  </thead>\n",
       "  <tbody>\n",
       "    <tr>\n",
       "      <th>0</th>\n",
       "      <td>1</td>\n",
       "      <td>Adams</td>\n",
       "      <td>Andrew</td>\n",
       "      <td>General Manager</td>\n",
       "      <td>NaN</td>\n",
       "      <td>1962-02-18 00:00:00</td>\n",
       "      <td>2002-08-14 00:00:00</td>\n",
       "      <td>11120 Jasper Ave NW</td>\n",
       "      <td>Edmonton</td>\n",
       "      <td>AB</td>\n",
       "      <td>Canada</td>\n",
       "      <td>T5K 2N1</td>\n",
       "      <td>+1 (780) 428-9482</td>\n",
       "      <td>+1 (780) 428-3457</td>\n",
       "      <td>andrew@chinookcorp.com</td>\n",
       "    </tr>\n",
       "    <tr>\n",
       "      <th>1</th>\n",
       "      <td>2</td>\n",
       "      <td>Edwards</td>\n",
       "      <td>Nancy</td>\n",
       "      <td>Sales Manager</td>\n",
       "      <td>1.0</td>\n",
       "      <td>1958-12-08 00:00:00</td>\n",
       "      <td>2002-05-01 00:00:00</td>\n",
       "      <td>825 8 Ave SW</td>\n",
       "      <td>Calgary</td>\n",
       "      <td>AB</td>\n",
       "      <td>Canada</td>\n",
       "      <td>T2P 2T3</td>\n",
       "      <td>+1 (403) 262-3443</td>\n",
       "      <td>+1 (403) 262-3322</td>\n",
       "      <td>nancy@chinookcorp.com</td>\n",
       "    </tr>\n",
       "    <tr>\n",
       "      <th>2</th>\n",
       "      <td>3</td>\n",
       "      <td>Peacock</td>\n",
       "      <td>Jane</td>\n",
       "      <td>Sales Support Agent</td>\n",
       "      <td>2.0</td>\n",
       "      <td>1973-08-29 00:00:00</td>\n",
       "      <td>2002-04-01 00:00:00</td>\n",
       "      <td>1111 6 Ave SW</td>\n",
       "      <td>Calgary</td>\n",
       "      <td>AB</td>\n",
       "      <td>Canada</td>\n",
       "      <td>T2P 5M5</td>\n",
       "      <td>+1 (403) 262-3443</td>\n",
       "      <td>+1 (403) 262-6712</td>\n",
       "      <td>jane@chinookcorp.com</td>\n",
       "    </tr>\n",
       "  </tbody>\n",
       "</table>\n",
       "</div>"
      ],
      "text/plain": [
       "   EmployeeId LastName FirstName                Title  ReportsTo  \\\n",
       "0           1    Adams    Andrew      General Manager        NaN   \n",
       "1           2  Edwards     Nancy        Sales Manager        1.0   \n",
       "2           3  Peacock      Jane  Sales Support Agent        2.0   \n",
       "\n",
       "             BirthDate             HireDate              Address      City  \\\n",
       "0  1962-02-18 00:00:00  2002-08-14 00:00:00  11120 Jasper Ave NW  Edmonton   \n",
       "1  1958-12-08 00:00:00  2002-05-01 00:00:00         825 8 Ave SW   Calgary   \n",
       "2  1973-08-29 00:00:00  2002-04-01 00:00:00        1111 6 Ave SW   Calgary   \n",
       "\n",
       "  State Country PostalCode              Phone                Fax  \\\n",
       "0    AB  Canada    T5K 2N1  +1 (780) 428-9482  +1 (780) 428-3457   \n",
       "1    AB  Canada    T2P 2T3  +1 (403) 262-3443  +1 (403) 262-3322   \n",
       "2    AB  Canada    T2P 5M5  +1 (403) 262-3443  +1 (403) 262-6712   \n",
       "\n",
       "                    Email  \n",
       "0  andrew@chinookcorp.com  \n",
       "1   nancy@chinookcorp.com  \n",
       "2    jane@chinookcorp.com  "
      ]
     },
     "execution_count": 8,
     "metadata": {},
     "output_type": "execute_result"
    }
   ],
   "source": [
    "import sqlite3\n",
    "\n",
    "# Setup and teardown\n",
    "@contextlib.contextmanager\n",
    "def database(url):\n",
    "    # set up database connection\n",
    "    db = sqlite3.connect(url)\n",
    "    yield db\n",
    "    # tear down database connection\n",
    "    db.close()\n",
    "\n",
    "url = 'datasets/chinook.db'\n",
    "with database(url) as my_db:\n",
    "    employees = pd.read_sql_query(\"SELECT * FROM employees\", my_db)\n",
    "\n",
    "employees.head(3)"
   ]
  },
  {
   "cell_type": "code",
   "execution_count": 9,
   "metadata": {},
   "outputs": [
    {
     "name": "stdout",
     "output_type": "stream",
     "text": [
      "['alice.txt', 'chinook.db', 'gpa_grades.data', 'my_file.txt', 'NVDA.txt']\n"
     ]
    },
    {
     "data": {
      "text/plain": [
       "['.ipynb_checkpoints',\n",
       " '0 Writing Functions in Python.html',\n",
       " '0 Writing Functions in Python.ipynb',\n",
       " '1 Best Practices.html',\n",
       " '1 Best Practices.ipynb',\n",
       " '1 Best Practices.pdf',\n",
       " '1.1 Docstrings.mp4',\n",
       " '1.5 DRY and Do One Thing.mp4',\n",
       " '1.8 Pass by assignment.mp4',\n",
       " '2 Context Managers.html',\n",
       " '2 Context Managers.ipynb',\n",
       " '2 Context Managers.pdf',\n",
       " '2.1 Using context managers.mp4',\n",
       " '2.4 Writing context managers.mp4',\n",
       " '2.7 Advanced topics.mp4',\n",
       " '3 Decorators.ipynb',\n",
       " '3 Decorators.pdf',\n",
       " 'Chapter Template.ipynb',\n",
       " 'datasets']"
      ]
     },
     "execution_count": 9,
     "metadata": {},
     "output_type": "execute_result"
    }
   ],
   "source": [
    "@contextlib.contextmanager\n",
    "def in_dir(path):\n",
    "    # save current working directory\n",
    "    old_dir = os.getcwd()\n",
    "    \n",
    "    # switch to new working directory\n",
    "    os.chdir(path)\n",
    "    \n",
    "    yield\n",
    "    \n",
    "    # change back to previous\n",
    "    # working directory\n",
    "    os.chdir(old_dir)\n",
    "\n",
    "with in_dir('datasets/'):\n",
    "    project_files = os.listdir()\n",
    "\n",
    "print(project_files)\n",
    "os.listdir()"
   ]
  },
  {
   "cell_type": "markdown",
   "metadata": {},
   "source": [
    "# <font color=darkred>2.5 The timer() context manager</font> \n",
    "\n",
    "A colleague of yours is working on a web service that processes Instagram photos. Customers are complaining that the service takes too long to identify whether or not an image has a cat in it, so your colleague has come to you for help. You decide to write a context manager that they can use to time how long their functions take to run.\n",
    "\n",
    "**Instructions**\n",
    "- Add a decorator from the contextlib module to the timer() function that will make it act like a context manager.\n",
    "- Send control from the timer() function to the context block.\n",
    "\n",
    "**Results**\n",
    "\n",
    "<font color=darkgreen>You're managing context like a boss! And your colleague can now use your timer() context manager to figure out which of their functions is running too slow. Notice that the three elements of a context manager are all here: a function definition, a yield statement, and the @contextlib.contextmanager decorator. It's also worth noticing that timer() is a context manager that does not return an explicit value, so yield is written by itself without specifying anything to return.</font>"
   ]
  },
  {
   "cell_type": "code",
   "execution_count": 10,
   "metadata": {},
   "outputs": [
    {
     "name": "stdout",
     "output_type": "stream",
     "text": [
      "This should take approximately 0.25 seconds\n",
      "Elapsed: 0.26s\n"
     ]
    }
   ],
   "source": [
    "# Add a decorator that will make timer() a context manager\n",
    "@contextlib.contextmanager\n",
    "def timer():\n",
    "    \"\"\"Time the execution of a context block.\n",
    "    \n",
    "    Yields:\n",
    "        None\n",
    "    \"\"\"\n",
    "    start = time.time()\n",
    "    # Send control back to the context block\n",
    "    yield\n",
    "    end = time.time()\n",
    "    print('Elapsed: {:.2f}s'.format(end - start))\n",
    "\n",
    "with timer():\n",
    "    print('This should take approximately 0.25 seconds')\n",
    "    time.sleep(0.25)"
   ]
  },
  {
   "cell_type": "markdown",
   "metadata": {},
   "source": [
    "# <font color=darkred>2.6 A read-only open() context manager</font> \n",
    "\n",
    "You have a bunch of data files for your next deep learning project that took you months to collect and clean. It would be terrible if you accidentally overwrote one of those files when trying to read it in for training, so you decide to create a read-only version of the open() context manager to use in your project.\n",
    "\n",
    "The regular open() context manager:\n",
    "- takes a filename and a mode ('r' for read, 'w' for write, or 'a' for append)\n",
    "- opens the file for reading, writing, or appending\n",
    "- yields control back to the context, along with a reference to the file\n",
    "- waits for the context to finish\n",
    "- and then closes the file before exiting\n",
    "Your context manager will do the same thing, except it will only take the filename as an argument and it will only open the file for reading.\n",
    "\n",
    "**Instructions**\n",
    "- Yield control from open_read_only() to the context block, ensuring that the read_only_file object gets assigned to my_file.\n",
    "- Use read_only_file's .close() method to ensure that you don't leave open files lying around.\n",
    "\n",
    "**Results**\n",
    "\n",
    "<font color=darkgreen>That is a radical read-only context manager! Now you can relax, knowing that every time you use with open_read_only() your files are safe from being accidentally overwritten. This function is an example of a context manager that does return a value, so we write yield read_only_file instead of just yield. Then the read_only_file object gets assigned to my_file in the with statement so that whoever is using your context can call its .read() method in the context block.</font>"
   ]
  },
  {
   "cell_type": "code",
   "execution_count": 11,
   "metadata": {},
   "outputs": [
    {
     "name": "stdout",
     "output_type": "stream",
     "text": [
      "This a text file!\n"
     ]
    }
   ],
   "source": [
    "@contextlib.contextmanager\n",
    "def open_read_only(filename):\n",
    "    \"\"\"Open a file in read-only mode.\n",
    "    \n",
    "    Args:\n",
    "        filename (str): The location of the file to read\n",
    "        \n",
    "    Yields:\n",
    "        file object\n",
    "    \"\"\"\n",
    "    read_only_file = open(filename, mode='r')\n",
    "    # Yield read_only_file so it can be assigned to my_file\n",
    "    yield read_only_file\n",
    "    # Close read_only_file\n",
    "    read_only_file.close()\n",
    "\n",
    "with open_read_only('datasets/my_file.txt') as my_file:\n",
    "    print(my_file.read())"
   ]
  },
  {
   "cell_type": "markdown",
   "metadata": {},
   "source": [
    "# <font color=darkred>2.7 Advanced topics</font>\n",
    "\n",
    "1. Advanced topics\n",
    ">You've learned a lot about how to using and writing context managers. In this lesson, we'll cover nested contexts, handling errors, and how to know when to create a context manager.\n",
    "\n",
    "2. Nested contexts\n",
    ">Imagine you are implementing this copy() function that copies the contents of one file to another file. One way you could write this function would be to open the source file, store the contents of the file in the \"contents\" variable, then open the destination file and write the contents to it. This approach works fine until you try to copy a file that is too large to fit in memory.\n",
    "\n",
    "3. Nested contexts\n",
    ">What would be ideal is if we could open both files at once and copy over one line at a time. Fortunately for us, the file object that the \"open()\" context manager returns can be iterated over in a for loop. The statement \"for line in my_file\" here will read in the contents of my_file one line at a time until the end of the file.\n",
    "\n",
    "4. Nested contexts\n",
    ">So, going back to our copy() function, if we could open both files at once, we could read in the source file line-by-line and write each line out to the destination as we go. This would let us copy the file without worrying about how big it is. In Python, nested \"with\" statements are perfectly legal. This code opens the source file and then opens the destination file inside the source file's context. That means code that runs inside the context created by opening the destination file has access to both the \"f_src\" and the \"f_dst\" file objects. So we are able to copy the file over one line at a time like we wanted to!\n",
    "\n",
    "5. Handling errors\n",
    ">One thing you will want to think about when writing your context managers is: What happens if the programmer who uses your context manager writes code that causes an error? Imagine you've written this function that lets someone connect to the printer. The printer only allows one connection at a time, so it is imperative that \"p.disconnect()\" gets called, or else no one else will be able to print! Someone decides to use your get_printer() function to print the text of their document. However, they weren't paying attention and accidentally typed \"txt\" instead of \"text\". This will raise a KeyError because \"txt\" is not in the \"doc\" dictionary. And that means \"p.disconnect()\" doesn't get called.\n",
    "\n",
    "6. Handling errors\n",
    ">So what can we do? You may be familiar with the \"try\" statement. It allows you to write code that might raise an error inside the \"try\" block and catch that error inside the \"except\" block. You can choose to ignore the error or re-raise it. The \"try\" statement also allows you to add a \"finally\" block. This is code that runs no matter what, whether an exception occurred or not.\n",
    "\n",
    "7. Handling errors\n",
    ">The solution then is to put a \"try\" statement before the \"yield\" statement in our get_printer() function and a \"finally\" statement before \"p.disconnect()\". When the sloppy programmer runs their code, they still get the KeyError, but \"finally\" ensures that \"p.disconnect()\" is called before the error is raised.\n",
    "\n",
    "8. Context manager patterns\n",
    ">If you notice that your code is following any of these patterns, you might consider using a context manager. For instance, in this lesson we've talked about \"open()\", which uses the open/close pattern, and \"get_printer()\", which uses the connect/disconnect pattern. See if you can find other instances of these patterns in code you are familiar with.\n",
    ">\n",
    ">(1) Adapted from Dave Brondsema's talk at PyCon 2012: https://youtu.be/cSbD5SKwak0?t=795\n",
    "9. Let's practice!\n",
    ">Test your understanding with the next few exercises."
   ]
  },
  {
   "cell_type": "code",
   "execution_count": 12,
   "metadata": {},
   "outputs": [],
   "source": [
    "# Nested contexts\n",
    "def copy(src, dst):\n",
    "    \"\"\"Copy the contents of one file to another.\n",
    "    Args:\n",
    "        src (str): File name of the file to be copied.\n",
    "        dst (str): Where to write the new file.\n",
    "    \"\"\"\n",
    "    # Open both files\n",
    "    with open(src) as f_src:\n",
    "        with open(dst, 'w') as f_dst:\n",
    "            # Read and write each line, one at a time\n",
    "            for line in f_src:\n",
    "                f_dst.write(line)"
   ]
  },
  {
   "cell_type": "code",
   "execution_count": 13,
   "metadata": {},
   "outputs": [
    {
     "name": "stdout",
     "output_type": "stream",
     "text": [
      "\u001b[1;31m---------------------------------------------------------------------------\u001b[0m\n",
      "\u001b[1;31mFileNotFoundError\u001b[0m                         Traceback (most recent call last)\n",
      "\u001b[1;32m<ipython-input-13-48a5f822204b>\u001b[0m in \u001b[0;36m<module>\u001b[1;34m\u001b[0m\n",
      "\u001b[0;32m     18\u001b[0m         \u001b[0mread_only_file\u001b[0m\u001b[1;33m.\u001b[0m\u001b[0mclose\u001b[0m\u001b[1;33m(\u001b[0m\u001b[1;33m)\u001b[0m\u001b[1;33m\u001b[0m\u001b[1;33m\u001b[0m\u001b[0m\n",
      "\u001b[0;32m     19\u001b[0m \u001b[1;33m\u001b[0m\u001b[0m\n",
      "\u001b[1;32m---> 20\u001b[1;33m \u001b[1;32mwith\u001b[0m \u001b[0mopen_read_only\u001b[0m\u001b[1;33m(\u001b[0m\u001b[1;34m'datasets/my_file.text'\u001b[0m\u001b[1;33m)\u001b[0m \u001b[1;32mas\u001b[0m \u001b[0mmy_file\u001b[0m\u001b[1;33m:\u001b[0m\u001b[1;33m\u001b[0m\u001b[1;33m\u001b[0m\u001b[0m\n",
      "\u001b[0m\u001b[0;32m     21\u001b[0m     \u001b[0mprint\u001b[0m\u001b[1;33m(\u001b[0m\u001b[0mmy_file\u001b[0m\u001b[1;33m.\u001b[0m\u001b[0mread\u001b[0m\u001b[1;33m(\u001b[0m\u001b[1;33m)\u001b[0m\u001b[1;33m)\u001b[0m\u001b[1;33m\u001b[0m\u001b[1;33m\u001b[0m\u001b[0m\n",
      "\n",
      "\u001b[1;32mC:\\Anaconda3\\envs\\datascience\\lib\\contextlib.py\u001b[0m in \u001b[0;36m__enter__\u001b[1;34m(self)\u001b[0m\n",
      "\u001b[0;32m    111\u001b[0m         \u001b[1;32mdel\u001b[0m \u001b[0mself\u001b[0m\u001b[1;33m.\u001b[0m\u001b[0margs\u001b[0m\u001b[1;33m,\u001b[0m \u001b[0mself\u001b[0m\u001b[1;33m.\u001b[0m\u001b[0mkwds\u001b[0m\u001b[1;33m,\u001b[0m \u001b[0mself\u001b[0m\u001b[1;33m.\u001b[0m\u001b[0mfunc\u001b[0m\u001b[1;33m\u001b[0m\u001b[1;33m\u001b[0m\u001b[0m\n",
      "\u001b[0;32m    112\u001b[0m         \u001b[1;32mtry\u001b[0m\u001b[1;33m:\u001b[0m\u001b[1;33m\u001b[0m\u001b[1;33m\u001b[0m\u001b[0m\n",
      "\u001b[1;32m--> 113\u001b[1;33m             \u001b[1;32mreturn\u001b[0m \u001b[0mnext\u001b[0m\u001b[1;33m(\u001b[0m\u001b[0mself\u001b[0m\u001b[1;33m.\u001b[0m\u001b[0mgen\u001b[0m\u001b[1;33m)\u001b[0m\u001b[1;33m\u001b[0m\u001b[1;33m\u001b[0m\u001b[0m\n",
      "\u001b[0m\u001b[0;32m    114\u001b[0m         \u001b[1;32mexcept\u001b[0m \u001b[0mStopIteration\u001b[0m\u001b[1;33m:\u001b[0m\u001b[1;33m\u001b[0m\u001b[1;33m\u001b[0m\u001b[0m\n",
      "\u001b[0;32m    115\u001b[0m             \u001b[1;32mraise\u001b[0m \u001b[0mRuntimeError\u001b[0m\u001b[1;33m(\u001b[0m\u001b[1;34m\"generator didn't yield\"\u001b[0m\u001b[1;33m)\u001b[0m \u001b[1;32mfrom\u001b[0m \u001b[1;32mNone\u001b[0m\u001b[1;33m\u001b[0m\u001b[1;33m\u001b[0m\u001b[0m\n",
      "\n",
      "\u001b[1;32m<ipython-input-13-48a5f822204b>\u001b[0m in \u001b[0;36mopen_read_only\u001b[1;34m(filename)\u001b[0m\n",
      "\u001b[0;32m     10\u001b[0m         \u001b[0mfile\u001b[0m \u001b[0mobject\u001b[0m\u001b[1;33m\u001b[0m\u001b[1;33m\u001b[0m\u001b[0m\n",
      "\u001b[0;32m     11\u001b[0m     \"\"\"\n",
      "\u001b[1;32m---> 12\u001b[1;33m     \u001b[0mread_only_file\u001b[0m \u001b[1;33m=\u001b[0m \u001b[0mopen\u001b[0m\u001b[1;33m(\u001b[0m\u001b[0mfilename\u001b[0m\u001b[1;33m,\u001b[0m \u001b[0mmode\u001b[0m\u001b[1;33m=\u001b[0m\u001b[1;34m'r'\u001b[0m\u001b[1;33m)\u001b[0m\u001b[1;33m\u001b[0m\u001b[1;33m\u001b[0m\u001b[0m\n",
      "\u001b[0m\u001b[0;32m     13\u001b[0m     \u001b[1;32mtry\u001b[0m\u001b[1;33m:\u001b[0m\u001b[1;33m\u001b[0m\u001b[1;33m\u001b[0m\u001b[0m\n",
      "\u001b[0;32m     14\u001b[0m         \u001b[1;31m# Yield read_only_file so it can be assigned to my_file\u001b[0m\u001b[1;33m\u001b[0m\u001b[1;33m\u001b[0m\u001b[1;33m\u001b[0m\u001b[0m\n",
      "\n",
      "\u001b[1;31mFileNotFoundError\u001b[0m: [Errno 2] No such file or directory: 'datasets/my_file.text'\n"
     ]
    }
   ],
   "source": [
    "%%expect_exception FileNotFoundError\n",
    "\n",
    "# Handling errors\n",
    "@contextlib.contextmanager\n",
    "def open_read_only(filename):\n",
    "    \"\"\"Open a file in read-only mode.\n",
    "    \n",
    "    Args:\n",
    "        filename (str): The location of the file to read\n",
    "        \n",
    "    Yields:\n",
    "        file object\n",
    "    \"\"\"\n",
    "    read_only_file = open(filename, mode='r')\n",
    "    try:\n",
    "        # Yield read_only_file so it can be assigned to my_file\n",
    "        yield read_only_file\n",
    "    finally:\n",
    "        # Close read_only_file\n",
    "        read_only_file.close()\n",
    "\n",
    "with open_read_only('datasets/my_file.text') as my_file:\n",
    "    print(my_file.read())"
   ]
  },
  {
   "cell_type": "markdown",
   "metadata": {},
   "source": [
    "# <font color=darkred>2.8 Context manager use cases</font>\n",
    "\n",
    "**Instructions**\n",
    "\n",
    "Which of the following would NOT be a good opportunity to use a context manager?\n",
    "\n",
    "**Possible Answers**\n",
    "\n",
    "- A function that starts a timer that keeps track of how long some block of code takes to run.\n",
    "- <font color=red>A function that prints all of the prime numbers between 2 and some value n.</font>\n",
    "- A function that connects to a smart thermostat so that it can be programmed remotely.\n",
    "- A function that prevents multiple users from updating an online spreadsheet at the same time by locking access to the spreadsheet before every operation.\n",
    "\n",
    "**Results**\n",
    "\n",
    "<font color=darkgreen>Correct! While you might be able to do this with a context manager, it would make much more sense just to do it with a normal function.</font>"
   ]
  },
  {
   "cell_type": "markdown",
   "metadata": {},
   "source": [
    "# <font color=darkred>2.9 Scraping the NASDAQ</font> \n",
    "\n",
    "Training deep neural nets is expensive! You might as well invest in NVIDIA stock since you're spending so much on GPUs. To pick the best time to invest, you are going to collect and analyze some data on how their stock is doing. The context manager stock('NVDA') will connect to the NASDAQ and return an object that you can use to get the latest price by calling its .price() method.\n",
    "\n",
    "You want to connect to stock('NVDA') and record 10 timesteps of price data by writing it to the file NVDA.txt.\n",
    "\n",
    "You will notice the use of an underscore when iterating over the for loop. If this is confusing to you, don't worry. It could easily be replaced with i, if we planned to do something with it, like use it as an index. Since we won't be using it, we can use a dummy operator, _, which doesn't use any additional memory.\n",
    "\n",
    "**Instructions**\n",
    "- Use the stock('NVDA') context manager and assign the result to nvda.\n",
    "- Open a file for writing with open('NVDA.txt', 'w') and assign the file object to f_out so you can record the price over time.\n",
    "\n",
    "**Results**\n",
    "\n",
    "<font color=darkgreen>Super stock scraping! Now you can monitor the NVIDIA stock price and decide when is the exact right time to buy. Nesting context managers like this allows you to connect to the stock market (the CONNECT/DISCONNECT pattern) and write to a file (the OPEN/CLOSE pattern) at the same time.</font>"
   ]
  },
  {
   "cell_type": "code",
   "execution_count": 14,
   "metadata": {},
   "outputs": [],
   "source": [
    "class MockStock:\n",
    "    def __init__(self, loc, scale):\n",
    "        self.loc = loc\n",
    "        self.scale = scale\n",
    "        self.recent = list(np.random.laplace(loc, scale, 2))\n",
    "    def price(self):\n",
    "        sign = np.sign(self.recent[1] - self.recent[0])\n",
    "        # 70% chance of going same direction\n",
    "        sign = 1 if sign == 0 else (sign if np.random.rand() > 0.3 else -1 * sign)\n",
    "        new = self.recent[1] + sign * np.random.rand() / 10.0\n",
    "        self.recent = [self.recent[1], new]\n",
    "        return new\n",
    "\n",
    "@contextlib.contextmanager\n",
    "def stock(symbol):\n",
    "    base = 140.00\n",
    "    scale = 1.0\n",
    "    mock = MockStock(base, scale)\n",
    "    print('Opening stock ticker for {}'.format(symbol))\n",
    "    yield mock\n",
    "    print('Closing stock ticker')"
   ]
  },
  {
   "cell_type": "code",
   "execution_count": 15,
   "metadata": {},
   "outputs": [
    {
     "name": "stdout",
     "output_type": "stream",
     "text": [
      "Opening stock ticker for NVDA\n",
      "Logging $139.33 for NVDA\n",
      "Logging $139.43 for NVDA\n",
      "Logging $139.49 for NVDA\n",
      "Logging $139.55 for NVDA\n",
      "Logging $139.57 for NVDA\n",
      "Logging $139.57 for NVDA\n",
      "Logging $139.63 for NVDA\n",
      "Logging $139.67 for NVDA\n",
      "Logging $139.74 for NVDA\n",
      "Logging $139.84 for NVDA\n",
      "Closing stock ticker\n"
     ]
    }
   ],
   "source": [
    "# Use the \"stock('NVDA')\" context manager\n",
    "# and assign the result to the variable \"nvda\"\n",
    "with stock('NVDA') as nvda:\n",
    "    # Open \"NVDA.txt\" for writing as f_out\n",
    "    with open('datasets/NVDA.txt', 'w') as f_out:\n",
    "        for _ in range(10):\n",
    "            value = nvda.price()\n",
    "            print('Logging ${:.2f} for NVDA'.format(value))\n",
    "            f_out.write('{:.2f}\\n'.format(value))"
   ]
  },
  {
   "cell_type": "markdown",
   "metadata": {},
   "source": [
    "# <font color=darkred>2.10 Changing the working directory</font> \n",
    "\n",
    "You are using an open-source library that lets you train deep neural networks on your data. Unfortunately, during training, this library writes out checkpoint models (i.e., models that have been trained on a portion of the data) to the current working directory. You find that behavior frustrating because you don't want to have to launch the script from the directory where the models will be saved.\n",
    "\n",
    "You decide that one way to fix this is to write a context manager that changes the current working directory, lets you build your models, and then resets the working directory to its original location. You'll want to be sure that any errors that occur during model training don't prevent you from resetting the working directory to its original location.\n",
    "\n",
    "**Instructions**\n",
    "- Add a statement that lets you handle any errors that might occur inside the context.\n",
    "- Add a statement that ensures os.chdir(current_dir) will be called, whether there was an error or not.\n",
    "\n",
    "**Results**\n",
    "\n",
    "<font color=darkgreen>Excellent error handling! Now, even if someone writes buggy code when using your context manager, you will be sure to change the current working directory back to what it was when they called in_dir(). This is important to do because your users might be relying on their working directory being what it was when they started the script. in_dir() is a great example of the CHANGE/RESET pattern that indicates you should use a context manager.</font>"
   ]
  },
  {
   "cell_type": "code",
   "execution_count": 16,
   "metadata": {},
   "outputs": [],
   "source": [
    "@contextlib.contextmanager\n",
    "def in_dir(directory):\n",
    "    \"\"\"Change current working directory to `directory`,\n",
    "    allow the user to run some code, and change back.\n",
    "    \n",
    "    Args:\n",
    "        directory (str): The path to a directory to work in.\n",
    "    \"\"\"\n",
    "    current_dir = os.getcwd()\n",
    "    os.chdir(directory)\n",
    "    \n",
    "    # Add code that lets you handle errors\n",
    "    try:\n",
    "        yield\n",
    "    # Ensure the directory is reset,\n",
    "    # whether there was an error or not\n",
    "    finally:\n",
    "        os.chdir(current_dir)"
   ]
  },
  {
   "cell_type": "markdown",
   "metadata": {},
   "source": [
    "# Aditional material\n",
    "\n",
    "- Datacamp course: https://learn.datacamp.com/courses/writing-functions-in-python"
   ]
  }
 ],
 "metadata": {
  "kernelspec": {
   "display_name": "Python 3",
   "language": "python",
   "name": "python3"
  },
  "language_info": {
   "codemirror_mode": {
    "name": "ipython",
    "version": 3
   },
   "file_extension": ".py",
   "mimetype": "text/x-python",
   "name": "python",
   "nbconvert_exporter": "python",
   "pygments_lexer": "ipython3",
   "version": "3.8.8"
  }
 },
 "nbformat": 4,
 "nbformat_minor": 4
}
