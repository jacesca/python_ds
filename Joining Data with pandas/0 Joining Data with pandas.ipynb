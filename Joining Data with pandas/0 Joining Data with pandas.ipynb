{
 "cells": [
  {
   "cell_type": "markdown",
   "metadata": {},
   "source": [
    "# Joining Data with pandas\n",
    "\n",
    "Being able to combine and work with multiple datasets is an essential skill for any aspiring Data Scientist. Pandas is a crucial cornerstone of the Python data science ecosystem, with Stack Overflow recording 5 million views for pandas questions. Learn to handle multiple DataFrames by combining, organizing, joining, and reshaping them using pandas. You'll work with datasets from the World Bank and the City Of Chicago. You will finish the course with a solid skillset for data-joining in pandas."
   ]
  },
  {
   "cell_type": "markdown",
   "metadata": {},
   "source": [
    "## 1. Data Merging Basics\n",
    "\n",
    "Learn how you can merge disparate data using inner joins. By combining information from multiple sources you’ll uncover compelling insights that may have previously been hidden. You’ll also learn how the relationship between those sources, such as one-to-one or one-to-many, can affect your result.\n",
    "\n",
    "    1.1 Inner join\n",
    "\t1.2 What column to merge on?\n",
    "\t1.3 Your first inner join\n",
    "\t1.4 Inner joins and number of rows returned\n",
    "\t1.5 One-to-many relationships\n",
    "\t1.6 One-to-many classification\n",
    "\t1.7 One-to-many merge\n",
    "\t1.8 Merging multiple DataFrames\n",
    "\t1.9 Total riders in a month\n",
    "\t1.10 Three table merge\n",
    "\t1.11 One-to-many merge with multiple tables"
   ]
  },
  {
   "cell_type": "markdown",
   "metadata": {},
   "source": [
    "## 2. Merging Tables With Different Join Types\n",
    "\n",
    "Take your knowledge of joins to the next level. In this chapter, you’ll work with TMDb movie data as you learn about left, right, and outer joins. You’ll also discover how to merge a table to itself and merge on a DataFrame index.\n",
    "\n",
    "    2.1 Left join\n",
    "\t2.2 Counting missing rows with left join\n",
    "\t2.3 Enriching a dataset\n",
    "\t2.4 How many rows with a left join?\n",
    "\t2.5 Other joins\n",
    "\t2.6 Right join to find unique movies\n",
    "\t2.7 Popular genres with right join\n",
    "\t2.8 Using outer join to select actors\n",
    "\t2.9 Merging a table to itself\n",
    "\t2.10 Self join\n",
    "\t2.11 How does pandas handle self joins?\n",
    "\t2.12 Merging on indexes\n",
    "\t2.13 Index merge for movie ratings\n",
    "\t2.14 Do sequels earn more?"
   ]
  },
  {
   "cell_type": "markdown",
   "metadata": {},
   "source": [
    "## 3. Advanced Merging and Concatenating\n",
    "\n",
    "In this chapter, you’ll leverage powerful filtering techniques, including semi-joins and anti-joins. You’ll also learn how to glue DataFrames by vertically combining and using the pandas.concat function to create new datasets. Finally, because data is rarely clean, you’ll also learn how to validate your newly combined data structures.\n",
    "\n",
    "\t3.1 Filtering joins\n",
    "\t3.2 Steps of a semi-join\n",
    "\t3.3 Performing an anti-join\n",
    "\t3.4 Performing a semi-join\n",
    "\t3.5 Concatenate DataFrames together vertically\n",
    "\t3.6 Concatenation basics\n",
    "\t3.7 Concatenating with keys\n",
    "\t3.8 Using the append method\n",
    "\t3.9 Verifying integrity\n",
    "\t3.10 Validating a merge\n",
    "\t3.11 Concatenate and merge to find common songs"
   ]
  },
  {
   "cell_type": "markdown",
   "metadata": {},
   "source": [
    "## 4. Merging Ordered and Time-Series Data\n",
    "\n",
    "In this final chapter, you’ll step up a gear and learn to apply pandas' specialized methods for merging time-series and ordered data together with real-world financial and economic data from the city of Chicago. You’ll also learn how to query resulting tables using a SQL-style format, and unpivot data using the melt method.\n",
    "\n",
    "\t4.1 Using merge_ordered()\n",
    "\t4.2 Correlation between GDP and S&P500\n",
    "\t4.3 Phillips curve using merge_ordered()\n",
    "\t4.4 merge_ordered() caution, multiple columns\n",
    "\t4.5 Using merge_asof()\n",
    "\t4.6 Using merge_asof() to study stocks\n",
    "\t4.7 Using merge_asof() to create dataset\n",
    "\t4.8 merge_asof() and merge_ordered() differences\n",
    "\t4.9 Selecting data with .query()\n",
    "\t4.10 Explore financials with .query()\n",
    "\t4.11 Subsetting rows with .query()\n",
    "\t4.12 Reshaping data with .melt()\n",
    "\t4.13 Select the right .melt() arguments\n",
    "\t4.14 Using .melt() to reshape government data\n",
    "\t4.15 Using .melt() for stocks vs bond performance\n",
    "\t4.16 Course wrap-up"
   ]
  },
  {
   "cell_type": "markdown",
   "metadata": {},
   "source": [
    "# Aditional material\n",
    "\n",
    "- Datacamp course: https://learn.datacamp.com/courses/joining-data-with-pandas"
   ]
  }
 ],
 "metadata": {
  "kernelspec": {
   "display_name": "Python 3",
   "language": "python",
   "name": "python3"
  },
  "language_info": {
   "codemirror_mode": {
    "name": "ipython",
    "version": 3
   },
   "file_extension": ".py",
   "mimetype": "text/x-python",
   "name": "python",
   "nbconvert_exporter": "python",
   "pygments_lexer": "ipython3",
   "version": "3.8.8"
  }
 },
 "nbformat": 4,
 "nbformat_minor": 4
}
