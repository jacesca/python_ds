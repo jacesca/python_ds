{
 "cells": [
  {
   "cell_type": "code",
   "execution_count": 1,
   "metadata": {},
   "outputs": [],
   "source": [
    "# Import libraries\n",
    "import expectexception"
   ]
  },
  {
   "cell_type": "markdown",
   "metadata": {},
   "source": [
    "# 2. Inheritance and Polymorphism\n",
    "\n",
    "Inheritance and polymorphism are the core concepts of OOP that enable efficient and consistent code reuse. Learn how to inherit from a class, customize and redefine methods, and review the differences between class-level data and instance-level data."
   ]
  },
  {
   "cell_type": "markdown",
   "metadata": {},
   "source": [
    "# <font color=darkred>2.1 Instance and class data</font>\n",
    "\n",
    "1. Instance and class data\n",
    ">Congratulations! Now you know the basics of creating classes. You might be asking: classes are neat, but how exactly do they help me make my code better? In this chapter, you'll learn about\n",
    "\n",
    "2. Core principles of OOP\n",
    ">namely, Inheritance and Polymorphism, that, together with encapsulation, form the core principles of OOP. But before we get into it,\n",
    "\n",
    "3. Instance-level data\n",
    ">you need to learn how to distinguish between instance-level data and class level data. Remember the employee class you defined in the previous chapter. It had attributes like name and salary, and we were able to assign specific values to them for each new instance of the class. These were instance attributes. We used self to bind them to a particular instance.\n",
    "\n",
    "4. Class-level data\n",
    ">But what if you needed to store some data that is shared among all the instances of a class? For example, if you wanted to introduce a minimal salary across the entire organization. That data should not differ among object instances. Then, you can define an attribute directly in the class body. This will create a class attribute, that will serve as a \"global variable\" within a class. For example,\n",
    "\n",
    "5. Class-level data\n",
    ">we can define min_salary, and set it to 30000. We can use this attribute inside the class like we would use any global variable, only prepended by the class name: for example, here we check if the value of salary attribute is greater than MIN_SALARY in the init method. Note that we do not use self to define the attribute, and we use the class name instead of self when referring to the attribute.\n",
    "\n",
    "6. Class-level data\n",
    ">This min_salary variable will be shared among all the instances of the employee class. We can access it like any other attribute from an object instance, and the value will be the same across instances. Here we print the MIN_SALARY class attribute from two employee objects.\n",
    "\n",
    "7. Why use class attributes?\n",
    ">So, the main use case for class attributes is global constants that are related to class, for example min/max values for attributes -- like the min_salary example -- or commonly used values: for example,if you were defining a Circle class, you could store pi as a class attribute.\n",
    "\n",
    "8. Class methods\n",
    ">What about methods? Regular methods are already shared between instances: the same code gets executed for every instance. The only difference is the data that is fed into it. It is possible to define methods bound to class rather than an instance, but they have a narrow application scope, because these methods will not be able to use any instance-level data. To define a class method, you start with a classmethod decorator, followed by a method definition. The only difference is that now the first argument is not self, but cls, referring to the class, just like the self argument was a reference to a particular instance. Then you write it as any other function, keeping in mind that you can't refer to any instance attributes in that method. To call a class method, we use class-dot-method syntax, rather than object-dot-method syntax.\n",
    "\n",
    "9. Alternative constructors\n",
    ">So why would we ever need class methods at all? The main use case is alternative constructors. A class can only have one init method, but there might be multiple ways to initialize an object. For example, we might want to create an Employee object from data stored in a file. We can't use a method, because it would require an instance, and there isn't one yet! Here we introduce a class method from_file that accepts a file name, reads the first line from the file that presumably contains the name of the employee, and returns an object instance. In the return statement, we use the cls variable -- remember that now cls refers to the class, so this will call the init constructor, just like using Employee with parentheses would when used outside the class definition.\n",
    "\n",
    "10. Alternative constructors\n",
    ">Then we can call the method from_file by using class-dot-method syntax, which will create an employee object without explicitly calling the constructor.\n",
    "\n",
    "11. Let's practice!\n",
    ">That was a lot! Now head over to the exercises to practice."
   ]
  },
  {
   "cell_type": "code",
   "execution_count": 2,
   "metadata": {},
   "outputs": [
    {
     "name": "stdout",
     "output_type": "stream",
     "text": [
      "30000\n",
      "30000\n",
      "<class '__main__.Employee'>\n",
      "Sandia Romanova\n"
     ]
    }
   ],
   "source": [
    "# Import datetime from datetime\n",
    "from datetime import datetime\n",
    "\n",
    "class Employee:\n",
    "    \"\"\"Create Employee objects.\"\"\"\n",
    "    MIN_SALARY = 30000\n",
    "    \n",
    "    def __init__(self, name, salary=0):\n",
    "        self.name = name\n",
    "        if salary > Employee.MIN_SALARY:\n",
    "          self.salary = salary\n",
    "        else:\n",
    "          self.salary = Employee.MIN_SALARY\n",
    "          \n",
    "        # Add the hire_date attribute and set it to today's date\n",
    "        self.hire_date = datetime.today()\n",
    "        \n",
    "    def give_raise(self, amount):\n",
    "        self.salary += amount\n",
    "\n",
    "    def monthly_salary(self):\n",
    "        return self.salary/12\n",
    "    \n",
    "    @classmethod\n",
    "    def from_file(cls, filename):\n",
    "        with open(filename, \"r\") as f:\n",
    "            name = f.readline()\n",
    "        return cls(name)\n",
    "\n",
    "# Create emp1\n",
    "emp1 = Employee(\"TBD\", 40000) \n",
    "print(emp1.MIN_SALARY)\n",
    "\n",
    "# Create emp2\n",
    "emp2 = Employee(\"TBD\", 60000) \n",
    "print(emp2.MIN_SALARY)\n",
    "\n",
    "# Create an employee without calling Employee()\n",
    "emp3 = Employee.from_file(\"datasets/employee_data.txt\") \n",
    "print(type(emp3))\n",
    "print(emp3.name)"
   ]
  },
  {
   "cell_type": "markdown",
   "metadata": {},
   "source": [
    "# <font color=darkred>2.2 Class-level attributes</font> \n",
    "\n",
    "Class attributes store data that is shared among all the class instances. They are assigned values in the class body, and are referred to using the ClassName. syntax rather than self. syntax when used in methods.\n",
    "\n",
    "In this exercise, you will be a game developer working on a game that will have several players moving on a grid and interacting with each other. As the first step, you want to define a Player class that will just move along a straight line. Player will have a position attribute and a move() method. The grid is limited, so the position of Player will have a maximal value.\n",
    "\n",
    "**Instructions**\n",
    "- Define a class Player that has:\n",
    "    - A class attribute MAX_POSITION with value 10.\n",
    "    - The __init__() method that sets the position instance attribute to 0.\n",
    "    - Print Player.MAX_POSITION.\n",
    "    - Create a Player object p and print its MAX_POSITION.\n",
    "\n",
    "\n",
    "- Add a move() method with a steps parameter such that:\n",
    "    - if position plus steps is less than MAX_POSITION, then add steps to position and assign the result back to position;\n",
    "    - otherwise, set position to MAX_POSITION.\n",
    "    - Take a look at the console for a visualization!\n",
    "\n",
    "**Results**\n",
    "\n",
    "<font color=darkgreen>Great work!</font>"
   ]
  },
  {
   "cell_type": "code",
   "execution_count": 3,
   "metadata": {},
   "outputs": [
    {
     "name": "stdout",
     "output_type": "stream",
     "text": [
      "10\n",
      "10\n"
     ]
    }
   ],
   "source": [
    "# Create a Player class\n",
    "class Player:\n",
    "    \"\"\"\n",
    "    Player class that will just move along a straight line. \n",
    "    Player will have a position attribute and a move() method.\n",
    "    \"\"\"\n",
    "    MAX_POSITION = 10\n",
    "    def __init__(self):\n",
    "        self.position = 0\n",
    "\n",
    "# Print Player.MAX_POSITION       \n",
    "print(Player.MAX_POSITION)\n",
    "\n",
    "# Create a player p and print its MAX_POSITITON\n",
    "p = Player()\n",
    "print(p.MAX_POSITION)"
   ]
  },
  {
   "cell_type": "code",
   "execution_count": 4,
   "metadata": {},
   "outputs": [
    {
     "name": "stdout",
     "output_type": "stream",
     "text": [
      "|----------\n",
      "----|------\n",
      "---------|-\n",
      "----------|\n"
     ]
    }
   ],
   "source": [
    "class Player:\n",
    "    MAX_POSITION = 10\n",
    "    \n",
    "    def __init__(self):\n",
    "        self.position = 0\n",
    "\n",
    "    # Add a move() method with steps parameter\n",
    "    def move(self, steps):\n",
    "        if self.position + steps < Player.MAX_POSITION:\n",
    "            self.position += steps\n",
    "        else:\n",
    "            self.position = Player.MAX_POSITION\n",
    "       \n",
    "    # This method provides a rudimentary visualization in the console    \n",
    "    def draw(self):\n",
    "        drawing = \"-\" * self.position + \"|\" +\"-\"*(Player.MAX_POSITION - self.position)\n",
    "        print(drawing)\n",
    "\n",
    "p = Player(); p.draw()\n",
    "p.move(4); p.draw()\n",
    "p.move(5); p.draw()\n",
    "p.move(3); p.draw()"
   ]
  },
  {
   "cell_type": "markdown",
   "metadata": {},
   "source": [
    "# <font color=darkred>2.3 Changing class attributes</font> \n",
    "\n",
    "You learned how to define class attributes and how to access them from class instances. So what will happen if you try to assign another value to a class attribute when accessing it from an instance? The answer is not as simple as you might think!\n",
    "\n",
    "The Player class from the previous exercise is pre-defined. Recall that it has a position instance attribute, and MAX_SPEED and MAX_POSITION class attributes. The initial value of MAX_SPEED is 3.\n",
    "\n",
    "**Instructions**\n",
    "- Create two Player objects p1 and p2.\n",
    "- Print p1.MAX_SPEED and p2.MAX_SPEED.\n",
    "- Assign 7 to p1.MAX_SPEED.\n",
    "- Print p1.MAX_SPEED and p2.MAX_SPEED again.\n",
    "- Print Player.MAX_SPEED.\n",
    "- Examine the output carefully.\n",
    "\n",
    "\n",
    "- Even though MAX_SPEED is shared across instances, assigning 7 to p1.MAX_SPEED didn't change the value of MAX_SPEED in p2, or in the Player class. So what happened? In fact, Python created a new instance attribute in p1, also called it MAX_SPEED, and assigned 7 to it, without touching the class attribute. Now let's change the class attribute value for real.\n",
    "    - Modify the assignment to assign 7 to Player.MAX_SPEED instead.\n",
    "\n",
    "**Results**\n",
    "\n",
    "<font color=darkgreen>Not obvious, right? But it makes sense, when you think about it! You shouldn't be able to change the data in all the instances of the class through a single instance. Imagine if you could change the time on all the computers in the world by changing the time on your own computer! If you want to change the value of the class attribute at runtime, you need to do it by referring to the class name, not through an instance.</font>"
   ]
  },
  {
   "cell_type": "code",
   "execution_count": 5,
   "metadata": {},
   "outputs": [
    {
     "name": "stdout",
     "output_type": "stream",
     "text": [
      "MAX_SPEED of p1 and p2 before assignment:\n",
      "3\n",
      "3\n",
      "MAX_SPEED of p1 and p2 after assignment:\n",
      "7\n",
      "3\n",
      "MAX_SPEED of Player:\n",
      "3\n"
     ]
    }
   ],
   "source": [
    "class Player:\n",
    "    MAX_POSITION = 10\n",
    "    MAX_SPEED = 3\n",
    "    \n",
    "    def __init__(self):\n",
    "        self.position = 0\n",
    "\n",
    "    # Add a move() method with steps parameter\n",
    "    def move(self, steps):\n",
    "        if self.position + steps < Player.MAX_POSITION:\n",
    "            self.position += steps\n",
    "        else:\n",
    "            self.position = Player.MAX_POSITION\n",
    "       \n",
    "    # This method provides a rudimentary visualization in the console    \n",
    "    def draw(self):\n",
    "        drawing = \"-\" * self.position + \"|\" +\"-\"*(Player.MAX_POSITION - self.position)\n",
    "        print(drawing)\n",
    "\n",
    "# Create Players p1 and p2\n",
    "p1, p2 = Player(), Player()\n",
    "\n",
    "print(\"MAX_SPEED of p1 and p2 before assignment:\")\n",
    "# Print p1.MAX_SPEED and p2.MAX_SPEED\n",
    "print(p1.MAX_SPEED)\n",
    "print(p2.MAX_SPEED)\n",
    "\n",
    "# Assign 7 to p1.MAX_SPEED\n",
    "p1.MAX_SPEED = 7\n",
    "\n",
    "print(\"MAX_SPEED of p1 and p2 after assignment:\")\n",
    "# Print p1.MAX_SPEED and p2.MAX_SPEED\n",
    "print(p1.MAX_SPEED)\n",
    "print(p2.MAX_SPEED)\n",
    "\n",
    "print(\"MAX_SPEED of Player:\")\n",
    "# Print Player.MAX_SPEED\n",
    "print(Player.MAX_SPEED)"
   ]
  },
  {
   "cell_type": "code",
   "execution_count": 6,
   "metadata": {},
   "outputs": [
    {
     "name": "stdout",
     "output_type": "stream",
     "text": [
      "MAX_SPEED of p1 and p2 before assignment:\n",
      "3\n",
      "3\n",
      "MAX_SPEED of p1, p2 and p3 after assignment:\n",
      "7\n",
      "7\n",
      "7\n",
      "MAX_SPEED of Player:\n",
      "7\n"
     ]
    }
   ],
   "source": [
    "# Create Players p1 and p2\n",
    "p1, p2 = Player(), Player()\n",
    "\n",
    "print(\"MAX_SPEED of p1 and p2 before assignment:\")\n",
    "# Print p1.MAX_SPEED and p2.MAX_SPEED\n",
    "print(p1.MAX_SPEED)\n",
    "print(p2.MAX_SPEED)\n",
    "\n",
    "# ---MODIFY THIS LINE--- \n",
    "Player.MAX_SPEED = 7\n",
    "\n",
    "# Create a new player p3\n",
    "p3 = Player()\n",
    "\n",
    "print(\"MAX_SPEED of p1, p2 and p3 after assignment:\")\n",
    "# Print p1.MAX_SPEED and p2.MAX_SPEED\n",
    "print(p1.MAX_SPEED)\n",
    "print(p2.MAX_SPEED)\n",
    "print(p3.MAX_SPEED)\n",
    "\n",
    "print(\"MAX_SPEED of Player:\")\n",
    "# Print Player.MAX_SPEED\n",
    "print(Player.MAX_SPEED)"
   ]
  },
  {
   "cell_type": "markdown",
   "metadata": {},
   "source": [
    "# <font color=darkred>2.4 Alternative constructors</font> \n",
    "\n",
    "Python allows you to define class methods as well, using the @classmethod decorator and a special first argument cls. The main use of class methods is defining methods that return an instance of the class, but aren't using the same code as __init__().\n",
    "\n",
    "For example, you are developing a time series package and want to define your own class for working with dates, BetterDate. The attributes of the class will be year, month, and day. You want to have a constructor that creates BetterDate objects given the values for year, month, and day, but you also want to be able to create BetterDate objects from strings like 2020-04-30.\n",
    "\n",
    "You might find the following functions useful:\n",
    "\n",
    "- .split(\"-\") method will split a string at\"-\" into an array, e.g. \"2020-04-30\".split(\"-\") returns [\"2020\", \"04\", \"30\"],\n",
    "- int() will convert a string into a number, e.g. int(\"2019\") is 2019 .\n",
    "\n",
    "**Instructions**\n",
    "- Add a class method from_str() that:\n",
    "    - accepts a string datestr of the format'YYYY-MM-DD',\n",
    "    - splits datestr and converts each part into an integer,\n",
    "    - returns an instance of the class with the attributes set to the values extracted from datestr.\n",
    "\n",
    "\n",
    "- For compatibility, you also want to be able to convert a datetime object into a BetterDate object.\n",
    "    - Add a class method from_datetime() that accepts a datetime object as the argument, and uses its attributes .year, .month and .day to create a BetterDate object with the same attribute values.\n",
    "\n",
    "**Results**\n",
    "\n",
    "<font color=darkgreen>Great work on those class methods! There's another type of methods that are not bound to a class instance - static methods, defined with the decorator @staticmethod. They are mainly used for helper or utility functions that could as well live outside of the class, but make more sense when bundled into the class. Static methods are beyond the scope of this class, but you can read about them <a href='https://docs.python.org/3/library/functions.html#staticmethod'>here</a>.</font>"
   ]
  },
  {
   "cell_type": "code",
   "execution_count": 7,
   "metadata": {},
   "outputs": [
    {
     "name": "stdout",
     "output_type": "stream",
     "text": [
      "2020\n",
      "4\n",
      "30\n"
     ]
    }
   ],
   "source": [
    "class BetterDate:    \n",
    "    # Constructor\n",
    "    def __init__(self, year, month, day):\n",
    "      # Recall that Python allows multiple variable assignments in one line\n",
    "      self.year, self.month, self.day = year, month, day\n",
    "    \n",
    "    # Define a class method from_str\n",
    "    @classmethod\n",
    "    def from_str(cls, datestr):\n",
    "        # Split the string at \"-\" and convert each part to integer\n",
    "        parts = datestr.split(\"-\")\n",
    "        year, month, day = int(parts[0]), int(parts[1]), int(parts[2])\n",
    "        # Return the class instance\n",
    "        return cls(year, month, day)\n",
    "        \n",
    "bd = BetterDate.from_str('2020-04-30')   \n",
    "print(bd.year)\n",
    "print(bd.month)\n",
    "print(bd.day)"
   ]
  },
  {
   "cell_type": "code",
   "execution_count": 8,
   "metadata": {},
   "outputs": [
    {
     "name": "stdout",
     "output_type": "stream",
     "text": [
      "2021\n",
      "7\n",
      "13\n"
     ]
    }
   ],
   "source": [
    "# import datetime from datetime\n",
    "from datetime import datetime\n",
    "\n",
    "class BetterDate:\n",
    "    def __init__(self, year, month, day):\n",
    "      self.year, self.month, self.day = year, month, day\n",
    "      \n",
    "    @classmethod\n",
    "    def from_str(cls, datestr):\n",
    "        year, month, day = map(int, datestr.split(\"-\"))\n",
    "        return cls(year, month, day)\n",
    "      \n",
    "    # Define a class method from_datetime accepting a datetime object\n",
    "    @classmethod\n",
    "    def from_datetime(cls, mydate):\n",
    "        return cls(mydate.year, mydate.month, mydate.day)\n",
    "\n",
    "# You should be able to run the code below with no errors: \n",
    "today = datetime.today()     \n",
    "bd = BetterDate.from_datetime(today)   \n",
    "print(bd.year)\n",
    "print(bd.month)\n",
    "print(bd.day)"
   ]
  },
  {
   "cell_type": "markdown",
   "metadata": {},
   "source": [
    "# <font color=darkred>2.5 Class inheritance</font>\n",
    "\n",
    "1. Class inheritance\n",
    ">Welcome back! Now that you got the basics of classes and instances down, we'll get to the essence of OOP.\n",
    "\n",
    "2. Code reuse\n",
    ">Object-oriented programming is fundamentally about code reuse. There are millions of people out there writing code, so there's a good chance\n",
    "\n",
    "3. Code reuse\n",
    ">that someone has already written code that solves a part of your problem! Modules like numpy or pandas are a great tool that allows you to use code written by other programmers. But what if that code doesn't match your needs exactly? For example, you might want to modify the to_csv method of a pandas DataFrame to adjust the output format. You could do that by importing pandas and writing a new function, but it will not be integrated into the DataFrame interface. OOP will allow you to keep interface consistent while customizing functionality.\n",
    "\n",
    "4. Code reuse\n",
    ">You will also often find yourself reusing your own code over and over. For example, when building a website with a lot of graphical elements like buttons and check boxes, no matter what the element is, the basic functionality is the same: you need to be able to draw it and click on it. There are a few details that differ based on the type of the element, but a lot of the code will be the repeated. Should you copy-paste the basic code for draw and click for every new element?\n",
    "\n",
    "5. Code reuse\n",
    ">Wouldn't it be better to have a general data structure like GUIelement that implements the basic draw and click functionality only once?\n",
    "\n",
    "6. Inheritance\n",
    ">We can accomplish this with inheritance. Class inheritance is mechanism by which we can define a new class that gets all the the functionality of another class plus maybe something extra without re-implementing the code.\n",
    "\n",
    "7. Example hierarchy\n",
    ">Let's say you have a basic bank account class that has a balance attribute and a withdraw method. In your company, you work with several types of accounts.\n",
    "\n",
    "8. Example hierarchy\n",
    ">For example, a SavingsAccount also has an interest rate and a method to compute interest, but it will also still have a balance, and you definitely should be able to withdraw from it. By inheriting methods and attributes of SavingsAccount from BankAccount, you'll be able to reuse the code you already wrote for the BankAccount class.\n",
    "\n",
    "9. Example hierarchy\n",
    ">You could have a CheckingAccount class, that also has a balance, and a withdraw method, but maybe that method is slightly different:\n",
    "\n",
    "10. Example hierarchy\n",
    ">it modifies the amount to be withdrawn to include a fee. With inheritance, we'll be able to customize the withdraw method to first adjust the amount if necessary, and then use the method from the BankAccount class -- again, without rewriting it.\n",
    "\n",
    "11. Implementing class inheritance\n",
    ">How do we implement this? Declaring a class that inherits from another class is very straightforward: you simply add parentheses after the class name, and then specify the class to inherit from. Here, we define a rudimentary BankAccount class and a seemingly empty SavingsAccount class inherited from it.\n",
    "\n",
    "12. Child class has all of the the parent data\n",
    ">\"Seemingly\" because SavingsAccount actually has exactly as much in it as the BankAccount class. For example, we can create an object -- even though we did not define a constructor -- and we can access the balance attribute and the withdraw method from the instance of SavingsAccount, even though these features weren't defined in the new class.\n",
    "\n",
    "13. Inheritance: \"is-a\" relationship\n",
    ">That's because inheritance represents \"is-a\" relationship: a savings account is a bank account, just with some extra features. This isn't just theoretical -- that's how Python treats it as well. Calling isinstance function on a savingsaccount object shows that Python treats it like an instance of both savingsaccount and BankAccount classes, which is not the case for a generic BankAccount object. Right now, though, this class doesn't have anything that the original account class did not have.\n",
    "\n",
    "14. Let's practice!\n",
    ">We'll start adding features and customizing the class the next video, but for now, head over to the exercises to test your understanding of inheritance."
   ]
  },
  {
   "cell_type": "code",
   "execution_count": 9,
   "metadata": {},
   "outputs": [
    {
     "name": "stdout",
     "output_type": "stream",
     "text": [
      "1000\n"
     ]
    },
    {
     "data": {
      "text/plain": [
       "True"
      ]
     },
     "metadata": {},
     "output_type": "display_data"
    },
    {
     "data": {
      "text/plain": [
       "True"
      ]
     },
     "metadata": {},
     "output_type": "display_data"
    },
    {
     "data": {
      "text/plain": [
       "False"
      ]
     },
     "metadata": {},
     "output_type": "display_data"
    },
    {
     "data": {
      "text/plain": [
       "True"
      ]
     },
     "metadata": {},
     "output_type": "display_data"
    }
   ],
   "source": [
    "# Implementing class inheritance\n",
    "class BankAccount:\n",
    "    def __init__(self, balance):\n",
    "        self.balance = balance\n",
    "    def withdraw(self, amount):\n",
    "        self.balance -= amount\n",
    "\n",
    "# Empty class inherited from BankAccount\n",
    "class SavingsAccount(BankAccount):\n",
    "    pass\n",
    "\n",
    "# Constructor inherited from BankAccount\n",
    "savings_acct = SavingsAccount(1000)\n",
    "print(savings_acct.balance)\n",
    "\n",
    "# Method inherited from BankAccount\n",
    "savings_acct.withdraw(300)\n",
    "\n",
    "# Inheritance: \"is-a\" relationship\n",
    "display(isinstance(savings_acct, SavingsAccount), isinstance(savings_acct, BankAccount))\n",
    "\n",
    "acct = BankAccount(500)\n",
    "display(isinstance(acct, SavingsAccount), isinstance(acct, BankAccount))\n"
   ]
  },
  {
   "attachments": {},
   "cell_type": "markdown",
   "metadata": {},
   "source": [
    "# <font color=darkred>2.6 Understanding inheritance</font> \n",
    "\n",
    "Inheritance is a powerful tool of object-oriented languages that allows you to customize functionality of existing classes without having to re-implement methods from scratch.\n",
    "\n",
    "In this exercise you'll check your understanding of the basics of inheritance. In the questions, we'll make use of the following two classes:\n",
    "\n",
    "<code>\n",
    "class Counter:\n",
    "    def __init__(self, count):\n",
    "       self.count = count\n",
    "\n",
    "    def add_counts(self, n):\n",
    "       self.count += n\n",
    "\n",
    "class Indexer(Counter):\n",
    "   pass\n",
    "</code>\n",
    "\n",
    "**Instructions**\n",
    "- Classify the cards into the correct buckets. Are the statements true or false?\n",
    "\n",
    "<img src='images/2.6 Understanding inheritance.png' width=80% />\n",
    "\n",
    "**Results**\n",
    "\n",
    "<font color=darkgreen>Great job, you're a pro! The fact that the instances of a child class are also instances of the parent class allows you to create consistent interfaces that Alex mentioned in the video. Any place that a Counter could go -- for example, as an argument to a function, you will be able to use Indexer instead because it has the same methods and attributes as Counter.</font>"
   ]
  },
  {
   "cell_type": "markdown",
   "metadata": {},
   "source": [
    "# <font color=darkred>2.7 Create a subclass</font> \n",
    "\n",
    "The purpose of child classes -- or sub-classes, as they are usually called - is to customize and extend functionality of the parent class.\n",
    "\n",
    "Recall the Employee class from earlier in the course. In most organizations, managers enjoy more privileges and more responsibilities than a regular employee. So it would make sense to introduce a Manager class that has more functionality than Employee.\n",
    "\n",
    "But a Manager is still an employee, so the Manager class should be inherited from the Employee class.\n",
    "\n",
    "**Instructions**\n",
    "- Add an empty Manager class that is inherited from Employee.\n",
    "- Create an object mng of the Manager class with the name Debbie Lashko and salary 86500.\n",
    "- Print the name of mng.\n",
    "\n",
    "\n",
    "- Remove the pass statement and add a display() method to the Manager class that just prints the string \"Manager\" followed by the full name, e.g. \"Manager Katie Flatcher\"\n",
    "- Call the .display()method from the mnginstance.\n",
    "\n",
    "**Results**\n",
    "\n",
    "<font color=darkgreen>Excellent! You already started customizing! The Manager class now includes functionality that wasn't present in the original class (the display() function) in addition to all the functionality of the Employee class. Notice that there wasn't anything special about adding this new method.</font>"
   ]
  },
  {
   "cell_type": "code",
   "execution_count": 10,
   "metadata": {},
   "outputs": [],
   "source": [
    "# Import datetime from datetime\n",
    "from datetime import datetime\n",
    "\n",
    "class Employee:\n",
    "    \"\"\"Create Employee objects.\"\"\"\n",
    "    MIN_SALARY = 30000\n",
    "    \n",
    "    def __init__(self, name, salary=0):\n",
    "        self.name = name\n",
    "        if salary >= Employee.MIN_SALARY:\n",
    "          self.salary = salary\n",
    "        else:\n",
    "          self.salary = Employee.MIN_SALARY\n",
    "          \n",
    "        # Add the hire_date attribute and set it to today's date\n",
    "        self.hire_date = datetime.today()\n",
    "        \n",
    "    def give_raise(self, amount):\n",
    "        self.salary += amount\n",
    "\n",
    "    def monthly_salary(self):\n",
    "        return self.salary/12\n",
    "    \n",
    "    @classmethod\n",
    "    def from_file(cls, filename):\n",
    "        with open(filename, \"r\") as f:\n",
    "            name = f.readline()\n",
    "        return cls(name)"
   ]
  },
  {
   "cell_type": "code",
   "execution_count": 11,
   "metadata": {},
   "outputs": [
    {
     "name": "stdout",
     "output_type": "stream",
     "text": [
      "Debbie Lashko\n"
     ]
    }
   ],
   "source": [
    "# Define a new class Manager inheriting from Employee\n",
    "class Manager(Employee):\n",
    "  pass\n",
    "\n",
    "# Define a Manager object\n",
    "mng = Manager('Debbie Lashko', 86500)\n",
    "\n",
    "# Print mng's name\n",
    "print(mng.name)"
   ]
  },
  {
   "cell_type": "code",
   "execution_count": 12,
   "metadata": {},
   "outputs": [
    {
     "name": "stdout",
     "output_type": "stream",
     "text": [
      "Debbie Lashko\n",
      "Manager Debbie Lashko\n"
     ]
    }
   ],
   "source": [
    "# MODIFY Manager class and add a display method\n",
    "class Manager(Employee):\n",
    "  def display(self):\n",
    "    print('Manager {}'.format(self.name))\n",
    "\n",
    "mng = Manager(\"Debbie Lashko\", 86500)\n",
    "print(mng.name)\n",
    "\n",
    "# Call mng.display()\n",
    "mng.display()"
   ]
  },
  {
   "cell_type": "markdown",
   "metadata": {},
   "source": [
    "# <font color=darkred>2.8 Customizing functionality via inheritance</font>\n",
    "\n",
    "1. Customizing functionality via inheritance\n",
    ">Great job so far! In the previous video, you learned that inheritance allows us to encode is-a relationships between classes.\n",
    "\n",
    "2. Hierarchy\n",
    ">For example, a SavingsAccount is a special kind of BankAccount that has all the bankaccount functionality, but also contains additional properties like an interest rate and a method to compute interest.\n",
    "\n",
    "3. What we have so far\n",
    ">Here's where we stopped in the last video. We could already create SavingsAccount objects, but they did not have any functionality that bank account did not have. Let's start customization by\n",
    "\n",
    "4. Customizing constructors\n",
    ">adding a constructor specifically for SavingsAccount. It will take a balance parameter, just like BankAccount, and an additional interest_rate parameter. In that constructor, we first run the code for creating a generic bankaccount by explicitly calling the init method of the bankAccount class. Notice that we use BankAccount-dot-init to tell Python to call the constructor from the parent class, and we also pass self to that constructor. Self in this case is a SavingsAccount -- that's the class we're in -- but remember that in Python, instances of a subclass are also instances of the parent class. so it is a BankAccount as well, and we can pass it to the init method of BankAccount. Then we can add more functionality, in this case just initializing an attribute. You actually aren't required to call the parent constructor in the subclass, or to call it first -- you can use new code entirely -- but you'll likely to almost always use the parent constructor.\n",
    "\n",
    "5. Create objects with a customized constructor\n",
    ">Now when we create an instance of the SavingsAccount class, the new constructor will be called, and in particular, the interest_rate attribute will be initialized.\n",
    "\n",
    "6. Adding functionality\n",
    ">In the exercises, you saw you can add methods to a subclass just like to any other class. In those methods you can use data from both the child and the parent class. For example here, we add a compute_interest method that returns the amount of interest in the account.. Don't worry about the exact formula, just notice that we multiply the balance attribute - which was inherited from the BankAccount parent - by an expression involving the interest_rate attribute that exists only in the child SavingsAccount class.\n",
    "\n",
    "7. Customizing functionality\n",
    ">Now let's talk about customizing functionality. SavingsAccount inherits the withdraw method from the parent BankAccount class. Calling withdraw on a savings instance will execute exactly the same code as calling it on a generic bank account instance. We want to create a CheckingAccount class, which should have a slightly modified version of the withdraw method: it will have a parameter and adjust the withdrawal amount.\n",
    "\n",
    "8. Customizing functionality\n",
    ">Here's an outline of what that could look like. Start by inheriting from the parent class, add a customized constructor that also executes the parent code, a new deposit method, and a withdraw method, but we add a new argument to withdraw - fee, that specifies the additional withdrawal fee. We compare the fee to some fee limit, and then call the parent withdraw method, passing a new amount to it -- with fees subtracted. So this method runs almost the same code as the BankAccount's withdraw method without re-implementing it - just augmenting. Notice that we can change the signature of the method in the subclass by adding a parameter, and we again, just like in the constructor, call the parent version of the method directly by using parent-class-dot syntax and passing self.\n",
    "\n",
    "9. Comparison\n",
    ">Now when you call withdraw from an object that is a CheckingAccount instance, the new customized version will be used, but when you call it from regular BankAccount, the basic version will be used. The interface of the call is the same, and the actual method that is called is determined by the instance class. This is an application of polymorphism, and we'll learn more about it later in the course. Another difference is that for a CheckingAccount instance, we could call the method with 2 parameters. But trying this call for a generic BankAccount instance would cause an error, because the method defined in the BankAccount class was not affected by the changes in the subclass.\n",
    "\n",
    "10. Let's practice!\n",
    ">Now, let's go customize some methods!"
   ]
  },
  {
   "cell_type": "code",
   "execution_count": 13,
   "metadata": {},
   "outputs": [
    {
     "name": "stdout",
     "output_type": "stream",
     "text": [
      "1000 0.03\n",
      "615\n"
     ]
    }
   ],
   "source": [
    "#  What we have so far\n",
    "class BankAccount:\n",
    "    def __init__(self, balance):\n",
    "        self.balance = balance\n",
    "    def withdraw(self, amount):\n",
    "        self.balance -=amount\n",
    "\n",
    "class SavingsAccount(BankAccount):\n",
    "    # Constructor speficially for SavingsAccount with an additional parameter\n",
    "    def __init__(self, balance, interest_rate):\n",
    "        # Call the parent constructor using ClassName.__init__()\n",
    "        BankAccount.__init__(self, balance) # <--- self is a SavingsAccount but also a BankAccount\n",
    "        # Add more functionality\n",
    "        self.interest_rate = interest_rate\n",
    "    # New functionality\n",
    "    def compute_interest(self, n_periods = 1):\n",
    "        return self.balance * ( (1 + self.interest_rate) ** n_periods - 1)\n",
    "\n",
    "# Construct the object using the new constructor\n",
    "acct = SavingsAccount(1000, 0.03)\n",
    "print(acct.balance, acct.interest_rate)\n",
    "\n",
    "\n",
    "class CheckingAccount(BankAccount):\n",
    "    def __init__(self, balance, limit):\n",
    "        BankAccount.__init__(self, balance)\n",
    "        self.limit = limit\n",
    "    def deposit(self, amount):\n",
    "        self.balance += amount\n",
    "    def withdraw(self, amount, fee=0):\n",
    "        if fee <= self.limit:\n",
    "            BankAccount.withdraw(self, amount - fee)\n",
    "        else:\n",
    "            BankAccount.withdraw(self, amount - self.limit)\n",
    "\n",
    "check_acct = CheckingAccount(1000, 25)\n",
    "# Will call withdraw from CheckingAccount\n",
    "check_acct.withdraw(200)\n",
    "# Will call withdraw from CheckingAccount\n",
    "check_acct.withdraw(200, fee=15)\n",
    "print(check_acct.balance)"
   ]
  },
  {
   "cell_type": "code",
   "execution_count": 14,
   "metadata": {},
   "outputs": [
    {
     "name": "stdout",
     "output_type": "stream",
     "text": [
      "800\n"
     ]
    }
   ],
   "source": [
    "bank_acct = BankAccount(1000)\n",
    "\n",
    "# Will call withdraw from BankAccount\n",
    "bank_acct.withdraw(200)\n",
    "print(bank_acct.balance)"
   ]
  },
  {
   "cell_type": "code",
   "execution_count": 15,
   "metadata": {},
   "outputs": [
    {
     "name": "stdout",
     "output_type": "stream",
     "text": [
      "\u001b[1;31m---------------------------------------------------------------------------\u001b[0m\n",
      "\u001b[1;31mTypeError\u001b[0m                                 Traceback (most recent call last)\n",
      "\u001b[1;32m<ipython-input-15-8cfeb4cf29e6>\u001b[0m in \u001b[0;36m<module>\u001b[1;34m\u001b[0m\n",
      "\u001b[0;32m      1\u001b[0m \u001b[1;31m# Will produce an error\u001b[0m\u001b[1;33m\u001b[0m\u001b[1;33m\u001b[0m\u001b[1;33m\u001b[0m\u001b[0m\n",
      "\u001b[1;32m----> 2\u001b[1;33m \u001b[0mbank_acct\u001b[0m\u001b[1;33m.\u001b[0m\u001b[0mwithdraw\u001b[0m\u001b[1;33m(\u001b[0m\u001b[1;36m200\u001b[0m\u001b[1;33m,\u001b[0m \u001b[0mfee\u001b[0m\u001b[1;33m=\u001b[0m\u001b[1;36m15\u001b[0m\u001b[1;33m)\u001b[0m\u001b[1;33m\u001b[0m\u001b[1;33m\u001b[0m\u001b[0m\n",
      "\u001b[0m\n",
      "\u001b[1;31mTypeError\u001b[0m: withdraw() got an unexpected keyword argument 'fee'\n"
     ]
    }
   ],
   "source": [
    "%%expect_exception TypeError\n",
    "\n",
    "# Will produce an error\n",
    "bank_acct.withdraw(200, fee=15)"
   ]
  },
  {
   "cell_type": "markdown",
   "metadata": {},
   "source": [
    "# <font color=darkred>2.9 Method inheritance</font> \n",
    "\n",
    "Inheritance is powerful because it allows us to reuse and customize code without rewriting existing code. By calling methods of the parent class within the child class, we reuse all the code in those methods, making our code concise and manageable.\n",
    "\n",
    "In this exercise, you'll continue working with the Manager class that is inherited from the Employee class. You'll add new data to the class, and customize the give_raise() method from Chapter 1 to increase the manager's raise amount by a bonus percentage whenever they are given a raise.\n",
    "\n",
    "A simplified version of the Employee class, as well as the beginning of the Manager class from the previous lesson is provided for you in the script pane.\n",
    "\n",
    "**Instructions**\n",
    "- Add a constructor to Manager that:\n",
    "    - accepts name, salary (default 50000), and project (default None)\n",
    "    - calls the constructor of the Employee class with the name and salary parameters,\n",
    "    - creates a project attribute and sets it to the project parameter.\n",
    "\n",
    "\n",
    "- Add a give_raise() method to Manager that:\n",
    "    - accepts the same parameters as Employee.give_raise(), plus a bonus parameter with the default value of 1.05 (bonus of 5%),\n",
    "    - multiplies amount by bonus,\n",
    "    - uses the Employee's method to raise salary by that product.\n",
    "\n",
    "**Results**\n",
    "\n",
    "<font color=darkgreen>Good work! In the new class, the use of the default values ensured that the signature of the customized method was compatible with its signature in the parent class. But what if we defined Manager's'give_raise() to have 2 non-optional parameters? What would be the result of mngr.give_raise(1000)? Experiment in console and see if you can understand what's happening. Adding print statements to both give_raise() could help!</font>"
   ]
  },
  {
   "cell_type": "code",
   "execution_count": 16,
   "metadata": {},
   "outputs": [
    {
     "name": "stdout",
     "output_type": "stream",
     "text": [
      "79550.0\n",
      "81610.0\n"
     ]
    }
   ],
   "source": [
    "class Employee:\n",
    "    \"\"\"Create Employee objects.\"\"\"\n",
    "    MIN_SALARY = 30000\n",
    "    \n",
    "    def __init__(self, name, salary=0):\n",
    "        self.name = name\n",
    "        if salary >= Employee.MIN_SALARY:\n",
    "          self.salary = salary\n",
    "        else:\n",
    "          self.salary = Employee.MIN_SALARY\n",
    "          \n",
    "        # Add the hire_date attribute and set it to today's date\n",
    "        self.hire_date = datetime.today()\n",
    "        \n",
    "    def give_raise(self, amount):\n",
    "        self.salary += amount\n",
    "\n",
    "    def monthly_salary(self):\n",
    "        return self.salary/12\n",
    "    \n",
    "    @classmethod\n",
    "    def from_file(cls, filename):\n",
    "        with open(filename, \"r\") as f:\n",
    "            name = f.readline()\n",
    "        return cls(name)\n",
    "    \n",
    "class Manager(Employee):\n",
    "    def __init__(self, name, salary=50000, project=None):\n",
    "        # Call the parent's constructor   \n",
    "        Employee.__init__(self, name, salary)\n",
    "        # Assign project attribute\n",
    "        self.project = project \n",
    "        \n",
    "    def display(self):\n",
    "        print('Manager {}'.format(self.name))# Add a give_raise method\n",
    "    \n",
    "    def give_raise(self, amount, bonus=1.05):\n",
    "        Employee.give_raise(self, amount*bonus)\n",
    "    \n",
    "mngr = Manager(\"Ashta Dunbar\", 78500)\n",
    "mngr.give_raise(1000)\n",
    "print(mngr.salary)\n",
    "mngr.give_raise(2000, bonus=1.03)\n",
    "print(mngr.salary)"
   ]
  },
  {
   "cell_type": "markdown",
   "metadata": {},
   "source": [
    "# <font color=darkred>2.10 Inheritance of class attributes</font>\n",
    "\n",
    "In the beginning of this chapter, you learned about class attributes and methods that are shared among all the instances of a class. How do they work with inheritance?\n",
    "\n",
    "In this exercise, you'll create subclasses of the Player class from the first lesson of the chapter, and explore the inheritance of class attributes and methods.\n",
    "\n",
    "The Player class has been defined for you. Recall that the Player class had two class-level attributes: MAX_POSITION and MAX_SPEED, with default values 10 and 3.\n",
    "\n",
    "**Instructions**\n",
    "- Create a class Racer inherited from Player,\n",
    "- Assign 5 to MAX_SPEED in the body of the class.\n",
    "- Create a Player object p and a Racer object r (no arguments needed for the constructor).\n",
    "- Examine the printouts carefully. Next step is a quiz!\n",
    "\n",
    "\n",
    "- Which of the following statements about inheritance of class attributes is correct?\n",
    "    - Class attributes CANNOT be inherited, but new class attributes of the same name CAN be created in a child class.\n",
    "    - Class attributes CANNOT be inherited, and new class attributes of the same name CANNOT be created in a child class.\n",
    "    - <font color=red>Class attributes CAN be inherited, and the value of class attributes CAN be overwritten in the child class.</font>\n",
    "    - Class attributes can be inherited, and the value of class attributes CANNOT be overwritten in the child class.\n",
    "\n",
    "**Results**\n",
    "\n",
    "<font color=darkgreen>Correct! But notice that the value of MAX_SPEED in Player was not affected by the changes to the attribute of the same name in Racer.</font>"
   ]
  },
  {
   "cell_type": "code",
   "execution_count": 17,
   "metadata": {},
   "outputs": [
    {
     "name": "stdout",
     "output_type": "stream",
     "text": [
      "p.MAX_SPEED =  3\n",
      "r.MAX_SPEED =  5\n",
      "p.MAX_POSITION =  10\n",
      "r.MAX_POSITION =  10\n"
     ]
    }
   ],
   "source": [
    "class Player:\n",
    "    MAX_POSITION = 10\n",
    "    MAX_SPEED = 3\n",
    "    \n",
    "    def __init__(self):\n",
    "        self.position = 0\n",
    "\n",
    "    # Add a move() method with steps parameter\n",
    "    def move(self, steps):\n",
    "        if self.position + steps < Player.MAX_POSITION:\n",
    "            self.position += steps\n",
    "        else:\n",
    "            self.position = Player.MAX_POSITION\n",
    "       \n",
    "    # This method provides a rudimentary visualization in the console    \n",
    "    def draw(self):\n",
    "        drawing = \"-\" * self.position + \"|\" +\"-\"*(Player.MAX_POSITION - self.position)\n",
    "        print(drawing)\n",
    "\n",
    "# Create a Racer class and set MAX_SPEED to 5\n",
    "class Racer(Player):\n",
    "    MAX_SPEED = 5\n",
    "    pass\n",
    "\n",
    "\n",
    "# Create a Player and a Racer objects\n",
    "p = Player()\n",
    "r = Racer()\n",
    "\n",
    "print(\"p.MAX_SPEED = \", p.MAX_SPEED)\n",
    "print(\"r.MAX_SPEED = \", r.MAX_SPEED)\n",
    "\n",
    "print(\"p.MAX_POSITION = \", p.MAX_POSITION)\n",
    "print(\"r.MAX_POSITION = \", r.MAX_POSITION)"
   ]
  },
  {
   "cell_type": "markdown",
   "metadata": {},
   "source": [
    "# <font color=darkred>2.11 Customizing a DataFrame</font>\n",
    "\n",
    "**Instructions**\n",
    "\n",
    "In your company, any data has to come with a timestamp recording when the dataset was created, to make sure that outdated information is not being used. You would like to use pandas DataFrames for processing data, but you would need to customize the class to allow for the use of timestamps.\n",
    "\n",
    "In this exercise, you will implement a small LoggedDF class that inherits from a regular pandas DataFrame but has a created_at attribute storing the timestamp. You will then augment the standard to_csv() method to always include a column storing the creation date.\n",
    "\n",
    "Tip: all DataFrame methods have many parameters, and it is not sustainable to copy all of them for each method you're customizing. The trick is to use variable-length arguments *args and **kwargsto catch all of them.\n",
    "\n",
    "**Results**\n",
    "- Import pandas as pd.\n",
    "- Define LoggedDF class inherited from pd.DataFrame.\n",
    "- Define a constructor with arguments *args and **kwargs that:\n",
    "    - calls the pd.DataFrame constructor with the same arguments,\n",
    "    - assigns datetime.today() to self.created_at.\n",
    "\n",
    "- Add a to_csv() method to LoggedDF that:\n",
    "- copies self to a temporary DataFrame using .copy(),\n",
    "- creates a new column created_at in the temporary DataFrame and fills it with self.created_at\n",
    "- calls pd.DataFrame.to_csv() on the temporary variable.\n",
    "\n",
    "<font color=darkgreen>Incredible work! Using *args and **kwargs allows you to not worry about keeping the signature of your customized method compatible. Notice how in the very last line, you called the parent method and passed an object to it that isn't self. When you call parent methods in the class, they should accept some object as the first argument, and that object is usually self, but it doesn't have to be!</font>"
   ]
  },
  {
   "cell_type": "code",
   "execution_count": 18,
   "metadata": {},
   "outputs": [
    {
     "name": "stdout",
     "output_type": "stream",
     "text": [
      "[[1 3]\n",
      " [2 4]]\n",
      "2021-07-13 21:14:06.163838\n"
     ]
    },
    {
     "data": {
      "text/html": [
       "<div>\n",
       "<style scoped>\n",
       "    .dataframe tbody tr th:only-of-type {\n",
       "        vertical-align: middle;\n",
       "    }\n",
       "\n",
       "    .dataframe tbody tr th {\n",
       "        vertical-align: top;\n",
       "    }\n",
       "\n",
       "    .dataframe thead th {\n",
       "        text-align: right;\n",
       "    }\n",
       "</style>\n",
       "<table border=\"1\" class=\"dataframe\">\n",
       "  <thead>\n",
       "    <tr style=\"text-align: right;\">\n",
       "      <th></th>\n",
       "      <th>col1</th>\n",
       "      <th>col2</th>\n",
       "    </tr>\n",
       "  </thead>\n",
       "  <tbody>\n",
       "    <tr>\n",
       "      <th>0</th>\n",
       "      <td>1</td>\n",
       "      <td>3</td>\n",
       "    </tr>\n",
       "    <tr>\n",
       "      <th>1</th>\n",
       "      <td>2</td>\n",
       "      <td>4</td>\n",
       "    </tr>\n",
       "  </tbody>\n",
       "</table>\n",
       "</div>"
      ],
      "text/plain": [
       "   col1  col2\n",
       "0     1     3\n",
       "1     2     4"
      ]
     },
     "execution_count": 18,
     "metadata": {},
     "output_type": "execute_result"
    }
   ],
   "source": [
    "# Import pandas as pd\n",
    "import pandas as pd\n",
    "from datetime import datetime\n",
    "\n",
    "# Define LoggedDF inherited from pd.DataFrame and add the constructor\n",
    "class LoggedDF(pd.DataFrame):\n",
    "    def __init__(self, *args, **kwargs):\n",
    "        pd.DataFrame.__init__(self, *args, **kwargs)\n",
    "        self.created_at = datetime.today()\n",
    "    \n",
    "    def to_csv(self, *args, **kwargs):\n",
    "        # Copy self to a temporary DataFrame\n",
    "        temp = self.copy()\n",
    "        \n",
    "        # Create a new column filled with self.created_at\n",
    "        temp[\"created_at\"] = self.created_at\n",
    "        \n",
    "        # Call pd.DataFrame.to_csv on temp, passing in *args and **kwargs\n",
    "        pd.DataFrame.to_csv(temp, *args, **kwargs)\n",
    "\n",
    "ldf = LoggedDF({\"col1\": [1,2], \"col2\": [3,4]})\n",
    "print(ldf.values)\n",
    "print(ldf.created_at)\n",
    "ldf"
   ]
  },
  {
   "cell_type": "markdown",
   "metadata": {},
   "source": [
    "# Aditional material\n",
    "\n",
    "- Datacamp course: https://learn.datacamp.com/courses/object-oriented-programming-in-python\n",
    "- @staticmethod: https://docs.python.org/3/library/functions.html#staticmethod"
   ]
  }
 ],
 "metadata": {
  "kernelspec": {
   "display_name": "Python 3",
   "language": "python",
   "name": "python3"
  },
  "language_info": {
   "codemirror_mode": {
    "name": "ipython",
    "version": 3
   },
   "file_extension": ".py",
   "mimetype": "text/x-python",
   "name": "python",
   "nbconvert_exporter": "python",
   "pygments_lexer": "ipython3",
   "version": "3.8.8"
  }
 },
 "nbformat": 4,
 "nbformat_minor": 4
}
