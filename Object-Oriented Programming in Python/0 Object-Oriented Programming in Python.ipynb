{
 "cells": [
  {
   "cell_type": "markdown",
   "metadata": {},
   "source": [
    "# Object-Oriented Programming in Python\n",
    "\n",
    "Object-oriented programming (OOP) is a widely used programming paradigm that reduces development times—making it easier to read, reuse, and maintain your code. OOP shifts the focus from thinking about code as a sequence of actions to looking at your program as a collection of objects that interact with each other. In this course, you’ll learn how to create classes, which act as the blueprints for every object in Python. You’ll then leverage principles called inheritance and polymorphism to reuse and optimize code. Dive in and learn how to create beautiful code that’s clean and efficient!"
   ]
  },
  {
   "cell_type": "markdown",
   "metadata": {},
   "source": [
    "## 1. OOP Fundamentals\n",
    "\n",
    "In this chapter, you'll learn what object-oriented programming (OOP) is, how it differs from procedural-programming, and how it can be applied. You'll then define your own classes, and learn how to create methods, attributes, and constructors.\n",
    "\n",
    "    1.1 What is OOP?\n",
    "    1.2 OOP termininology\n",
    "    1.3 Exploring object interface\n",
    "    1.4 Class anatomy: attributes and methods\n",
    "    1.5 Understanding class definitions\n",
    "    1.6 Create your first class\n",
    "    1.7 Using attributes in class definition\n",
    "    1.8 Class anatomy: the __init__ constructor\n",
    "    1.9 Correct use of __init__\n",
    "    1.10 Add a class constructor\n",
    "    1.11 Write a class from scratch"
   ]
  },
  {
   "cell_type": "markdown",
   "metadata": {},
   "source": [
    "## 2. Inheritance and Polymorphism\n",
    "\n",
    "Inheritance and polymorphism are the core concepts of OOP that enable efficient and consistent code reuse. Learn how to inherit from a class, customize and redefine methods, and review the differences between class-level data and instance-level data.\n",
    "\n",
    "    2.1 Instance and class data\n",
    "    2.2 Class-level attributes\n",
    "    2.3 Changing class attributes\n",
    "    2.4 Alternative constructors\n",
    "    2.5 Class inheritance\n",
    "    2.6 Understanding inheritance\n",
    "    2.7 Create a subclass\n",
    "    2.8 Customizing functionality via inheritance\n",
    "    2.9 Method inheritance\n",
    "    2.10 Inheritance of class attributes\n",
    "    2.11 Customizing a DataFrame"
   ]
  },
  {
   "cell_type": "markdown",
   "metadata": {},
   "source": [
    "## 3. Integrating with Standard Python\n",
    "\n",
    "In this chapter, you'll learn how to make sure that objects that store the same data are considered equal, how to define and customize string representations of objects, and even how to create new error types. Through interactive exercises, you’ll learn how to further customize your classes to make them work more like standard Python data types.\n",
    "\n",
    "    3.1 Operator overloading: comparison\n",
    "    3.2 Overloading equality\n",
    "    3.3 Checking class equality\n",
    "    3.4 Comparison and inheritance\n",
    "    3.5 Operator overloading: string representation\n",
    "    3.6 String formatting review\n",
    "    3.7 String representation of objects\n",
    "    3.8 Exceptions\n",
    "    3.9 Catching exceptions\n",
    "    3.10 Custom exceptions\n",
    "    3.11 Handling exception hierarchies"
   ]
  },
  {
   "cell_type": "markdown",
   "metadata": {},
   "source": [
    "## 4. Best Practices of Class Design\n",
    "\n",
    "How do you design classes for inheritance? Does Python have private attributes? Is it possible to control attribute access? You'll find answers to these questions (and more) as you learn class design best practices.\n",
    "\n",
    "    4.1 Designing for inheritance and polymorphism\n",
    "    4.2 Polymorphic methods\n",
    "    4.3 Square and rectangle\n",
    "    4.4 Managing data access: private attributes\n",
    "    4.5 Attribute naming conventions\n",
    "    4.6 Using internal attributes\n",
    "    4.7 Properties\n",
    "    4.8 What do properties do?\n",
    "    4.9 Create and set properties\n",
    "    4.10 Read-only properties\n",
    "    4.11 Congratulations!"
   ]
  },
  {
   "cell_type": "markdown",
   "metadata": {},
   "source": [
    "# Aditional material\n",
    "\n",
    "- Datacamp course: https://learn.datacamp.com/courses/object-oriented-programming-in-python"
   ]
  }
 ],
 "metadata": {
  "kernelspec": {
   "display_name": "Python 3",
   "language": "python",
   "name": "python3"
  },
  "language_info": {
   "codemirror_mode": {
    "name": "ipython",
    "version": 3
   },
   "file_extension": ".py",
   "mimetype": "text/x-python",
   "name": "python",
   "nbconvert_exporter": "python",
   "pygments_lexer": "ipython3",
   "version": "3.8.8"
  }
 },
 "nbformat": 4,
 "nbformat_minor": 4
}
