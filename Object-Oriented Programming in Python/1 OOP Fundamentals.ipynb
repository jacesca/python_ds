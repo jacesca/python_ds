{
 "cells": [
  {
   "cell_type": "code",
   "execution_count": 1,
   "metadata": {},
   "outputs": [],
   "source": [
    "# Import libraries\n",
    "import expectexception"
   ]
  },
  {
   "cell_type": "markdown",
   "metadata": {},
   "source": [
    "# 1. OOP Fundamentals\n",
    "\n",
    "In this chapter, you'll learn what object-oriented programming (OOP) is, how it differs from procedural-programming, and how it can be applied. You'll then define your own classes, and learn how to create methods, attributes, and constructors."
   ]
  },
  {
   "cell_type": "markdown",
   "metadata": {},
   "source": [
    "# <font color=darkred>1.1 What is OOP?</font>\n",
    "\n",
    "1. What is OOP?\n",
    ">Hi! I'm Alex, and I'll be teaching you to think object-oriented!\n",
    "\n",
    "2. Procedural vs OOP\n",
    ">Until now, you have probably been coding in so-called procedural style: your code was a sequence of steps to be carried out. This is common when doing data analysis: you download the data, process, and visualize it.\n",
    "\n",
    "3. Thinking in sequences\n",
    ">Procedural thinking is natural. You get up, have breakfast, go to work. This sequential viewpoint works great if you are trying to plan your day. But if you are a city planner, you have to think about thousands of people with their own routines. Trying to map out a sequence of actions for each individual would quickly get unsustainable. Instead, you are likely to start thinking about patterns of behaviors. Same thing with code. The more data it uses, the more functionality it has, the harder it is to think about as just a sequence of steps.\n",
    "\n",
    "4. Procedural vs OOP\n",
    ">Instead, we view it it as a collection of objects, and patterns of their interactions - like users interacting with elements of an interface. This point of view becomes invaluable when designing frameworks, like application program interfaces or graphical user interfaces, or building tools like pandas DataFrames! It will help you organize your code better, making it more reusable and maintainable.\n",
    "\n",
    "5. Objects as data structures\n",
    ">The fundamental concepts of OOP are objects and classes. An object is a data structure incorporating information about state and behavior. For example, an object representing a customer can have a certain phone number and email associated with them, and behaviors like placeOrder or cancelOrder. An object representing a button on a website can have a label, and can triggerEvent when pressed. The distinctive feature of OOP is that state and behavior are bundled together: instead of thinking of customer data separately from customer actions, we think of them as one unit representing a customer. This is called encapsulation, and it's one of the core tenets of object-oriented programming.\n",
    "\n",
    "6. Classes as blueprints\n",
    ">The real strength of OOP comes from utilizing classes. Classes are like blueprints for objects. They describe the possible states and behaviors that every object of a certain type could have. For example, if you say \"every customer will have a phone number and an email, and will be able to place and cancel orders\", you just defined a class! This way, you can talk about customers in a unified way.\n",
    "\n",
    "7. Classes as blueprints\n",
    ">Then a specific Customer object is just a realization of this class with particular state values.\n",
    "\n",
    "8. Objects in Python\n",
    ">In Python, everything is an object. Numbers, strings, DataFrames, even functions are objects. In particular, everything you deal with in Python has a class, a blueprint associated with it under the hood. The existence of these unified interfaces, is why you can use, for example, any DataFrame in the same way. You can call type() on any Python object to find out its class. For example, the class of a numpy array is actually called ndarray (for n-dimensional array).\n",
    "\n",
    "9. Attributes and methods\n",
    ">Classes incorporate information about state and behavior. State information in Python is contained in attributes, and behavior information -- in methods. Take a numpy array: you've already been using some of its methods and attributes! For example, every numpy array has an attribute \"shape\" that you can access by specifying the name of the array, then dot, and shape. It also has methods, like max and reshape, which are also accessible via dot.\n",
    "\n",
    "10. Object = attributes + methods\n",
    "Attributes (or states) in Python objects are represented by variables -- like numbers, or strings, or tuples, in the case of the numpy array shape. Methods, or behaviors, are represented by functions. Both are accessible from an object using the dot syntax. You can list all the attributes and methods that an object has by calling dir() on it. For example here, we see that a numpy array has methods like trace and transpose.\n",
    "\n",
    "11. Let's review!\n",
    "Let's stop here for now. Don't worry if it seems confusing. It's a different way of thinking, and it will take some time to get used to. Now head over to the exercises to review what you learned!"
   ]
  },
  {
   "cell_type": "markdown",
   "metadata": {},
   "source": [
    "# <font color=darkred>1.2 OOP termininology</font> \n",
    "\n",
    "That was a lot of terminology at once -- classes, objects, methods, attributes… Before you start writing your own object-oriented code, make sure you have a solid grasp on the main concepts of OOP.\n",
    "\n",
    "**Instructions**\n",
    "- Classify the cards into the correct buckets. Are the statements true or false?\n",
    "\n",
    "<img src='images/1.2 OOP termininology.png' width=90%/>\n",
    "**Results**\n",
    "\n",
    "<font color=darkgreen>Great job! Classes and objects both have attributes and methods, but the difference is that a class is an abstract template, while an object is a concrete representation of a class.</font>"
   ]
  },
  {
   "cell_type": "markdown",
   "metadata": {},
   "source": [
    "# <font color=darkred>1.3 Exploring object interface</font> \n",
    "\n",
    "The best way to learn how to write object-oriented code is to study the design of existing classes. You've already learned about exploration tools like type() and dir().\n",
    "\n",
    "Another important function is help(): calling help(x) in the console will show the documentation for the object or class x.\n",
    "\n",
    "Most real world classes have many methods and attributes, and it is easy to get lost, so in this exercise, you will start with something simpler. We have defined a class, and created an object of that class called mystery. Explore the object in the console using the tools that you learned.\n",
    "\n",
    "**Instructions**\n",
    "- What class does the mystery object have?\n",
    "    - numpy.ndarray\n",
    "    - __main__.Employee\n",
    "    - pandas.core.DataFrame\n",
    "    - salesforce.Customer\n",
    "    - It doesn't have a class\n",
    "\n",
    "- So the mystery object is an Employee! Explore it in the console further to find out what attributes it has.\n",
    "    - Print the mystery employee's name attribute.\n",
    "    - Print the employee's salary.\n",
    "\n",
    "- Natasha -- our mystery employee -- has their salary stored in the attribute .salary.\n",
    "    - Give Natasha a raise of $2500 by using a suitable method (use help() again if you need to!).\n",
    "    - Print the salary again.\n",
    "\n",
    "**Results**\n",
    "\n",
    "<font color=darkgreen>Great start! You can use help() to explore an unfamiliar object. Notice how descriptive names of attributes and methods, together with the methods' docstrings, helped you figure out class functionality even when you didn't know how it was implemented. Keep this in mind when writing your own classes!</font>"
   ]
  },
  {
   "cell_type": "code",
   "execution_count": 2,
   "metadata": {},
   "outputs": [],
   "source": [
    "class Employee:\n",
    "    \"\"\"\n",
    "    Class representing a company employee.\n",
    " \n",
    "    Attributes\n",
    "     ----------\n",
    "     name : str \n",
    "         Employee's name        \n",
    "     email : str, default None\n",
    "         Employee's email\n",
    "     salary : float, default None\n",
    "         Employee's salary\n",
    "     rank : int, default 5\n",
    "         The rank of the employee in the company hierarchy \n",
    "         (1 -- CEO, 2 -- direct reports of CEO, 3 -- direct reports of direct reports of CEO etc). \n",
    "         Cannot be None if the employee is current.\n",
    " \n",
    "    Methods defined here:\n",
    " \n",
    "    __init__(self, name, email=None, salary=None, rank=5)\n",
    "        Create an Employee object\n",
    " \n",
    "    give_raise(self, amount)\n",
    "        Raise employee's salary by a certain `amount`. Can only be used with current employees.\n",
    " \n",
    "        Example usage:\n",
    "          # emp is an Employee object\n",
    "          emp.give_raise(1000)\n",
    " \n",
    "    promote(self)\n",
    "        Promote an employee to the next level of the company hierarchy. \n",
    "        Decreases the rank of the employee by 1. Can only be used on current employeed who are not at \n",
    "        the top of the hierarchy.\n",
    " \n",
    "        Example usage:\n",
    "            # emp is an Employee object\n",
    "            emp.promote()\n",
    " \n",
    "    terminate(self)\n",
    "        Terminate the employee. Sets salary and rank to None..\n",
    " \n",
    "        Example usage:\n",
    "           # emp is an Employee object\n",
    "           emp.terminate()\n",
    " \n",
    "    ----------------------------------------------------------------------\n",
    "    Data descriptors defined here:\n",
    " \n",
    "    __dict__\n",
    "        dictionary for instance variables (if defined)\n",
    " \n",
    "    __weakref__\n",
    "        list of weak references to the object (if defined)        \n",
    "    \"\"\"\n",
    "    def __init__(self, name, salary):\n",
    "        self.name=name\n",
    "        self.salary=salary\n",
    "        \n",
    "    def give_raise(self, raise_salary):\n",
    "        self.salary += raise_salary\n",
    "\n",
    "mystery = Employee('Natasha Ting', 73500.0)"
   ]
  },
  {
   "cell_type": "code",
   "execution_count": 3,
   "metadata": {},
   "outputs": [
    {
     "data": {
      "text/plain": [
       "__main__.Employee"
      ]
     },
     "metadata": {},
     "output_type": "display_data"
    },
    {
     "data": {
      "text/plain": [
       "'Natasha Ting'"
      ]
     },
     "metadata": {},
     "output_type": "display_data"
    },
    {
     "data": {
      "text/plain": [
       "73500.0"
      ]
     },
     "metadata": {},
     "output_type": "display_data"
    },
    {
     "name": "stdout",
     "output_type": "stream",
     "text": [
      "76000.0\n"
     ]
    }
   ],
   "source": [
    "# Print type of mystery\n",
    "display(type(mystery))\n",
    "\n",
    "# Print the mystery employee's name\n",
    "display(mystery.name)\n",
    "\n",
    "# Print the mystery employee's salary\n",
    "display(mystery.salary)\n",
    "\n",
    "# Print documentation of Employee class\n",
    "#help(Employee)\n",
    "\n",
    "# Give the mystery employee a raise of $2500\n",
    "mystery.give_raise(2500)\n",
    "\n",
    "# Print the salary again\n",
    "print(mystery.salary)"
   ]
  },
  {
   "cell_type": "markdown",
   "metadata": {},
   "source": [
    "# <font color=darkred>1.4 Class anatomy: attributes and methods</font>\n",
    "\n",
    "1. Class anatomy: attributes and methods\n",
    ">Great job so far! Now that you know how to work with existing objects and classes, you'll learn how to create your own!\n",
    "\n",
    "2. A basic class\n",
    ">To start a new class definition, all you need is a class statement, followed by the name of the class, followed by a colon. Everything in the indented block after will be considered a part of the class. You can create an \"empty\" class -- like a blank template -- by including the pass statement after the class declaration. Even though this class is empty, we can already create objects of the class by specifying the name of the class, followed by parentheses. Here, c1 and c2 are two different objects of the empty class Customer. We want to create objects that actually store data and operate on it -- in other words have attributes and methods.\n",
    "\n",
    "3. Add methods to a class\n",
    ">Defining a method is is simple. Methods are functions, so the definition of a method looks just like a regular Python function, with one exception: the special self argument that every method will have as the first argument, possibly followed by other arguments. We'll get back to self in a minute, first let's see how this works. Here we defined a method \"identify\" for the Customer class that takes self and a name as a parameter and prints \"I am Customer\" plus name when called. We create a new customer object, call the method by using object-dot-method syntax and pass the desired name, and get the output. Note that name was the second parameter in the method definition, but it is the first parameter when the method is called. The mysterious self is not needed the method call.\n",
    "\n",
    "4. What is self?\n",
    ">So what was that self? Classes are templates. Objects of a class don't yet exist when a class is being defined, but we often need a way to refer to the data of a particular object within class definition. That is the purpose of self - it's a stand-in for the future object. That's why every method should have the self argument -- so we could use it to access attributes and call other methods from within the class definition even when no objects were created yet. Python will handle self when the method is called from an object using the dot syntax. In fact, using object-dot-method is equivalent to passing that object as an argument. That's why we don't specify it explicitly when calling the method from an existing object.\n",
    "\n",
    "5. We need attributes\n",
    ">By the principles of OOP, the data describing the state of the object should be bundled into the object. For example, customer name should be an attribute of a customer object, instead of a parameter passed to a method. In Python attributes -- like variables -- are created by assignment, meaning an attribute manifests into existence only when a value is assigned to it.\n",
    "\n",
    "6. Add an attribute to class\n",
    ">Here is a method set_name with arguments self (every method should have a self argument) and new_name. To create an attribute of the Customer class called \"name\", all we need to do is to assign something to self-dot-name. Remember, self is a stand-in for object, so self-dot-attribute should remind you of the object-dot-attribute syntax. Here, we set the name attribute to the new_name parameter of the function. When we create a customer, it does not yet have a name attribute. But after the set_name method was called, the name attribute is created, and we can access it through dot-name.\n",
    "\n",
    "7. Using attributes in class definition\n",
    ">Equipped with the name attribute, now we can improve our identification method! Instead of passing name as a parameter, we will use the data already stored in the name attribute of the customer class. We remove the name parameter from the identify method, and replace it with self-dot-name in the printout, which, via self, will pull the name attribute from the object that called the method. Now the identify function will only use the data that is encapsulated in the object, instead of using whatever we passed to it.\n",
    "\n",
    "8. Let's practice!\n",
    ">Now, let's start creating your own classes!"
   ]
  },
  {
   "cell_type": "code",
   "execution_count": 4,
   "metadata": {},
   "outputs": [
    {
     "name": "stdout",
     "output_type": "stream",
     "text": [
      "I am Customer Rashid Volkov\n"
     ]
    }
   ],
   "source": [
    "class Customer:\n",
    "    def set_name(self, new_name):\n",
    "        self.name = new_name\n",
    "    \n",
    "    def identify(self):\n",
    "        print(\"I am Customer \" + self.name)\n",
    "\n",
    "cust = Customer()\n",
    "cust.set_name(\"Rashid Volkov\")\n",
    "cust.identify()"
   ]
  },
  {
   "cell_type": "markdown",
   "metadata": {},
   "source": [
    "# <font color=darkred>1.5 Understanding class definitions</font> \n",
    "\n",
    "Objects and classes consist of attributes (storing the state) and methods (storing the behavior).\n",
    "\n",
    "Before you get to writing your own classes, you need to understand the basic structure of the class, and how attributes in the class definition relate to attributes in the object. In this exercise, you have a class with one method and one attribute, as well as the object of that class.\n",
    "\n",
    "**Instructions**\n",
    "- Arrange the code blocks in the order that will produce the output 6 when run.\n",
    "    - Don't forget to indent the blocks correctly using the <> buttons to the left of the ☰ icon!\n",
    "\n",
    "**Results**\n",
    "\n",
    "<font color=darkgreen>Well done! Notice how you used self.count to refer to the count attribute inside a class definition, and mc.count to refer to the count attribute of an object. Make sure you understand the difference, and when to use which form (review the video if necessary)!</font>"
   ]
  },
  {
   "cell_type": "code",
   "execution_count": 5,
   "metadata": {},
   "outputs": [
    {
     "name": "stdout",
     "output_type": "stream",
     "text": [
      "6\n"
     ]
    }
   ],
   "source": [
    "class MyCounter:\n",
    "    def set_count(self, n):\n",
    "        self.count = n\n",
    "\n",
    "mc = MyCounter()\n",
    "mc.set_count(5)\n",
    "mc.count = mc.count + 1\n",
    "print(mc.count)"
   ]
  },
  {
   "cell_type": "markdown",
   "metadata": {},
   "source": [
    "# <font color=darkred>1.6 Create your first class</font> \n",
    "\n",
    "Time to write your first class! In this exercise, you'll start building the Employee class you briefly explored in the previous lesson. You'll start by creating methods that set attributes, and then add a few methods that manipulate them.\n",
    "\n",
    "As mentioned in the first video, an object-oriented approach is most useful when your code involves complex interactions of many objects. In real production code, classes can have dozens of attributes and methods with complicated logic, but the underlying structure is the same as with the most simple class.\n",
    "\n",
    "Your classes in this course will only have a few attributes and short methods, but the organizational principles behind the them will be directly translatable to more complicated code.\n",
    "\n",
    "**Instructions**\n",
    "- Create an empty class Employee.\n",
    "- Create an object emp of the class Employee by calling Employee().\n",
    "- Try printing the .name attribute of emp object in the console. What happens?\n",
    "\n",
    "- Modify the Employee class to include a .set_name() method that takes a new_name argument, and assigns new_name to the .name attribute of the class.\n",
    "- Use the set_name() method on emp to set the name to 'Korel Rossi'.\n",
    "- Print emp.name.\n",
    "\n",
    "- Follow the pattern to add another method - set_salary() - that will set the salary attribute of the class to the parameter new_salary passed to method.\n",
    "- Set the salary of emp to 50000.\n",
    "- Try printing emp.salary before and after calling set_salary().\n",
    "\n",
    "**Results**\n",
    "\n",
    "<font color=darkgreen>Fantastic! You created your first class with two methods and two attributes. Try running dir(emp) in the console and see if you can find where these attributes and methods pop up!</font>"
   ]
  },
  {
   "cell_type": "code",
   "execution_count": 6,
   "metadata": {},
   "outputs": [
    {
     "name": "stdout",
     "output_type": "stream",
     "text": [
      "\u001b[1;31m---------------------------------------------------------------------------\u001b[0m\n",
      "\u001b[1;31mAttributeError\u001b[0m                            Traceback (most recent call last)\n",
      "\u001b[1;32m<ipython-input-6-cd084cc9c3ad>\u001b[0m in \u001b[0;36m<module>\u001b[1;34m\u001b[0m\n",
      "\u001b[0;32m      7\u001b[0m \u001b[0memp\u001b[0m \u001b[1;33m=\u001b[0m \u001b[0mEmployee\u001b[0m\u001b[1;33m(\u001b[0m\u001b[1;33m)\u001b[0m\u001b[1;33m\u001b[0m\u001b[1;33m\u001b[0m\u001b[0m\n",
      "\u001b[0;32m      8\u001b[0m \u001b[1;33m\u001b[0m\u001b[0m\n",
      "\u001b[1;32m----> 9\u001b[1;33m \u001b[0memp\u001b[0m\u001b[1;33m.\u001b[0m\u001b[0mname\u001b[0m\u001b[1;33m\u001b[0m\u001b[1;33m\u001b[0m\u001b[0m\n",
      "\u001b[0m\n",
      "\u001b[1;31mAttributeError\u001b[0m: 'Employee' object has no attribute 'name'\n"
     ]
    }
   ],
   "source": [
    "%%expect_exception AttributeError\n",
    "# Create an empty class Employee\n",
    "class Employee:\n",
    "    pass\n",
    "\n",
    "\n",
    "# Create an object emp of class Employee \n",
    "emp = Employee()\n",
    "\n",
    "emp.name"
   ]
  },
  {
   "cell_type": "code",
   "execution_count": 7,
   "metadata": {},
   "outputs": [
    {
     "name": "stdout",
     "output_type": "stream",
     "text": [
      "Korel Rossi\n"
     ]
    }
   ],
   "source": [
    "# Include a set_name method\n",
    "class Employee:\n",
    "  \n",
    "  def set_name(self, new_name):\n",
    "    self.name = new_name\n",
    "  \n",
    "# Create an object emp of class Employee  \n",
    "emp = Employee()\n",
    "\n",
    "# Use set_name() on emp to set the name of emp to 'Korel Rossi'\n",
    "emp.set_name('Korel Rossi')\n",
    "\n",
    "# Print the name of emp\n",
    "print(emp.name)"
   ]
  },
  {
   "cell_type": "code",
   "execution_count": 8,
   "metadata": {},
   "outputs": [
    {
     "name": "stdout",
     "output_type": "stream",
     "text": [
      "Korel Rossi has a salary of $50,000.00\n"
     ]
    }
   ],
   "source": [
    "class Employee:\n",
    "  \n",
    "  def set_name(self, new_name):\n",
    "    self.name = new_name\n",
    "  \n",
    "  # Add set_salary() method\n",
    "  def set_salary(self, new_salary):\n",
    "    self.salary = new_salary\n",
    "  \n",
    "# Create an object emp of class Employee  \n",
    "emp = Employee()\n",
    "\n",
    "# Use set_name to set the name of emp to 'Korel Rossi'\n",
    "emp.set_name('Korel Rossi')\n",
    "\n",
    "# Set the salary of emp to 50000\n",
    "emp.set_salary(50000)\n",
    "\n",
    "print(\"{} has a salary of ${:,.2f}\".format(emp.name, emp.salary))"
   ]
  },
  {
   "cell_type": "code",
   "execution_count": 9,
   "metadata": {},
   "outputs": [
    {
     "data": {
      "text/plain": [
       "['__class__',\n",
       " '__delattr__',\n",
       " '__dict__',\n",
       " '__dir__',\n",
       " '__doc__',\n",
       " '__eq__',\n",
       " '__format__',\n",
       " '__ge__',\n",
       " '__getattribute__',\n",
       " '__gt__',\n",
       " '__hash__',\n",
       " '__init__',\n",
       " '__init_subclass__',\n",
       " '__le__',\n",
       " '__lt__',\n",
       " '__module__',\n",
       " '__ne__',\n",
       " '__new__',\n",
       " '__reduce__',\n",
       " '__reduce_ex__',\n",
       " '__repr__',\n",
       " '__setattr__',\n",
       " '__sizeof__',\n",
       " '__str__',\n",
       " '__subclasshook__',\n",
       " '__weakref__',\n",
       " 'name',\n",
       " 'salary',\n",
       " 'set_name',\n",
       " 'set_salary']"
      ]
     },
     "execution_count": 9,
     "metadata": {},
     "output_type": "execute_result"
    }
   ],
   "source": [
    "dir(emp)"
   ]
  },
  {
   "cell_type": "markdown",
   "metadata": {},
   "source": [
    "# <font color=darkred>1.7 Using attributes in class definition</font> \n",
    "\n",
    "In the previous exercise, you defined an Employee class with two attributes and two methods setting those attributes. This kind of method, aptly called a setter method, is far from the only possible kind. Methods are functions, so anything you can do with a function, you can also do with a method. For example, you can use methods to print, return values, make plots, and raise exceptions, as long as it makes sense as the behavior of the objects described by the class (an Employee probably wouldn't have a pivot_table() method).\n",
    "\n",
    "In this exercise, you'll go beyond the setter methods and learn how to use existing class attributes to define new methods. The Employee class and the emp object from the previous exercise are in your script pane.\n",
    "\n",
    "**Instructions**\n",
    "- rint the salary attribute of emp.\n",
    "- Attributes aren't read-only: use assignment (equality sign) to increase the salary attribute of emp by 1500, and print it again.\n",
    "\n",
    "\n",
    "- Raising a salary for an employee is a common pattern of behavior, so it should be part of the class definition instead.\n",
    "- Add a method give_raise() to Employee that increases the salary by the amount passed to give_raise() as a parameter.\n",
    "\n",
    "\n",
    "- Methods don't have to just modify the attributes - they can return values as well!\n",
    "- Add a method monthly_salary() that returns the value of the .salary attribute divided by 12.\n",
    "- Call .monthly_salary() on emp, assign it to mon_sal, and print.\n",
    "\n",
    "**Results**\n",
    "\n",
    "<font color=darkgreen>You are doing great! You might be wondering: why did we write these methods when all the same operations could have been performed on object attributes directly? Our code was very simple, but methods that deal only with attribute values often have pre-processing and checks built in: for example, maybe the company has a maximal allowable raise amount. Then it would be prudent to add a clause to the give_raise() method that checks whether the raise amount is within limits.</font>"
   ]
  },
  {
   "cell_type": "code",
   "execution_count": 10,
   "metadata": {},
   "outputs": [
    {
     "name": "stdout",
     "output_type": "stream",
     "text": [
      "50000\n",
      "51500\n"
     ]
    }
   ],
   "source": [
    "class Employee:\n",
    "    def set_name(self, new_name):\n",
    "        self.name = new_name\n",
    "\n",
    "    def set_salary(self, new_salary):\n",
    "        self.salary = new_salary \n",
    "  \n",
    "emp = Employee()\n",
    "emp.set_name('Korel Rossi')\n",
    "emp.set_salary(50000)\n",
    "\n",
    "# Print the salary attribute of emp\n",
    "print(emp.salary)\n",
    "\n",
    "# Increase salary of emp by 1500\n",
    "emp.salary = emp.salary + 1500\n",
    "\n",
    "# Print the salary attribute of emp again\n",
    "print(emp.salary)"
   ]
  },
  {
   "cell_type": "code",
   "execution_count": 11,
   "metadata": {},
   "outputs": [
    {
     "name": "stdout",
     "output_type": "stream",
     "text": [
      "50000\n",
      "51500\n"
     ]
    }
   ],
   "source": [
    "class Employee:\n",
    "    def set_name(self, new_name):\n",
    "        self.name = new_name\n",
    "\n",
    "    def set_salary(self, new_salary):\n",
    "        self.salary = new_salary \n",
    "\n",
    "    # Add a give_raise() method with raise amount as a parameter\n",
    "    def give_raise(self, salary_increase):\n",
    "        self.salary += salary_increase\n",
    "\n",
    "emp = Employee()\n",
    "emp.set_name('Korel Rossi')\n",
    "emp.set_salary(50000)\n",
    "\n",
    "print(emp.salary)\n",
    "emp.give_raise(1500)\n",
    "print(emp.salary)"
   ]
  },
  {
   "cell_type": "code",
   "execution_count": 12,
   "metadata": {},
   "outputs": [
    {
     "name": "stdout",
     "output_type": "stream",
     "text": [
      "4166.666666666667\n"
     ]
    }
   ],
   "source": [
    "class Employee:\n",
    "    def set_name(self, new_name):\n",
    "        self.name = new_name\n",
    "\n",
    "    def set_salary(self, new_salary):\n",
    "        self.salary = new_salary \n",
    "\n",
    "    def give_raise(self, amount):\n",
    "        self.salary = self.salary + amount\n",
    "\n",
    "    # Add monthly_salary method that returns 1/12th of salary attribute\n",
    "    def monthly_salary(self):\n",
    "        return self.salary/12\n",
    "\n",
    "    \n",
    "emp = Employee()\n",
    "emp.set_name('Korel Rossi')\n",
    "emp.set_salary(50000)\n",
    "\n",
    "# Get monthly salary of emp and assign to mon_sal\n",
    "mon_sal = emp.monthly_salary()\n",
    "\n",
    "# Print mon_sal\n",
    "print(mon_sal)"
   ]
  },
  {
   "cell_type": "markdown",
   "metadata": {},
   "source": [
    "# <font color=darkred>1.8 Class anatomy: the __init__ constructor</font>\n",
    "\n",
    "1. Class anatomy: the __init__ constructor\n",
    ">Welcome back! In the previous lesson, you learned how to define methods and attributes in classes.\n",
    "\n",
    "2. Methods and attributes\n",
    ">You learned that methods are functions within class with a special first argument self, and that attributes are created by assignment and referred to using the self variable within methods. In the exercises, you created an Employee class, and for each attribute you wanted to create, you defined a new method, and then called those methods one after another. This could quickly get unsustainable if your classes contain a lot of data.\n",
    "\n",
    "3. Constructor\n",
    ">A better strategy would be to add data to the object when creating it, like you do when creating a numpy array or a DataFrame. Python allows you to add a special method called the constructor that is automatically called every time an object is created. The method has to be called underscore underscore init underscore underscore (the exact name and double underscores are essential for Python to recognize it). Here we define the init method for the customer class. The method takes on one argument, name, of course in addition to the self argument that should be there for any method. In the body of the method, we create the name attribute, set its value to the name parameter, and print a message. So now, we can pass the customer name in the parentheses when creating the customer object, and the init method will be automatically called, and the name attribute created.\n",
    "\n",
    "4. Add parameters\n",
    ">We can add another parameter -- say, account balance -- to the init method, and create another attribute -- also called balance, that will also be initialized during object creation. We can now create a customer by calling Customer with two parameters in parentheses.\n",
    "\n",
    "5. Default arguments\n",
    ">The init constructor is also a good place to set the default values for attributes. For example, here we set the default value of the balance argument to 0, so we can create a Customer object without specifying the value of the balance, but the attribute is created anyway, and is initialized to the default value 0.\n",
    "\n",
    "6. The right place to define attributes\n",
    ">So, there are two ways to define attributes: we can define an attribute in any method in a class; and then calling the method will add the attribute to the object. Alternatively, we can define them all together in the constructor. If possible, try to avoid defining attributes outside the constructor. Your class definition can be hundreds lines of code long, and the person reading it would have to comb through all of them to find all the attributes. Moreover, defining all attributes in the constructor ensures that all of them are created when the object is created, so you don't have to worry about trying to access an attribute that doesn't yet exist. All this results in more organized, readable, and maintainable code.\n",
    "\n",
    "7. Best practices\n",
    ">While we're on the subject of best practices, let's quickly go over a few more conventions that will make your code more reader-friendly.\n",
    "\n",
    "8. Best practices\n",
    ">To name your classes, use camel case, which means that if your class name contains several words, they should be written without delimiters, and each word should start with a capital letter. For methods and attributes, it's the opposite -- words should be separated by underscores and start with lowercase letters.\n",
    "\n",
    "9. Best practices\n",
    ">Here's a secret: the name \"self\" is a convention. You could actually use any name for the first variable of a method, it will always be treated as the object reference regardless. For example, if you are a Java programmer, you might be tempted to use \"this\", and if you are me, you might be tempted to use \"kitty\". Don't do it, and always use \"self\".\n",
    "\n",
    "10. Best practices\n",
    ">Finally, classes, like functions, allow for docstrings which are displayed when help() is called on the object. Remember the first lesson of the course, and use the docstrings to make the life of the person using your class easier.\n",
    "\n",
    "11. Let's practice!\n",
    ">Now, let's practice creating constructors!"
   ]
  },
  {
   "cell_type": "code",
   "execution_count": 13,
   "metadata": {},
   "outputs": [
    {
     "name": "stdout",
     "output_type": "stream",
     "text": [
      "The __init__ method was called\n",
      "Lara de Silva\n",
      "0\n"
     ]
    }
   ],
   "source": [
    "class Customer:\n",
    "    def __init__(self, name, balance=0):\n",
    "        #<--set default value for balance\n",
    "        self.name = name \n",
    "        self.balance = balance \n",
    "        print(\"The __init__ method was called\")\n",
    "\n",
    "cust = Customer(\"Lara de Silva\") # <-- don't specify balance explicitly\n",
    "print(cust.name) \n",
    "print(cust.balance) # <-- attribute is created anyway"
   ]
  },
  {
   "cell_type": "markdown",
   "metadata": {},
   "source": [
    "# <font color=darkred>1.9 Correct use of __init__</font>\n",
    "\n",
    "**Instructions**\n",
    "\n",
    "Python allows you to run custom code - for example, initializing attributes - any time an object is created: you just need to define a special method called __init__(). Use this exercise to check your understanding of __init__() mechanics!\n",
    "\n",
    "Which of the code blocks will NOT return an error when run?\n",
    "\n",
    "<img src='images/constructors.png' width=90% />\n",
    "\n",
    "**Possible Answers**\n",
    "    - 1\n",
    "    - <font color=red>2</font>\n",
    "    - 3\n",
    "    - 4\n",
    "\n",
    "**Results**\n",
    "\n",
    "<font color=darkgreen>Exactly right! The printout, however, will be 5, while the person writing the code likely expected 0. That's why documentation is important!</font>"
   ]
  },
  {
   "cell_type": "markdown",
   "metadata": {},
   "source": [
    "# <font color=darkred>1.10 Add a class constructor</font> \n",
    "\n",
    "In this exercise, you'll continue working on the Employee class. Instead of using the methods like set_salary() that you wrote in the previous lesson, you will introduce a constructor that assigns name and salary to the employee at the moment when the object is created.\n",
    "\n",
    "You'll also create a new attribute -- hire_date -- which will not be initialized through parameters, but instead will contain the current date.\n",
    "\n",
    "Initializing attributes in the constructor is a good idea, because this ensures that the object has all the necessary attributes the moment it is created.\n",
    "\n",
    "**Instructions**\n",
    "- Define the class Employee with a constructor __init__() that:\n",
    "    - accepts two arguments, name and salary (with default value0),\n",
    "    - creates two attributes, also called name and salary,\n",
    "    - sets their values to the corresponding arguments.\n",
    "\n",
    "- The __init__() method is a great place to do preprocessing.\n",
    "    - Modify __init__() to check whether the salary parameter is positive:\n",
    "    - if yes, assign it to the salary attribute,\n",
    "    - if not, assign 0 to the attribute and print \"Invalid salary!\".\n",
    "\n",
    "- Import datetime from the datetime module. This contains the function that returns current date.\n",
    "    - Add an attribute hire_date and set it to datetime.today().\n",
    "\n",
    "**Results**\n",
    "\n",
    "<font color=darkgreen>You're doing great! Notice how you had to add the import statement to use the today() function. You can use functions from other modules in your class definition, but you need to import the module first, and the import statement has to be outside class definition.</font>"
   ]
  },
  {
   "cell_type": "code",
   "execution_count": 14,
   "metadata": {},
   "outputs": [
    {
     "name": "stdout",
     "output_type": "stream",
     "text": [
      "Korel Rossi\n",
      "0\n"
     ]
    }
   ],
   "source": [
    "class Employee:\n",
    "    # Create __init__() method\n",
    "    def __init__(self, name, salary=0):\n",
    "        # Create the name and salary attributes\n",
    "        self.name = name\n",
    "        self.salary = salary\n",
    "    \n",
    "    # From the previous lesson\n",
    "    def give_raise(self, amount):\n",
    "        self.salary += amount\n",
    "\n",
    "    def monthly_salary(self):\n",
    "        return self.salary/12\n",
    "        \n",
    "emp = Employee(\"Korel Rossi\")\n",
    "print(emp.name)\n",
    "print(emp.salary)"
   ]
  },
  {
   "cell_type": "code",
   "execution_count": 15,
   "metadata": {},
   "outputs": [
    {
     "name": "stdout",
     "output_type": "stream",
     "text": [
      "Invalid salary!\n",
      "Korel Rossi\n",
      "0\n"
     ]
    }
   ],
   "source": [
    "class Employee:\n",
    "    # Create __init__() method\n",
    "    def __init__(self, name, salary=0):\n",
    "        # Create the name and salary attributes\n",
    "        self.name = name\n",
    "        if salary>0:\n",
    "            self.salary = salary\n",
    "        else:\n",
    "            self.salary = 0\n",
    "            print('Invalid salary!') \n",
    "    \n",
    "    # From the previous lesson\n",
    "    def give_raise(self, amount):\n",
    "        self.salary += amount\n",
    "\n",
    "    def monthly_salary(self):\n",
    "        return self.salary/12\n",
    "        \n",
    "emp = Employee(\"Korel Rossi\")\n",
    "print(emp.name)\n",
    "print(emp.salary)"
   ]
  },
  {
   "cell_type": "code",
   "execution_count": 16,
   "metadata": {},
   "outputs": [
    {
     "name": "stdout",
     "output_type": "stream",
     "text": [
      "Invalid salary!\n",
      "Korel Rossi\n",
      "0\n",
      "2021-07-12 21:31:51.525165\n"
     ]
    }
   ],
   "source": [
    "# Import datetime from datetime\n",
    "from datetime import datetime\n",
    "\n",
    "class Employee:\n",
    "    \n",
    "    def __init__(self, name, salary=0):\n",
    "        self.name = name\n",
    "        if salary > 0:\n",
    "          self.salary = salary\n",
    "        else:\n",
    "          self.salary = 0\n",
    "          print(\"Invalid salary!\")\n",
    "          \n",
    "        # Add the hire_date attribute and set it to today's date\n",
    "        self.hire_date = datetime.today()\n",
    "        \n",
    "    def give_raise(self, amount):\n",
    "        self.salary += amount\n",
    "\n",
    "    def monthly_salary(self):\n",
    "        return self.salary/12\n",
    "      \n",
    "emp = Employee(\"Korel Rossi\", -1000)\n",
    "print(emp.name)\n",
    "print(emp.salary)\n",
    "print(emp.hire_date)"
   ]
  },
  {
   "cell_type": "markdown",
   "metadata": {},
   "source": [
    "# <font color=darkred>1.11 Write a class from scratch</font> \n",
    "\n",
    "You are a Python developer writing a visualization package. For any element in a visualization, you want to be able to tell the position of the element, how far it is from other elements, and easily implement horizontal or vertical flip .\n",
    "\n",
    "The most basic element of any visualization is a single point. In this exercise, you'll write a class for a point on a plane from scratch.\n",
    "\n",
    "**Instructions**\n",
    "Define the class Point that has:\n",
    "\n",
    "- Two attributes, x and y - the coordinates of the point on the plane;\n",
    "- A constructor that accepts two arguments, x and y, that initialize the corresponding attributes. These arguments should have default value of 0.0;\n",
    "- A method distance_to_origin() that returns the distance from the point to the origin. The formula for that is .\n",
    "- A method reflect(), that reflects the point with respect to the x- or y-axis:\n",
    "    - accepts one argument axis,\n",
    "    - if axis=\"x\" , it sets the y (not a typo!) attribute to the negative value of the y attribute,\n",
    "    - if axis=\"y\", it sets the x attribute to the negative value of the x attribute,\n",
    "    - for any other value of axis, prints an error message. Reflection of a point with respect to y and x axes\n",
    "<img src='images/reflect.png' width=45%>\n",
    "\n",
    "--------------------------------------\n",
    "_**Note**: You can choose to use sqrt() function from either the numpy or the math package, but whichever package you choose, don't forget to import it before starting the class definition!_\n",
    "\n",
    "To check your work, you should be able to run the following code without errors:\n",
    "\n",
    "<code>\n",
    "    pt = Point(x=3.0)\n",
    "    pt.reflect(\"y\")\n",
    "    print((pt.x, pt.y))\n",
    "    pt.y = 4.0\n",
    "    print(pt.distance_to_origin())\n",
    "</code>\n",
    "\n",
    "and return the output\n",
    "\n",
    "<code>\n",
    "    (-3.0,0.0)\n",
    "    5.0\n",
    "</code>\n",
    "\n",
    "**Results**\n",
    "\n",
    "<font color=darkgreen>Great work! Notice how you implemented distance_to_origin() as a method instead of an attribute. Implementing it as an attribute would be less sustainable - you would have to recalculate it every time you change the values of the x and y attributes to make sure the object state stays current.</font>"
   ]
  },
  {
   "cell_type": "code",
   "execution_count": 17,
   "metadata": {},
   "outputs": [
    {
     "name": "stdout",
     "output_type": "stream",
     "text": [
      "(-3.0, 0)\n",
      "5.0\n"
     ]
    }
   ],
   "source": [
    "# Write the class Point as outlined in the instructions\n",
    "from math import sqrt\n",
    "\n",
    "class Point:\n",
    "    \"\"\"This class is to create Point objects in a visualization project\"\"\"\n",
    "    def __init__(self, x=0, y=0):\n",
    "        self.x, self.y = x, y\n",
    "    \n",
    "    def distance_to_origin(self):\n",
    "        \"\"\"This returns the distance from the point to the origin.\"\"\"\n",
    "        return sqrt(self.x**2 + self.y**2)\n",
    "    \n",
    "    def reflect(self, axis):\n",
    "        \"\"\"This method reflects the point with respect to the x or y axis.\"\"\"\n",
    "        if axis=='x':\n",
    "            self.y *= -1\n",
    "        elif axis=='y':\n",
    "            self.x *= -1\n",
    "        else:\n",
    "            raise ValueError(\"Not valid value for axis paramenter. Accepted values are 'x' or 'y'\")\n",
    "\n",
    "pt = Point(x=3.0)\n",
    "pt.reflect(\"y\")\n",
    "print((pt.x, pt.y))\n",
    "pt.y = 4.0\n",
    "print(pt.distance_to_origin())"
   ]
  },
  {
   "cell_type": "code",
   "execution_count": 18,
   "metadata": {},
   "outputs": [
    {
     "name": "stdout",
     "output_type": "stream",
     "text": [
      "\u001b[1;31m---------------------------------------------------------------------------\u001b[0m\n",
      "\u001b[1;31mValueError\u001b[0m                                Traceback (most recent call last)\n",
      "\u001b[1;32m<ipython-input-18-3c3e5c72d92a>\u001b[0m in \u001b[0;36m<module>\u001b[1;34m\u001b[0m\n",
      "\u001b[1;32m----> 1\u001b[1;33m \u001b[0mpt\u001b[0m\u001b[1;33m.\u001b[0m\u001b[0mreflect\u001b[0m\u001b[1;33m(\u001b[0m\u001b[1;34m\"z\"\u001b[0m\u001b[1;33m)\u001b[0m\u001b[1;33m\u001b[0m\u001b[1;33m\u001b[0m\u001b[0m\n",
      "\u001b[0m\n",
      "\u001b[1;32m<ipython-input-17-ed373d741393>\u001b[0m in \u001b[0;36mreflect\u001b[1;34m(self, axis)\u001b[0m\n",
      "\u001b[0;32m     18\u001b[0m             \u001b[0mself\u001b[0m\u001b[1;33m.\u001b[0m\u001b[0mx\u001b[0m \u001b[1;33m*=\u001b[0m \u001b[1;33m-\u001b[0m\u001b[1;36m1\u001b[0m\u001b[1;33m\u001b[0m\u001b[1;33m\u001b[0m\u001b[0m\n",
      "\u001b[0;32m     19\u001b[0m         \u001b[1;32melse\u001b[0m\u001b[1;33m:\u001b[0m\u001b[1;33m\u001b[0m\u001b[1;33m\u001b[0m\u001b[0m\n",
      "\u001b[1;32m---> 20\u001b[1;33m             \u001b[1;32mraise\u001b[0m \u001b[0mValueError\u001b[0m\u001b[1;33m(\u001b[0m\u001b[1;34m\"Not valid value for axis paramenter. Accepted values are 'x' or 'y'\"\u001b[0m\u001b[1;33m)\u001b[0m\u001b[1;33m\u001b[0m\u001b[1;33m\u001b[0m\u001b[0m\n",
      "\u001b[0m\u001b[0;32m     21\u001b[0m \u001b[1;33m\u001b[0m\u001b[0m\n",
      "\u001b[0;32m     22\u001b[0m \u001b[0mpt\u001b[0m \u001b[1;33m=\u001b[0m \u001b[0mPoint\u001b[0m\u001b[1;33m(\u001b[0m\u001b[0mx\u001b[0m\u001b[1;33m=\u001b[0m\u001b[1;36m3.0\u001b[0m\u001b[1;33m)\u001b[0m\u001b[1;33m\u001b[0m\u001b[1;33m\u001b[0m\u001b[0m\n",
      "\n",
      "\u001b[1;31mValueError\u001b[0m: Not valid value for axis paramenter. Accepted values are 'x' or 'y'\n"
     ]
    }
   ],
   "source": [
    "%%expect_exception ValueError\n",
    "pt.reflect(\"z\")"
   ]
  },
  {
   "cell_type": "markdown",
   "metadata": {},
   "source": [
    "# Aditional material\n",
    "\n",
    "- Datacamp course: https://learn.datacamp.com/courses/object-oriented-programming-in-python"
   ]
  }
 ],
 "metadata": {
  "kernelspec": {
   "display_name": "Python 3",
   "language": "python",
   "name": "python3"
  },
  "language_info": {
   "codemirror_mode": {
    "name": "ipython",
    "version": 3
   },
   "file_extension": ".py",
   "mimetype": "text/x-python",
   "name": "python",
   "nbconvert_exporter": "python",
   "pygments_lexer": "ipython3",
   "version": "3.8.8"
  }
 },
 "nbformat": 4,
 "nbformat_minor": 4
}
