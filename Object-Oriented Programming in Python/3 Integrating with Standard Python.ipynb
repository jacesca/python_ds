{
 "cells": [
  {
   "cell_type": "code",
   "execution_count": 1,
   "metadata": {},
   "outputs": [],
   "source": [
    "# Import libraries\n",
    "import expectexception"
   ]
  },
  {
   "cell_type": "markdown",
   "metadata": {},
   "source": [
    "# 3. Integrating with Standard Python\n",
    "\n",
    "In this chapter, you'll learn how to make sure that objects that store the same data are considered equal, how to define and customize string representations of objects, and even how to create new error types. Through interactive exercises, you’ll learn how to further customize your classes to make them work more like standard Python data types."
   ]
  },
  {
   "cell_type": "markdown",
   "metadata": {},
   "source": [
    "# <font color=darkred>3.1 Operator overloading: comparison</font>\n",
    "\n",
    "1. Operator overloading: comparison\n",
    ">Fantastic work on inheritance! By now, you've learned enough about classes and objects to start effectively using them in your applications. In this chapter, you'll learn how to make your objects seamlessly integrate with standard Python operations.\n",
    "\n",
    "2. Object equality\n",
    ">Have you tried to compare two custom objects? Here are two objects of the Customer class that have the same data. If we ask Python if these objects are equal, the answer is \"no\". In this situation, it might make sense: we can have two customers with the same name and account balance.\n",
    "\n",
    "3. Object equality\n",
    ">But what if each customer has a unique ID number? Then two customers with the same ID should be treated as equal.. but they aren't The reason why Python doesn't consider two objects with the same data equal by default has to do with how the objects and variables representing them are stored.\n",
    "\n",
    "4. Variables are references\n",
    ">If we try to just print the value of a customer object, we'll see \"Customer at\" and a string (which is actually a number in hexadecimal). Behind the scenes, when an object is created, Python allocates a chunk of memory to that object, and the variable that the object is assigned to actually contains just the reference to the memory chunk. In this code, we tell Python: allocate a chunk of memory for a customer object, and label it customer1. Then, allocate another chunk, and label it customer2. When we compare variables customer1 and customer2, we are actually comparing references, not the data. Because customer1 and customer2 point to different chunks in memory, they are not considered equal.\n",
    "\n",
    "5. Custom comparison\n",
    ">But it doesn't have to be that way! You might have noticed that, for example, numpy arrays are compared using their data. Here, we initialize two numpy arrays with the same data, and Python considers them equal. Same with pandas DataFrames, and many other objects. So how can we enforce this for our custom classes?\n",
    "\n",
    "6. Overloading __eq__()\n",
    ">We can define a special method for this. Remember the __init__ constructor that is implicitly called when an object is created? The underscore-underscore-eq-underscore-underscore method is implicitly called whenever two objects of the the same class are compared to each other. We can re-define this method to execute custom comparison code. The method should accept two arguments, referring to the objects to be compared. They are usually called self and other by convention. It should always return a Boolean value -- True or False. Here, we have a basic Customer class with id and name attributes, and we redefine the eq method to return True if the values of all the attributes are equal. We also added a diagnostic printout for illustration.\n",
    "\n",
    "7. Comparison of objects\n",
    ">Now, if we create two objects containing the same data and try to compare them using double equality sign, we see from the diagnostic printout that the eq method is called, and the comparison returns \"True\". On the other hand, if we create two objects with different id values, the comparison will return \"False\"\n",
    "\n",
    "8. Other comparison operators\n",
    ">Python allows you to implement all the comparison operators in your custom class using special methods like eq. When you use a \"not equal\" operator -- that is, exclamation point followed by the equality sign -- Python will automatically attempt to use the equality method, if it exists, and then negate the result, but if you'd like to have a custom \"not equals\" method, you could implement __ne__. You could also implement, for example, \"ge\" for greater than or equal operator, or \"lt\" for less than. Finally, there is a hash method that allows you to use your objects as dictionary keys and in sets. It is beyond the scope of this course, but briefly, it should assign an integer to an object, such that equal objects have equal hashes, and the object hash does not change through the object's lifetime.\n",
    "\n",
    "9. Let's practice!\n",
    ">Now, let's practice defining custom equality functions!"
   ]
  },
  {
   "cell_type": "code",
   "execution_count": 2,
   "metadata": {},
   "outputs": [
    {
     "data": {
      "text/plain": [
       "False"
      ]
     },
     "execution_count": 2,
     "metadata": {},
     "output_type": "execute_result"
    }
   ],
   "source": [
    "# Object equality\n",
    "class Customer:\n",
    "    def __init__(self, name, balance):\n",
    "        self.name, self.balance = name, balance\n",
    "\n",
    "customer1 = Customer(\"Maryam Azar\", 3000)\n",
    "customer2 = Customer(\"Maryam Azar\", 3000)\n",
    "customer1 == customer2"
   ]
  },
  {
   "cell_type": "code",
   "execution_count": 3,
   "metadata": {},
   "outputs": [
    {
     "name": "stdout",
     "output_type": "stream",
     "text": [
      "__eq__() is called\n"
     ]
    },
    {
     "data": {
      "text/plain": [
       "True"
      ]
     },
     "metadata": {},
     "output_type": "display_data"
    },
    {
     "name": "stdout",
     "output_type": "stream",
     "text": [
      "__eq__() is called\n"
     ]
    },
    {
     "data": {
      "text/plain": [
       "False"
      ]
     },
     "metadata": {},
     "output_type": "display_data"
    }
   ],
   "source": [
    "class Customer:\n",
    "    def __init__(self, id, name):\n",
    "        self.id, self.name = id, name\n",
    "    # Will be called when == is used\n",
    "    def __eq__(self, other):\n",
    "        # Diagnostic printout\n",
    "        print(\"__eq__() is called\")\n",
    "        # Returns True if all attributes match\n",
    "        return (self.id == other.id) and (self.name == other.name)\n",
    "\n",
    "# Two equal objects\n",
    "customer1 = Customer(123, \"Maryam Azar\")\n",
    "customer2 = Customer(123, \"Maryam Azar\")\n",
    "display(customer1 == customer2)\n",
    "\n",
    "# Two unequal objects - different ids\n",
    "customer1 = Customer(123, \"Maryam Azar\")\n",
    "customer2 = Customer(456, \"Maryam Azar\")\n",
    "display(customer1 == customer2)"
   ]
  },
  {
   "cell_type": "markdown",
   "metadata": {},
   "source": [
    "# <font color=darkred>3.2 Overloading equality</font> \n",
    "\n",
    "When comparing two objects of a custom class using ==, Python by default compares just the object references, not the data contained in the objects. To override this behavior, the class can implement the special __eq__() method, which accepts two arguments -- the objects to be compared -- and returns True or False. This method will be implicitly called when two objects are compared.\n",
    "\n",
    "The BankAccount class from the previous chapter is available for you in the script pane. It has one attribute, balance, and a withdraw() method. Two bank accounts with the same balance are not necessarily the same account, but a bank account usually has an account number, and two accounts with the same account number should be considered the same.\n",
    "\n",
    "**Instructions**\n",
    "Try selecting the code in lines 1-7 and pressing the \"Run code\" button. Then try to create a few BankAccount objects in the console and compare them.\n",
    "\n",
    "- Modify the __init__() method to accept a new parameter - number - and initialize a new number attribute.\n",
    "- Define an __eq__() method that returns True if the number attribute of two objects is equal.\n",
    "- Examine the print statements and the output in the console.\n",
    "\n",
    "**Results**\n",
    "\n",
    "<font color=darkgreen>Great job! Notice that your method compares just the account numbers, but not balances. What would happen if two accounts have the same account number but different balances? The code you wrote will treat these accounts as equal, but it might be better to throw an error - an exception - instead, informing the user that something is wrong. At the end of the chapter, you'll learn how to define your own exception classes to create these kinds of custom errors.</font>"
   ]
  },
  {
   "cell_type": "code",
   "execution_count": 4,
   "metadata": {},
   "outputs": [
    {
     "name": "stdout",
     "output_type": "stream",
     "text": [
      "True\n",
      "False\n"
     ]
    }
   ],
   "source": [
    "class BankAccount:\n",
    "   # MODIFY to initialize a number attribute\n",
    "    def __init__(self, number, balance=0):\n",
    "        self.balance = balance\n",
    "        self.number = number\n",
    "      \n",
    "    def withdraw(self, amount):\n",
    "        self.balance -= amount \n",
    "    \n",
    "    # Define __eq__ that returns True if the number attributes are equal \n",
    "    def __eq__(self, other):\n",
    "        return self.number == other.number   \n",
    "\n",
    "# Create accounts and compare them       \n",
    "acct1 = BankAccount(123, 1000)\n",
    "acct2 = BankAccount(123, 1000)\n",
    "acct3 = BankAccount(456, 1000)\n",
    "print(acct1 == acct2)\n",
    "print(acct1 == acct3)"
   ]
  },
  {
   "cell_type": "markdown",
   "metadata": {},
   "source": [
    "# <font color=darkred>3.3 Checking class equality</font> \n",
    "\n",
    "In the previous exercise, you defined a BankAccount class with a number attribute that was used for comparison. But if you were to compare a BankAccount object to an object of another class that also has a number attribute, you could end up with unexpected results.\n",
    "\n",
    "For example, consider two classes\n",
    "\n",
    "<table style=\"width:90%\">\n",
    "<tr>\n",
    "<td style=\"text-align:left;\">\n",
    "<code>\n",
    "class Phone:\n",
    "    def __init__(self, number):\n",
    "        self.number = number\n",
    "    def __eq__(self, other):\n",
    "        return self.number == other.number\n",
    " \n",
    "pn = Phone(873555333)\n",
    "</code>\n",
    "</td>\n",
    "<td style=\"text-align:left;\">\n",
    "<code>\n",
    "class BankAccount:\n",
    "    def __init__(self, number):\n",
    "        self.number = number\n",
    "    def __eq__(self, other):\n",
    "        return self.number == other.number\n",
    "\n",
    "acct = BankAccount(873555333)\n",
    "</code>\n",
    "</td>\n",
    "</tr>\n",
    "</table>\n",
    "\n",
    "Running acct == pn will return True, even though we're comparing a phone number with a bank account number.\n",
    "\n",
    "It is good practice to check the class of objects passed to the __eq__() method to make sure the comparison makes sense.\n",
    "\n",
    "**Instructions**\n",
    "Both the Phone and the BankAccount classes have been defined. Try running the code as-is using the \"Run code\" button and examine the output.\n",
    "\n",
    "- Modify the definition of BankAccount to only return True if the number attribute is the same and the type() of both objects passed to it is the same.\n",
    "\n",
    "Run the code and examine the output again.\n",
    "\n",
    "**Results**\n",
    "\n",
    "<font color=darkgreen>Perfect! Now only comparing objects of the same class BankAccount could return True. Another way to ensure that an object has the same type as you expect is to use the isinstance(obj, Class) function. This can helpful when handling inheritance, as Python considers an object to be an instance of both the parent and the child class. Try running pn == acct in the console (with reversed order of equality). What does this tell you about the __eq__() method?</font>"
   ]
  },
  {
   "cell_type": "code",
   "execution_count": 5,
   "metadata": {},
   "outputs": [
    {
     "name": "stdout",
     "output_type": "stream",
     "text": [
      "False\n"
     ]
    }
   ],
   "source": [
    "class Phone:\n",
    "    def __init__(self, number):\n",
    "        self.number = number\n",
    "    def __eq__(self, other):\n",
    "        return self.number == other.number\n",
    "\n",
    "class BankAccount:\n",
    "    def __init__(self, number, balance=0):\n",
    "        self.number, self.balance = number, balance\n",
    "      \n",
    "    def withdraw(self, amount):\n",
    "        self.balance -= amount \n",
    "\n",
    "    # MODIFY to add a check for the type()\n",
    "    def __eq__(self, other):\n",
    "        return (self.number == other.number) & (type(self) == type(other))\n",
    "\n",
    "acct = BankAccount(873555333)\n",
    "pn = Phone(873555333)\n",
    "print(acct == pn)"
   ]
  },
  {
   "cell_type": "markdown",
   "metadata": {},
   "source": [
    "# <font color=darkred>3.4 Comparison and inheritance</font> \n",
    "\n",
    "What happens when an object is compared to an object of a child class? Consider the following two classes:\n",
    "\n",
    "<code>\n",
    "class Parent:\n",
    "    def __eq__(self, other):\n",
    "        print(\"Parent's __eq__() called\")\n",
    "        return True\n",
    "class Child(Parent):\n",
    "    def __eq__(self, other):\n",
    "        print(\"Child's __eq__() called\")\n",
    "        return True\n",
    "</code>\n",
    "\n",
    "The Child class inherits from the Parent class, and both implement the __eq__() method that includes a diagnostic printout.\n",
    "\n",
    "**Instructions**\n",
    "- Which __eq__() method will be called when the following code is run?\n",
    "\n",
    "<code>\n",
    "p = Parent()\n",
    "c = Child()\n",
    "p == c \n",
    "</code>\n",
    "\n",
    "Feel free to experiment in the console -- the classes have already been defined for you.\n",
    "\n",
    "**Possible Answers**\n",
    "\n",
    "- Parent's __eq__() method will be called. <font color=gray>Not exactly! You can use the script pane and console to experiment.</font>\n",
    "- <font color=red>Child's __eq__() method will be called.</font>\n",
    "- The code will cause an error.\n",
    "\n",
    "**Results**\n",
    "\n",
    "<font color=darkgreen>Correct! Python always calls the child's __eq__() method when comparing a child object to a parent object.</font>"
   ]
  },
  {
   "cell_type": "code",
   "execution_count": 6,
   "metadata": {},
   "outputs": [
    {
     "data": {
      "text/plain": [
       "True"
      ]
     },
     "metadata": {},
     "output_type": "display_data"
    },
    {
     "data": {
      "text/plain": [
       "True"
      ]
     },
     "metadata": {},
     "output_type": "display_data"
    }
   ],
   "source": [
    "class Parent:\n",
    "    def __eq__(self, other):\n",
    "        return False\n",
    "\n",
    "class Child(Parent):\n",
    "    def __eq__(self, other):\n",
    "        return True\n",
    "\n",
    "p = Parent()\n",
    "c = Child()\n",
    "\n",
    "display(p == c)\n",
    "display(c == p)"
   ]
  },
  {
   "cell_type": "code",
   "execution_count": 7,
   "metadata": {},
   "outputs": [
    {
     "data": {
      "text/plain": [
       "False"
      ]
     },
     "metadata": {},
     "output_type": "display_data"
    },
    {
     "data": {
      "text/plain": [
       "True"
      ]
     },
     "metadata": {},
     "output_type": "display_data"
    }
   ],
   "source": [
    "class Father:\n",
    "    def __eq__(self, other):\n",
    "        return False\n",
    "\n",
    "class Mother:\n",
    "    def __eq__(self, other):\n",
    "        return True\n",
    "\n",
    "f = Father()\n",
    "m = Mother()\n",
    "\n",
    "display(f == m)\n",
    "display(m == f)"
   ]
  },
  {
   "cell_type": "markdown",
   "metadata": {},
   "source": [
    "# <font color=darkred>3.5 Operator overloading: string representation</font>\n",
    "\n",
    "1. Operator overloading: string representation\n",
    ">Great job with comparison! Let's continue to improve the integration of our custom classes with Python's built-in operators.\n",
    "\n",
    "2. Printing an object\n",
    ">In the last video, we discovered that calling print on an object of a custom class returns the object's address in memory by default. But there are plenty of classes for which the printout is much more informative. For example, if we print a numpy array or a DataFrame, we'll see the actual data contained in the object.\n",
    "\n",
    "3. str vs repr\n",
    ">There are two special methods that we can define in a class that will return a printable representation of an object. The double-underscore-str-double-undersrore method is executed when we call print or str on an object, and the repr method is executed when we call repr on the object, or when we print it in the console without calling print explicitly. The difference is that str is supposed to give an informal representation, suitable for an end user, and repr is mainly used by developers. The best practice is to use repr to print a string that can be used to reproduce the object -- for example, with numpy array, this shows the exact method call that was used to create the object. If you only choose to implement one of them, chose repr, because it is also used as a fall-back for print when str is not defined.\n",
    "\n",
    "4. Implementation: str\n",
    ">Let's start by implementing the str method. It shouldn't accept any arguments besides self, and it should return a string. Here, the string representation of a customer will consist of the word Customer, then on the next line , name, colon, followed by the customer's name, then balance, colon, and the customer's balance. Just a quick reminder: the triple quotes are used in Python to define multi-line strings, and the format method is used on strings to substitute values inside curly brackets with variables. If we create a customer object now and call print on that object, we will see a user-friendly output.\n",
    "\n",
    "5. Implementation: repr\n",
    ">Similarly, we can implement the repr method, which also accepts one argument self and returns a string. Following best practices, we make sure that repr returns the string that can be used to reproduce the object, in this case, the exact initialization call. Then if we try to print the object in the console, we'll see the the output of repr. Moreover, in this class we didn't define the str method, so repr will be used as a fallback for the actual print method as well. Notice the single quotes around the name in the return statement. Without the quotes, the name of the customer would be substituted into the string as-is, but the point of repr is to give the exact call needed to reproduce the the object, where the name should be in quotes. Notice also that we can use single quotes inside double quotes and vice versa.\n",
    "\n",
    "6. Let's practice!\n",
    ">Now, head over to the exercises and try it out yourself!"
   ]
  },
  {
   "cell_type": "code",
   "execution_count": 8,
   "metadata": {},
   "outputs": [
    {
     "name": "stdout",
     "output_type": "stream",
     "text": [
      "<__main__.Customer object at 0x0000023911E4D070>\n"
     ]
    },
    {
     "data": {
      "text/plain": [
       "<__main__.Customer at 0x23911e4d070>"
      ]
     },
     "execution_count": 8,
     "metadata": {},
     "output_type": "execute_result"
    }
   ],
   "source": [
    "# Printing an object\n",
    "class Customer:\n",
    "    def __init__(self, name, balance):\n",
    "        self.name, self.balance = name, balance\n",
    "\n",
    "cust = Customer(\"Maryam Azar\", 3000)\n",
    "print(cust)\n",
    "cust"
   ]
  },
  {
   "cell_type": "code",
   "execution_count": 9,
   "metadata": {},
   "outputs": [
    {
     "name": "stdout",
     "output_type": "stream",
     "text": [
      "\n",
      "            Customer:\n",
      "                name: Maryam Azar\n",
      "                balance: 3000\n",
      "        \n"
     ]
    },
    {
     "data": {
      "text/plain": [
       "<__main__.Customer at 0x23911e66580>"
      ]
     },
     "execution_count": 9,
     "metadata": {},
     "output_type": "execute_result"
    }
   ],
   "source": [
    "# Implementation: str\n",
    "class Customer:\n",
    "    def __init__(self, name, balance):\n",
    "        self.name, self.balance = name, balance\n",
    "    def __str__(self):\n",
    "        cust_str = \"\"\"\n",
    "            Customer:\n",
    "                name: {name}\n",
    "                balance: {balance}\n",
    "        \"\"\".format(name = self.name, balance = self.balance)\n",
    "        return cust_str\n",
    "\n",
    "cust = Customer(\"Maryam Azar\", 3000)\n",
    "\n",
    "# Will implicitly call __str__()\n",
    "print(cust)\n",
    "cust"
   ]
  },
  {
   "cell_type": "code",
   "execution_count": 10,
   "metadata": {},
   "outputs": [
    {
     "name": "stdout",
     "output_type": "stream",
     "text": [
      "\n",
      "            Customer:\n",
      "                name: Maryam Azar\n",
      "                balance: 3000\n",
      "        \n"
     ]
    },
    {
     "data": {
      "text/plain": [
       "Customer('Maryam Azar', 3000)"
      ]
     },
     "execution_count": 10,
     "metadata": {},
     "output_type": "execute_result"
    }
   ],
   "source": [
    "# Implementation: repr\n",
    "class Customer:\n",
    "    def __init__(self, name, balance):\n",
    "        self.name, self.balance = name, balance\n",
    "    def __str__(self):\n",
    "        cust_str = \"\"\"\n",
    "            Customer:\n",
    "                name: {name}\n",
    "                balance: {balance}\n",
    "        \"\"\".format(name = self.name, balance = self.balance)\n",
    "        return cust_str\n",
    "    def __repr__(self):\n",
    "        # Notice the '...' around name\n",
    "        return \"Customer('{name}', {balance})\".format(name = self.name, balance = self.balance)\n",
    "\n",
    "cust = Customer(\"Maryam Azar\", 3000)\n",
    "\n",
    "print(cust) # <--- # Will implicitly call __str__()\n",
    "cust        # <--- # Will implicitly call __repr__()"
   ]
  },
  {
   "cell_type": "markdown",
   "metadata": {},
   "source": [
    "# <font color=darkred>3.6 String formatting review</font> \n",
    "\n",
    "Before you start defining custom string representations for objects, make sure you are comfortable working with strings and formatting them. If you need a refresher, take a minute to look through the official <a url='https://docs.python.org/3/library/stdtypes.html#str.format'>Python tutorial on string formatting</a>.\n",
    "\n",
    "In this exercise, consider the following code\n",
    "\n",
    "<code>\n",
    "my_num = 5\n",
    "my_str = \"Hello\"\n",
    "\n",
    "f = ...\n",
    "print(f)\n",
    "</code>\n",
    "\n",
    "where the definition for f is missing.\n",
    "\n",
    "Here are a few possible variants for the definition of f:\n",
    "\n",
    "1. <code>f = \"my_num is {0}, and my_str is {1}.\".format(my_num, my_str)</code>\n",
    "2. <code>f = \"my_num is {}, and my_str is \\\"{}\\\".\".format(my_num, my_str)</code>\n",
    "3. <code>f = \"my_num is {n}, and my_str is '{s}'.\".format(n=my_num, s=my_str)</code>\n",
    "4. <code>f = \"my_num is {my_num}, and my_str is '{my_str}'.\".format()</code>\n",
    "\n",
    "**Instructions**\n",
    "Pick the definition of f that will make the code above print exactly the following:\n",
    "<code>\n",
    "my_num is 5, and my_str is \"Hello\".\n",
    "</code>\n",
    "\n",
    "There is only one correct answer! Feel free to use the script pane or console to experiment.\n",
    "\n",
    "**Possible Answers**\n",
    "\n",
    "- 1\n",
    "- <font color=red>2</font>\n",
    "- 3\n",
    "- 4\n",
    "\n",
    "**Results**\n",
    "\n",
    "<font color=darkgreen>Great work! To recap: to format a string with variables, you can either use keyword arguments in .format ('Insert {n} here'.format(n=num)), refer to them by position index explicitly (like 'Insert {0} here'.format(num)) or implicitly (like 'Insert {} here'.format(num)). You can use double quotation marks inside single quotation marks and the way around, but to nest the same set of quotation marks, you need to escape them with a slash like \\\".</font>"
   ]
  },
  {
   "cell_type": "markdown",
   "metadata": {},
   "source": [
    "# <font color=darkred>3.7 String representation of objects</font> \n",
    "\n",
    "There are two special methods in Python that return a string representation of an object. __str__() is called when you use print() or str() on an object, and __repr__() is called when you use repr() on an object, print the object in the console without calling print(), or instead of __str__() if __str__() is not defined.\n",
    "\n",
    "__str__() is supposed to provide a \"user-friendly\" output describing an object, and __repr__() should return the expression that, when evaluated, will return the same object, ensuring the reproducibility of your code.\n",
    "\n",
    "In this exercise, you will continue working with the Employee class from Chapter 2.\n",
    "\n",
    "**Instructions**\n",
    "- Add the __str__() method to Employee that satisfies the following:\n",
    "    - If emp is an Employee object with name \"Amar Howard\" and salary of 40000, then print(emp) outputs\n",
    "<code>\n",
    "Employee name: Amar Howard\n",
    "Employee salary: 40000\n",
    "</code>\n",
    "\n",
    "\n",
    "- Add the __repr__() method to Employee that satisfies the following:\n",
    "    - If emp is an Employee object with name \"Amar Howard\" and salary of 40000, then repr(emp) outputs\n",
    "<code>\n",
    "Employee(\"Amar Howard\", 40000)\n",
    "</code>\n",
    "\n",
    "**Results**\n",
    "\n",
    "<font color=darkgreen>Fantastic! You should always define at least one of the string representation methods for your object to make sure that the person using your class can get important information about the object easily.</font>"
   ]
  },
  {
   "cell_type": "code",
   "execution_count": 11,
   "metadata": {},
   "outputs": [
    {
     "name": "stdout",
     "output_type": "stream",
     "text": [
      "Employee name: Amar Howard\n",
      "Employee salary: $30,000.00 \n",
      "\n",
      "Employee name: Carolyn Ramirez\n",
      "Employee salary: $35,000.00 \n",
      "\n",
      "Employee(\"Amar Howard\", 30000) \n",
      "\n",
      "Employee(\"Carolyn Ramirez\", 35000) \n",
      "\n"
     ]
    },
    {
     "data": {
      "text/plain": [
       "Employee(\"Amar Howard\", 30000)"
      ]
     },
     "metadata": {},
     "output_type": "display_data"
    },
    {
     "data": {
      "text/plain": [
       "Employee(\"Carolyn Ramirez\", 35000)"
      ]
     },
     "metadata": {},
     "output_type": "display_data"
    }
   ],
   "source": [
    "from datetime import datetime\n",
    "\n",
    "class Employee:\n",
    "    \"\"\"Create Employee objects.\"\"\"\n",
    "    MIN_SALARY = 30000\n",
    "    \n",
    "    def __init__(self, name, salary=0):\n",
    "        self.name = name\n",
    "        if salary >= Employee.MIN_SALARY:\n",
    "          self.salary = salary\n",
    "        else:\n",
    "          self.salary = Employee.MIN_SALARY\n",
    "          \n",
    "        # Add the hire_date attribute and set it to today's date\n",
    "        self.hire_date = datetime.today()\n",
    "        \n",
    "    def give_raise(self, amount):\n",
    "        self.salary += amount\n",
    "\n",
    "    def monthly_salary(self):\n",
    "        return self.salary/12\n",
    "    \n",
    "    @classmethod\n",
    "    def from_file(cls, filename):\n",
    "        with open(filename, \"r\") as f:\n",
    "            name = f.readline()\n",
    "        return cls(name)\n",
    "    \n",
    "    def __str__(self):\n",
    "        return \"Employee name: {name}\\nEmployee salary: ${salary:,.2f}\".format(name=self.name, salary=self.salary)\n",
    "    \n",
    "    def __repr__(self):\n",
    "        return 'Employee(\"{}\", {})'.format(self.name, self.salary) \n",
    "\n",
    "emp1 = Employee(\"Amar Howard\", 30000)\n",
    "emp2 = Employee(\"Carolyn Ramirez\", 35000)\n",
    "print(emp1, '\\n')\n",
    "print(emp2, '\\n')\n",
    "\n",
    "print(repr(emp1), '\\n')\n",
    "print(repr(emp2), '\\n')\n",
    "\n",
    "display(emp1)\n",
    "display(emp2)"
   ]
  },
  {
   "cell_type": "markdown",
   "metadata": {},
   "source": [
    "# <font color=darkred>3.8 Exceptions</font>\n",
    "\n",
    "1. Exceptions\n",
    ">Welcome back! Let's talk about exceptions. We'll start with a brief recap, and then learn how to define custom exceptions.\n",
    "\n",
    "2. Errors are exceptions\n",
    ">Some statements in Python will cause an error when you try to execute them, for example dividing by zero, combining objects of incompatible types, and many others. These errors are called exceptions. Many exceptions have special names, like ZeroDivisionError or TypeError that you see here. If exceptions not handled correctly, they will stop the execution of your program entirely. This often makes sense -- for example, if I'm trying to use a variable that I never defined, something must have gone very wrong with my script -- but other times it's undesirable. For example, a division by zero error might be caused by missing data, which isn't always a good reason to terminate the program.\n",
    "\n",
    "3. Exception handling\n",
    ">Instead, you might want to execute special code to handle this case. To catch an exception and handle it, use the try-except-finally code: wrap the code that you're worried about in a try block, then add an except block, followed by the name of the particular exception you want to handle, and the code that should be executed when the exception is raised. Then if this particular exception does happen, the program will not terminate, but execute the code in the except block instead. You can also have multiple exception blocks. And finally, you can use the optional \"finally\" block that will contain the code that runs no matter what. This block is best used for cleaning up like, for example, closing opened files.\n",
    "\n",
    "4. Raising exceptions\n",
    ">Sometimes, you want to raise exceptions yourself, for example when some conditions aren't satisfied. You can use the raise keyword, optionally followed by a specific error message in parentheses. The user of the code can then decide to handle the error using try/except.\n",
    "\n",
    "5. Exceptions are classes\n",
    ">In Python, exceptions are actually classes inherited from built-in classes BaseException or Exception. Here's a glimpse into the huge built-in exception class hierarchy. For example, there's a general class of arithmetic errors, of which zero division error is a subclass.\n",
    ">\n",
    ">(1) https://docs.python.org/3/library/exceptions.html\n",
    "\n",
    "6. Custom exceptions\n",
    ">You can define your own exceptions in Python! Custom exception classes are useful because they can be specific to your application and can provide more granular handling of errors. To define a custom exception, just define a class that inherits from the built-in Exception class or one of its subclasses. The class itself can be empty - inheritance alone is enough to ensure that Python will treat this class as an exception class. For example, let's define a BalanceError class that inherits from Exception. Then, in our favorite customer class we raise an exception if a negative balance value is passed to the constructor.\n",
    "\n",
    "7. Exception in constructor\n",
    ">If we attempt to create a customer with a negative account balance, the BalanceError exception is raised. In the first chapter, we dealt with this situation by merely printing a message, and then creating an object with zero balance. Handling it with exceptions is better, because in this case, the constructor terminates, and the customer object is not created at all, instead of being implicitly created with account balance set to zero, despite the error. This sends a clear signal to the user of the Customer class that something went wrong. The user, on their side,\n",
    "\n",
    "8. Catching custom exceptions\n",
    ">can decide to handle this exception using try-except block if they want, but we, the author of the code, do not make this decision for them. For example here, the BalanceError is caught in the except block and if that occurs, a customer is instead created with zero balance.\n",
    "\n",
    "9. Let's practice!\n",
    ">In the exercises, you'll explore creating and handling whole hierarchies of custom exceptions. Have fun!"
   ]
  },
  {
   "cell_type": "code",
   "execution_count": 12,
   "metadata": {},
   "outputs": [],
   "source": [
    "class BalanceError(Exception): pass\n",
    "\n",
    "class Customer:\n",
    "    def __init__(self, name, balance):\n",
    "        if balance < 0 :\n",
    "            raise BalanceError(\"Balance has to be non-negative!\")\n",
    "        else:\n",
    "            self.name, self.balance = name, balance"
   ]
  },
  {
   "cell_type": "code",
   "execution_count": 13,
   "metadata": {},
   "outputs": [
    {
     "name": "stdout",
     "output_type": "stream",
     "text": [
      "\u001b[1;31m---------------------------------------------------------------------------\u001b[0m\n",
      "\u001b[1;31mBalanceError\u001b[0m                              Traceback (most recent call last)\n",
      "\u001b[1;32m<ipython-input-13-e6bfccc5e5fe>\u001b[0m in \u001b[0;36m<module>\u001b[1;34m\u001b[0m\n",
      "\u001b[1;32m----> 1\u001b[1;33m \u001b[0mmy_cust\u001b[0m \u001b[1;33m=\u001b[0m \u001b[0mCustomer\u001b[0m\u001b[1;33m(\u001b[0m\u001b[1;34m\"Larry Torres\"\u001b[0m\u001b[1;33m,\u001b[0m \u001b[1;33m-\u001b[0m\u001b[1;36m100\u001b[0m\u001b[1;33m)\u001b[0m\u001b[1;33m\u001b[0m\u001b[1;33m\u001b[0m\u001b[0m\n",
      "\u001b[0m\n",
      "\u001b[1;32m<ipython-input-12-274738ad729f>\u001b[0m in \u001b[0;36m__init__\u001b[1;34m(self, name, balance)\u001b[0m\n",
      "\u001b[0;32m      4\u001b[0m     \u001b[1;32mdef\u001b[0m \u001b[0m__init__\u001b[0m\u001b[1;33m(\u001b[0m\u001b[0mself\u001b[0m\u001b[1;33m,\u001b[0m \u001b[0mname\u001b[0m\u001b[1;33m,\u001b[0m \u001b[0mbalance\u001b[0m\u001b[1;33m)\u001b[0m\u001b[1;33m:\u001b[0m\u001b[1;33m\u001b[0m\u001b[1;33m\u001b[0m\u001b[0m\n",
      "\u001b[0;32m      5\u001b[0m         \u001b[1;32mif\u001b[0m \u001b[0mbalance\u001b[0m \u001b[1;33m<\u001b[0m \u001b[1;36m0\u001b[0m \u001b[1;33m:\u001b[0m\u001b[1;33m\u001b[0m\u001b[1;33m\u001b[0m\u001b[0m\n",
      "\u001b[1;32m----> 6\u001b[1;33m             \u001b[1;32mraise\u001b[0m \u001b[0mBalanceError\u001b[0m\u001b[1;33m(\u001b[0m\u001b[1;34m\"Balance has to be non-negative!\"\u001b[0m\u001b[1;33m)\u001b[0m\u001b[1;33m\u001b[0m\u001b[1;33m\u001b[0m\u001b[0m\n",
      "\u001b[0m\u001b[0;32m      7\u001b[0m         \u001b[1;32melse\u001b[0m\u001b[1;33m:\u001b[0m\u001b[1;33m\u001b[0m\u001b[1;33m\u001b[0m\u001b[0m\n",
      "\u001b[0;32m      8\u001b[0m             \u001b[0mself\u001b[0m\u001b[1;33m.\u001b[0m\u001b[0mname\u001b[0m\u001b[1;33m,\u001b[0m \u001b[0mself\u001b[0m\u001b[1;33m.\u001b[0m\u001b[0mbalance\u001b[0m \u001b[1;33m=\u001b[0m \u001b[0mname\u001b[0m\u001b[1;33m,\u001b[0m \u001b[0mbalance\u001b[0m\u001b[1;33m\u001b[0m\u001b[1;33m\u001b[0m\u001b[0m\n",
      "\n",
      "\u001b[1;31mBalanceError\u001b[0m: Balance has to be non-negative!\n"
     ]
    }
   ],
   "source": [
    "%%expect_exception BalanceError\n",
    "my_cust = Customer(\"Larry Torres\", -100)"
   ]
  },
  {
   "cell_type": "code",
   "execution_count": 14,
   "metadata": {},
   "outputs": [
    {
     "name": "stdout",
     "output_type": "stream",
     "text": [
      "\u001b[1;31m---------------------------------------------------------------------------\u001b[0m\n",
      "\u001b[1;31mNameError\u001b[0m                                 Traceback (most recent call last)\n",
      "\u001b[1;32m<ipython-input-14-6dbfbecebf6b>\u001b[0m in \u001b[0;36m<module>\u001b[1;34m\u001b[0m\n",
      "\u001b[1;32m----> 1\u001b[1;33m \u001b[0mmy_cust\u001b[0m\u001b[1;33m\u001b[0m\u001b[1;33m\u001b[0m\u001b[0m\n",
      "\u001b[0m\n",
      "\u001b[1;31mNameError\u001b[0m: name 'my_cust' is not defined\n"
     ]
    }
   ],
   "source": [
    "%%expect_exception NameError\n",
    "my_cust"
   ]
  },
  {
   "cell_type": "code",
   "execution_count": 15,
   "metadata": {},
   "outputs": [],
   "source": [
    "# Catching custom exceptions\n",
    "try:\n",
    "    cust = Customer(\"Larry Torres\", -100)\n",
    "except BalanceError:\n",
    "    cust = Customer(\"Larry Torres\", 0)"
   ]
  },
  {
   "cell_type": "markdown",
   "metadata": {},
   "source": [
    "# <font color=darkred>3.9 Catching exceptions</font>\n",
    "\n",
    "**Instructions**\n",
    "\n",
    "Before you start writing your own custom exceptions, let's make sure you have the basics of handling exceptions down.\n",
    "\n",
    "In this exercise, you are given a function invert_at_index(x, ind) that takes two arguments, a list x and an index ind, and inverts the element of the list at that index. For example invert_at_index([5,6,7], 1) returns 1/6, or 0.166666 .\n",
    "\n",
    "Try running the code as-is and examine the output in the console. There are two unsafe operations in this function: first, if the element that we're trying to invert has the value 0, then the code will cause a ZeroDivisionError exception. Second, if the index passed to the function is out of range for the list, the code will cause a IndexError. In both cases, the script will be interrupted, which might not be desirable.\n",
    "\n",
    "**Results**\n",
    "- Use a try - except - except pattern (with two except blocks) inside the function to catch and handle two exceptions as follows:\n",
    "    - try executing the code as-is,\n",
    "    - if ZeroDivisionError occurs, print \"Cannot divide by zero!\",\n",
    "    - if IndexError occurs, print \"Index out of range!\"\n",
    "\n",
    "You know you got it right if the code runs without errors, and the output in the console is:\n",
    "<code>\n",
    "0.16666666666666666\n",
    "Cannot divide by zero!\n",
    "None\n",
    "Index out of range!\n",
    "None\n",
    "</code>\n",
    "\n",
    "<font color=darkgreen>Great job! Of course, this is only a toy example to illustrate the structure: you can do much more in the except block than just print a message. For example, it might make sense for a function to return a special value when an error occurs. It's important to note, though, that this code will only be able to handle the two particular errors specified in the except blocks. Any other error would still terminate the program.</font>"
   ]
  },
  {
   "cell_type": "code",
   "execution_count": 16,
   "metadata": {},
   "outputs": [
    {
     "name": "stdout",
     "output_type": "stream",
     "text": [
      "0.16666666666666666\n",
      "Cannot divide by zero!\n",
      "None\n",
      "Index out of range!\n",
      "None\n"
     ]
    }
   ],
   "source": [
    "# MODIFY the function to catch exceptions\n",
    "def invert_at_index(x, ind):\n",
    "    try:\n",
    "        return 1/x[ind]\n",
    "    except ZeroDivisionError:\n",
    "        print(\"Cannot divide by zero!\")\n",
    "    except IndexError:\n",
    "        print(\"Index out of range!\")\n",
    " \n",
    "a = [5,6,0,7]\n",
    "\n",
    "# Works okay\n",
    "print(invert_at_index(a, 1))\n",
    "\n",
    "# Potential ZeroDivisionError\n",
    "print(invert_at_index(a, 2))\n",
    "\n",
    "# Potential IndexError\n",
    "print(invert_at_index(a, 5))"
   ]
  },
  {
   "cell_type": "markdown",
   "metadata": {},
   "source": [
    "# <font color=darkred>3.10 Custom exceptions</font> \n",
    "\n",
    "You don't have to rely solely on built-in exceptions like IndexError: you can define your own exceptions more specific to your application. You can also define exception hierarchies. All you need to define an exception is a class inherited from the built-in Exception class or one of its subclasses.\n",
    "\n",
    "In Chapter 1, you defined an Employee class and used print statements and default values to handle errors like creating an employee with a salary below the minimum or giving a raise that is too big. A better way to handle this situation is to use exceptions. Because these errors are specific to our application (unlike, for example, a division by zero error which is universal), it makes sense to use custom exception classes.\n",
    "\n",
    "**Instructions**\n",
    "- Define an empty class SalaryError inherited from the built-in ValueError class.\n",
    "- Define an empty class BonusError inherited from the SalaryError class.\n",
    "- Complete the definition of __init__() to raise a SalaryError with the message \"Salary is too low!\" if the salary parameter is less than MIN_SALARY class attribute.\n",
    "    - There's no need for else because raise terminates the program anyway.\n",
    "- Examine the give_bonus() method, and the rewrite it using exceptions instead of print statements:\n",
    "    - raise a BonusError if the bonus amount is too high;\n",
    "    - raise a SalaryError if the result of adding the bonus would be too low.\n",
    "\n",
    "**Results**\n",
    "\n",
    "<font color=darkgreen>Wonderful! Notice that if you raise an exception inside an if statement, you don't need to add an else branch to run the rest of the code. Because raise terminates the function, the code after raise will only be executed if an exception did not occur.</font>"
   ]
  },
  {
   "cell_type": "code",
   "execution_count": 17,
   "metadata": {},
   "outputs": [],
   "source": [
    "from datetime import datetime\n",
    "\n",
    "# Define SalaryError inherited from ValueError\n",
    "class SalaryError(ValueError): pass\n",
    "\n",
    "# Define BonusError inherited from SalaryError\n",
    "class BonusError(SalaryError): pass\n",
    "\n",
    "# Define Employee class\n",
    "class Employee:\n",
    "    \"\"\"Create Employee objects.\"\"\"\n",
    "    MIN_SALARY = 30000\n",
    "    MAX_BONUS = 5000\n",
    "    \n",
    "    def __init__(self, name, salary=0):\n",
    "        self.name = name\n",
    "        \n",
    "        # If salary is too low\n",
    "        if salary<Employee.MIN_SALARY:\n",
    "            # Raise a SalaryError exception\n",
    "            raise SalaryError(\"Salary is too low!\")\n",
    "        # Assign salary\n",
    "        self.salary = salary\n",
    "          \n",
    "        # Add the hire_date attribute and set it to today's date\n",
    "        self.hire_date = datetime.today()\n",
    "        \n",
    "    def give_bonus(self, amount):\n",
    "        if amount > Employee.MAX_BONUS:\n",
    "           raise BonusError(\"The bonus amount is too high!\")  \n",
    "        if self.salary + amount <  Employee.MIN_SALARY:\n",
    "           raise SalaryError(\"The salary after bonus is too low!\")\n",
    "        self.salary += amount\n",
    "\n",
    "    def monthly_salary(self):\n",
    "        return self.salary/12\n",
    "    \n",
    "    @classmethod\n",
    "    def from_file(cls, filename):\n",
    "        with open(filename, \"r\") as f:\n",
    "            name = f.readline()\n",
    "        return cls(name)\n",
    "    \n",
    "    def __str__(self):\n",
    "        return \"Employee name: {name}\\nEmployee salary: ${salary:,.2f}\".format(name=self.name, salary=self.salary)\n",
    "    \n",
    "    def __repr__(self):\n",
    "        return 'Employee(\"{}\", {})'.format(self.name, self.salary) "
   ]
  },
  {
   "cell_type": "markdown",
   "metadata": {},
   "source": [
    "# <font color=darkred>3.11 Handling exception hierarchies</font> \n",
    "\n",
    "Previously, you defined an Employee class with a method get_bonus() that raises a BonusError and a SalaryError depending on parameters. But the BonusError exception was inherited from the SalaryError exception. How does exception inheritance affect exception handling?\n",
    "\n",
    "The Employee class has been defined for you. It has a minimal salary of 30000 and a maximal bonus amount of 5000.\n",
    "\n",
    "**Instructions**\n",
    "- Experiment with the following code\n",
    "><code>emp = Employee(\"Katze Rik\", salary=50000)\n",
    ">try:\n",
    ">    emp.give_bonus(7000)\n",
    ">except SalaryError:\n",
    ">    print(\"SalaryError caught!\")\n",
    ">try:\n",
    ">    emp.give_bonus(7000)\n",
    ">except BonusError:\n",
    ">    print(\"BonusError caught!\")\n",
    ">try:\n",
    ">    emp.give_bonus(-100000)\n",
    ">except SalaryError:\n",
    ">    print(\"SalaryError caught again!\")\n",
    ">try:\n",
    ">    emp.give_bonus(-100000)\n",
    ">except BonusError:\n",
    ">    print(\"BonusError caught again!\")</code>\n",
    "\n",
    "- and select the statement which is TRUE about handling parent/child exception classes:\n",
    "    \n",
    "    **Possible Answers**\n",
    "    - <font color=red>except block for a parent exception will catch child exceptions</font>\n",
    "    - except block for a parent exception will not catch child exceptions"
   ]
  },
  {
   "cell_type": "code",
   "execution_count": 18,
   "metadata": {},
   "outputs": [
    {
     "name": "stdout",
     "output_type": "stream",
     "text": [
      "SalaryError caught!\n"
     ]
    }
   ],
   "source": [
    "emp = Employee(\"Katze Rik\", salary=50000)\n",
    "try:\n",
    "  emp.give_bonus(7000)\n",
    "except SalaryError:\n",
    "  print(\"SalaryError caught!\")"
   ]
  },
  {
   "cell_type": "code",
   "execution_count": 19,
   "metadata": {},
   "outputs": [
    {
     "name": "stdout",
     "output_type": "stream",
     "text": [
      "BonusError caught!\n"
     ]
    }
   ],
   "source": [
    "try:\n",
    "  emp.give_bonus(7000)\n",
    "except BonusError:\n",
    "  print(\"BonusError caught!\")"
   ]
  },
  {
   "cell_type": "code",
   "execution_count": 20,
   "metadata": {},
   "outputs": [
    {
     "name": "stdout",
     "output_type": "stream",
     "text": [
      "SalaryError caught again!\n"
     ]
    }
   ],
   "source": [
    "try:\n",
    "  emp.give_bonus(-100000)\n",
    "except SalaryError:\n",
    "  print(\"SalaryError caught again!\")"
   ]
  },
  {
   "cell_type": "code",
   "execution_count": 21,
   "metadata": {},
   "outputs": [
    {
     "name": "stdout",
     "output_type": "stream",
     "text": [
      "\u001b[1;31m---------------------------------------------------------------------------\u001b[0m\n",
      "\u001b[1;31mSalaryError\u001b[0m                               Traceback (most recent call last)\n",
      "\u001b[1;32m<ipython-input-21-ccac5154129c>\u001b[0m in \u001b[0;36m<module>\u001b[1;34m\u001b[0m\n",
      "\u001b[0;32m      1\u001b[0m \u001b[1;32mtry\u001b[0m\u001b[1;33m:\u001b[0m\u001b[1;33m\u001b[0m\u001b[1;33m\u001b[0m\u001b[0m\n",
      "\u001b[1;32m----> 2\u001b[1;33m   \u001b[0memp\u001b[0m\u001b[1;33m.\u001b[0m\u001b[0mgive_bonus\u001b[0m\u001b[1;33m(\u001b[0m\u001b[1;33m-\u001b[0m\u001b[1;36m100000\u001b[0m\u001b[1;33m)\u001b[0m\u001b[1;33m\u001b[0m\u001b[1;33m\u001b[0m\u001b[0m\n",
      "\u001b[0m\u001b[0;32m      3\u001b[0m \u001b[1;32mexcept\u001b[0m \u001b[0mBonusError\u001b[0m\u001b[1;33m:\u001b[0m\u001b[1;33m\u001b[0m\u001b[1;33m\u001b[0m\u001b[0m\n",
      "\u001b[0;32m      4\u001b[0m   \u001b[0mprint\u001b[0m\u001b[1;33m(\u001b[0m\u001b[1;34m\"BonusError caught again!\"\u001b[0m\u001b[1;33m)\u001b[0m\u001b[1;33m\u001b[0m\u001b[1;33m\u001b[0m\u001b[0m\n",
      "\n",
      "\u001b[1;32m<ipython-input-17-2cf9a5bad0c6>\u001b[0m in \u001b[0;36mgive_bonus\u001b[1;34m(self, amount)\u001b[0m\n",
      "\u001b[0;32m     30\u001b[0m            \u001b[1;32mraise\u001b[0m \u001b[0mBonusError\u001b[0m\u001b[1;33m(\u001b[0m\u001b[1;34m\"The bonus amount is too high!\"\u001b[0m\u001b[1;33m)\u001b[0m\u001b[1;33m\u001b[0m\u001b[1;33m\u001b[0m\u001b[0m\n",
      "\u001b[0;32m     31\u001b[0m         \u001b[1;32mif\u001b[0m \u001b[0mself\u001b[0m\u001b[1;33m.\u001b[0m\u001b[0msalary\u001b[0m \u001b[1;33m+\u001b[0m \u001b[0mamount\u001b[0m \u001b[1;33m<\u001b[0m  \u001b[0mEmployee\u001b[0m\u001b[1;33m.\u001b[0m\u001b[0mMIN_SALARY\u001b[0m\u001b[1;33m:\u001b[0m\u001b[1;33m\u001b[0m\u001b[1;33m\u001b[0m\u001b[0m\n",
      "\u001b[1;32m---> 32\u001b[1;33m            \u001b[1;32mraise\u001b[0m \u001b[0mSalaryError\u001b[0m\u001b[1;33m(\u001b[0m\u001b[1;34m\"The salary after bonus is too low!\"\u001b[0m\u001b[1;33m)\u001b[0m\u001b[1;33m\u001b[0m\u001b[1;33m\u001b[0m\u001b[0m\n",
      "\u001b[0m\u001b[0;32m     33\u001b[0m         \u001b[0mself\u001b[0m\u001b[1;33m.\u001b[0m\u001b[0msalary\u001b[0m \u001b[1;33m+=\u001b[0m \u001b[0mamount\u001b[0m\u001b[1;33m\u001b[0m\u001b[1;33m\u001b[0m\u001b[0m\n",
      "\u001b[0;32m     34\u001b[0m \u001b[1;33m\u001b[0m\u001b[0m\n",
      "\n",
      "\u001b[1;31mSalaryError\u001b[0m: The salary after bonus is too low!\n"
     ]
    }
   ],
   "source": [
    "%%expect_exception SalaryError\n",
    "try:\n",
    "  emp.give_bonus(-100000)\n",
    "except BonusError:\n",
    "  print(\"BonusError caught again!\")  "
   ]
  },
  {
   "cell_type": "markdown",
   "metadata": {},
   "source": [
    "# <font color=darkred>... Continuation of 3.11 Handling exception hierarchies</font> \n",
    "\n",
    "**Instructions**\n",
    "- Experiment with two pieces of code:\n",
    ">**First piece of code**\n",
    ">\n",
    ">><code>emp = Employee(\"Katze Rik\", 50000)<br>\n",
    ">>try:\n",
    ">>    emp.give_bonus(7000)\n",
    ">>except SalaryError:\n",
    ">>    print(\"SalaryError caught\")\n",
    ">>except BonusError:\n",
    ">>    print(\"BonusError caught\")\n",
    ">></code>  \n",
    ">\n",
    ">**Second piece of code**\n",
    ">\n",
    ">><code>emp = Employee(\"Katze Rik\", 50000)\n",
    ">>try:\n",
    ">>    emp.give_bonus(7000)\n",
    ">>except BonusError:\n",
    ">>    print(\"BonusError caught\")\n",
    ">>except SalaryError:\n",
    ">>    print(\"SalaryError caught\")\n",
    ">></code>\n",
    "\n",
    "- (one catches BonusError before SalaryError, and the other -SalaryError before BonusError)\n",
    "- Select the statement which is TRUE about the order of except blocks:\n",
    "    \n",
    "    **Possible Answers**\n",
    "    - The order of except blocks doesn't matter: the result is the same.\n",
    "    - It's better to include an except block for a parent exception before the block for a child exception to ensure that the most general exception is handled first.\n",
    "    - <font color=red>It's better to include an except block for a child exception before the block for a parent exception, otherwise the child exceptions will be always be caught in the parent block, and the except block for the child will never be executed.</font>\n",
    "\n",
    "**Results**\n",
    "\n",
    "<font color=darkgreen>Exactly! It's better to list the except blocks in the increasing order of specificity, i.e. children before parents, otherwise the child exception will be called in the parent except block.</font>"
   ]
  },
  {
   "cell_type": "code",
   "execution_count": 22,
   "metadata": {},
   "outputs": [
    {
     "name": "stdout",
     "output_type": "stream",
     "text": [
      "SalaryError caught\n"
     ]
    }
   ],
   "source": [
    "emp = Employee(\"Katze Rik\", 50000)\n",
    "try:\n",
    "    emp.give_bonus(7000)\n",
    "except SalaryError:\n",
    "    print(\"SalaryError caught\")\n",
    "except BonusError:\n",
    "    print(\"BonusError caught\")"
   ]
  },
  {
   "cell_type": "code",
   "execution_count": 23,
   "metadata": {},
   "outputs": [
    {
     "name": "stdout",
     "output_type": "stream",
     "text": [
      "BonusError caught\n"
     ]
    }
   ],
   "source": [
    "emp = Employee(\"Katze Rik\", 50000)\n",
    "try:\n",
    "    emp.give_bonus(7000)\n",
    "except BonusError:\n",
    "    print(\"BonusError caught\")\n",
    "except SalaryError:\n",
    "    print(\"SalaryError caught\")"
   ]
  },
  {
   "cell_type": "markdown",
   "metadata": {},
   "source": [
    "# Aditional material\n",
    "\n",
    "- Datacamp course: https://learn.datacamp.com/courses/object-oriented-programming-in-python"
   ]
  }
 ],
 "metadata": {
  "kernelspec": {
   "display_name": "Python 3",
   "language": "python",
   "name": "python3"
  },
  "language_info": {
   "codemirror_mode": {
    "name": "ipython",
    "version": 3
   },
   "file_extension": ".py",
   "mimetype": "text/x-python",
   "name": "python",
   "nbconvert_exporter": "python",
   "pygments_lexer": "ipython3",
   "version": "3.8.8"
  }
 },
 "nbformat": 4,
 "nbformat_minor": 4
}
