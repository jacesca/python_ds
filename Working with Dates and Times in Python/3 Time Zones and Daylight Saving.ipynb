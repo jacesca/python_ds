{
 "cells": [
  {
   "cell_type": "code",
   "execution_count": 1,
   "metadata": {},
   "outputs": [],
   "source": [
    "# Import libraries\n",
    "from datetime import datetime\n",
    "from datetime import timedelta\n",
    "from datetime import timezone\n",
    "\n",
    "from dateutil import tz\n",
    "from dateutil.zoneinfo import get_zonefile_instance\n",
    "\n",
    "from pprint import pprint\n",
    "\n",
    "import pandas as pd"
   ]
  },
  {
   "cell_type": "code",
   "execution_count": 2,
   "metadata": {},
   "outputs": [
    {
     "name": "stdout",
     "output_type": "stream",
     "text": [
      "(290, 8)\n"
     ]
    },
    {
     "data": {
      "text/html": [
       "<div>\n",
       "<style scoped>\n",
       "    .dataframe tbody tr th:only-of-type {\n",
       "        vertical-align: middle;\n",
       "    }\n",
       "\n",
       "    .dataframe tbody tr th {\n",
       "        vertical-align: top;\n",
       "    }\n",
       "\n",
       "    .dataframe thead th {\n",
       "        text-align: right;\n",
       "    }\n",
       "</style>\n",
       "<table border=\"1\" class=\"dataframe\">\n",
       "  <thead>\n",
       "    <tr style=\"text-align: right;\">\n",
       "      <th></th>\n",
       "      <th>start_date</th>\n",
       "      <th>end_date</th>\n",
       "      <th>start_station_number</th>\n",
       "      <th>start_station</th>\n",
       "      <th>end_station_number</th>\n",
       "      <th>end_station</th>\n",
       "      <th>bike_number</th>\n",
       "      <th>member_type</th>\n",
       "    </tr>\n",
       "  </thead>\n",
       "  <tbody>\n",
       "    <tr>\n",
       "      <th>0</th>\n",
       "      <td>2017-10-01 15:23:25</td>\n",
       "      <td>2017-10-01 15:26:26</td>\n",
       "      <td>31038</td>\n",
       "      <td>Glebe Rd &amp; 11th St N</td>\n",
       "      <td>31036</td>\n",
       "      <td>George Mason Dr &amp; Wilson Blvd</td>\n",
       "      <td>W20529</td>\n",
       "      <td>Member</td>\n",
       "    </tr>\n",
       "    <tr>\n",
       "      <th>1</th>\n",
       "      <td>2017-10-01 15:42:57</td>\n",
       "      <td>2017-10-01 17:49:59</td>\n",
       "      <td>31036</td>\n",
       "      <td>George Mason Dr &amp; Wilson Blvd</td>\n",
       "      <td>31036</td>\n",
       "      <td>George Mason Dr &amp; Wilson Blvd</td>\n",
       "      <td>W20529</td>\n",
       "      <td>Casual</td>\n",
       "    </tr>\n",
       "    <tr>\n",
       "      <th>2</th>\n",
       "      <td>2017-10-02 06:37:10</td>\n",
       "      <td>2017-10-02 06:42:53</td>\n",
       "      <td>31036</td>\n",
       "      <td>George Mason Dr &amp; Wilson Blvd</td>\n",
       "      <td>31037</td>\n",
       "      <td>Ballston Metro / N Stuart &amp; 9th St N</td>\n",
       "      <td>W20529</td>\n",
       "      <td>Member</td>\n",
       "    </tr>\n",
       "    <tr>\n",
       "      <th>3</th>\n",
       "      <td>2017-10-02 08:56:45</td>\n",
       "      <td>2017-10-02 09:18:03</td>\n",
       "      <td>31037</td>\n",
       "      <td>Ballston Metro / N Stuart &amp; 9th St N</td>\n",
       "      <td>31295</td>\n",
       "      <td>Potomac &amp; M St NW</td>\n",
       "      <td>W20529</td>\n",
       "      <td>Member</td>\n",
       "    </tr>\n",
       "    <tr>\n",
       "      <th>4</th>\n",
       "      <td>2017-10-02 18:23:48</td>\n",
       "      <td>2017-10-02 18:45:05</td>\n",
       "      <td>31295</td>\n",
       "      <td>Potomac &amp; M St NW</td>\n",
       "      <td>31230</td>\n",
       "      <td>Metro Center / 12th &amp; G St NW</td>\n",
       "      <td>W20529</td>\n",
       "      <td>Member</td>\n",
       "    </tr>\n",
       "  </tbody>\n",
       "</table>\n",
       "</div>"
      ],
      "text/plain": [
       "            start_date             end_date  start_station_number  \\\n",
       "0  2017-10-01 15:23:25  2017-10-01 15:26:26                 31038   \n",
       "1  2017-10-01 15:42:57  2017-10-01 17:49:59                 31036   \n",
       "2  2017-10-02 06:37:10  2017-10-02 06:42:53                 31036   \n",
       "3  2017-10-02 08:56:45  2017-10-02 09:18:03                 31037   \n",
       "4  2017-10-02 18:23:48  2017-10-02 18:45:05                 31295   \n",
       "\n",
       "                          start_station  end_station_number  \\\n",
       "0                  Glebe Rd & 11th St N               31036   \n",
       "1         George Mason Dr & Wilson Blvd               31036   \n",
       "2         George Mason Dr & Wilson Blvd               31037   \n",
       "3  Ballston Metro / N Stuart & 9th St N               31295   \n",
       "4                     Potomac & M St NW               31230   \n",
       "\n",
       "                            end_station bike_number member_type  \n",
       "0         George Mason Dr & Wilson Blvd      W20529      Member  \n",
       "1         George Mason Dr & Wilson Blvd      W20529      Casual  \n",
       "2  Ballston Metro / N Stuart & 9th St N      W20529      Member  \n",
       "3                     Potomac & M St NW      W20529      Member  \n",
       "4         Metro Center / 12th & G St NW      W20529      Member  "
      ]
     },
     "execution_count": 2,
     "metadata": {},
     "output_type": "execute_result"
    }
   ],
   "source": [
    "# Read data\n",
    "bikes_data = pd.read_csv('datasets/capital-onebike.csv') #list of dates\n",
    "print(bikes_data.shape)\n",
    "bikes_data.columns = bikes_data.columns.str.lower().str.replace(' ','_')\n",
    "bikes_data.head()"
   ]
  },
  {
   "cell_type": "code",
   "execution_count": 3,
   "metadata": {},
   "outputs": [
    {
     "data": {
      "text/html": [
       "<div>\n",
       "<style scoped>\n",
       "    .dataframe tbody tr th:only-of-type {\n",
       "        vertical-align: middle;\n",
       "    }\n",
       "\n",
       "    .dataframe tbody tr th {\n",
       "        vertical-align: top;\n",
       "    }\n",
       "\n",
       "    .dataframe thead th {\n",
       "        text-align: right;\n",
       "    }\n",
       "</style>\n",
       "<table border=\"1\" class=\"dataframe\">\n",
       "  <thead>\n",
       "    <tr style=\"text-align: right;\">\n",
       "      <th></th>\n",
       "      <th>start_date</th>\n",
       "      <th>end_date</th>\n",
       "      <th>start_station_number</th>\n",
       "      <th>start_station</th>\n",
       "      <th>end_station_number</th>\n",
       "      <th>end_station</th>\n",
       "      <th>bike_number</th>\n",
       "      <th>member_type</th>\n",
       "    </tr>\n",
       "  </thead>\n",
       "  <tbody>\n",
       "    <tr>\n",
       "      <th>129</th>\n",
       "      <td>2017-11-05 01:56:50</td>\n",
       "      <td>2017-11-05 01:01:04</td>\n",
       "      <td>31615</td>\n",
       "      <td>6th &amp; H St NE</td>\n",
       "      <td>31627</td>\n",
       "      <td>3rd &amp; M St NE</td>\n",
       "      <td>W20529</td>\n",
       "      <td>Member</td>\n",
       "    </tr>\n",
       "  </tbody>\n",
       "</table>\n",
       "</div>"
      ],
      "text/plain": [
       "              start_date             end_date  start_station_number  \\\n",
       "129  2017-11-05 01:56:50  2017-11-05 01:01:04                 31615   \n",
       "\n",
       "     start_station  end_station_number    end_station bike_number member_type  \n",
       "129  6th & H St NE               31627  3rd & M St NE      W20529      Member  "
      ]
     },
     "execution_count": 3,
     "metadata": {},
     "output_type": "execute_result"
    }
   ],
   "source": [
    "bikes_data[bikes_data.start_date=='2017-11-05 01:56:50']"
   ]
  },
  {
   "cell_type": "code",
   "execution_count": 4,
   "metadata": {},
   "outputs": [
    {
     "data": {
      "text/plain": [
       "[{'end': datetime.datetime(2017, 10, 1, 15, 26, 26),\n",
       "  'start': datetime.datetime(2017, 10, 1, 15, 23, 25)},\n",
       " {'end': datetime.datetime(2017, 10, 1, 17, 49, 59),\n",
       "  'start': datetime.datetime(2017, 10, 1, 15, 42, 57)}]"
      ]
     },
     "execution_count": 4,
     "metadata": {},
     "output_type": "execute_result"
    }
   ],
   "source": [
    "# Define global variables\n",
    "onebike_datetimes = [{'end'  : pd.to_datetime(row['end_date']).to_pydatetime(),\n",
    "                      'start': pd.to_datetime(row['start_date']).to_pydatetime()} for i, row in bikes_data.iterrows()]\n",
    "onebike_datetimes[:2]"
   ]
  },
  {
   "cell_type": "markdown",
   "metadata": {},
   "source": [
    "# 3. Time Zones and Daylight Saving\n",
    "\n",
    "In this chapter, you'll learn to confidently tackle the time-related topic that causes people the most trouble: time zones and daylight saving. Continuing with our bike data, you'll learn how to compare clocks around the world, how to gracefully handle \"spring forward\" and \"fall back,\" and how to get up-to-date timezone data from the dateutil library."
   ]
  },
  {
   "cell_type": "markdown",
   "metadata": {},
   "source": [
    "# <font color=darkred>3.1 UTC offsets</font>\n",
    "\n",
    "1. UTC offsets\n",
    ">Sometimes, you really need to know exactly when something happened. Up until now, the datetime objects you have worked with are what is called \"naive\", and can't be compared across different parts of the world. They don't know anything about their time zone.\n",
    "\n",
    "2. Time zones\n",
    ">Why does this matter? Before time zones, each town or city set its clock so that noon was directly overhead.\n",
    "\n",
    "3. Time zones\n",
    ">Another city 100 miles away would also set their clocks to be noon when the sun was overhead.\n",
    "\n",
    "4. Time zones\n",
    ">But this meant that these two cities had clocks that were different, by maybe 15 or 20 minutes. When people moved by foot or horseback, this wasn't a problem.\n",
    "\n",
    "5. Time zones\n",
    ">Then railroads, and later telegraphs, came into existence. Now you could move or communicate with someone 100 or even 1000 miles away fast enough that time had to be consistent.\n",
    "\n",
    "6. Time zones\n",
    ">Governments solved this problem by declaring that all clocks within a wide area would agree on the hour, even if some were ahead or behind of their solar time. The United States, for example, has 4 major time zones, plus one for Alaska and another for Hawaii. Our bike data was collected in Washington, D.C., which observes Eastern time.\n",
    "\n",
    "7. UTC\n",
    ">But since we're not using the sun anymore, how do we know how to set the clock? Because the United Kingdom was the first to standardize its time, everyone in the world sets their clocks relative to the original historical UK standard. This standard time is called UTC. Because all clocks are set relative to UTC, we can compare time around the world. Generally, clocks west of the UK are set earlier than UTC, and clocks east of the UK are set later than UTC. For example, the eastern United States is typically UTC minus 5 hours, while India is typically UTC plus 5 hours 30 minutes.\n",
    "\n",
    "8. UTC\n",
    ">Let's see this in code. As before, you import datetime and timedelta. Now you also import timezone. This will let you specify what timezone the clock was in when our data was recorded.\n",
    "\n",
    "9. UTC\n",
    ">We create a timezone object, which accepts a timedelta that explains how to translate your datetime into UTC. In this case, since the clock that measured our bicycle data set was five hours behind UTC, we create ET to be at UTC-5. We can specify what time zone the clock was in when the last ride started in our data set. The clock that recorded the ride was 5 hours behind UTC. Now if you print it, your datetime includes the UTC offset.\n",
    "\n",
    "10. UTC\n",
    ">Making a datetime \"aware\" of its timezone means you can ask Python new questions. For example, suppose you want to know what the date and time would have been if the clock had been set to India Standard Time instead. First, create a new timezone object set to UTC plus 5 hours 30 minutes. Now use the astimezone() method to ask Python to create a new datetime object corresponding to the same moment, but adjusted to a different time zone. In this case, because clocks in India would have been set 10.5 hours ahead of clocks on the eastern US, the last ride would have taken place on December 31, at 1 hour, 39 minutes, and 3 seconds past midnight local time. Same moment, different clock.\n",
    "\n",
    "11. Adjusting timezone vs changing tzinfo\n",
    ">Finally, there is an important difference between adjusting timezones and changing the tzinfo directly. You can set the tzinfo directly, using the replace() method. Here we've set the tzinfo to be timezone.utc, a convenient object with zero UTC offset. The clock stays the same, but the UTC offset has shifted. Or, just like before, you can call the astimezone() method. Now if we adjust into UTC with astimezone(timezone.utc), we change both the UTC offset and the clock itself.\n",
    "\n",
    "12. UTC Offsets\n",
    ">Now that you have learned about UTC offsets, which allow us to compare times around the world, it's time to practice using them!"
   ]
  },
  {
   "cell_type": "code",
   "execution_count": 5,
   "metadata": {},
   "outputs": [
    {
     "name": "stdout",
     "output_type": "stream",
     "text": [
      "2017-12-30 15:09:03-05:00\n"
     ]
    },
    {
     "data": {
      "text/plain": [
       "datetime.datetime(2017, 12, 30, 15, 9, 3, tzinfo=datetime.timezone(datetime.timedelta(days=-1, seconds=68400)))"
      ]
     },
     "execution_count": 5,
     "metadata": {},
     "output_type": "execute_result"
    }
   ],
   "source": [
    "# US Eastern Standard time zone\n",
    "ET = timezone(timedelta(hours=-5))\n",
    "\n",
    "# Timezone-aware datetime\n",
    "dt = datetime(2017, 12, 30, 15, 9, 3, tzinfo = ET)\n",
    "print(dt)\n",
    "dt"
   ]
  },
  {
   "cell_type": "code",
   "execution_count": 6,
   "metadata": {},
   "outputs": [
    {
     "name": "stdout",
     "output_type": "stream",
     "text": [
      "2017-12-31 01:39:03+05:30\n"
     ]
    },
    {
     "data": {
      "text/plain": [
       "datetime.datetime(2017, 12, 31, 1, 39, 3, tzinfo=datetime.timezone(datetime.timedelta(seconds=19800)))"
      ]
     },
     "execution_count": 6,
     "metadata": {},
     "output_type": "execute_result"
    }
   ],
   "source": [
    "# India Standard time zone\n",
    "IST = timezone(timedelta(hours=5, minutes=30))\n",
    "\n",
    "# Convert to IST\n",
    "print(dt.astimezone(IST))\n",
    "dt.astimezone(IST)"
   ]
  },
  {
   "cell_type": "code",
   "execution_count": 7,
   "metadata": {},
   "outputs": [
    {
     "name": "stdout",
     "output_type": "stream",
     "text": [
      "Timezone -5h (Original data)   : 2017-12-30 15:09:03-05:00\n",
      "Just timezone replaced         : 2017-12-30 15:09:03+00:00\n",
      "Same moment, different timezone: 2017-12-30 20:09:03+00:00\n"
     ]
    }
   ],
   "source": [
    "# Adjusting timezone vs changing tzinfo\n",
    "print('Timezone -5h (Original data)   :', dt)\n",
    "print('Just timezone replaced         :', dt.replace(tzinfo=timezone.utc))\n",
    "\n",
    "# Change original to match UTC\n",
    "print('Same moment, different timezone:', dt.astimezone(timezone.utc))"
   ]
  },
  {
   "cell_type": "markdown",
   "metadata": {},
   "source": [
    "# <font color=darkred>3.2 Creating timezone aware datetimes</font> \n",
    "\n",
    "In this exercise, you will practice setting timezones manually.\n",
    "\n",
    "**Instructions**\n",
    "\n",
    "- Import timezone.\n",
    "- Set the tzinfo to UTC, without using timedelta.\n",
    "\n",
    "\n",
    "- Set pst to be a timezone set for UTC-8.\n",
    "- Set dt's timezone to be pst.\n",
    "\n",
    "\n",
    "- Set tz to be a timezone set for UTC+11.\n",
    "- Set dt's timezone to be tz.\n",
    "\n",
    "**Results**\n",
    "\n",
    "<font color=darkgreen>Great! Did you know that Russia and France are tied for the most number of time zones, with 12 each? The French mainland only has one timezone, but because France has so many overseas dependencies they really add up!</font>"
   ]
  },
  {
   "cell_type": "code",
   "execution_count": 8,
   "metadata": {},
   "outputs": [
    {
     "name": "stdout",
     "output_type": "stream",
     "text": [
      "2017-10-01T15:26:26+00:00\n",
      "2017-10-01T15:26:26-08:00\n",
      "2017-10-01T15:26:26+11:00\n"
     ]
    }
   ],
   "source": [
    "# October 1, 2017 at 15:26:26, UTC\n",
    "dt = datetime(2017, 10, 1, 15, 26, 26, tzinfo=timezone.utc)\n",
    "\n",
    "# Print results\n",
    "print(dt.isoformat())\n",
    "\n",
    "#######################################################################\n",
    "# Create a timezone for Pacific Standard Time, or UTC-8\n",
    "pst = timezone(timedelta(hours=-8))\n",
    "\n",
    "# October 1, 2017 at 15:26:26, UTC-8\n",
    "dt = datetime(2017, 10, 1, 15, 26, 26, tzinfo=pst)\n",
    "\n",
    "# Print results\n",
    "print(dt.isoformat())\n",
    "\n",
    "#######################################################################\n",
    "# Create a timezone for Australian Eastern Daylight Time, or UTC+11\n",
    "aedt = timezone(timedelta(hours=11))\n",
    "\n",
    "# October 1, 2017 at 15:26:26, UTC+11\n",
    "dt = datetime(2017, 10, 1, 15, 26, 26, tzinfo=aedt)\n",
    "\n",
    "# Print results\n",
    "print(dt.isoformat())"
   ]
  },
  {
   "cell_type": "markdown",
   "metadata": {},
   "source": [
    "# <font color=darkred>3.3 Setting timezones</font> \n",
    "\n",
    "Now that you have the hang of setting timezones one at a time, let's look at setting them for the first ten trips that W20529 took.\n",
    "\n",
    "timezone and timedelta have already been imported. Make the change using .replace()\n",
    "\n",
    "**Instructions**\n",
    "- Create edt, a timezone object whose UTC offset is -4 hours.\n",
    "- Within the for loop:\n",
    "    - Set the tzinfo for trip['start'].\n",
    "    - Set the tzinfo for trip['end'].\n",
    "\n",
    "**Results**\n",
    "\n",
    "<font color=darkgreen>Awesome! Did you know that despite being over 2,500 miles (4,200 km) wide (about as wide as the continential United States or the European Union) China has only one official timezone? There's a second, unofficial timezone, too. It is used by much of the Uyghurs population in the Xinjiang province in the far west of China.</font>"
   ]
  },
  {
   "cell_type": "code",
   "execution_count": 9,
   "metadata": {},
   "outputs": [
    {
     "name": "stdout",
     "output_type": "stream",
     "text": [
      "[{'end': datetime.datetime(2017, 10, 1, 15, 26, 26),\n",
      "  'start': datetime.datetime(2017, 10, 1, 15, 23, 25)},\n",
      " {'end': datetime.datetime(2017, 10, 1, 17, 49, 59),\n",
      "  'start': datetime.datetime(2017, 10, 1, 15, 42, 57)}]\n",
      "\n",
      "\n",
      "[{'end': datetime.datetime(2017, 10, 1, 15, 26, 26, tzinfo=datetime.timezone(datetime.timedelta(days=-1, seconds=72000))),\n",
      "  'start': datetime.datetime(2017, 10, 1, 15, 23, 25, tzinfo=datetime.timezone(datetime.timedelta(days=-1, seconds=72000)))},\n",
      " {'end': datetime.datetime(2017, 10, 1, 17, 49, 59, tzinfo=datetime.timezone(datetime.timedelta(days=-1, seconds=72000))),\n",
      "  'start': datetime.datetime(2017, 10, 1, 15, 42, 57, tzinfo=datetime.timezone(datetime.timedelta(days=-1, seconds=72000)))}]\n"
     ]
    }
   ],
   "source": [
    "# Create a timezone object corresponding to UTC-4\n",
    "edt = timezone(timedelta(hours=-4))\n",
    "\n",
    "# Before timezone transformation\n",
    "pprint(onebike_datetimes[:2])\n",
    "print('\\n')\n",
    "\n",
    "# Loop over trips, updating the start and end datetimes to be in UTC-4\n",
    "onebike_timezone = [{'start': trip['start'].replace(tzinfo=edt), \n",
    "                     'end': trip['end'].replace(tzinfo=edt)} for trip in onebike_datetimes]\n",
    "\n",
    "# After timezone transformation\n",
    "pprint(onebike_timezone[:2])"
   ]
  },
  {
   "cell_type": "markdown",
   "metadata": {},
   "source": [
    "# <font color=darkred>3.4 What time did the bike leave in UTC?</font> \n",
    "\n",
    "Having set the timezone for the first ten rides that W20529 took, let's see what time the bike left in UTC. We've already loaded the results of the previous exercise into memory.\n",
    "\n",
    "**Instructions**\n",
    "- Within the for loop, move dt to be in UTC. Use timezone.utc as a convenient shortcut for UTC.\n",
    "\n",
    "**Results**\n",
    "\n",
    "<font color=darkgreen>Excellent! Did you know that there is no official time zone at the North or South pole? Since all the lines of longitude meet each other, it's up to each traveler (or research station) to decide what time they want to use.</font>"
   ]
  },
  {
   "cell_type": "code",
   "execution_count": 10,
   "metadata": {},
   "outputs": [
    {
     "name": "stdout",
     "output_type": "stream",
     "text": [
      "Original: 2017-10-01 15:23:25 | UTC: 2017-10-01T21:23:25+00:00\n",
      "Original: 2017-10-01 15:42:57 | UTC: 2017-10-01T21:42:57+00:00\n",
      "Original: 2017-10-02 06:37:10 | UTC: 2017-10-02T12:37:10+00:00\n",
      "Original: 2017-10-02 08:56:45 | UTC: 2017-10-02T14:56:45+00:00\n",
      "Original: 2017-10-02 18:23:48 | UTC: 2017-10-03T00:23:48+00:00\n",
      "Original: 2017-10-02 18:48:08 | UTC: 2017-10-03T00:48:08+00:00\n",
      "Original: 2017-10-02 19:18:10 | UTC: 2017-10-03T01:18:10+00:00\n",
      "Original: 2017-10-02 19:37:32 | UTC: 2017-10-03T01:37:32+00:00\n",
      "Original: 2017-10-03 08:24:16 | UTC: 2017-10-03T14:24:16+00:00\n",
      "Original: 2017-10-03 18:17:07 | UTC: 2017-10-04T00:17:07+00:00\n"
     ]
    }
   ],
   "source": [
    "# Loop over the trips\n",
    "for trip in onebike_datetimes[:10]:\n",
    "    # Pull out the start\n",
    "    dt = trip['start']\n",
    "    # Move dt to be in UTC\n",
    "    dt = dt.astimezone(timezone.utc)\n",
    "  \n",
    "    # Print the start time in UTC\n",
    "    print('Original:', trip['start'], '| UTC:', dt.isoformat())"
   ]
  },
  {
   "cell_type": "markdown",
   "metadata": {},
   "source": [
    "# <font color=darkred>3.5 Time zone database</font>\n",
    "\n",
    "1. Time zone database\n",
    ">Now that you understand how UTC offsets work, it's time to talk about how you use timezones in practice.\n",
    "\n",
    "2. Time zone database\n",
    ">This is a picture of all of the different time zones in the world, as of 2017. They cut across countries, and within countries, and sometimes one is even totally surrounded by another one. How could you possibly know all of these when you need to align your data to UTC? Do you need to look up the offset for each one in some big spreadsheet somewhere? Can't a computer help with this?\n",
    "\n",
    "3. Time zone database\n",
    ">Thankfully, yes. There is a database called tz, updated 3-4 times a year as timezone rules change. This database is used by computer programs across many programming languages. Because timezone information changes so quickly, it doesn't make sense to bundle it directly into Python. Instead, you will use a package called dateutil.\n",
    "\n",
    "4. Time zone database\n",
    ">Let's start by making a timezone object that corresponds to the eastern United States, where our bicycle data comes from. Within tz, time zones are defined first by the continent they are on, and then by the nearest major city. For example, the time zone used on the eastern seaboard of the United States is 'America/New York'. We fetch this timezone by calling tz.gettz(), and passing 'America/New York' as the string.\n",
    "\n",
    "5. Time zone database\n",
    ">Here are a few more examples: 'America/Mexico_City'. 'Europe/London'. 'Africa/Accra'.\n",
    "\n",
    "6. Time zone database\n",
    ">Let's look at our last ride again. Instead of specifying the UTC offset yourself, you pass the timezone you got from tz. Look at the result, and you can see that it's got the right UTC offset.\n",
    "\n",
    "7. Time zone database\n",
    ">Even more excitingly, this same object will adjust the UTC offset depending on the date and time. If we call datetime() with the time of our first ride, and pass in the same timezone info, we see that it gives us a different UTC offset. We will discuss daylight savings time in the next lesson, but suffice to say that in some places the clocks change twice a year. Instead of having to look up when these things change, we just ask the timezone database to know for us. tz includes rules for UTC offsets going all the way back to the late 1960s, and sometimes earlier. If you have data stretching over a long period of time, and you really care about getting the exact hours and minutes correct, you can use tz to put all of your date and timestamps on to a common scale.\n",
    "\n",
    "8. Time zone database\n",
    ">Now that you have a basic understanding of using the tz class from dateutil, it's time to practice some examples!"
   ]
  },
  {
   "cell_type": "code",
   "execution_count": 11,
   "metadata": {},
   "outputs": [
    {
     "name": "stdout",
     "output_type": "stream",
     "text": [
      "2017-12-30 15:09:03-05:00\n",
      "2017-10-01 15:23:25-04:00\n"
     ]
    }
   ],
   "source": [
    "# Eastern time\n",
    "et = tz.gettz('America/New_York')\n",
    "\n",
    "# Last ride\n",
    "last = datetime(2017, 12, 30, 15, 9, 3, tzinfo=et)\n",
    "print(last)\n",
    "\n",
    "# First ride\n",
    "first = datetime(2017, 10, 1, 15, 23, 25, tzinfo=et)\n",
    "print(first)"
   ]
  },
  {
   "cell_type": "code",
   "execution_count": 12,
   "metadata": {},
   "outputs": [
    {
     "name": "stdout",
     "output_type": "stream",
     "text": [
      "2017-12-30 15:09:03-06:00\n"
     ]
    }
   ],
   "source": [
    "# El Salvador\n",
    "sv = tz.gettz('America/El_Salvador')\n",
    "\n",
    "# Last ride\n",
    "last = datetime(2017, 12, 30, 15, 9, 3, tzinfo=sv)\n",
    "print(last)"
   ]
  },
  {
   "cell_type": "code",
   "execution_count": 13,
   "metadata": {},
   "outputs": [
    {
     "name": "stdout",
     "output_type": "stream",
     "text": [
      "['Zulu', 'W-SU', 'Turkey', 'Singapore', 'ROK', 'ROC', 'Portugal', 'Poland', 'PRC', 'Navajo', 'NZ-CHAT', 'NZ', 'Mexico/BajaNorte', 'Mexico/BajaSur', 'Mexico/General', 'Libya', 'Kwajalein', 'Japan', 'Jamaica', 'Israel', 'Iran', 'Iceland', 'Hongkong', 'Greenwich', 'GB-Eire', 'Eire', 'Egypt', 'Cuba', 'Chile/Continental', 'Chile/EasterIsland', 'Canada/Atlantic', 'Canada/Central', 'Canada/Eastern', 'Canada/Mountain', 'Canada/Newfoundland', 'Canada/Pacific', 'Canada/Saskatchewan', 'Canada/Yukon', 'Brazil/Acre', 'Brazil/DeNoronha', 'Brazil/East', 'Brazil/West', 'US/Alaska', 'US/Aleutian', 'US/Arizona', 'US/Central', 'US/East-Indiana', 'US/Eastern', 'US/Hawaii', 'US/Indiana-Starke', 'US/Michigan', 'US/Pacific', 'US/Samoa', 'Arctic/Longyearbyen', 'Factory', 'Etc/GMT+1', 'Etc/GMT+10', 'Etc/GMT+11', 'Etc/GMT+12', 'Etc/GMT+2', 'Etc/GMT+3', 'Etc/GMT+4', 'Etc/GMT+5', 'Etc/GMT+6', 'Etc/GMT+7', 'Etc/GMT+8', 'Etc/GMT+9', 'Etc/GMT-1', 'Etc/GMT-10', 'Etc/GMT-11', 'Etc/GMT-12', 'Etc/GMT-13', 'Etc/GMT-14', 'Etc/GMT-2', 'Etc/GMT-3', 'Etc/GMT-4', 'Etc/GMT-5', 'Etc/GMT-6', 'Etc/GMT-7', 'Etc/GMT-8', 'Etc/GMT-9', 'PST8PDT', 'MST7MDT', 'CST6CDT', 'EST5EDT', 'HST', 'MST', 'EST', 'America/Anguilla', 'America/Araguaina', 'America/Argentina/Buenos_Aires', 'America/Argentina/Catamarca', 'America/Argentina/Cordoba', 'America/Argentina/Jujuy', 'America/Argentina/La_Rioja', 'America/Argentina/Mendoza', 'America/Argentina/Rio_Gallegos', 'America/Argentina/Salta', 'America/Argentina/San_Juan', 'America/Argentina/San_Luis', 'America/Argentina/Tucuman', 'America/Argentina/Ushuaia', 'America/Aruba', 'America/Asuncion', 'America/Atikokan', 'America/Bahia', 'America/Bahia_Banderas', 'America/Barbados', 'America/Belem', 'America/Belize', 'America/Blanc-Sablon', 'America/Boa_Vista', 'America/Bogota', 'America/Boise', 'America/Cambridge_Bay', 'America/Campo_Grande', 'America/Cancun', 'America/Caracas', 'America/Cayenne', 'America/Cayman', 'America/Chihuahua', 'America/Costa_Rica', 'America/Creston', 'America/Cuiaba', 'America/Danmarkshavn', 'America/Dawson', 'America/Dawson_Creek', 'America/Eirunepe', 'America/El_Salvador', 'America/Fort_Nelson', 'America/Fortaleza', 'America/Glace_Bay', 'America/Godthab', 'America/Goose_Bay', 'America/Grand_Turk', 'America/Guatemala', 'America/Guayaquil', 'America/Guyana', 'America/Hermosillo', 'America/Indiana/Marengo', 'America/Indiana/Petersburg', 'America/Indiana/Tell_City', 'America/Indiana/Vevay', 'America/Indiana/Vincennes', 'America/Indiana/Winamac', 'America/Inuvik', 'America/Iqaluit', 'America/Juneau', 'America/Kentucky/Louisville', 'America/Kentucky/Monticello', 'America/La_Paz', 'America/Lima', 'America/Maceio', 'America/Managua', 'America/Martinique', 'America/Matamoros', 'America/Menominee', 'America/Merida', 'America/Metlakatla', 'America/Miquelon', 'America/Moncton', 'America/Monterrey', 'America/Montevideo', 'America/Nassau', 'America/Nipigon', 'America/Nome', 'America/North_Dakota/Beulah', 'America/North_Dakota/Center', 'America/North_Dakota/New_Salem', 'America/Ojinaga', 'America/Pangnirtung', 'America/Paramaribo', 'America/Port-au-Prince', 'America/Porto_Velho', 'America/Puerto_Rico', 'America/Punta_Arenas', 'America/Rainy_River', 'America/Rankin_Inlet', 'America/Recife', 'America/Resolute', 'America/Santarem', 'America/Santo_Domingo', 'America/Scoresbysund', 'America/Sitka', 'America/Swift_Current', 'America/Tegucigalpa', 'America/Thule', 'America/Thunder_Bay', 'America/Yakutat', 'America/Yellowknife', 'EET', 'MET', 'CET', 'WET', 'Europe/Amsterdam', 'Europe/Andorra', 'Europe/Astrakhan', 'Europe/Athens', 'Europe/Belgrade', 'Europe/Berlin', 'Europe/Bratislava', 'Europe/Brussels', 'Europe/Bucharest', 'Europe/Budapest', 'Europe/Busingen', 'Europe/Chisinau', 'Europe/Copenhagen', 'Europe/Gibraltar', 'Europe/Helsinki', 'Europe/Kaliningrad', 'Europe/Kiev', 'Europe/Kirov', 'Europe/Luxembourg', 'Europe/Madrid', 'Europe/Malta', 'Europe/Minsk', 'Europe/Monaco', 'Europe/Nicosia', 'Europe/Paris', 'Europe/Riga', 'Europe/Rome', 'Europe/Samara', 'Europe/Saratov', 'Europe/Simferopol', 'Europe/Sofia', 'Europe/Stockholm', 'Europe/Tallinn', 'Europe/Tirane', 'Europe/Ulyanovsk', 'Europe/Uzhgorod', 'Europe/Vienna', 'Europe/Vilnius', 'Europe/Volgograd', 'Europe/Zaporozhye', 'Pacific/Apia', 'Pacific/Bougainville', 'Pacific/Chuuk', 'Pacific/Efate', 'Pacific/Enderbury', 'Pacific/Fakaofo', 'Pacific/Fiji', 'Pacific/Funafuti', 'Pacific/Galapagos', 'Pacific/Gambier', 'Pacific/Guadalcanal', 'Pacific/Guam', 'Pacific/Kiritimati', 'Pacific/Kosrae', 'Pacific/Majuro', 'Pacific/Marquesas', 'Pacific/Nauru', 'Pacific/Niue', 'Pacific/Norfolk', 'Pacific/Noumea', 'Pacific/Palau', 'Pacific/Pitcairn', 'Pacific/Pohnpei', 'Pacific/Port_Moresby', 'Pacific/Rarotonga', 'Pacific/Tahiti', 'Pacific/Tarawa', 'Pacific/Tongatapu', 'Pacific/Wake', 'Pacific/Wallis', 'Australia/ACT', 'Australia/Adelaide', 'Australia/Brisbane', 'Australia/Broken_Hill', 'Australia/Currie', 'Australia/Darwin', 'Australia/Eucla', 'Australia/Hobart', 'Australia/LHI', 'Australia/Lindeman', 'Australia/Melbourne', 'Australia/Perth', 'Asia/Aden', 'Asia/Almaty', 'Asia/Amman', 'Asia/Anadyr', 'Asia/Aqtau', 'Asia/Aqtobe', 'Asia/Ashgabat', 'Asia/Atyrau', 'Asia/Baghdad', 'Asia/Bahrain', 'Asia/Baku', 'Asia/Bangkok', 'Asia/Barnaul', 'Asia/Beirut', 'Asia/Bishkek', 'Asia/Brunei', 'Asia/Calcutta', 'Asia/Chita', 'Asia/Choibalsan', 'Asia/Colombo', 'Asia/Dacca', 'Asia/Damascus', 'Asia/Dili', 'Asia/Dubai', 'Asia/Dushanbe', 'Asia/Famagusta', 'Asia/Gaza', 'Asia/Hanoi', 'Asia/Hebron', 'Asia/Ho_Chi_Minh', 'Asia/Hovd', 'Asia/Irkutsk', 'Asia/Jakarta', 'Asia/Jayapura', 'Asia/Kabul', 'Asia/Kamchatka', 'Asia/Karachi', 'Asia/Kashgar', 'Asia/Kathmandu', 'Asia/Khandyga', 'Asia/Krasnoyarsk', 'Asia/Kuala_Lumpur', 'Asia/Kuching', 'Asia/Macao', 'Asia/Magadan', 'Asia/Makassar', 'Asia/Manila', 'Asia/Novokuznetsk', 'Asia/Novosibirsk', 'Asia/Omsk', 'Asia/Oral', 'Asia/Pontianak', 'Asia/Pyongyang', 'Asia/Qostanay', 'Asia/Qyzylorda', 'Asia/Rangoon', 'Asia/Sakhalin', 'Asia/Samarkand', 'Asia/Srednekolymsk', 'Asia/Tashkent', 'Asia/Tbilisi', 'Asia/Thimbu', 'Asia/Tomsk', 'Asia/Ulaanbaatar', 'Asia/Ust-Nera', 'Asia/Vladivostok', 'Asia/Yakutsk', 'Asia/Yekaterinburg', 'Asia/Yerevan', 'Antarctica/Casey', 'Antarctica/Davis', 'Antarctica/DumontDUrville', 'Antarctica/Macquarie', 'Antarctica/Mawson', 'Antarctica/Palmer', 'Antarctica/Rothera', 'Antarctica/Syowa', 'Antarctica/Troll', 'Antarctica/Vostok', 'Indian/Antananarivo', 'Indian/Chagos', 'Indian/Christmas', 'Indian/Cocos', 'Indian/Kerguelen', 'Indian/Mahe', 'Indian/Maldives', 'Indian/Mauritius', 'Indian/Reunion', 'Atlantic/Azores', 'Atlantic/Bermuda', 'Atlantic/Canary', 'Atlantic/Cape_Verde', 'Atlantic/Faeroe', 'Atlantic/Madeira', 'Atlantic/South_Georgia', 'Atlantic/St_Helena', 'Atlantic/Stanley', 'Africa/Accra', 'Africa/Algiers', 'Africa/Bangui', 'Africa/Bissau', 'Africa/Blantyre', 'Africa/Casablanca', 'Africa/Ceuta', 'Africa/El_Aaiun', 'Africa/Johannesburg', 'Africa/Juba', 'Africa/Khartoum', 'Africa/Monrovia', 'Africa/Ndjamena', 'Africa/Sao_Tome', 'Africa/Tunis', 'Africa/Windhoek', 'Universal', 'UTC', 'UCT', 'GMT0', 'GMT-0', 'GMT+0', 'GB', 'GMT', 'US/Mountain', 'US/Pacific-New', 'Etc/GMT', 'Etc/GMT+0', 'Etc/GMT-0', 'Etc/GMT0', 'Etc/Greenwich', 'Etc/UCT', 'Etc/UTC', 'Etc/Universal', 'Etc/Zulu', 'America/Adak', 'America/Anchorage', 'America/Antigua', 'America/Argentina/ComodRivadavia', 'America/Atka', 'America/Buenos_Aires', 'America/Catamarca', 'America/Chicago', 'America/Coral_Harbour', 'America/Cordoba', 'America/Curacao', 'America/Denver', 'America/Detroit', 'America/Dominica', 'America/Edmonton', 'America/Ensenada', 'America/Fort_Wayne', 'America/Grenada', 'America/Guadeloupe', 'America/Halifax', 'America/Havana', 'America/Indiana/Indianapolis', 'America/Indiana/Knox', 'America/Indianapolis', 'America/Jamaica', 'America/Jujuy', 'America/Knox_IN', 'America/Kralendijk', 'America/Los_Angeles', 'America/Louisville', 'America/Lower_Princes', 'America/Manaus', 'America/Marigot', 'America/Mazatlan', 'America/Mendoza', 'America/Mexico_City', 'America/Montreal', 'America/Montserrat', 'America/New_York', 'America/Noronha', 'America/Panama', 'America/Phoenix', 'America/Port_of_Spain', 'America/Porto_Acre', 'America/Regina', 'America/Rio_Branco', 'America/Rosario', 'America/Santa_Isabel', 'America/Santiago', 'America/Sao_Paulo', 'America/Shiprock', 'America/St_Barthelemy', 'America/St_Johns', 'America/St_Kitts', 'America/St_Lucia', 'America/St_Thomas', 'America/St_Vincent', 'America/Tijuana', 'America/Toronto', 'America/Tortola', 'America/Vancouver', 'America/Virgin', 'America/Whitehorse', 'America/Winnipeg', 'Europe/Belfast', 'Europe/Dublin', 'Europe/Guernsey', 'Europe/Isle_of_Man', 'Europe/Istanbul', 'Europe/Jersey', 'Europe/Lisbon', 'Europe/Ljubljana', 'Europe/London', 'Europe/Mariehamn', 'Europe/Moscow', 'Europe/Oslo', 'Europe/Podgorica', 'Europe/Prague', 'Europe/San_Marino', 'Europe/Sarajevo', 'Europe/Skopje', 'Europe/Tiraspol', 'Europe/Vaduz', 'Europe/Vatican', 'Europe/Warsaw', 'Europe/Zagreb', 'Europe/Zurich', 'Pacific/Auckland', 'Pacific/Chatham', 'Pacific/Easter', 'Pacific/Honolulu', 'Pacific/Johnston', 'Pacific/Kwajalein', 'Pacific/Midway', 'Pacific/Pago_Pago', 'Pacific/Ponape', 'Pacific/Saipan', 'Pacific/Samoa', 'Pacific/Truk', 'Pacific/Yap', 'Australia/Canberra', 'Australia/Lord_Howe', 'Australia/NSW', 'Australia/North', 'Australia/Queensland', 'Australia/South', 'Australia/Sydney', 'Australia/Tasmania', 'Australia/Victoria', 'Australia/West', 'Australia/Yancowinna', 'Asia/Ashkhabad', 'Asia/Chongqing', 'Asia/Chungking', 'Asia/Dhaka', 'Asia/Harbin', 'Asia/Hong_Kong', 'Asia/Istanbul', 'Asia/Jerusalem', 'Asia/Katmandu', 'Asia/Kolkata', 'Asia/Kuwait', 'Asia/Macau', 'Asia/Muscat', 'Asia/Nicosia', 'Asia/Phnom_Penh', 'Asia/Qatar', 'Asia/Riyadh', 'Asia/Saigon', 'Asia/Seoul', 'Asia/Shanghai', 'Asia/Singapore', 'Asia/Taipei', 'Asia/Tehran', 'Asia/Tel_Aviv', 'Asia/Thimphu', 'Asia/Tokyo', 'Asia/Ujung_Pandang', 'Asia/Ulan_Bator', 'Asia/Urumqi', 'Asia/Vientiane', 'Asia/Yangon', 'Antarctica/McMurdo', 'Antarctica/South_Pole', 'Indian/Comoro', 'Indian/Mayotte', 'Atlantic/Faroe', 'Atlantic/Jan_Mayen', 'Atlantic/Reykjavik', 'Africa/Abidjan', 'Africa/Addis_Ababa', 'Africa/Asmara', 'Africa/Asmera', 'Africa/Bamako', 'Africa/Banjul', 'Africa/Brazzaville', 'Africa/Bujumbura', 'Africa/Cairo', 'Africa/Conakry', 'Africa/Dakar', 'Africa/Dar_es_Salaam', 'Africa/Djibouti', 'Africa/Douala', 'Africa/Freetown', 'Africa/Gaborone', 'Africa/Harare', 'Africa/Kampala', 'Africa/Kigali', 'Africa/Kinshasa', 'Africa/Lagos', 'Africa/Libreville', 'Africa/Lome', 'Africa/Luanda', 'Africa/Lubumbashi', 'Africa/Lusaka', 'Africa/Malabo', 'Africa/Maputo', 'Africa/Maseru', 'Africa/Mbabane', 'Africa/Mogadishu', 'Africa/Nairobi', 'Africa/Niamey', 'Africa/Nouakchott', 'Africa/Ouagadougou', 'Africa/Porto-Novo', 'Africa/Timbuktu', 'Africa/Tripoli']\n"
     ]
    }
   ],
   "source": [
    "# Get all available timezones\n",
    "print(list(get_zonefile_instance().zones))"
   ]
  },
  {
   "cell_type": "markdown",
   "metadata": {},
   "source": [
    "# <font color=darkred>3.6 Putting the bike trips into the right time zone</font> \n",
    "\n",
    "Instead of setting the timezones for W20529 by hand, let's assign them to their IANA timezone: 'America/New_York'. Since we know their political jurisdiction, we don't need to look up their UTC offset. Python will do that for us.\n",
    "\n",
    "**Instructions**\n",
    "- Import tz from dateutil.\n",
    "- Assign et to be the timezone 'America/New_York'.\n",
    "- Within the for loop, set start and end to have et as their timezone (use .replace()).\n",
    "\n",
    "**Results**\n",
    "\n",
    "<font color=darkgreen>Great! Time zone rules actually change quite frequently. IANA time zone data gets updated every 3-4 months, as different jurisdictions make changes to their laws about time or as more historical information about timezones are uncovered. tz is smart enough to use the date in your datetime to determine which rules to use historically.</font>"
   ]
  },
  {
   "cell_type": "code",
   "execution_count": 14,
   "metadata": {},
   "outputs": [
    {
     "data": {
      "text/plain": [
       "[{'start': datetime.datetime(2017, 10, 1, 15, 23, 25, tzinfo=tzfile('US/Eastern')),\n",
       "  'end': datetime.datetime(2017, 10, 1, 15, 26, 26, tzinfo=tzfile('US/Eastern'))},\n",
       " {'start': datetime.datetime(2017, 10, 1, 15, 42, 57, tzinfo=tzfile('US/Eastern')),\n",
       "  'end': datetime.datetime(2017, 10, 1, 17, 49, 59, tzinfo=tzfile('US/Eastern'))},\n",
       " {'start': datetime.datetime(2017, 10, 2, 6, 37, 10, tzinfo=tzfile('US/Eastern')),\n",
       "  'end': datetime.datetime(2017, 10, 2, 6, 42, 53, tzinfo=tzfile('US/Eastern'))},\n",
       " {'start': datetime.datetime(2017, 10, 2, 8, 56, 45, tzinfo=tzfile('US/Eastern')),\n",
       "  'end': datetime.datetime(2017, 10, 2, 9, 18, 3, tzinfo=tzfile('US/Eastern'))},\n",
       " {'start': datetime.datetime(2017, 10, 2, 18, 23, 48, tzinfo=tzfile('US/Eastern')),\n",
       "  'end': datetime.datetime(2017, 10, 2, 18, 45, 5, tzinfo=tzfile('US/Eastern'))},\n",
       " {'start': datetime.datetime(2017, 10, 2, 18, 48, 8, tzinfo=tzfile('US/Eastern')),\n",
       "  'end': datetime.datetime(2017, 10, 2, 19, 10, 54, tzinfo=tzfile('US/Eastern'))},\n",
       " {'start': datetime.datetime(2017, 10, 2, 19, 18, 10, tzinfo=tzfile('US/Eastern')),\n",
       "  'end': datetime.datetime(2017, 10, 2, 19, 31, 45, tzinfo=tzfile('US/Eastern'))},\n",
       " {'start': datetime.datetime(2017, 10, 2, 19, 37, 32, tzinfo=tzfile('US/Eastern')),\n",
       "  'end': datetime.datetime(2017, 10, 2, 19, 46, 37, tzinfo=tzfile('US/Eastern'))},\n",
       " {'start': datetime.datetime(2017, 10, 3, 8, 24, 16, tzinfo=tzfile('US/Eastern')),\n",
       "  'end': datetime.datetime(2017, 10, 3, 8, 32, 27, tzinfo=tzfile('US/Eastern'))},\n",
       " {'start': datetime.datetime(2017, 10, 3, 18, 17, 7, tzinfo=tzfile('US/Eastern')),\n",
       "  'end': datetime.datetime(2017, 10, 3, 18, 27, 46, tzinfo=tzfile('US/Eastern'))}]"
      ]
     },
     "execution_count": 14,
     "metadata": {},
     "output_type": "execute_result"
    }
   ],
   "source": [
    "# Create a timezone object for Eastern Time\n",
    "et = tz.gettz('America/New_York')\n",
    "\n",
    "# Loop over trips, updating the datetimes to be in Eastern Time\n",
    "[{'start': trip['start'].replace(tzinfo=et), \n",
    "  'end'  : trip['end'  ].replace(tzinfo=et)} for trip in onebike_datetimes[:10]]"
   ]
  },
  {
   "cell_type": "markdown",
   "metadata": {},
   "source": [
    "# <font color=darkred>3.7 What time did the bike leave? (Global edition)</font> \n",
    "\n",
    "When you need to move a datetime from one timezone into another, use .astimezone() and tz. Often you will be moving things into UTC, but for fun let's try moving things from 'America/New_York' into a few different time zones.\n",
    "\n",
    "**Instructions**\n",
    "- Set uk to be the timezone for the UK: 'Europe/London'.\n",
    "- Change local to be in the uk timezone and assign it to notlocal.\n",
    "- Set ist to be the timezone for India: 'Asia/Kolkata'.\n",
    "- Change local to be in the ist timezone and assign it to notlocal.\n",
    "- Set sm to be the timezone for Samoa: 'Pacific/Apia'.\n",
    "- Change local to be in the sm timezone and assign it to notlocal.\n",
    "\n",
    "**Results**\n",
    "\n",
    "<font color=darkgreen>Did you notice the time offset for this one? It's at UTC+14! Samoa used to be UTC-10, but in 2011 it changed to the other side of the International Date Line to better match New Zealand, its closest trading partner. However, they wanted to keep the clocks the same, so the UTC offset shifted from -10 to +14, since 24-10 is 14. Timezones... not simple!</font>"
   ]
  },
  {
   "cell_type": "code",
   "execution_count": 15,
   "metadata": {},
   "outputs": [
    {
     "name": "stdout",
     "output_type": "stream",
     "text": [
      "America/New_York: 2017-10-01T15:23:25-04:00\n",
      "Europe/London   : 2017-10-01T20:23:25+01:00\n"
     ]
    }
   ],
   "source": [
    "# Create the timezone object\n",
    "uk = tz.gettz('Europe/London')\n",
    "\n",
    "# Pull out the start of the first trip\n",
    "local = onebike_timezone[0]['start']\n",
    "\n",
    "# What time was it in the UK?\n",
    "notlocal = local.astimezone(uk)\n",
    "\n",
    "# Print them out and see the difference\n",
    "print('America/New_York:', local.isoformat())\n",
    "print('Europe/London   :', notlocal.isoformat())"
   ]
  },
  {
   "cell_type": "code",
   "execution_count": 16,
   "metadata": {},
   "outputs": [
    {
     "name": "stdout",
     "output_type": "stream",
     "text": [
      "America/New_York: 2017-10-01T15:23:25-04:00\n",
      "Asia/Kolkata    : 2017-10-02T00:53:25+05:30\n"
     ]
    }
   ],
   "source": [
    "# Create the timezone object\n",
    "ist = tz.gettz('Asia/Kolkata')\n",
    "\n",
    "# Pull out the start of the first trip\n",
    "local = onebike_timezone[0]['start']\n",
    "\n",
    "# What time was it in India?\n",
    "notlocal = local.astimezone(ist)\n",
    "\n",
    "# Print them out and see the difference\n",
    "print('America/New_York:', local.isoformat())\n",
    "print('Asia/Kolkata    :', notlocal.isoformat())"
   ]
  },
  {
   "cell_type": "code",
   "execution_count": 17,
   "metadata": {},
   "outputs": [
    {
     "name": "stdout",
     "output_type": "stream",
     "text": [
      "America/New_York: 2017-10-01T15:23:25-04:00\n",
      "Pacific/Apia    : 2017-10-02T09:23:25+14:00\n"
     ]
    }
   ],
   "source": [
    "# Create the timezone object\n",
    "sm = tz.gettz('Pacific/Apia')\n",
    "\n",
    "# Pull out the start of the first trip\n",
    "local = onebike_timezone[0]['start']\n",
    "\n",
    "# What time was it in Samoa?\n",
    "notlocal = local.astimezone(sm)\n",
    "\n",
    "# Print them out and see the difference\n",
    "print('America/New_York:', local.isoformat())\n",
    "print('Pacific/Apia    :', notlocal.isoformat())"
   ]
  },
  {
   "cell_type": "markdown",
   "metadata": {},
   "source": [
    "# <font color=darkred>3.8 Starting daylight saving time</font>\n",
    "\n",
    "1. Starting Daylight Saving Time\n",
    ">Some places change their clocks twice a year to create longer summer evenings. This practice is called daylight saving time, but it would better be called daylight shifting time. In some countries it is called \"summer time\". Dealing with daylight saving time can be one of the most fiendish challenges in dealing with dates and times. To keep things simple, let's start with the situation where the clocks move forward in the spring. In the next lesson, we'll discuss handling the opposite case, when the clocks move back in the fall.\n",
    "\n",
    "2. Start of Daylight Saving Time\n",
    ">Let's look at an example. On March 12, 2017, in Washington, D.C., the clock jumped straight from 1:59 am to 3 am. The clock \"springs forward\". It never officially struck 2 am anywhere on the East Coast of the United States that day.\n",
    "\n",
    "3. Start of Daylight Saving Time\n",
    ">Just like before, to make our clock in Washington, D.C. comparable to clocks in other places, we need to represent it with a UTC offset. Only now the UTC offset is going to change. On this date, at 1 AM in Washington, D.C., we were in Eastern Standard Time. It was 6 AM UTC, a five-hour difference. At 3 AM in Washington, D.C., we were in Eastern Daylight Time. It was 7 AM UTC, a four-hour difference.\n",
    "\n",
    "4. Start of Daylight Saving Time\n",
    ">Let's see the same thing in code. To be as clear as possible, let's create the UTC offsets by hand for now instead of using dateutil.tz. We start by creating a datetime object, spring_ahead_159am, for March 12th, at 1:59:59, without any timezone information. We print the results out with isoformat() to check that we have the time right, and we make another object for spring_ahead_3am. We subtract the two datetime objects and ask how much time has elapsed by calling total_seconds(). As expected, they're an hour and one second apart.\n",
    "\n",
    "5. Start of Daylight Saving Time\n",
    ">As before, to fix problems with comparing datetimes we start by creating timezone objects. We define Eastern Standard Time, or EST, using the timezone constructor. We set the offset to -5 hours. Similarly, we define Eastern Daylight Time, or EDT, with an offset of -4 hours.\n",
    "\n",
    "6. Start of Daylight Saving Time\n",
    ">We assign our first timestamp, at 1:59 am to be in EST. When we call isoformat(), we see it has the correct offset. We assign our second timestamp, at 3:00 am, to be in EDT, and again check the output with isoformat(). When we subtract the two datetime objects, we see correctly that one second has elapsed. Putting things in terms of UTC once again allowed us to make proper comparisons.\n",
    "\n",
    "7. Start of Daylight Saving Time\n",
    ">But how do we know when the cutoff is without looking it up ourselves? dateutil to the rescue again. Just like before when it saved us from having to define timezones by hand, dateutil saves us from having to know daylight savings rules. We create a timezone object by calling tz.gettz() and pass our timezone description string. Recall that since Washington, D.C. is in the America/New_York time zone, that's what we use. Once again we create a datetime corresponding to 1:59 am on the day that the east coast of the US springs forward. This time though, we set the tzinfo to eastern time. Similarly, we create a datetime set to 3 am on March 12th, and when we set tzinfo to be eastern time, dateutil figures out for us that it should be in EDT.\n",
    "\n",
    "8. Daylight Saving\n",
    ">In this lesson, we covered \"spring ahead\". Let's try some examples of working with datetimes that handle a switch into daylight saving time."
   ]
  },
  {
   "cell_type": "code",
   "execution_count": 18,
   "metadata": {},
   "outputs": [
    {
     "name": "stdout",
     "output_type": "stream",
     "text": [
      "2017-03-12T01:59:59\n",
      "2017-03-12T03:00:00\n"
     ]
    },
    {
     "data": {
      "text/plain": [
       "3601.0"
      ]
     },
     "metadata": {},
     "output_type": "display_data"
    },
    {
     "data": {
      "text/plain": [
       "3601"
      ]
     },
     "execution_count": 18,
     "metadata": {},
     "output_type": "execute_result"
    }
   ],
   "source": [
    "# Start of Daylight Saving Time - Whithout timezone\n",
    "spring_ahead_159am = datetime(2017, 3, 12, 1, 59, 59)\n",
    "print(spring_ahead_159am.isoformat())\n",
    "\n",
    "spring_ahead_3am = datetime(2017, 3, 12, 3, 0, 0)\n",
    "print(spring_ahead_3am.isoformat())\n",
    "\n",
    "display((spring_ahead_3am - spring_ahead_159am).total_seconds())\n",
    "(spring_ahead_3am - spring_ahead_159am).seconds"
   ]
  },
  {
   "cell_type": "code",
   "execution_count": 19,
   "metadata": {},
   "outputs": [
    {
     "name": "stdout",
     "output_type": "stream",
     "text": [
      "2017-03-12T01:59:59-05:00\n",
      "2017-03-12T03:00:00-04:00\n"
     ]
    },
    {
     "data": {
      "text/plain": [
       "1.0"
      ]
     },
     "metadata": {},
     "output_type": "display_data"
    },
    {
     "data": {
      "text/plain": [
       "1"
      ]
     },
     "execution_count": 19,
     "metadata": {},
     "output_type": "execute_result"
    }
   ],
   "source": [
    "# Start of Daylight Saving Time - Manual timezone\n",
    "EST = timezone(timedelta(hours=-5))\n",
    "EDT = timezone(timedelta(hours=-4))\n",
    "\n",
    "spring_ahead_159am = spring_ahead_159am.replace(tzinfo = EST)\n",
    "print(spring_ahead_159am.isoformat())\n",
    "\n",
    "spring_ahead_3am = spring_ahead_3am.replace(tzinfo = EDT)\n",
    "print(spring_ahead_3am.isoformat())\n",
    "\n",
    "display((spring_ahead_3am - spring_ahead_159am).total_seconds())\n",
    "(spring_ahead_3am - spring_ahead_159am).seconds"
   ]
  },
  {
   "cell_type": "code",
   "execution_count": 20,
   "metadata": {},
   "outputs": [
    {
     "name": "stdout",
     "output_type": "stream",
     "text": [
      "2017-03-12T01:59:59-05:00\n",
      "2017-03-12T03:00:00-04:00\n"
     ]
    },
    {
     "data": {
      "text/plain": [
       "3601.0"
      ]
     },
     "metadata": {},
     "output_type": "display_data"
    },
    {
     "data": {
      "text/plain": [
       "3601"
      ]
     },
     "execution_count": 20,
     "metadata": {},
     "output_type": "execute_result"
    }
   ],
   "source": [
    "# Start of Daylight Saving Time - tz \n",
    "# Create eastern timezone\n",
    "eastern = tz.gettz('America/New_York')\n",
    "\n",
    "spring_ahead_159am = datetime(2017, 3, 12, 1, 59, 59, tzinfo = eastern)\n",
    "print(spring_ahead_159am.isoformat())\n",
    "\n",
    "spring_ahead_3am = datetime(2017, 3, 12, 3, 0, 0, tzinfo = eastern)\n",
    "print(spring_ahead_3am.isoformat())\n",
    "\n",
    "display((spring_ahead_3am - spring_ahead_159am).total_seconds())\n",
    "(spring_ahead_3am - spring_ahead_159am).seconds"
   ]
  },
  {
   "cell_type": "markdown",
   "metadata": {},
   "source": [
    "# <font color=darkred>3.9 How many hours elapsed around daylight saving?</font> \n",
    "\n",
    "Since our bike data takes place in the fall, you'll have to do something else to learn about the start of daylight savings time.\n",
    "\n",
    "Let's look at March 12, 2017, in the Eastern United States, when Daylight Saving kicked in at 2 AM.\n",
    "\n",
    "If you create a datetime for midnight that night, and add 6 hours to it, how much time will have elapsed?\n",
    "\n",
    "**Instructions**\n",
    "- You already have a datetime called start, set for March 12, 2017 at midnight, set to the timezone 'America/New_York'.\n",
    "- Add six hours to start and assign it to end. Look at the UTC offset for the two results.\n",
    "- You added 6 hours, and got 6 AM, despite the fact that the clocks springing forward means only 5 hours would have actually elapsed!\n",
    "- Calculate the time between start and end. How much time does Python think has elapsed?\n",
    "- Move your datetime objects into UTC and calculate the elapsed time again.\n",
    "- Once you're in UTC, what result do you get?\n",
    "\n",
    "**Results**\n",
    "\n",
    "<font color=darkgreen>When we compare times in local time zones, everything gets converted into clock time. Remember if you want to get absolute time differences, always move to UTC!</font>"
   ]
  },
  {
   "cell_type": "code",
   "execution_count": 21,
   "metadata": {},
   "outputs": [
    {
     "name": "stdout",
     "output_type": "stream",
     "text": [
      "2017-03-12T00:00:00-05:00 to 2017-03-12T06:00:00-04:00\n",
      "6.0\n",
      "5.0\n"
     ]
    }
   ],
   "source": [
    "# Start on March 12, 2017, midnight, then add 6 hours\n",
    "start = datetime(2017, 3, 12, tzinfo = tz.gettz('America/New_York'))\n",
    "end = start + timedelta(hours=6)\n",
    "print(start.isoformat() + \" to \" + end.isoformat())\n",
    "\n",
    "# How many hours have elapsed?\n",
    "print((end - start).total_seconds()/(60*60))\n",
    "\n",
    "# What if we move to UTC?\n",
    "print((end.astimezone(timezone.utc) - start.astimezone(timezone.utc)).total_seconds()/(60*60))"
   ]
  },
  {
   "cell_type": "code",
   "execution_count": 22,
   "metadata": {},
   "outputs": [
    {
     "name": "stdout",
     "output_type": "stream",
     "text": [
      "Original: 2017-03-12 01:59:59-05:00 | UTC: 2017-03-12 06:59:59+00:00\n",
      "Original: 2017-03-12 03:00:00-04:00 | UTC: 2017-03-12 07:00:00+00:00\n",
      "3601.0\n",
      "1.0\n"
     ]
    }
   ],
   "source": [
    "# Testing one more time\n",
    "awkward_start = datetime(2017, 3, 12, 1, 59, 59, tzinfo = tz.gettz('America/New_York'))\n",
    "print('Original:', awkward_start, '| UTC:', awkward_start.astimezone(timezone.utc))\n",
    "\n",
    "awkward_end = datetime(2017, 3, 12, 3, 0, 0, tzinfo = tz.gettz('America/New_York'))\n",
    "print('Original:', awkward_end, '| UTC:', awkward_end.astimezone(timezone.utc))\n",
    "\n",
    "# How many hours have elapsed?\n",
    "print((awkward_end - awkward_start).total_seconds())\n",
    "\n",
    "# What if we move to UTC?\n",
    "print((awkward_end.astimezone(timezone.utc) - awkward_start.astimezone(timezone.utc)).total_seconds())"
   ]
  },
  {
   "cell_type": "markdown",
   "metadata": {},
   "source": [
    "# <font color=darkred>3.10 March 29, throughout a decade</font> \n",
    "\n",
    "Daylight Saving rules are complicated: they're different in different places, they change over time, and they usually start on a Sunday (and so they move around the calendar).\n",
    "\n",
    "For example, in the United Kingdom, as of the time this lesson was written, Daylight Saving begins on the last Sunday in March. Let's look at the UTC offset for March 29, at midnight, for the years 2000 to 2010.\n",
    "\n",
    "**Instructions**\n",
    "- Using tz, set the timezone for dt to be 'Europe/London'.\n",
    "- Within the for loop:\n",
    "    - Use the .replace() method to change the year for dt to be y.\n",
    "    - Call .isoformat() on the result to observe the results.\n",
    "\n",
    "**Results**\n",
    "\n",
    "<font color=darkgreen>Nice! As you can see, the rules for Daylight Saving are not trivial. When in doubt, always use tz instead of hand-rolling timezones, so it will catch the Daylight Saving rules (and rule changes!) for you.</font>"
   ]
  },
  {
   "cell_type": "code",
   "execution_count": 23,
   "metadata": {},
   "outputs": [
    {
     "name": "stdout",
     "output_type": "stream",
     "text": [
      "2000-03-29T00:00:00+01:00\n",
      "2001-03-29T00:00:00+01:00\n",
      "2002-03-29T00:00:00+00:00\n",
      "2003-03-29T00:00:00+00:00\n",
      "2004-03-29T00:00:00+01:00\n",
      "2005-03-29T00:00:00+01:00\n",
      "2006-03-29T00:00:00+01:00\n",
      "2007-03-29T00:00:00+01:00\n",
      "2008-03-29T00:00:00+00:00\n",
      "2009-03-29T00:00:00+00:00\n",
      "2010-03-29T00:00:00+01:00\n"
     ]
    }
   ],
   "source": [
    "# Create starting date\n",
    "dt = datetime(2000, 3, 29, tzinfo = tz.gettz('Europe/London'))\n",
    "\n",
    "# Loop over the dates, replacing the year, and print the ISO timestamp\n",
    "for y in range(2000, 2011):\n",
    "    print(dt.replace(year=y).isoformat())"
   ]
  },
  {
   "cell_type": "markdown",
   "metadata": {},
   "source": [
    "# <font color=darkred>3.11 Ending daylight saving time</font>\n",
    "\n",
    "1. Ending Daylight Saving Time\n",
    ">In the previous lesson, we discussed how to handle when the clock \"springs ahead\" and we enter daylight saving. In the fall, when the clocks are reset back to standard time, an interesting wrinkle occurs. In this lesson, we'll finish our discussion of daylight saving time by showing what happens when we \"fall back\", and also talk about how to unambiguously handle events which bridge a daylight savings jump.\n",
    "\n",
    "2. Ending Daylight Saving Time\n",
    ">Let's look back at our example in Washington, D.C., on the day that daylight saving time ended. On November 5th, 2017, at 2 AM the clocks jumped back an hour. That means there were two 1 AMs! We've represented this by \"folding\" over our timeline to show the repeat.\n",
    "\n",
    "3. Ending Daylight Saving Time\n",
    ">As before, in order to make sense of this situation, we need to map everything back to UTC. The first 1 AM maps to 5 AM UTC. This is the minus 4 hour UTC offset for Eastern Daylight Time we discussed in the previous lesson. At 1:59:59 local time, we're at 5:59:59 UTC. The next moment, our local clock jumps back, but since time has not actually gone backward, the clock continues to tick in UTC. We switch to a UTC offset of minus 5 hours (colored in blue), and the second 1 AM corresponds to 6 AM UTC.\n",
    "\n",
    "4. Ending Daylight Saving Time\n",
    ">First, let's make a tzinfo object corresponding to our bike data's timezone. We make a datetime for November 5th and 1 am. Let's check and see if this time is ambiguous, meaning we need to tell it apart somehow. We call tz.datetime_ambiguous(), and see that, yes, this is a time which could occur at two different UTC moments in this timezone. Now we create a second datetime, with the same date and time. This time, we call tz.enfold(), which takes the argument of the datetime we want to mark. enfold says, this datetime belongs to the *second* time the wall clock struck 1 AM this day, and not the first.\n",
    "\n",
    "5. Ending Daylight Saving Time\n",
    ">The thing is, enfold by itself doesn't change any of the behavior of a datetime. You can see here that Python doesn't take it into account when doing datetime arithmetic. Fold is just a placeholder, and it's up to further parts of the program to pay attention to fold and do something with it. What are we going to do?! We need to convert to UTC, which is unambiguous. When we really want to make sure that everything is accounted for, putting everything into UTC is the way to do it. Now when we ask Python to take the difference, we see that it correctly tells us these two timestamps are an hour apart. In general, whenever we really want to be sure of the duration between events that might cross a daylight saving boundary, we need to do our math in UTC.\n",
    "\n",
    "6. Ending Daylight Saving Time\n",
    ">We've covered how to handle springing forward and falling back, both with hand-coded UTC offsets and with dateutil. Python often tries to be helpful by glossing over daylight saving time difference, and oftentimes that's what you want. However, when you do care about it, use dateutil to set the timezone information correctly and then switch into UTC for the most accurate comparisons between events."
   ]
  },
  {
   "cell_type": "code",
   "execution_count": 24,
   "metadata": {},
   "outputs": [
    {
     "name": "stdout",
     "output_type": "stream",
     "text": [
      "2017-11-05 01:00:00-04:00\n",
      "True\n",
      "2017-11-05 01:00:00-05:00\n",
      "Difference in local zone: 0.0 seg.\n",
      "Difference in UTC zone  : 3600.0 seg.\n"
     ]
    }
   ],
   "source": [
    "# Ending Daylight Saving Time - First 1 a.m.\n",
    "eastern = tz.gettz('US/Eastern')\n",
    "\n",
    "first_1am = datetime(2017, 11, 5, 1, 0, 0, tzinfo = eastern)\n",
    "print(first_1am)\n",
    "\n",
    "print(tz.datetime_ambiguous(first_1am))\n",
    "\n",
    "# Ending Daylight Saving Time - Second 1 a.m.\n",
    "second_1am = datetime(2017, 11, 5, 1, 0, 0, tzinfo = eastern)\n",
    "second_1am = tz.enfold(second_1am)\n",
    "print(second_1am)\n",
    "\n",
    "print('Difference in local zone:', (first_1am - second_1am).total_seconds(), 'seg.')\n",
    "\n",
    "first_1am = first_1am.astimezone(tz.UTC)\n",
    "second_1am = second_1am.astimezone(tz.UTC)\n",
    "print('Difference in UTC zone  :', (second_1am - first_1am).total_seconds(), 'seg.')"
   ]
  },
  {
   "cell_type": "markdown",
   "metadata": {},
   "source": [
    "# <font color=darkred>3.12 Finding ambiguous datetimes</font> \n",
    "\n",
    "At the end of lesson 2, we saw something anomalous in our bike trip duration data. Let's see if we can identify what the problem might be.\n",
    "\n",
    "The data is loaded as onebike_datetimes, and tz has already been imported from dateutil.\n",
    "\n",
    "**Instructions**\n",
    "- Loop over the trips in onebike_datetimes:\n",
    "    - Print any rides whose start is ambiguous.\n",
    "    - Print any rides whose end is ambiguous.\n",
    "\n",
    "**Results**\n",
    "\n",
    "<font color=darkgreen>Good work! Avoid ambiguous datetimes in practice by storing datetimes in UTC.</font>"
   ]
  },
  {
   "cell_type": "code",
   "execution_count": 25,
   "metadata": {},
   "outputs": [
    {
     "name": "stdout",
     "output_type": "stream",
     "text": [
      "Ambiguous start at 2017-11-05 01:56:50-04:00\n",
      "Ambiguous end at 2017-11-05 01:01:04-04:00\n"
     ]
    }
   ],
   "source": [
    "ny = tz.gettz('America/New_York')\n",
    "# Setting the right time zone to data\n",
    "onebike_timezone = [{'start': trip['start'].replace(tzinfo=ny), \n",
    "                     'end'  : trip['end'  ].replace(tzinfo=ny)} for trip in onebike_datetimes]\n",
    "\n",
    "# Loop over trips\n",
    "for trip in onebike_timezone:\n",
    "    # Rides with ambiguous start\n",
    "    if tz.datetime_ambiguous(trip['start']):\n",
    "        print(\"Ambiguous start at \" + str(trip['start']))\n",
    "    # Rides with ambiguous end\n",
    "    if tz.datetime_ambiguous(trip['end']):\n",
    "        print(\"Ambiguous end at \" + str(trip['end']))"
   ]
  },
  {
   "cell_type": "code",
   "execution_count": 26,
   "metadata": {},
   "outputs": [
    {
     "name": "stdout",
     "output_type": "stream",
     "text": [
      "Start at 2017-11-05 01:56:50-04:00 (Ambiguous)\n",
      "End   at 2017-11-05 01:01:04-04:00 (Ambiguous)\n",
      "Elapsed time -3346.0 sec.\n"
     ]
    }
   ],
   "source": [
    "# Loop again to get more information\n",
    "for trip in onebike_timezone:\n",
    "    ambiguos_start = tz.datetime_ambiguous(trip['start'])\n",
    "    ambiguos_end   = tz.datetime_ambiguous(trip['end'])\n",
    "    \n",
    "    # Rides with ambiguous start\n",
    "    if ambiguos_start | ambiguos_end:\n",
    "        print(\"Start at \" + str(trip['start']) + (' (Ambiguous)' if ambiguos_start else ''))\n",
    "        print(\"End   at \" + str(trip['end'])   + (' (Ambiguous)' if ambiguos_end   else ''))\n",
    "        print('Elapsed time {} sec.'.format((trip['end'] - trip['start']).total_seconds()))"
   ]
  },
  {
   "cell_type": "markdown",
   "metadata": {},
   "source": [
    "# <font color=darkred>3.13 Cleaning daylight saving data with fold</font> \n",
    "\n",
    "As we've just discovered, there is a ride in our data set which is being messed up by a Daylight Savings shift. Let's clean up the data set so we actually have a correct minimum ride length. We can use the fact that we know the end of the ride happened after the beginning to fix up the duration messed up by the shift out of Daylight Savings.\n",
    "\n",
    "Since Python does not handle tz.enfold() when doing arithmetic, we must put our datetime objects into UTC, where ambiguities have been resolved.\n",
    "\n",
    "onebike_datetimes is already loaded and in the right timezone. tz and timezone have been imported. Use tz.UTC for the timezone.\n",
    "\n",
    "**Instructions**\n",
    "- Complete the if statement to be true only when a ride's start comes after its end.\n",
    "- When start is after end, call tz.enfold() on the end so you know it refers to the one after the daylight savings time change.\n",
    "- After the if statement, convert the start and end to UTC so you can make a proper comparison.\n",
    "\n",
    "**Results**\n",
    "\n",
    "<font color=darkgreen>Good work! Now you know how to handle some pretty gnarly edge cases in datetime data. To give a sense for how tricky these things are: we actually still don't know how long the rides are which only started or ended in our ambiguous hour but not both. If you're collecting data, store it in UTC or with a fixed UTC offset!</font>"
   ]
  },
  {
   "cell_type": "code",
   "execution_count": 27,
   "metadata": {},
   "outputs": [
    {
     "name": "stdout",
     "output_type": "stream",
     "text": [
      "Shortest trip: 116.0\n"
     ]
    }
   ],
   "source": [
    "trip_durations = []\n",
    "for trip in onebike_timezone:\n",
    "    # When the start is later than the end, set the fold to be 1\n",
    "    if trip['start'] > trip['end']:\n",
    "        trip['end'] = tz.enfold(trip['end'])\n",
    "        \n",
    "    # Convert to UTC\n",
    "    start = trip['start'].astimezone(tz.UTC)\n",
    "    end = trip['end'].astimezone(tz.UTC)\n",
    "\n",
    "    # Subtract the difference\n",
    "    trip_length_seconds = (end-start).total_seconds()\n",
    "    trip_durations.append(trip_length_seconds)\n",
    "\n",
    "# Take the shortest trip duration\n",
    "print(\"Shortest trip: \" + str(min(trip_durations)))"
   ]
  },
  {
   "cell_type": "code",
   "execution_count": 28,
   "metadata": {},
   "outputs": [
    {
     "name": "stdout",
     "output_type": "stream",
     "text": [
      "Shortest trip: 116.0\n"
     ]
    }
   ],
   "source": [
    "# Shorter code\n",
    "trip_durations = [((tz.enfold(trip['end']) if trip['start'] > trip['end'] else trip['end']).astimezone(tz.UTC) - \\\n",
    "                    trip['start'].astimezone(tz.UTC)).total_seconds() \\\n",
    "                  for trip in onebike_timezone]\n",
    "\n",
    "# Take the shortest trip duration\n",
    "print(\"Shortest trip: \" + str(min(trip_durations)))"
   ]
  },
  {
   "cell_type": "markdown",
   "metadata": {},
   "source": [
    "# Aditional material\n",
    "\n",
    "- Datacamp course: https://learn.datacamp.com/courses/working-with-dates-and-times-in-python"
   ]
  }
 ],
 "metadata": {
  "kernelspec": {
   "display_name": "Python 3",
   "language": "python",
   "name": "python3"
  },
  "language_info": {
   "codemirror_mode": {
    "name": "ipython",
    "version": 3
   },
   "file_extension": ".py",
   "mimetype": "text/x-python",
   "name": "python",
   "nbconvert_exporter": "python",
   "pygments_lexer": "ipython3",
   "version": "3.8.8"
  }
 },
 "nbformat": 4,
 "nbformat_minor": 4
}
