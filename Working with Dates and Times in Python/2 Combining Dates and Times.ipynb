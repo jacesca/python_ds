{
 "cells": [
  {
   "cell_type": "code",
   "execution_count": 1,
   "metadata": {},
   "outputs": [],
   "source": [
    "# Import libraries\n",
    "from datetime import datetime\n",
    "from collections import Counter\n",
    "\n",
    "import pandas as pd\n",
    "import expectexception\n",
    "from datetime import timedelta"
   ]
  },
  {
   "cell_type": "code",
   "execution_count": 2,
   "metadata": {},
   "outputs": [
    {
     "name": "stdout",
     "output_type": "stream",
     "text": [
      "(290, 8)\n"
     ]
    },
    {
     "data": {
      "text/html": [
       "<div>\n",
       "<style scoped>\n",
       "    .dataframe tbody tr th:only-of-type {\n",
       "        vertical-align: middle;\n",
       "    }\n",
       "\n",
       "    .dataframe tbody tr th {\n",
       "        vertical-align: top;\n",
       "    }\n",
       "\n",
       "    .dataframe thead th {\n",
       "        text-align: right;\n",
       "    }\n",
       "</style>\n",
       "<table border=\"1\" class=\"dataframe\">\n",
       "  <thead>\n",
       "    <tr style=\"text-align: right;\">\n",
       "      <th></th>\n",
       "      <th>start_date</th>\n",
       "      <th>end_date</th>\n",
       "      <th>start_station_number</th>\n",
       "      <th>start_station</th>\n",
       "      <th>end_station_number</th>\n",
       "      <th>end_station</th>\n",
       "      <th>bike_number</th>\n",
       "      <th>member_type</th>\n",
       "    </tr>\n",
       "  </thead>\n",
       "  <tbody>\n",
       "    <tr>\n",
       "      <th>0</th>\n",
       "      <td>2017-10-01 15:23:25</td>\n",
       "      <td>2017-10-01 15:26:26</td>\n",
       "      <td>31038</td>\n",
       "      <td>Glebe Rd &amp; 11th St N</td>\n",
       "      <td>31036</td>\n",
       "      <td>George Mason Dr &amp; Wilson Blvd</td>\n",
       "      <td>W20529</td>\n",
       "      <td>Member</td>\n",
       "    </tr>\n",
       "    <tr>\n",
       "      <th>1</th>\n",
       "      <td>2017-10-01 15:42:57</td>\n",
       "      <td>2017-10-01 17:49:59</td>\n",
       "      <td>31036</td>\n",
       "      <td>George Mason Dr &amp; Wilson Blvd</td>\n",
       "      <td>31036</td>\n",
       "      <td>George Mason Dr &amp; Wilson Blvd</td>\n",
       "      <td>W20529</td>\n",
       "      <td>Casual</td>\n",
       "    </tr>\n",
       "    <tr>\n",
       "      <th>2</th>\n",
       "      <td>2017-10-02 06:37:10</td>\n",
       "      <td>2017-10-02 06:42:53</td>\n",
       "      <td>31036</td>\n",
       "      <td>George Mason Dr &amp; Wilson Blvd</td>\n",
       "      <td>31037</td>\n",
       "      <td>Ballston Metro / N Stuart &amp; 9th St N</td>\n",
       "      <td>W20529</td>\n",
       "      <td>Member</td>\n",
       "    </tr>\n",
       "    <tr>\n",
       "      <th>3</th>\n",
       "      <td>2017-10-02 08:56:45</td>\n",
       "      <td>2017-10-02 09:18:03</td>\n",
       "      <td>31037</td>\n",
       "      <td>Ballston Metro / N Stuart &amp; 9th St N</td>\n",
       "      <td>31295</td>\n",
       "      <td>Potomac &amp; M St NW</td>\n",
       "      <td>W20529</td>\n",
       "      <td>Member</td>\n",
       "    </tr>\n",
       "    <tr>\n",
       "      <th>4</th>\n",
       "      <td>2017-10-02 18:23:48</td>\n",
       "      <td>2017-10-02 18:45:05</td>\n",
       "      <td>31295</td>\n",
       "      <td>Potomac &amp; M St NW</td>\n",
       "      <td>31230</td>\n",
       "      <td>Metro Center / 12th &amp; G St NW</td>\n",
       "      <td>W20529</td>\n",
       "      <td>Member</td>\n",
       "    </tr>\n",
       "  </tbody>\n",
       "</table>\n",
       "</div>"
      ],
      "text/plain": [
       "            start_date             end_date  start_station_number  \\\n",
       "0  2017-10-01 15:23:25  2017-10-01 15:26:26                 31038   \n",
       "1  2017-10-01 15:42:57  2017-10-01 17:49:59                 31036   \n",
       "2  2017-10-02 06:37:10  2017-10-02 06:42:53                 31036   \n",
       "3  2017-10-02 08:56:45  2017-10-02 09:18:03                 31037   \n",
       "4  2017-10-02 18:23:48  2017-10-02 18:45:05                 31295   \n",
       "\n",
       "                          start_station  end_station_number  \\\n",
       "0                  Glebe Rd & 11th St N               31036   \n",
       "1         George Mason Dr & Wilson Blvd               31036   \n",
       "2         George Mason Dr & Wilson Blvd               31037   \n",
       "3  Ballston Metro / N Stuart & 9th St N               31295   \n",
       "4                     Potomac & M St NW               31230   \n",
       "\n",
       "                            end_station bike_number member_type  \n",
       "0         George Mason Dr & Wilson Blvd      W20529      Member  \n",
       "1         George Mason Dr & Wilson Blvd      W20529      Casual  \n",
       "2  Ballston Metro / N Stuart & 9th St N      W20529      Member  \n",
       "3                     Potomac & M St NW      W20529      Member  \n",
       "4         Metro Center / 12th & G St NW      W20529      Member  "
      ]
     },
     "execution_count": 2,
     "metadata": {},
     "output_type": "execute_result"
    }
   ],
   "source": [
    "# Read data\n",
    "bikes_data = pd.read_csv('datasets/capital-onebike.csv') #list of dates\n",
    "print(bikes_data.shape)\n",
    "bikes_data.columns = bikes_data.columns.str.lower().str.replace(' ','_')\n",
    "bikes_data.head()"
   ]
  },
  {
   "cell_type": "code",
   "execution_count": 3,
   "metadata": {},
   "outputs": [
    {
     "data": {
      "text/html": [
       "<div>\n",
       "<style scoped>\n",
       "    .dataframe tbody tr th:only-of-type {\n",
       "        vertical-align: middle;\n",
       "    }\n",
       "\n",
       "    .dataframe tbody tr th {\n",
       "        vertical-align: top;\n",
       "    }\n",
       "\n",
       "    .dataframe thead th {\n",
       "        text-align: right;\n",
       "    }\n",
       "</style>\n",
       "<table border=\"1\" class=\"dataframe\">\n",
       "  <thead>\n",
       "    <tr style=\"text-align: right;\">\n",
       "      <th></th>\n",
       "      <th>start_date</th>\n",
       "      <th>end_date</th>\n",
       "      <th>start_station_number</th>\n",
       "      <th>start_station</th>\n",
       "      <th>end_station_number</th>\n",
       "      <th>end_station</th>\n",
       "      <th>bike_number</th>\n",
       "      <th>member_type</th>\n",
       "    </tr>\n",
       "  </thead>\n",
       "  <tbody>\n",
       "    <tr>\n",
       "      <th>129</th>\n",
       "      <td>2017-11-05 01:56:50</td>\n",
       "      <td>2017-11-05 01:01:04</td>\n",
       "      <td>31615</td>\n",
       "      <td>6th &amp; H St NE</td>\n",
       "      <td>31627</td>\n",
       "      <td>3rd &amp; M St NE</td>\n",
       "      <td>W20529</td>\n",
       "      <td>Member</td>\n",
       "    </tr>\n",
       "  </tbody>\n",
       "</table>\n",
       "</div>"
      ],
      "text/plain": [
       "              start_date             end_date  start_station_number  \\\n",
       "129  2017-11-05 01:56:50  2017-11-05 01:01:04                 31615   \n",
       "\n",
       "     start_station  end_station_number    end_station bike_number member_type  \n",
       "129  6th & H St NE               31627  3rd & M St NE      W20529      Member  "
      ]
     },
     "execution_count": 3,
     "metadata": {},
     "output_type": "execute_result"
    }
   ],
   "source": [
    "bikes_data[bikes_data.start_date=='2017-11-05 01:56:50']"
   ]
  },
  {
   "cell_type": "markdown",
   "metadata": {},
   "source": [
    "### <font color=blue>Transform data to datetime</font>"
   ]
  },
  {
   "cell_type": "code",
   "execution_count": 4,
   "metadata": {},
   "outputs": [
    {
     "data": {
      "text/plain": [
       "[{'end': Timestamp('2017-10-01 15:26:26'),\n",
       "  'start': Timestamp('2017-10-01 15:23:25')},\n",
       " {'end': Timestamp('2017-10-01 17:49:59'),\n",
       "  'start': Timestamp('2017-10-01 15:42:57')}]"
      ]
     },
     "execution_count": 4,
     "metadata": {},
     "output_type": "execute_result"
    }
   ],
   "source": [
    "# Transforming data to Timestamp using pd.to_datetime (First choice)\n",
    "bikes_data['end'] = pd.to_datetime(bikes_data['end_date'])\n",
    "bikes_data['start'] = pd.to_datetime(bikes_data['start_date'])\n",
    "bikes_data[['end','start']].to_dict(orient='records')[:2]"
   ]
  },
  {
   "cell_type": "code",
   "execution_count": 5,
   "metadata": {},
   "outputs": [
    {
     "data": {
      "text/plain": [
       "array([datetime.datetime(2017, 10, 1, 15, 26, 26),\n",
       "       datetime.datetime(2017, 10, 1, 17, 49, 59)], dtype=object)"
      ]
     },
     "metadata": {},
     "output_type": "display_data"
    },
    {
     "data": {
      "text/plain": [
       "array([datetime.datetime(2017, 10, 1, 15, 26, 26),\n",
       "       datetime.datetime(2017, 10, 1, 17, 49, 59)], dtype=object)"
      ]
     },
     "metadata": {},
     "output_type": "display_data"
    },
    {
     "data": {
      "text/plain": [
       "[datetime.date(2017, 10, 1),\n",
       " datetime.date(2017, 10, 1),\n",
       " datetime.date(2017, 10, 2)]"
      ]
     },
     "metadata": {},
     "output_type": "display_data"
    }
   ],
   "source": [
    "# Transforming data to datetime\n",
    "display(bikes_data['end'].dt.to_pydatetime()[:2])\n",
    "\n",
    "display(pd.to_datetime(bikes_data['end_date']).dt.to_pydatetime()[:2])\n",
    "\n",
    "# Transforming data to date\n",
    "display([d.date() for d in pd.to_datetime(bikes_data['end'])][:3])"
   ]
  },
  {
   "cell_type": "code",
   "execution_count": 6,
   "metadata": {},
   "outputs": [
    {
     "data": {
      "text/plain": [
       "[{'end': datetime.datetime(2017, 10, 1, 15, 26, 26),\n",
       "  'start': datetime.datetime(2017, 10, 1, 15, 23, 25)},\n",
       " {'end': datetime.datetime(2017, 10, 1, 17, 49, 59),\n",
       "  'start': datetime.datetime(2017, 10, 1, 15, 42, 57)}]"
      ]
     },
     "execution_count": 6,
     "metadata": {},
     "output_type": "execute_result"
    }
   ],
   "source": [
    "# Transforming to dict of datetime (Second choice)\n",
    "[{'end'  : datetime.strptime(row['end_date'], \"%Y-%m-%d %H:%M:%S\"),\n",
    "  'start': datetime.fromisoformat(row['start_date'])} for i, row in bikes_data.iterrows()][:2]"
   ]
  },
  {
   "cell_type": "markdown",
   "metadata": {},
   "source": [
    "### <font color=blue>Global variables</font>"
   ]
  },
  {
   "cell_type": "code",
   "execution_count": 7,
   "metadata": {},
   "outputs": [
    {
     "data": {
      "text/plain": [
       "[{'end': datetime.datetime(2017, 10, 1, 15, 26, 26),\n",
       "  'start': datetime.datetime(2017, 10, 1, 15, 23, 25)},\n",
       " {'end': datetime.datetime(2017, 10, 1, 17, 49, 59),\n",
       "  'start': datetime.datetime(2017, 10, 1, 15, 42, 57)}]"
      ]
     },
     "execution_count": 7,
     "metadata": {},
     "output_type": "execute_result"
    }
   ],
   "source": [
    "# Transforming to dict of datetime (final choice)\n",
    "onebike_datetimes = [{'end'  : pd.to_datetime(row['end_date']).to_pydatetime(),\n",
    "                      'start': pd.to_datetime(row['start_date']).to_pydatetime()} for i, row in bikes_data.iterrows()]\n",
    "onebike_datetimes[:2]"
   ]
  },
  {
   "cell_type": "code",
   "execution_count": 8,
   "metadata": {},
   "outputs": [
    {
     "data": {
      "text/plain": [
       "[('2017-10-01 15:26:26', '2017-10-01 15:23:25'),\n",
       " ('2017-10-01 17:49:59', '2017-10-01 15:42:57')]"
      ]
     },
     "execution_count": 8,
     "metadata": {},
     "output_type": "execute_result"
    }
   ],
   "source": [
    "onebike_datetime_strings = list(bikes_data[['end_date', 'start_date']].to_records(index=False))\n",
    "onebike_datetime_strings[:2]"
   ]
  },
  {
   "cell_type": "markdown",
   "metadata": {},
   "source": [
    "# 2. Combining Dates and Times\n",
    "\n",
    "Bike sharing programs have swept through cities around the world -- and luckily for us, every trip gets recorded! Working with all of the comings and goings of one bike in Washington, D.C., you'll practice working with dates and times together. You'll parse dates and times from text, analyze peak trip times, calculate ride durations, and more."
   ]
  },
  {
   "cell_type": "markdown",
   "metadata": {},
   "source": [
    "# <font color=darkred>2.1 Dates and times</font>\n",
    "\n",
    "**1. Adding time to the mix**\n",
    ">In this chapter, you are going to move from only working with dates to working with both dates and times: the calendar day AND the time on the clock within that day.\n",
    "\n",
    "**2. Dates and Times**\n",
    ">As always, let's start with an example. Here is an example of a date and a time together: October 1, 2017, at 3:23:25 PM. Unlike before, where we were only working with the date, we're now going to also include the time. Let's see how to represent this in Python.\n",
    "\n",
    "**3. Dates and Times**\n",
    ">The first thing we have to do is import the datetime class from the datetime package. Ideally, these would have different names, but unfortunately for historical reasons they have the same name. This is just something to get used to.\n",
    "\n",
    "**4. Dates and Times**\n",
    ">We're going to create a datetime called \"dt\" and populate the fields together.\n",
    "\n",
    "**5. Dates and Times**\n",
    ">The first three arguments to the datetime class are exactly the same as the date class. Year, then month, then day, each as a number.\n",
    "\n",
    "**6. Dates and Times**\n",
    ">Next, we fill in the hour. Computers generally use 24 hour time, meaning that 3 PM is represented as hour 15 of 24.\n",
    "\n",
    "**7. Dates and Times**\n",
    ">We put in the minutes, 23 out of 60.\n",
    "\n",
    "**8. Dates and Times**\n",
    ">And finally, the seconds. October 1, 2017 at 3:23:25PM is represented as a datetime in Python as 2017, 10, 1, 15, 23, 25). All of these arguments need to be whole numbers; if you want to represent .5 seconds,\n",
    "\n",
    "**9. Dates and Times**\n",
    ">you can add microseconds to your datetime. Here we've added 500,000 microseconds, or .5 seconds. That is, Python breaks seconds down into millionths of a second for you when you need that kind of precision. If you need billionths of a second precision (which happens sometimes in science and finance) we'll cover nanoseconds when we get to Pandas at the end of this course. Python defaults to 0 microseconds if you don't include it.\n",
    "\n",
    "**10. Dates and Times**\n",
    ">That's a lot of arguments; if it helps, you can always be more explicit and use named arguments.\n",
    "\n",
    "**11. Replacing parts of a datetime**\n",
    ">We can also make new datetimes from existing ones by using the replace() method. For example, we can take the datetime we just made, and make a new one which has the same date but is rounded down to the start of the hour. We call dt.replace() and set minutes, seconds, and microseconds to 0. This creates a new datetime with the same values in all the other fields, but these ones changed.\n",
    "\n",
    "**12. Capital Bikeshare**\n",
    ">Before we wrap up, let's talk about the data we will use for the rest of this course. You will be working with data from Capital Bikeshare, the oldest municipal shared bike program in the United States. Throughout the Washington, D.C. area, you will find these special bike docks, where riders can pay to take a bike, ride it, and return to this or any other station in the network. We will be following one bike, ID number \"W20529\", on all the trips it took in October, November, and December of 2017. Each trip consisted of a date and time when a bike was undocked from a station, then some time passed, and the date and time when W20529 was docked again.\n",
    "\n",
    "**13. Adding time to the mix**\n",
    ">In this video, we walked through how to create datetime objects in Python. You're going to practice that in the exercises, and also work with the Capital Bikeshare data and see how we can use Python to understand the trips that W20529 took throughout the three months we're interested in."
   ]
  },
  {
   "cell_type": "code",
   "execution_count": 9,
   "metadata": {},
   "outputs": [
    {
     "name": "stdout",
     "output_type": "stream",
     "text": [
      "<class 'datetime.datetime'>\n",
      "2017-10-01 15:23:25\n"
     ]
    }
   ],
   "source": [
    "# Dates and Times\n",
    "dt = datetime(2017, 10, 1, 15, 23, 25)\n",
    "print(type(dt))\n",
    "print(dt)"
   ]
  },
  {
   "cell_type": "code",
   "execution_count": 10,
   "metadata": {},
   "outputs": [
    {
     "name": "stdout",
     "output_type": "stream",
     "text": [
      "2017-10-01 15:23:25.500000\n",
      "2017-10-01 15:23:25.000005\n"
     ]
    }
   ],
   "source": [
    "dt = datetime(2017, 10, 1, 15, 23, 25, 500000)\n",
    "print(dt)\n",
    "\n",
    "dt = datetime(2017, 10, 1, 15, 23, 25, 5)\n",
    "print(dt)"
   ]
  },
  {
   "cell_type": "code",
   "execution_count": 11,
   "metadata": {},
   "outputs": [
    {
     "name": "stdout",
     "output_type": "stream",
     "text": [
      "2017-10-01 15:00:00\n"
     ]
    }
   ],
   "source": [
    "dt_hr = dt.replace(minute=0, second=0, microsecond=0)\n",
    "print(dt_hr)"
   ]
  },
  {
   "cell_type": "markdown",
   "metadata": {},
   "source": [
    "# <font color=darkred>2.2 Creating datetimes by hand</font> \n",
    "\n",
    "Often you create datetime objects based on outside data. Sometimes though, you want to create a datetime object from scratch.\n",
    "\n",
    "You're going to create a few different datetime objects from scratch to get the hang of that process. These come from the bikeshare data set that you'll use throughout the rest of the chapter.\n",
    "\n",
    "**Instructions**\n",
    "\n",
    "- Import the datetime class.\n",
    "- Create a datetime for October 1, 2017 at 15:26:26.\n",
    "- Print the results in ISO format.\n",
    "- Create a datetime for December 31, 2017 at 15:19:13.\n",
    "- Print the results in ISO format.\n",
    "- Create a new datetime by replacing the year in dt with 1917 (instead of 2017)\n",
    "\n",
    "**Results**\n",
    "\n",
    "<font color=darkgreen>Well done! You can now create datetime objects.</font>"
   ]
  },
  {
   "cell_type": "code",
   "execution_count": 12,
   "metadata": {},
   "outputs": [
    {
     "name": "stdout",
     "output_type": "stream",
     "text": [
      "2017-10-01T15:26:26\n"
     ]
    }
   ],
   "source": [
    "# Create a datetime object\n",
    "dt = datetime(2017, 10, 1, 15, 26, 26)\n",
    "\n",
    "# Print the results in ISO 8601 format\n",
    "print(dt.isoformat())"
   ]
  },
  {
   "cell_type": "code",
   "execution_count": 13,
   "metadata": {},
   "outputs": [
    {
     "name": "stdout",
     "output_type": "stream",
     "text": [
      "2017-12-31T15:19:13\n"
     ]
    }
   ],
   "source": [
    "# Create a datetime object\n",
    "dt = datetime(2017, 12, 31, 15, 19, 13)\n",
    "\n",
    "# Print the results in ISO 8601 format\n",
    "print(dt.isoformat())"
   ]
  },
  {
   "cell_type": "code",
   "execution_count": 14,
   "metadata": {},
   "outputs": [
    {
     "name": "stdout",
     "output_type": "stream",
     "text": [
      "2017-12-31 15:19:13\n",
      "1917-12-31 15:19:13\n"
     ]
    }
   ],
   "source": [
    "# Create a datetime object\n",
    "dt = datetime(2017, 12, 31, 15, 19, 13)\n",
    "\n",
    "# Replace the year with 1917\n",
    "dt_old = dt.replace(year=1917)\n",
    "\n",
    "# Print the results in ISO 8601 format\n",
    "print(dt)\n",
    "print(dt_old)"
   ]
  },
  {
   "cell_type": "markdown",
   "metadata": {},
   "source": [
    "# <font color=darkred>2.3 Counting events before and after noon</font> \n",
    "\n",
    "In this chapter, you will be working with a list of all bike trips for one Capital Bikeshare bike, W20529, from October 1, 2017 to December 31, 2017. This list has been loaded as onebike_datetimes.\n",
    "\n",
    "Each element of the list is a dictionary with two entries: start is a datetime object corresponding to the start of a trip (when a bike is removed from the dock) and end is a datetime object corresponding to the end of a trip (when a bike is put back into a dock).\n",
    "\n",
    "You can use this data set to understand better how this bike was used. Did more trips start before noon or after noon?\n",
    "\n",
    "**Instructions**\n",
    "- Within the for loop, complete the if statement to check if the trip started before noon.\n",
    "- Within the for loop, increment trip_counts['AM'] if the trip started before noon, and trip_counts['PM'] if it started after noon.\n",
    "\n",
    "**Results**\n",
    "\n",
    "<font color=darkgreen>Great! It looks like this bike is used about twice as much after noon than it is before noon. One obvious follow up would be to see which hours the bike is most likely to be taken out for a ride.</font>"
   ]
  },
  {
   "cell_type": "code",
   "execution_count": 15,
   "metadata": {},
   "outputs": [
    {
     "name": "stdout",
     "output_type": "stream",
     "text": [
      "{'AM': 94, 'PM': 196}\n"
     ]
    }
   ],
   "source": [
    "# Create dictionary to hold results\n",
    "trip_counts = {'AM': 0, 'PM': 0}\n",
    "  \n",
    "# Loop over all trips\n",
    "for trip in onebike_datetimes:\n",
    "  # Check to see if the trip starts before noon\n",
    "  if trip['start'].hour < 12:\n",
    "    # Increment the counter for before noon\n",
    "    trip_counts['AM'] += 1\n",
    "  else:\n",
    "    # Increment the counter for after noon\n",
    "    trip_counts['PM'] += 1\n",
    "  \n",
    "print(trip_counts)"
   ]
  },
  {
   "cell_type": "code",
   "execution_count": 16,
   "metadata": {},
   "outputs": [
    {
     "data": {
      "text/plain": [
       "Counter({'PM': 196, 'AM': 94})"
      ]
     },
     "execution_count": 16,
     "metadata": {},
     "output_type": "execute_result"
    }
   ],
   "source": [
    "# Simplify the code\n",
    "Counter(['AM' if trip['start'].hour < 12 else 'PM' for trip in onebike_datetimes])"
   ]
  },
  {
   "cell_type": "markdown",
   "metadata": {},
   "source": [
    "# <font color=darkred>2.4 Printing and parsing datetimes</font>\n",
    "\n",
    "**1. Printing and parsing datetimes**\n",
    ">Much like dates, datetimes can be printed in many ways. Python also has another trick: you can take a string and turn it directly into a datetime. Let's start with printing dates and then move on to asking Python to parse them.\n",
    "\n",
    "**2. Printing datetimes**\n",
    ">First, let's create a datetime again. dt corresponds to December 30, 2017 at 15:19:13, the end of the last trip that W20529 takes in our data set. Just like with date objects, we use strftime() to create a string with a particular format. First, we'll just print the year, month and date, using the same format codes we used for dates. % capital Y stands for the four digit year, % lowercase m for the month, and % lowercase d for the day of the month. Now we can add in the hours, minutes and seconds. Again, we print the year, month and day, and now we add three more format codes: % capital H gives us the hour, % capital M gives us the minute, and % capital S gives us the seconds. There are also format codes for 12-hour clocks, and for printing the correct AM or PM.\n",
    "\n",
    "**3. Printing datetimes**\n",
    ">As before, we can make these formatting strings as complicated as we need. Here's another version of the previous string.\n",
    "\n",
    "**4. ISO 8601 Format**\n",
    ">Finally, we can use the isoformat() method, just like with dates, to get a standards-compliant way of writing down a datetime. The officially correct way of writing a datetime is the year, month, day, then a capital T, then the time in 24 hour time, followed by the minute and second. When in doubt, this is a good format to use.\n",
    "\n",
    "**5. Parsing datetimes with strptime**\n",
    ">We can also parse dates from strings, using the same format codes we used for printing. You'll use this often when getting date and time data from the Internet since dates and times are often represented as strings. We start, as before, by importing the datetime class.\n",
    "\n",
    "**6. Parsing datetimes with strptime**\n",
    ">The method we're going to use is called strptime(), which is short for string parse time. strptime() takes two arguments: the first argument is the string to turn into a datetime, and the second argument is the format string that says how to do it.\n",
    "\n",
    "**7. Parsing datetimes with strptime**\n",
    ">First we pass the string we want to parse. In this case, a string representing December 30, 2017, at 15:19:13.\n",
    "\n",
    "**8. Parsing datetimes with strptime**\n",
    ">Then we pass the format string, which as mentioned before uses the same format codes we used with strftime(). In this case, first the month, then the day, then the year, all separated by slashes, then a space, and then the hour, minutes, and seconds separated by colons. You usually need to figure this out once per data set.\n",
    "\n",
    "**9. Parsing datetimes with strptime**\n",
    ">If we look and see what kind of object we've made, by printing the type of dt, we see that we've got a datetime. And if we print that datetime, we get a string representation of the datetime. We can see that the parsing worked correctly.\n",
    "\n",
    "**10. Parsing datetimes with strptime**\n",
    ">We need an exact match to do a string conversion. For example, if we leave out how to parse the time, Python will throw an error. And similarly, if there is an errant comma or other symbols, strptime() will not be happy.\n",
    "\n",
    "**11. Parsing datetimes with Pandas**\n",
    ">Finally, there is another kind of datetime you will sometimes encounter: the Unix timestamp. Many computers store datetime information behind the scenes as the number of seconds since January 1, 1970. This date is largely considered the birth of modern-style computers. To read a Unix timestamp, use the datetime.fromtimestamp() method. Python will read your timestamp and return a datetime.\n",
    "\n",
    "**12. Printing and parsing datetimes**\n",
    ">We've just covered how to use format codes to turn datetimes into strings and strings into datetimes, and what ISO 8601 format looks like with time involved. Now you'll practice moving back and forth between strings and datetimes."
   ]
  },
  {
   "cell_type": "code",
   "execution_count": 17,
   "metadata": {},
   "outputs": [
    {
     "data": {
      "text/plain": [
       "'2017-12-30'"
      ]
     },
     "metadata": {},
     "output_type": "display_data"
    },
    {
     "data": {
      "text/plain": [
       "'2017-12-30 15:19:13'"
      ]
     },
     "metadata": {},
     "output_type": "display_data"
    },
    {
     "data": {
      "text/plain": [
       "'2017-12-30 03:19:13 PM'"
      ]
     },
     "metadata": {},
     "output_type": "display_data"
    },
    {
     "data": {
      "text/plain": [
       "'15:19:13 on 30/12/2017'"
      ]
     },
     "metadata": {},
     "output_type": "display_data"
    },
    {
     "data": {
      "text/plain": [
       "'2017-12-30T15:19:13'"
      ]
     },
     "metadata": {},
     "output_type": "display_data"
    }
   ],
   "source": [
    "# Create datetime\n",
    "dt = datetime(2017, 12, 30, 15, 19, 13)\n",
    "\n",
    "# Printing datetimes\n",
    "display(dt.strftime(\"%Y-%m-%d\"))\n",
    "display(dt.strftime(\"%Y-%m-%d %H:%M:%S\"))\n",
    "display(dt.strftime(\"%Y-%m-%d %I:%M:%S %p\"))\n",
    "display(dt.strftime(\"%H:%M:%S on %d/%m/%Y\"))\n",
    "\n",
    "# ISO 8601 format\n",
    "display(dt.isoformat())"
   ]
  },
  {
   "cell_type": "code",
   "execution_count": 18,
   "metadata": {},
   "outputs": [
    {
     "name": "stdout",
     "output_type": "stream",
     "text": [
      "<class 'datetime.datetime'>\n",
      "2017-12-30 15:19:13\n"
     ]
    }
   ],
   "source": [
    "# Parsing datetimes with strptime\n",
    "dt = datetime.strptime(\"12/30/2017 15:19:13\", \"%m/%d/%Y %H:%M:%S\")\n",
    "\n",
    "# What did we make?\n",
    "print(type(dt))\n",
    "\n",
    "# Print out datetime object\n",
    "print(dt)"
   ]
  },
  {
   "cell_type": "code",
   "execution_count": 19,
   "metadata": {},
   "outputs": [
    {
     "name": "stdout",
     "output_type": "stream",
     "text": [
      "\u001b[1;31m---------------------------------------------------------------------------\u001b[0m\n",
      "\u001b[1;31mValueError\u001b[0m                                Traceback (most recent call last)\n",
      "\u001b[1;32m<ipython-input-19-7d9126104e0d>\u001b[0m in \u001b[0;36m<module>\u001b[1;34m\u001b[0m\n",
      "\u001b[0;32m      1\u001b[0m \u001b[1;31m# Incorrect format string\u001b[0m\u001b[1;33m\u001b[0m\u001b[1;33m\u001b[0m\u001b[1;33m\u001b[0m\u001b[0m\n",
      "\u001b[1;32m----> 2\u001b[1;33m \u001b[0mdt\u001b[0m \u001b[1;33m=\u001b[0m \u001b[0mdatetime\u001b[0m\u001b[1;33m.\u001b[0m\u001b[0mstrptime\u001b[0m\u001b[1;33m(\u001b[0m\u001b[1;34m\"2017-12-30 15:19:13\"\u001b[0m\u001b[1;33m,\u001b[0m \u001b[1;34m\"%Y-%m-%d\"\u001b[0m\u001b[1;33m)\u001b[0m\u001b[1;33m\u001b[0m\u001b[1;33m\u001b[0m\u001b[0m\n",
      "\u001b[0m\n",
      "\u001b[1;32mC:\\Anaconda3\\envs\\datascience\\lib\\_strptime.py\u001b[0m in \u001b[0;36m_strptime_datetime\u001b[1;34m(cls, data_string, format)\u001b[0m\n",
      "\u001b[0;32m    566\u001b[0m     \"\"\"Return a class cls instance based on the input string and the\n",
      "\u001b[0;32m    567\u001b[0m     format string.\"\"\"\n",
      "\u001b[1;32m--> 568\u001b[1;33m     \u001b[0mtt\u001b[0m\u001b[1;33m,\u001b[0m \u001b[0mfraction\u001b[0m\u001b[1;33m,\u001b[0m \u001b[0mgmtoff_fraction\u001b[0m \u001b[1;33m=\u001b[0m \u001b[0m_strptime\u001b[0m\u001b[1;33m(\u001b[0m\u001b[0mdata_string\u001b[0m\u001b[1;33m,\u001b[0m \u001b[0mformat\u001b[0m\u001b[1;33m)\u001b[0m\u001b[1;33m\u001b[0m\u001b[1;33m\u001b[0m\u001b[0m\n",
      "\u001b[0m\u001b[0;32m    569\u001b[0m     \u001b[0mtzname\u001b[0m\u001b[1;33m,\u001b[0m \u001b[0mgmtoff\u001b[0m \u001b[1;33m=\u001b[0m \u001b[0mtt\u001b[0m\u001b[1;33m[\u001b[0m\u001b[1;33m-\u001b[0m\u001b[1;36m2\u001b[0m\u001b[1;33m:\u001b[0m\u001b[1;33m]\u001b[0m\u001b[1;33m\u001b[0m\u001b[1;33m\u001b[0m\u001b[0m\n",
      "\u001b[0;32m    570\u001b[0m     \u001b[0margs\u001b[0m \u001b[1;33m=\u001b[0m \u001b[0mtt\u001b[0m\u001b[1;33m[\u001b[0m\u001b[1;33m:\u001b[0m\u001b[1;36m6\u001b[0m\u001b[1;33m]\u001b[0m \u001b[1;33m+\u001b[0m \u001b[1;33m(\u001b[0m\u001b[0mfraction\u001b[0m\u001b[1;33m,\u001b[0m\u001b[1;33m)\u001b[0m\u001b[1;33m\u001b[0m\u001b[1;33m\u001b[0m\u001b[0m\n",
      "\n",
      "\u001b[1;32mC:\\Anaconda3\\envs\\datascience\\lib\\_strptime.py\u001b[0m in \u001b[0;36m_strptime\u001b[1;34m(data_string, format)\u001b[0m\n",
      "\u001b[0;32m    350\u001b[0m                          (data_string, format))\n",
      "\u001b[0;32m    351\u001b[0m     \u001b[1;32mif\u001b[0m \u001b[0mlen\u001b[0m\u001b[1;33m(\u001b[0m\u001b[0mdata_string\u001b[0m\u001b[1;33m)\u001b[0m \u001b[1;33m!=\u001b[0m \u001b[0mfound\u001b[0m\u001b[1;33m.\u001b[0m\u001b[0mend\u001b[0m\u001b[1;33m(\u001b[0m\u001b[1;33m)\u001b[0m\u001b[1;33m:\u001b[0m\u001b[1;33m\u001b[0m\u001b[1;33m\u001b[0m\u001b[0m\n",
      "\u001b[1;32m--> 352\u001b[1;33m         raise ValueError(\"unconverted data remains: %s\" %\n",
      "\u001b[0m\u001b[0;32m    353\u001b[0m                           data_string[found.end():])\n",
      "\u001b[0;32m    354\u001b[0m \u001b[1;33m\u001b[0m\u001b[0m\n",
      "\n",
      "\u001b[1;31mValueError\u001b[0m: unconverted data remains:  15:19:13\n"
     ]
    }
   ],
   "source": [
    "%%expect_exception ValueError\n",
    "# Incorrect format string\n",
    "dt = datetime.strptime(\"2017-12-30 15:19:13\", \"%Y-%m-%d\")"
   ]
  },
  {
   "cell_type": "code",
   "execution_count": 20,
   "metadata": {},
   "outputs": [
    {
     "name": "stdout",
     "output_type": "stream",
     "text": [
      "2017-12-30 14:19:13\n"
     ]
    }
   ],
   "source": [
    "# Parsing datetimes with Pandas - A UNIX timestamp\n",
    "ts = 1514665153.0\n",
    "\n",
    "# Convert to datetime and print\n",
    "print(datetime.fromtimestamp(ts))"
   ]
  },
  {
   "cell_type": "markdown",
   "metadata": {},
   "source": [
    "# <font color=darkred>2.5 Turning strings into datetimes</font> \n",
    "\n",
    "When you download data from the Internet, dates and times usually come to you as strings. Often the first step is to turn those strings into datetime objects.\n",
    "\n",
    "In this exercise, you will practice this transformation.\n",
    "\n",
    "|**Reference**| |\n",
    "|-|-|\n",
    "|%Y|4digit year (0000-9999)|\n",
    "|%m|2digit month (1-12)|\n",
    "|%d|2 digit day (1-31)|\n",
    "|%H|2 digit hour (0-23)|\n",
    "|%M|2 digit minute (0-59)|\n",
    "|%S|2 digit second (0-59)|\n",
    "\n",
    "**Instructions**\n",
    "- Determine the format needed to convert s to datetime and assign it to fmt.\n",
    "- Convert the string s to datetime using fmt.\n",
    "\n",
    "\n",
    "- Determine the format needed to convert s to datetime and assign it to fmt.\n",
    "- Convert the string s to datetime using fmt.\n",
    "\n",
    "\n",
    "- Determine the format needed to convert s to datetime and assign it to fmt.\n",
    "- Convert the string s to datetime using fmt.\n",
    "\n",
    "**Results**\n",
    "\n",
    "<font color=darkgreen>Great! Now you can parse dates in most common formats. Unfortunately, Python does not have the ability to parse non-zero-padded dates and times out of the box (such as 1/2/2018). If needed, you can use other string methods to create zero-padded strings suitable for strptime().</font>"
   ]
  },
  {
   "cell_type": "code",
   "execution_count": 21,
   "metadata": {},
   "outputs": [
    {
     "name": "stdout",
     "output_type": "stream",
     "text": [
      "2017-02-03 00:00:01\n"
     ]
    }
   ],
   "source": [
    "# Starting string, in YYYY-MM-DD HH:MM:SS format\n",
    "s = '2017-02-03 00:00:01'\n",
    "\n",
    "# Write a format string to parse s\n",
    "fmt = '%Y-%m-%d %H:%M:%S'\n",
    "\n",
    "# Create a datetime object d\n",
    "d = datetime.strptime(s, fmt)\n",
    "\n",
    "# Print d\n",
    "print(d)"
   ]
  },
  {
   "cell_type": "code",
   "execution_count": 22,
   "metadata": {},
   "outputs": [
    {
     "name": "stdout",
     "output_type": "stream",
     "text": [
      "2030-10-15 00:00:00\n"
     ]
    }
   ],
   "source": [
    "# Starting string, in YYYY-MM-DD format\n",
    "s = '2030-10-15'\n",
    "\n",
    "# Write a format string to parse s\n",
    "fmt = '%Y-%m-%d'\n",
    "\n",
    "# Create a datetime object d\n",
    "d = datetime.strptime(s, fmt)\n",
    "\n",
    "# Print d\n",
    "print(d)"
   ]
  },
  {
   "cell_type": "code",
   "execution_count": 23,
   "metadata": {},
   "outputs": [
    {
     "name": "stdout",
     "output_type": "stream",
     "text": [
      "1986-12-15 08:00:00\n"
     ]
    }
   ],
   "source": [
    "# Starting string, in MM/DD/YYYY HH:MM:SS format\n",
    "s = '12/15/1986 08:00:00'\n",
    "\n",
    "# Write a format string to parse s\n",
    "fmt = '%m/%d/%Y %H:%M:%S'\n",
    "\n",
    "# Create a datetime object d\n",
    "d = datetime.strptime(s, fmt)\n",
    "\n",
    "# Print d\n",
    "print(d)"
   ]
  },
  {
   "cell_type": "markdown",
   "metadata": {},
   "source": [
    "# <font color=darkred>2.6 Parsing pairs of strings as datetimes</font> \n",
    "\n",
    "Up until now, you've been working with a pre-processed list of datetimes for W20529's trips. For this exercise, you're going to go one step back in the data cleaning pipeline and work with the strings that the data started as.\n",
    "\n",
    "Explore onebike_datetime_strings in the IPython shell to determine the correct format. datetime has already been loaded for you.\n",
    "\n",
    "|**Reference**| |\n",
    "|-|-|\n",
    "|%Y|4digit year (0000-9999)|\n",
    "|%m|2digit month (1-12)|\n",
    "|%d|2 digit day (1-31)|\n",
    "|%H|2 digit hour (0-23)|\n",
    "|%M|2 digit minute (0-59)|\n",
    "|%S|2 digit second (0-59)|\n",
    "\n",
    "**Instructions**\n",
    "- Outside the for loop, fill out the fmt string with the correct parsing format for the data.\n",
    "- Within the for loop, parse the start and end strings into the trip dictionary with start and end keys and datetime objects for values.\n",
    "\n",
    "**Results**\n",
    "\n",
    "<font color=darkgreen>Excellent! Now you know how to process lists of strings into a more useful structure. If you haven't come across this approach before, many complex data cleaning tasks follow this same format: start with a list, process each element, and add the processed data to a new list.</font>"
   ]
  },
  {
   "cell_type": "code",
   "execution_count": 24,
   "metadata": {},
   "outputs": [
    {
     "data": {
      "text/plain": [
       "[{'start': datetime.datetime(2017, 10, 1, 15, 26, 26),\n",
       "  'end': datetime.datetime(2017, 10, 1, 15, 23, 25)},\n",
       " {'start': datetime.datetime(2017, 10, 1, 17, 49, 59),\n",
       "  'end': datetime.datetime(2017, 10, 1, 15, 42, 57)}]"
      ]
     },
     "execution_count": 24,
     "metadata": {},
     "output_type": "execute_result"
    }
   ],
   "source": [
    "# Write down the format string\n",
    "fmt = \"%Y-%m-%d %H:%M:%S\"\n",
    "\n",
    "# Initialize a list for holding the pairs of datetime objects\n",
    "bike_datetimes = []\n",
    "\n",
    "# Loop over all trips\n",
    "for (start, end) in onebike_datetime_strings:\n",
    "  trip = {'start': datetime.strptime(start, fmt),\n",
    "          'end': datetime.strptime(end, fmt)}\n",
    "  \n",
    "  # Append the trip\n",
    "  bike_datetimes.append(trip)\n",
    "bike_datetimes[:2]"
   ]
  },
  {
   "cell_type": "code",
   "execution_count": 25,
   "metadata": {},
   "outputs": [
    {
     "data": {
      "text/plain": [
       "[{'start': datetime.datetime(2017, 10, 1, 15, 26, 26),\n",
       "  'end': datetime.datetime(2017, 10, 1, 15, 23, 25)},\n",
       " {'start': datetime.datetime(2017, 10, 1, 17, 49, 59),\n",
       "  'end': datetime.datetime(2017, 10, 1, 15, 42, 57)}]"
      ]
     },
     "execution_count": 25,
     "metadata": {},
     "output_type": "execute_result"
    }
   ],
   "source": [
    "#Simplify the code\n",
    "[{'start': datetime.strptime(start, fmt), 'end': datetime.strptime(end, fmt)} for start, end in onebike_datetime_strings][:2]"
   ]
  },
  {
   "cell_type": "markdown",
   "metadata": {},
   "source": [
    "# <font color=darkred>2.7 Recreating ISO format with strftime()</font> \n",
    "\n",
    "In the last chapter, you used strftime() to create strings from date objects. Now that you know about datetime objects, let's practice doing something similar.\n",
    "\n",
    "Re-create the .isoformat() method, using .strftime(), and print the first trip start in our data set.\n",
    "\n",
    "|**Reference**| |\n",
    "|-|-|\n",
    "|%Y|4digit year (0000-9999)|\n",
    "|%m|2digit month (1-12)|\n",
    "|%d|2 digit day (1-31)|\n",
    "|%H|2 digit hour (0-23)|\n",
    "|%M|2 digit minute (0-59)|\n",
    "|%S|2 digit second (0-59)|\n",
    "\n",
    "**Instructions**\n",
    "- Complete fmt to match the format of ISO 8601.\n",
    "- Print first_start with both .isoformat() and .strftime(); they should match.\n",
    "\n",
    "**Results**\n",
    "\n",
    "<font color=darkgreen>Awesome! There are a wide variety of time formats you can create with strftime(), depending on your needs. However, if you don't know exactly what you need, .isoformat() is a perfectly fine place to start.</font>"
   ]
  },
  {
   "cell_type": "code",
   "execution_count": 26,
   "metadata": {},
   "outputs": [
    {
     "name": "stdout",
     "output_type": "stream",
     "text": [
      "Just the variable: 2017-10-01 15:23:25\n",
      "With .isoformat(): 2017-10-01T15:23:25\n",
      "With .strftime() : 2017-10-01T15:23:25\n"
     ]
    }
   ],
   "source": [
    "# Pull out the start of the first trip\n",
    "first_start = onebike_datetimes[0]['start']\n",
    "print('Just the variable:', first_start)\n",
    "\n",
    "# Format to feed to strftime()\n",
    "fmt = \"%Y-%m-%dT%H:%M:%S\"\n",
    "\n",
    "# Print out date with .isoformat(), then with .strftime() to compare\n",
    "print('With .isoformat():', first_start.isoformat())\n",
    "print('With .strftime() :', first_start.strftime(fmt))"
   ]
  },
  {
   "cell_type": "markdown",
   "metadata": {},
   "source": [
    "# <font color=darkred>2.8 Unix timestamps</font> \n",
    "\n",
    "Datetimes are sometimes stored as Unix timestamps: the number of seconds since January 1, 1970. This is especially common with computer infrastructure, like the log files that websites keep when they get visitors.\n",
    "\n",
    "**Instructions**\n",
    "\n",
    "- Complete the for loop to loop over timestamps.\n",
    "- Complete the code to turn each timestamp ts into a datetime.\n",
    "\n",
    "**Results**\n",
    "\n",
    "<font color=darkgreen>Nice! The largest number that some older computers can hold in one variable is 2147483648, which as a Unix timestamp is in January 2038. On that day, many computers which haven't been upgraded will fail. Hopefully, none of them are running anything critical!</font>"
   ]
  },
  {
   "cell_type": "code",
   "execution_count": 27,
   "metadata": {},
   "outputs": [
    {
     "name": "stdout",
     "output_type": "stream",
     "text": [
      "[datetime.datetime(2017, 12, 30, 14, 19, 13), datetime.datetime(2017, 12, 30, 14, 9, 3)]\n"
     ]
    }
   ],
   "source": [
    "# Starting timestamps\n",
    "timestamps = [1514665153, 1514664543]\n",
    "\n",
    "# Datetime objects\n",
    "dts = []\n",
    "\n",
    "# Loop\n",
    "for ts in timestamps:\n",
    "  dts.append(datetime.fromtimestamp(ts))\n",
    "  \n",
    "# Print results\n",
    "print(dts)"
   ]
  },
  {
   "cell_type": "markdown",
   "metadata": {},
   "source": [
    "# <font color=darkred>2.9 Working with durations</font>\n",
    "\n",
    "**1. Working with durations**\n",
    ">Much like dates, datetimes have a kind of arithmetic; we can compare them, subtract them, and add intervals to them. Because we are working with both days and times, the logic for durations is a little more complicated, but not by much. Let's have a look.\n",
    "\n",
    "**2. Working with durations**\n",
    ">Just as with dates, to get a sense for what's going on we put our datetimes on a timeline. These two datetimes here correspond to the start and end of one ride in our data set.\n",
    "\n",
    "**3. Working with durations**\n",
    ">To follow along in Python, we'll load these two in as \"start\" and \"end\". When we subtract datetimes, we get a timedelta. A timedelta represents what is called a duration: the elapsed time between events.\n",
    "\n",
    "**4. Working with durations**\n",
    ">When we call the method total_seconds(), we get back the number of seconds that our timedelta represents. In this case, 1450 seconds elapsed between our start and end. 1450 seconds is 24 minutes and 10 seconds.\n",
    "\n",
    "**5. Creating timedeltas**\n",
    ">You can also create a timedelta by hand. You start by importing timedelta from datetime. To create a timedelta, you specify the amount of time which has elapsed. For example, we make delta1, a timedelta which corresponds to a one second duration.\n",
    "\n",
    "**6. Creating timedeltas**\n",
    ">Now when we add delta1 to start, we see that we get back a datetime which is one second later.\n",
    "\n",
    "**7. Creating timedeltas**\n",
    ">We also create a timedelta, delta2, which is one day and one second in duration. Now when we add it to start, we get a new datetime which is the next day and one second later. Timedeltas can be created with any number of weeks, days, minutes, hours, seconds, or microseconds, and can be as small as a microsecond or as large as 2.7 million years.\n",
    "\n",
    "**8. Negative timedeltas**\n",
    ">Timedeltas can also be negative. For example, if we create delta3, whose argument is -1 weeks, and we add it to start we get a datetime corresponding to one week earlier.\n",
    "\n",
    "**9. Negative timedeltas**\n",
    ">We can also subtract a positive timedelta and get the same result. We create delta4, which corresponds to a 1 week duration, and we subtract it from start. As you can see, we get the same answer as when we added a negative timedelta.\n",
    "\n",
    "**10. Working with durations**\n",
    ">In this lesson, we showed how to create timedeltas, which represent a duration of time. You can create timedeltas by subtracting two datetimes, which tells you how much time has elapsed between events. You can also create a timedelta directly, then add and subtract timedeltas from datetimes to make new datetimes. In the next few exercises, you'll see how these pieces can be combined together to answer more complex questions."
   ]
  },
  {
   "cell_type": "code",
   "execution_count": 28,
   "metadata": {},
   "outputs": [
    {
     "name": "stdout",
     "output_type": "stream",
     "text": [
      "Start     : 2017-10-08 23:46:47\n",
      "End       : 2017-10-09 00:10:57\n",
      "Between   : 0:24:10\n",
      "In seconds: 1450.0\n"
     ]
    }
   ],
   "source": [
    "# Create example datetimes\n",
    "start = datetime(2017, 10, 8, 23, 46, 47)\n",
    "end = datetime(2017, 10, 9, 0, 10, 57)\n",
    "print('Start     :', start)\n",
    "print('End       :', end)\n",
    "\n",
    "# Subtract datetimes to create a timedelta\n",
    "duration = end - start\n",
    "print('Between   :', duration)\n",
    "\n",
    "# Subtract datetimes to create a timedelta\n",
    "print('In seconds:', duration.total_seconds())"
   ]
  },
  {
   "cell_type": "code",
   "execution_count": 29,
   "metadata": {},
   "outputs": [
    {
     "name": "stdout",
     "output_type": "stream",
     "text": [
      "0:00:01\n",
      "2017-10-08 23:46:47\n",
      "2017-10-08 23:46:48\n"
     ]
    }
   ],
   "source": [
    "# Create a timedelta\n",
    "delta1 = timedelta(seconds=1)\n",
    "print(delta1)\n",
    "\n",
    "print(start)\n",
    "\n",
    "# One second later\n",
    "print(start + delta1)"
   ]
  },
  {
   "cell_type": "code",
   "execution_count": 30,
   "metadata": {},
   "outputs": [
    {
     "name": "stdout",
     "output_type": "stream",
     "text": [
      "1 day, 0:00:01\n",
      "2017-10-08 23:46:47\n",
      "2017-10-09 23:46:48\n"
     ]
    }
   ],
   "source": [
    "# Create a one day and one second timedelta\n",
    "delta2 = timedelta(days=1, seconds=1)\n",
    "print(delta2)\n",
    "\n",
    "print(start)\n",
    "\n",
    "# One day and one second later\n",
    "print(start + delta2)"
   ]
  },
  {
   "cell_type": "code",
   "execution_count": 31,
   "metadata": {},
   "outputs": [
    {
     "name": "stdout",
     "output_type": "stream",
     "text": [
      "-7 days, 0:00:00\n",
      "2017-10-08 23:46:47\n",
      "2017-10-01 23:46:47\n"
     ]
    }
   ],
   "source": [
    "# Create a negative timedelta of one week\n",
    "delta3 = timedelta(weeks=-1)\n",
    "print(delta3)\n",
    "\n",
    "print(start)\n",
    "\n",
    "# One week earlier\n",
    "print(start + delta3)"
   ]
  },
  {
   "cell_type": "code",
   "execution_count": 32,
   "metadata": {},
   "outputs": [
    {
     "name": "stdout",
     "output_type": "stream",
     "text": [
      "7 days, 0:00:00\n",
      "2017-10-08 23:46:47\n",
      "2017-10-01 23:46:47\n"
     ]
    }
   ],
   "source": [
    "# Same, but we'll subtract this time\n",
    "delta4 = timedelta(weeks=1)\n",
    "print(delta4)\n",
    "\n",
    "print(start)\n",
    "\n",
    "# One week earlier\n",
    "print(start - delta4)"
   ]
  },
  {
   "cell_type": "markdown",
   "metadata": {},
   "source": [
    "# <font color=darkred>2.10 Turning pairs of datetimes into durations</font> \n",
    "\n",
    "When working with timestamps, we often want to know how much time has elapsed between events. Thankfully, we can use datetime arithmetic to ask Python to do the heavy lifting for us so we don't need to worry about day, month, or year boundaries. Let's calculate the number of seconds that the bike was out of the dock for each trip.\n",
    "\n",
    "Continuing our work from a previous coding exercise, the bike trip data has been loaded as the list onebike_datetimes. Each element of the list consists of two datetime objects, corresponding to the start and end of a trip, respectively.\n",
    "\n",
    "**Instructions**\n",
    "- Within the loop:\n",
    "    - Use arithmetic on the start and end elements to find the length of the trip\n",
    "    - Save the results to trip_duration.\n",
    "    - Calculate trip_length_seconds from trip_duration.\n",
    "\n",
    "**Results**\n",
    "\n",
    "<font color=darkgreen>Success! Remember that timedelta objects are represented in Python as a number of days and seconds of elapsed time. Be careful not to use .seconds on a timedelta object, since you'll just get the number of seconds without the days!</font>"
   ]
  },
  {
   "cell_type": "code",
   "execution_count": 33,
   "metadata": {},
   "outputs": [
    {
     "data": {
      "text/plain": [
       "[181.0, 7622.0]"
      ]
     },
     "execution_count": 33,
     "metadata": {},
     "output_type": "execute_result"
    }
   ],
   "source": [
    "# Initialize a list for all the trip durations\n",
    "onebike_durations = []\n",
    "\n",
    "for trip in onebike_datetimes:\n",
    "    # Create a timedelta object corresponding to the length of the trip\n",
    "    trip_duration = trip['end'] - trip['start']\n",
    "  \n",
    "    # Get the total elapsed seconds in trip_duration\n",
    "    trip_length_seconds = trip_duration.total_seconds()\n",
    "  \n",
    "    # Append the results to our list\n",
    "    onebike_durations.append(trip_length_seconds)\n",
    "\n",
    "onebike_durations[:2]"
   ]
  },
  {
   "cell_type": "code",
   "execution_count": 34,
   "metadata": {},
   "outputs": [
    {
     "data": {
      "text/plain": [
       "[181.0, 7622.0, 343.0]"
      ]
     },
     "execution_count": 34,
     "metadata": {},
     "output_type": "execute_result"
    }
   ],
   "source": [
    "# Simplify the code\n",
    "[(trip['end'] - trip['start']).total_seconds() for trip in onebike_datetimes][:3]"
   ]
  },
  {
   "cell_type": "markdown",
   "metadata": {},
   "source": [
    "# <font color=darkred>2.11 Average trip time</font> \n",
    "\n",
    "W20529 took 291 trips in our data set. How long were the trips on average? We can use the built-in Python functions sum() and len() to make this calculation.\n",
    "\n",
    "Based on your last coding exercise, the data has been loaded as onebike_durations. Each entry is a number of seconds that the bike was out of the dock.\n",
    "\n",
    "**Instructions**\n",
    "- Calculate total_elapsed_time across all trips in onebike_durations.\n",
    "- Calculate number_of_trips for onebike_durations.\n",
    "- Divide total_elapsed_time by number_of_trips to get the average trip length.\n",
    "\n",
    "**Results**\n",
    "\n",
    "<font color=darkgreen>Great work, and not remotely average! For the average to be a helpful summary of the data, we need for all of our durations to be reasonable numbers, and not a few that are way too big, way too small, or even malformed. For example, if there is anything fishy happening in the data, and our trip ended before it started, we'd have a negative trip length.</font>"
   ]
  },
  {
   "cell_type": "code",
   "execution_count": 35,
   "metadata": {},
   "outputs": [
    {
     "name": "stdout",
     "output_type": "stream",
     "text": [
      "1178.9310344827586\n"
     ]
    }
   ],
   "source": [
    "# What was the total duration of all trips?\n",
    "total_elapsed_time = sum(onebike_durations)\n",
    "\n",
    "# What was the total number of trips?\n",
    "number_of_trips = len(onebike_durations)\n",
    "  \n",
    "# Divide the total duration by the number of trips\n",
    "print(total_elapsed_time / number_of_trips)"
   ]
  },
  {
   "cell_type": "markdown",
   "metadata": {},
   "source": [
    "# <font color=darkred>2.12 The long and the short of why time is hard</font> \n",
    "\n",
    "Out of 291 trips taken by W20529, how long was the longest? How short was the shortest? Does anything look fishy?\n",
    "\n",
    "As before, data has been loaded as onebike_durations.\n",
    "\n",
    "**Instructions**\n",
    "- Calculate shortest_trip from onebike_durations.\n",
    "- Calculate longest_trip from onebike_durations.\n",
    "- Print the results, turning shortest_trip and longest_trip into strings so they can print.\n",
    "\n",
    "**Results**\n",
    "\n",
    "<font color=darkgreen>Weird huh?! For at least one trip, the bike returned before it left. Why could that be? Here's a hint: it happened in early November, around 2AM local time. What happens to clocks around that time each year? By the end of the next chapter, we'll have all the tools we need to deal with this situation!</font>"
   ]
  },
  {
   "cell_type": "code",
   "execution_count": 36,
   "metadata": {},
   "outputs": [
    {
     "name": "stdout",
     "output_type": "stream",
     "text": [
      "The shortest trip was -3346.0 seconds\n",
      "The longest trip was 76913.0 seconds\n"
     ]
    }
   ],
   "source": [
    "# Calculate shortest and longest trips\n",
    "shortest_trip = min(onebike_durations)\n",
    "longest_trip = max(onebike_durations)\n",
    "\n",
    "# Print out the results\n",
    "print(\"The shortest trip was \" + str(shortest_trip) + \" seconds\")\n",
    "print(\"The longest trip was \" + str(longest_trip) + \" seconds\")"
   ]
  },
  {
   "cell_type": "markdown",
   "metadata": {},
   "source": [
    "# Aditional material\n",
    "\n",
    "- Datacamp course: https://learn.datacamp.com/courses/working-with-dates-and-times-in-python"
   ]
  }
 ],
 "metadata": {
  "kernelspec": {
   "display_name": "Python 3",
   "language": "python",
   "name": "python3"
  },
  "language_info": {
   "codemirror_mode": {
    "name": "ipython",
    "version": 3
   },
   "file_extension": ".py",
   "mimetype": "text/x-python",
   "name": "python",
   "nbconvert_exporter": "python",
   "pygments_lexer": "ipython3",
   "version": "3.8.8"
  }
 },
 "nbformat": 4,
 "nbformat_minor": 4
}
