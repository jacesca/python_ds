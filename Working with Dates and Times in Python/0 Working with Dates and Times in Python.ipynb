{
 "cells": [
  {
   "cell_type": "markdown",
   "metadata": {},
   "source": [
    "# Working with Dates and Times in Python\n",
    "\n",
    "You'll probably never have a time machine, but how about a machine for analyzing time? As soon as time enters any analysis, things can get weird. It's easy to get tripped up on day and month boundaries, time zones, daylight saving time, and all sorts of other things that can confuse the unprepared. If you're going to do any kind of analysis involving time, you’ll want to use Python to sort it out. Working with data sets on hurricanes and bike trips, we’ll cover counting events, figuring out how much time has elapsed between events and plotting data over time. You'll work in both standard Python and in Pandas, and we'll touch on the dateutil library, the only timezone library endorsed by the official Python documentation. After this course, you'll confidently handle date and time data in any format like a champion."
   ]
  },
  {
   "cell_type": "markdown",
   "metadata": {},
   "source": [
    "## 1. Dates and Calendars\n",
    "\n",
    "Hurricanes (also known as cyclones or typhoons) hit the U.S. state of Florida several times per year. To start off this course, you'll learn how to work with date objects in Python, starting with the dates of every hurricane to hit Florida since 1950. You'll learn how Python handles dates, common date operations, and the right way to format dates to avoid confusion.\n",
    "\n",
    "    1.1 Dates in Python\n",
    "    1.2 Which day of the week?\n",
    "    1.3 How many hurricanes come early?\n",
    "    1.4 Math with dates\n",
    "    1.5 Subtracting dates\n",
    "    1.6 Counting events per calendar month\n",
    "    1.7 Putting a list of dates in order\n",
    "    1.8 Turning dates into strings\n",
    "    1.9 Printing dates in a friendly format\n",
    "    1.10 Representing dates in different ways"
   ]
  },
  {
   "cell_type": "markdown",
   "metadata": {},
   "source": [
    "## 2. Combining Dates and Times\n",
    "\n",
    "Bike sharing programs have swept through cities around the world -- and luckily for us, every trip gets recorded! Working with all of the comings and goings of one bike in Washington, D.C., you'll practice working with dates and times together. You'll parse dates and times from text, analyze peak trip times, calculate ride durations, and more.\n",
    "\n",
    "    2.1 Dates and times\n",
    "    2.2 Creating datetimes by hand\n",
    "    2.3 Counting events before and after noon\n",
    "    2.4 Printing and parsing datetimes\n",
    "    2.5 Turning strings into datetimes\n",
    "    2.6 Parsing pairs of strings as datetimes\n",
    "    2.7 Recreating ISO format with strftime()\n",
    "    2.8 Unix timestamps\n",
    "    2.9 Working with durations\n",
    "    2.10 Turning pairs of datetimes into durations\n",
    "    2.11 Average trip time\n",
    "    2.12 The long and the short of why time is hard"
   ]
  },
  {
   "cell_type": "markdown",
   "metadata": {},
   "source": [
    "## 3. Time Zones and Daylight Saving\n",
    "\n",
    "In this chapter, you'll learn to confidently tackle the time-related topic that causes people the most trouble: time zones and daylight saving. Continuing with our bike data, you'll learn how to compare clocks around the world, how to gracefully handle \"spring forward\" and \"fall back,\" and how to get up-to-date timezone data from the dateutil library.\n",
    "\n",
    "    3.1 UTC offsets\n",
    "    3.2 Creating timezone aware datetimes\n",
    "    3.3 Setting timezones\n",
    "    3.4 What time did the bike leave in UTC?\n",
    "    3.5 Time zone database\n",
    "    3.6 Putting the bike trips into the right time zone\n",
    "    3.7 What time did the bike leave? (Global edition)\n",
    "    3.8 Starting daylight saving time\n",
    "    3.9 How many hours elapsed around daylight saving?\n",
    "    3.10 March 29, throughout a decade\n",
    "    3.11 Ending daylight saving time\n",
    "    3.12 Finding ambiguous datetimes\n",
    "    3.13 Cleaning daylight saving data with fold"
   ]
  },
  {
   "cell_type": "markdown",
   "metadata": {},
   "source": [
    "## 4. Easy and Powerful: Dates and Times in Pandas\n",
    "\n",
    "To conclude this course, you'll apply everything you've learned about working with dates and times in standard Python to working with dates and times in Pandas. With additional information about each bike ride, such as what station it started and stopped at and whether or not the rider had a yearly membership, you'll be able to dig much more deeply into the bike trip data. In this chapter, you'll cover powerful Pandas operations, such as grouping and plotting results by time.\n",
    "\n",
    "    4.1 Reading date and time data in Pandas\n",
    "    4.2 Loading a csv file in Pandas\n",
    "    4.3 Making timedelta columns\n",
    "    4.4 Summarizing datetime data in Pandas\n",
    "    4.5 How many joyrides?\n",
    "    4.6 It's getting cold outside, W20529\n",
    "    4.7 Members vs casual riders over time\n",
    "    4.8 Combining groupby() and resample()\n",
    "    4.9 Additional datetime methods in Pandas\n",
    "    4.10 Timezones in Pandas\n",
    "    4.11 How long per weekday?\n",
    "    4.12 How long between rides?\n",
    "    4.13 Wrap-up"
   ]
  },
  {
   "cell_type": "markdown",
   "metadata": {},
   "source": [
    "# Aditional material\n",
    "\n",
    "- Datacamp course: https://learn.datacamp.com/courses/working-with-dates-and-times-in-python"
   ]
  }
 ],
 "metadata": {
  "kernelspec": {
   "display_name": "Python 3",
   "language": "python",
   "name": "python3"
  },
  "language_info": {
   "codemirror_mode": {
    "name": "ipython",
    "version": 3
   },
   "file_extension": ".py",
   "mimetype": "text/x-python",
   "name": "python",
   "nbconvert_exporter": "python",
   "pygments_lexer": "ipython3",
   "version": "3.8.8"
  }
 },
 "nbformat": 4,
 "nbformat_minor": 4
}
