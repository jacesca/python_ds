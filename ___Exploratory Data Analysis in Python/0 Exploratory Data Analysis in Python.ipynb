{
 "cells": [
  {
   "cell_type": "markdown",
   "metadata": {},
   "source": [
    "# Exploratory Data Analysis in Python\n",
    "\n",
    "How do we get from data to answers? Exploratory data analysis is a process for exploring datasets, answering questions, and visualizing results. This course presents the tools you need to clean and validate data, to visualize distributions and relationships between variables, and to use regression models to predict and explain. You'll explore data related to demographics and health, including the National Survey of Family Growth and the General Social Survey. But the methods you learn apply to all areas of science, engineering, and business. You'll use Pandas, a powerful library for working with data, and other core Python libraries including NumPy and SciPy, StatsModels for regression, and Matplotlib for visualization. With these tools and skills, you will be prepared to work with real data, make discoveries, and present compelling results."
   ]
  },
  {
   "cell_type": "markdown",
   "metadata": {},
   "source": [
    "## 1. Read, clean, and validate\n",
    "\n",
    "The first step of almost any data project is to read the data, check for errors and special cases, and prepare data for analysis. This is exactly what you'll do in this chapter, while working with a dataset obtained from the National Survey of Family Growth.\n",
    "\n",
    "    1.1 DataFrames and Series\n",
    "    1.2 Read the codebook\n",
    "    1.3 Exploring the NSFG data\n",
    "    1.4 Clean and Validate\n",
    "    1.5 Validate a variable\n",
    "    1.6 Clean a variable\n",
    "    1.7 Compute a variable\n",
    "    1.8 Filter and visualize\n",
    "    1.9 Make a histogram\n",
    "    1.10 Compute birth weight\n",
    "    1.11 Filter"
   ]
  },
  {
   "cell_type": "markdown",
   "metadata": {},
   "source": [
    "## 2. Distributions\n",
    "\n",
    "In the first chapter, having cleaned and validated your data, you began exploring it by using histograms to visualize distributions. In this chapter, you'll learn how to represent distributions using Probability Mass Functions (PMFs) and Cumulative Distribution Functions (CDFs). You'll learn when to use each of them, and why, while working with a new dataset obtained from the General Social Survey.\n",
    "\n",
    "    2.1 Probability mass functions\n",
    "    2.2 Make a PMF\n",
    "    2.3 Plot a PMF\n",
    "    2.4 Cumulative distribution functions\n",
    "    2.5 Make a CDF\n",
    "    2.6 Compute IQR\n",
    "    2.7 Plot a CDF\n",
    "    2.8 Comparing distributions\n",
    "    2.9 Distribution of education\n",
    "    2.10 Extract education levels\n",
    "    2.11 Plot income CDFs\n",
    "    2.12 Modeling distributions\n",
    "    2.13 Distribution of income\n",
    "    2.14 Comparing CDFs\n",
    "    2.15 Comparing PDFs"
   ]
  },
  {
   "cell_type": "markdown",
   "metadata": {},
   "source": [
    "## 3. Relationships\n",
    "\n",
    "Up until this point, you've only looked at one variable at a time. In this chapter, you'll explore relationships between variables two at a time, using scatter plots and other visualizations to extract insights from a new dataset obtained from the Behavioral Risk Factor Surveillance Survey (BRFSS). You'll also learn how to quantify those relationships using correlation and simple regression.\n",
    "\n",
    "    3.1 Exploring relationships\n",
    "    3.2 PMF of age\n",
    "    3.3 Scatter plot\n",
    "    3.4 Jittering\n",
    "    3.5 Visualizing relationships\n",
    "    3.6 Height and weight\n",
    "    3.7 Distribution of income\n",
    "    3.8 Income and height\n",
    "    3.9 Correlation\n",
    "    3.10 Computing correlations\n",
    "    3.11 Interpreting correlations\n",
    "    3.12 Simple regression\n",
    "    3.13 Income and vegetables\n",
    "    3.14 Fit a line"
   ]
  },
  {
   "cell_type": "markdown",
   "metadata": {},
   "source": [
    "## 4. Multivariate Thinking\n",
    "\n",
    "Explore multivariate relationships using multiple regression to describe non-linear relationships and logistic regression to explain and predict binary variables.\n",
    "\n",
    "    4.1 Limits of simple regression\n",
    "    4.2 Regression and causation\n",
    "    4.3 Using StatsModels\n",
    "    4.4 Multiple regression\n",
    "    4.5 Plot income and education\n",
    "    4.6 Non-linear model of education\n",
    "    4.7 Visualizing regression results\n",
    "    4.8 Making predictions\n",
    "    4.9 Visualizing predictions\n",
    "    4.10 Logistic regression\n",
    "    4.11 Predicting a binary variable\n",
    "    4.12 Next steps"
   ]
  },
  {
   "cell_type": "markdown",
   "metadata": {},
   "source": [
    "# Aditional material\n",
    "\n",
    "- Datacamp course: https://learn.datacamp.com/courses/exploratory-data-analysis-in-python"
   ]
  }
 ],
 "metadata": {
  "kernelspec": {
   "display_name": "Python 3",
   "language": "python",
   "name": "python3"
  },
  "language_info": {
   "codemirror_mode": {
    "name": "ipython",
    "version": 3
   },
   "file_extension": ".py",
   "mimetype": "text/x-python",
   "name": "python",
   "nbconvert_exporter": "python",
   "pygments_lexer": "ipython3",
   "version": "3.8.8"
  }
 },
 "nbformat": 4,
 "nbformat_minor": 4
}
