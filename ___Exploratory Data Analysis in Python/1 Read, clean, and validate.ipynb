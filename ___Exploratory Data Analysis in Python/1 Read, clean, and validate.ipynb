{
 "cells": [
  {
   "cell_type": "code",
   "execution_count": 12,
   "metadata": {},
   "outputs": [],
   "source": [
    "# Import libraries\n",
    "import pandas as pd\n",
    "import numpy as np\n",
    "\n",
    "import matplotlib.pyplot as plt"
   ]
  },
  {
   "cell_type": "code",
   "execution_count": 13,
   "metadata": {},
   "outputs": [],
   "source": [
    "# Define global variables\n",
    "title_param    = {'color': 'darkred', 'fontsize': 14, 'weight': 'bold'}\n",
    "SEED = 17"
   ]
  },
  {
   "cell_type": "code",
   "execution_count": 2,
   "metadata": {},
   "outputs": [
    {
     "data": {
      "text/html": [
       "<div>\n",
       "<style scoped>\n",
       "    .dataframe tbody tr th:only-of-type {\n",
       "        vertical-align: middle;\n",
       "    }\n",
       "\n",
       "    .dataframe tbody tr th {\n",
       "        vertical-align: top;\n",
       "    }\n",
       "\n",
       "    .dataframe thead th {\n",
       "        text-align: right;\n",
       "    }\n",
       "</style>\n",
       "<table border=\"1\" class=\"dataframe\">\n",
       "  <thead>\n",
       "    <tr style=\"text-align: right;\">\n",
       "      <th></th>\n",
       "      <th>caseid</th>\n",
       "      <th>outcome</th>\n",
       "      <th>birthwgt_lb1</th>\n",
       "      <th>birthwgt_oz1</th>\n",
       "      <th>prglngth</th>\n",
       "      <th>nbrnaliv</th>\n",
       "      <th>agecon</th>\n",
       "      <th>agepreg</th>\n",
       "      <th>hpagelb</th>\n",
       "      <th>wgt2013_2015</th>\n",
       "    </tr>\n",
       "  </thead>\n",
       "  <tbody>\n",
       "    <tr>\n",
       "      <th>0</th>\n",
       "      <td>60418</td>\n",
       "      <td>1</td>\n",
       "      <td>5.0</td>\n",
       "      <td>4.0</td>\n",
       "      <td>40</td>\n",
       "      <td>1.0</td>\n",
       "      <td>2000</td>\n",
       "      <td>2075.0</td>\n",
       "      <td>22.0</td>\n",
       "      <td>3554.964843</td>\n",
       "    </tr>\n",
       "    <tr>\n",
       "      <th>1</th>\n",
       "      <td>60418</td>\n",
       "      <td>1</td>\n",
       "      <td>4.0</td>\n",
       "      <td>12.0</td>\n",
       "      <td>36</td>\n",
       "      <td>1.0</td>\n",
       "      <td>2291</td>\n",
       "      <td>2358.0</td>\n",
       "      <td>25.0</td>\n",
       "      <td>3554.964843</td>\n",
       "    </tr>\n",
       "    <tr>\n",
       "      <th>2</th>\n",
       "      <td>60418</td>\n",
       "      <td>1</td>\n",
       "      <td>5.0</td>\n",
       "      <td>4.0</td>\n",
       "      <td>36</td>\n",
       "      <td>1.0</td>\n",
       "      <td>3241</td>\n",
       "      <td>3308.0</td>\n",
       "      <td>52.0</td>\n",
       "      <td>3554.964843</td>\n",
       "    </tr>\n",
       "    <tr>\n",
       "      <th>3</th>\n",
       "      <td>60419</td>\n",
       "      <td>6</td>\n",
       "      <td>NaN</td>\n",
       "      <td>NaN</td>\n",
       "      <td>33</td>\n",
       "      <td>NaN</td>\n",
       "      <td>3650</td>\n",
       "      <td>NaN</td>\n",
       "      <td>NaN</td>\n",
       "      <td>2484.535358</td>\n",
       "    </tr>\n",
       "    <tr>\n",
       "      <th>4</th>\n",
       "      <td>60420</td>\n",
       "      <td>1</td>\n",
       "      <td>8.0</td>\n",
       "      <td>13.0</td>\n",
       "      <td>41</td>\n",
       "      <td>1.0</td>\n",
       "      <td>2191</td>\n",
       "      <td>2266.0</td>\n",
       "      <td>24.0</td>\n",
       "      <td>2903.782914</td>\n",
       "    </tr>\n",
       "  </tbody>\n",
       "</table>\n",
       "</div>"
      ],
      "text/plain": [
       "   caseid  outcome  birthwgt_lb1  birthwgt_oz1  prglngth  nbrnaliv  agecon  \\\n",
       "0   60418        1           5.0           4.0        40       1.0    2000   \n",
       "1   60418        1           4.0          12.0        36       1.0    2291   \n",
       "2   60418        1           5.0           4.0        36       1.0    3241   \n",
       "3   60419        6           NaN           NaN        33       NaN    3650   \n",
       "4   60420        1           8.0          13.0        41       1.0    2191   \n",
       "\n",
       "   agepreg  hpagelb  wgt2013_2015  \n",
       "0   2075.0     22.0   3554.964843  \n",
       "1   2358.0     25.0   3554.964843  \n",
       "2   3308.0     52.0   3554.964843  \n",
       "3      NaN      NaN   2484.535358  \n",
       "4   2266.0     24.0   2903.782914  "
      ]
     },
     "execution_count": 2,
     "metadata": {},
     "output_type": "execute_result"
    }
   ],
   "source": [
    "# Read data\n",
    "nsfg = pd.read_hdf(r'datasets/nsfg.hdf5')\n",
    "nsfg.head()"
   ]
  },
  {
   "cell_type": "markdown",
   "metadata": {},
   "source": [
    "# 1. Read, clean, and validate\n",
    "\n",
    "The first step of almost any data project is to read the data, check for errors and special cases, and prepare data for analysis. This is exactly what you'll do in this chapter, while working with a dataset obtained from the National Survey of Family Growth."
   ]
  },
  {
   "cell_type": "markdown",
   "metadata": {},
   "source": [
    "# <font color=darkred>1.1 DataFrames and Series</font>\n",
    "\n",
    "1. Dataframes and Series\n",
    ">Welcome to Exploratory Data Analysis in Python! I'm Allen Downey and I'll be your instructor. The goal of exploratory data analysis is to use data to answer questions and guide decision making.\n",
    "\n",
    "2. Using data to answer questions\n",
    ">As a first example, we'll start with a simple question: what is the average birth weight of babies in the United States? To answer a question like this, we have to find an appropriate dataset or run an experiment to collect it. Then we have to get the data into our development environment and prepare it for analysis, which involves cleaning and validation.\n",
    "\n",
    "3. National Survey of Family Growth (NSFG)\n",
    ">For this question we'll use data from the National Survey of Family Growth, which is available from the National Center for Health Statistics. The 2013-2015 dataset includes information about a representative sample of women in the U.S. and their children.\n",
    "\n",
    "4. Reading data\n",
    ">The Python module we'll use to read and analyze data is Pandas, which we'll import as `pd`. Pandas can read data in most common formats, including CSV, Excel, and the format the NSFG data is in, HDF5. The result from read_hdf() is a DataFrame, which is the primary data structure Pandas uses to store data.\n",
    "\n",
    "5. Reading data\n",
    ">head() shows the first 5 rows of the DataFrame, which contains one row for each pregnancy for each of the women who participated in the survey, and one column for each variable.\n",
    "\n",
    "6. Columns and rows\n",
    ">The DataFrame has an attribute called shape, which is the number of rows and columns; there are 9358 rows in this dataset, one for each pregnancy, and 10 columns, one for each variable. The DataFrame also has an attribute called `columns`, which is an Index. That's another Pandas data structure, similar to a list; in this case it's a list of variables names, which are strings. Based on the names, you might be able to guess what some of the variables are, but in general you have to read the documentation.\n",
    "\n",
    "7. Columns and rows\n",
    ">This figure shows an entry from the codebook for birthwgt_lb1, which is the weight in pounds of the first baby from this pregnancy, for cases of live birth.\n",
    "\n",
    "8. Each column is a Series\n",
    ">In many ways a DataFrame is like a Python dictionary, where the variable names are the keys and the columns are the values. You can select a column from a DataFrame using the bracket operator, with a string as the key. The result is a Series, which is another Pandas data structure. In this case the Series contains the birth weights, in pounds, of the live births (or in the case of multiple births, the first baby).\n",
    "\n",
    "9. Each column is a series\n",
    ">head() shows the first five values in the series, the name of the series, and the datatype; float64 means that these values are 64-bit floating-point numbers. Notice that one of the values is NaN, which stands for \"Not a Number\". NaN is a special value that can indicate invalid or missing data. In this example, the pregnancy did not end in live birth, so birth weight is inapplicable.\n",
    "\n",
    "10. Let's start exploring!\n",
    ">Let's start exploring this data by working on some exercises."
   ]
  },
  {
   "cell_type": "code",
   "execution_count": 3,
   "metadata": {},
   "outputs": [
    {
     "name": "stdout",
     "output_type": "stream",
     "text": [
      "<class 'pandas.core.frame.DataFrame'>\n",
      "(9358, 10)\n",
      "Index(['caseid', 'outcome', 'birthwgt_lb1', 'birthwgt_oz1', 'prglngth',\n",
      "       'nbrnaliv', 'agecon', 'agepreg', 'hpagelb', 'wgt2013_2015'],\n",
      "      dtype='object')\n",
      "<class 'pandas.core.series.Series'>\n"
     ]
    }
   ],
   "source": [
    "# Reading data\n",
    "print(type(nsfg))\n",
    "print(nsfg.shape)\n",
    "print(nsfg.columns)\n",
    "\n",
    "# Each column is a Series\n",
    "pounds = nsfg['birthwgt_lb1']\n",
    "print(type(pounds))"
   ]
  },
  {
   "cell_type": "markdown",
   "metadata": {},
   "source": [
    "# <font color=darkred>1.2 Read the codebook</font>\n",
    "\n",
    "**Instructions**\n",
    "\n",
    "When you work with datasets like the NSFG, it is important to read the documentation carefully. If you interpret a variable incorrectly, you can generate nonsense results and never realize it. So before you start coding, you'll need to get familiar with the NSFG codebook, which describes every variable.\n",
    "\n",
    "Here is the documentation from the NSFG codebook for \"BIRTHWGT_OZ1\":\n",
    "<img src=\"images/chapter-1-2.png\"/>\n",
    "\n",
    "**Possible Answers**\n",
    "- <font color=red>1</font>\n",
    "- 35\n",
    "- 48-49\n",
    "- 2967\n",
    "\n",
    "**Results**\n",
    "\n",
    "<font color=darkgreen>You got it. Remember, the codebook is your friend!</font>"
   ]
  },
  {
   "cell_type": "markdown",
   "metadata": {},
   "source": [
    "# <font color=darkred>1.3 Exploring the NSFG data</font>\n",
    "\n",
    "To get the number of rows and columns in a DataFrame, you can read its shape attribute.\n",
    "\n",
    "To get the column names, you can read the columns attribute. The result is an Index, which is a Pandas data structure that is similar to a list. Let's begin exploring the NSFG data! It has been pre-loaded for you into a DataFrame called nsfg.\n",
    "\n",
    "**Instructions**\n",
    "\n",
    "- Calculate the number of rows and columns in the DataFrame nsfg.\n",
    "- Display the names of the columns in nsfg.\n",
    "- Select the column 'birthwgt_oz1' and assign it to a new variable called ounces.\n",
    "- Display the first 5 elements of ounces.\n",
    "\n",
    "**Results**\n",
    "\n",
    "<font color=darkgreen>Nice job! Remember these attributes and methods; they are useful when you are exploring a new dataset. It's now time to check for errors and prepare the data for analysis. Keep going!</font>"
   ]
  },
  {
   "cell_type": "code",
   "execution_count": 4,
   "metadata": {},
   "outputs": [
    {
     "name": "stdout",
     "output_type": "stream",
     "text": [
      "(9358, 10)\n",
      "Index(['caseid', 'outcome', 'birthwgt_lb1', 'birthwgt_oz1', 'prglngth',\n",
      "       'nbrnaliv', 'agecon', 'agepreg', 'hpagelb', 'wgt2013_2015'],\n",
      "      dtype='object')\n"
     ]
    },
    {
     "data": {
      "text/plain": [
       "0     4.0\n",
       "1    12.0\n",
       "2     4.0\n",
       "3     NaN\n",
       "4    13.0\n",
       "Name: birthwgt_oz1, dtype: float64"
      ]
     },
     "execution_count": 4,
     "metadata": {},
     "output_type": "execute_result"
    }
   ],
   "source": [
    "# Display the number of rows and columns\n",
    "print(nsfg.shape)\n",
    "\n",
    "# Display the names of the columns\n",
    "print(nsfg.columns)\n",
    "\n",
    "# Select column birthwgt_oz1: ounces\n",
    "ounces = nsfg['birthwgt_oz1']\n",
    "\n",
    "# Print the first 5 elements of ounces\n",
    "ounces.head()"
   ]
  },
  {
   "cell_type": "markdown",
   "metadata": {},
   "source": [
    "# <font color=darkred>1.4 Clean and Validate</font> \n",
    "\n",
    "1. Clean and Validate\n",
    ">In the previous lesson, we read data from the National Survey of Family Growth and selected a column from a DataFrame. In this lesson, we'll check for errors and prepare the data for analysis.\n",
    "\n",
    "2. Selecting columns\n",
    ">We'll use the same DataFrame we used in the previous lesson, nsfg, which contains one row for each pregnancy in the survey. I'll select the variable birthwgt_lb1, which contains the pound part of birth weight, and assign it to pounds. And birthwgt_oz1 contains the ounce part of birth weight, so I'll assign that to ounces.\n",
    "\n",
    "3. Value counts\n",
    ">Before we do anything with this data, we have to validate it. One part of validation is confirming that we are interpreting the data correctly. We can use value_counts() to see what values appear in pounds and how many times each value appears. By default, the results are sorted with the most frequent value first, so I use sort_index() to sort them by value instead, with the lightest babies first and heaviest babies last. As we'd expect, the most frequent values are 6-8 pounds, but there are some very light babies, a few very heavy babies, and two values, 98, and 99, that indicate missing data.\n",
    "\n",
    "4. Value counts\n",
    ">We can validate the results by comparing them to the codebook, which lists the values and their frequencies. The results here agree with the codebook, so we have some confidence that we are reading and interpreting the data correctly.\n",
    "\n",
    "5. Describe\n",
    ">Another way to validate the data is with describe(), which computes summary statistics like the mean, standard deviation, min, and max. Here are the results for pounds. count is the number of values. The minimum and maximum values are 0 and 99, and the 50th percentile, which is the median, is 7. The mean is about 8.05, but that doesn't mean much because it includes the special values 98 and 99. Before we can really compute the mean, we have to replace those values with NaN to represent missing data.\n",
    "\n",
    "6. Replace\n",
    ">The replace() method does what we want; it takes a list of values we want to replace and the value we want to replace them with. np dot nan means we are getting the special value NaN from the NumPy library, which is imported as np. The result from replace() is a new Series, which I assign back to pounds. Remember that the mean of the original series was about 8 point 05 pounds. The mean of the new series is about 6 point 7 pounds. It makes a big difference when you remove a few 99-pound babies! Instead of making a new Series, you can call replace() with inplace=True, which modifies the existing Series \"in place\", that is, without making a copy. Here's what that looks like for ounces. Since we didn't make a new series, we don't have to assign it back to ounces.\n",
    "\n",
    "7. Arithmetic with Series\n",
    ">Now we want to combine pounds and ounces into a single Series that contains total birth weight. Arithmetic operators work with Series objects; so, to convert from ounces to pounds, we can divide by 16 (there are 16 ounces in a pound). Then we can add the two Series objects to get the total. Here are the results. The mean is about 7 point 1, which is a little more than what we got before we added in the ounces part. Now we're close to answering our original question, the average birth weight for babies in the U.S., but as we'll see in the next lesson, we're not there yet.\n",
    "\n",
    "8. Let's practice!\n",
    ">Let's first practice what we learned in this video."
   ]
  },
  {
   "cell_type": "code",
   "execution_count": 5,
   "metadata": {},
   "outputs": [
    {
     "data": {
      "text/plain": [
       "0.0        6\n",
       "1.0       34\n",
       "2.0       47\n",
       "3.0       67\n",
       "4.0      196\n",
       "5.0      586\n",
       "6.0     1666\n",
       "7.0     2146\n",
       "8.0     1168\n",
       "9.0      363\n",
       "10.0      82\n",
       "11.0      17\n",
       "12.0       7\n",
       "13.0       2\n",
       "14.0       2\n",
       "17.0       1\n",
       "98.0       1\n",
       "99.0      94\n",
       "Name: birthwgt_lb1, dtype: int64"
      ]
     },
     "execution_count": 5,
     "metadata": {},
     "output_type": "execute_result"
    }
   ],
   "source": [
    "# Selecting columns\n",
    "pounds = nsfg['birthwgt_lb1']\n",
    "ounces = nsfg['birthwgt_oz1']\n",
    "\n",
    "pounds.value_counts().sort_index()"
   ]
  },
  {
   "cell_type": "markdown",
   "metadata": {},
   "source": [
    "## Reviewing the data cook book\n",
    "\n",
    "|BIRTHWGT_LB1|BIRTHWGT_OZ1|\n",
    "|-|-|\n",
    "|<img src=\"images/BIRTHWGT_LB1.png\"/>|<img src=\"images/BIRTHWGT_OZ1.png\"/>|"
   ]
  },
  {
   "cell_type": "code",
   "execution_count": 6,
   "metadata": {},
   "outputs": [
    {
     "data": {
      "text/plain": [
       "count    6485.000000\n",
       "mean        8.055204\n",
       "std        11.178893\n",
       "min         0.000000\n",
       "25%         6.000000\n",
       "50%         7.000000\n",
       "75%         8.000000\n",
       "max        99.000000\n",
       "Name: birthwgt_lb1, dtype: float64"
      ]
     },
     "execution_count": 6,
     "metadata": {},
     "output_type": "execute_result"
    }
   ],
   "source": [
    "pounds.describe()"
   ]
  },
  {
   "cell_type": "code",
   "execution_count": 7,
   "metadata": {},
   "outputs": [
    {
     "name": "stdout",
     "output_type": "stream",
     "text": [
      "6.703286384976526\n"
     ]
    },
    {
     "data": {
      "text/plain": [
       "count    6355.000000\n",
       "mean        7.120978\n",
       "std         1.422236\n",
       "min         0.000000\n",
       "25%         6.375000\n",
       "50%         7.187500\n",
       "75%         8.000000\n",
       "max        17.937500\n",
       "dtype: float64"
      ]
     },
     "execution_count": 7,
     "metadata": {},
     "output_type": "execute_result"
    }
   ],
   "source": [
    "# Fixing to get the correct values\n",
    "#pounds = pounds.replace([98, 99], np.nan)\n",
    "pounds.replace([98, 99], np.nan, inplace=True)\n",
    "ounces.replace([98, 99], np.nan, inplace=True)\n",
    "\n",
    "print(pounds.mean())\n",
    "\n",
    "# Arithmetic with Series\n",
    "birth_weight = pounds + (ounces / 16.0)\n",
    "birth_weight.describe()"
   ]
  },
  {
   "cell_type": "markdown",
   "metadata": {},
   "source": [
    "# <font color=darkred>1.5 Validate a variable</font>\n",
    "\n",
    "**Instructions**\n",
    "\n",
    "In the NSFG dataset, the variable 'outcome' encodes the outcome of each pregnancy as shown below:\n",
    "\n",
    "|value|label|\n",
    "|-|-|\n",
    "|1|Live birth|\n",
    "|2|Induced abortion|\n",
    "|3|Stillbirth|\n",
    "|4|Miscarriage|\n",
    "|5|Ectopic pregnancy|\n",
    "|6|Current pregnancy|\n",
    "\n",
    "<img src=\"images/OUTCOME(311-311).png\"/>\n",
    "\n",
    "The nsfg DataFrame has been pre-loaded for you. Explore it in the IPython Shell and use the methods Allen showed you in the video to answer the following question: How many pregnancies in this dataset ended with a live birth?\n",
    "\n",
    "**Possible Answers**\n",
    "\n",
    "- <font color=red>6489</font>\n",
    "- 9538\n",
    "- 1469\n",
    "- 6\n",
    "\n",
    "**Results**\n",
    "\n",
    "<font color=darkgreen>Correct! By comparing your results with the codebook, you confirm you are interpreting the data correctly.</font>"
   ]
  },
  {
   "cell_type": "code",
   "execution_count": 8,
   "metadata": {},
   "outputs": [
    {
     "data": {
      "text/plain": [
       "1    6489\n",
       "4    1469\n",
       "2     947\n",
       "6     249\n",
       "5     118\n",
       "3      86\n",
       "Name: outcome, dtype: int64"
      ]
     },
     "execution_count": 8,
     "metadata": {},
     "output_type": "execute_result"
    }
   ],
   "source": [
    "nsfg.outcome.value_counts()"
   ]
  },
  {
   "cell_type": "markdown",
   "metadata": {},
   "source": [
    "# <font color=darkred>1.6 Clean a variable</font> \n",
    "\n",
    "In the NSFG dataset, the variable 'nbrnaliv' records the number of babies born alive at the end of a pregnancy.\n",
    "\n",
    "If you use .value_counts() to view the responses, you'll see that the value 8 appears once, and if you consult the codebook, you'll see that this value indicates that the respondent refused to answer the question.\n",
    "\n",
    "Your job in this exercise is to replace this value with np.nan. Recall from the video how Allen replaced the values 98 and 99 in the ounces column using the .replace() method:\n",
    "\n",
    "<code>ounces.replace([98, 99], np.nan, inplace=True)</code>\n",
    "\n",
    "<img src=\"images/NBRNALIV(16-16).png\"/>\n",
    "\n",
    "**Instructions**\n",
    "- In the 'nbrnaliv' column, replace the value 8, in place, with the special value NaN.\n",
    "- Confirm that the value 8 no longer appears in this column by printing the values and their frequencies.\n",
    "\n",
    "**Results**\n",
    "\n",
    "<font color=darkgreen>Excellent. If you are careful about this kind of cleaning and validation, it will save time (in the long run) and avoid potentially serious errors.</font>"
   ]
  },
  {
   "cell_type": "code",
   "execution_count": 9,
   "metadata": {},
   "outputs": [
    {
     "data": {
      "text/plain": [
       "1.0    6379\n",
       "2.0     100\n",
       "3.0       5\n",
       "8.0       1\n",
       "Name: nbrnaliv, dtype: int64"
      ]
     },
     "execution_count": 9,
     "metadata": {},
     "output_type": "execute_result"
    }
   ],
   "source": [
    "nsfg.nbrnaliv.value_counts()"
   ]
  },
  {
   "cell_type": "code",
   "execution_count": 10,
   "metadata": {},
   "outputs": [
    {
     "name": "stdout",
     "output_type": "stream",
     "text": [
      "1.0    6379\n",
      "2.0     100\n",
      "3.0       5\n",
      "Name: nbrnaliv, dtype: int64\n"
     ]
    }
   ],
   "source": [
    "# Replace the value 8 with NaN\n",
    "nsfg['nbrnaliv'].replace([8], np.nan, inplace=True)\n",
    "\n",
    "# Print the values and their frequencies\n",
    "print(nsfg['nbrnaliv'].value_counts())"
   ]
  },
  {
   "cell_type": "markdown",
   "metadata": {},
   "source": [
    "# <font color=darkred>1.7 Compute a variable</font> \n",
    "\n",
    "For each pregnancy in the NSFG dataset, the variable 'agecon' encodes the respondent's age at conception, and 'agepreg' the respondent's age at the end of the pregnancy.\n",
    "\n",
    "Both variables are recorded as integers with two implicit decimal places, so the value 2575 means that the respondent's age was 25.75.\n",
    "\n",
    "|AGECON(326-329)|AGEPREG(318-321)|\n",
    "|-|-|\n",
    "|<img src=\"images/AGECON(326-329).png\"/>|<img src=\"images/AGEPREG(318-321).png\"/>|\n",
    "\n",
    "**Instructions**\n",
    "- Select 'agecon' and 'agepreg', divide them by 100, and assign them to the local variables agecon and agepreg.\n",
    "- Compute the difference, which is an estimate of the duration of the pregnancy. Keep in mind that for each pregnancy, agepreg will be larger than agecon.\n",
    "- Use .describe() to compute the mean duration and other summary statistics.\n",
    "\n",
    "**Results**\n",
    "\n",
    "<font color=darkgreen>Good job. A variable that's computed from other variables is sometimes called a 'recode'. It's now time to get back to the motivating question for this chapter: what is the average birth weight for babies in the U.S.? See you in the next video!</font>"
   ]
  },
  {
   "cell_type": "code",
   "execution_count": 11,
   "metadata": {},
   "outputs": [
    {
     "name": "stdout",
     "output_type": "stream",
     "text": [
      "Pregnancy Duration Average: 6.62 months\n",
      "count    9109.000000\n",
      "mean        6.624833\n",
      "std         3.257754\n",
      "min         0.000000\n",
      "25%         3.000000\n",
      "50%         8.040000\n",
      "75%         9.000000\n",
      "max        11.040000\n",
      "dtype: float64\n"
     ]
    }
   ],
   "source": [
    "# Select the columns and divide by 100\n",
    "agecon = nsfg.agecon/100\n",
    "agepreg = nsfg.agepreg/100\n",
    "\n",
    "# Compute the difference\n",
    "preg_length = (agepreg - agecon) * 12\n",
    "print('Pregnancy Duration Average: {:0.2f} months'.format(preg_length.mean()))\n",
    "\n",
    "# Compute summary statistics\n",
    "print(preg_length.describe())"
   ]
  },
  {
   "cell_type": "markdown",
   "metadata": {},
   "source": [
    "# <font color=darkred>1.8 Filter and visualize</font> \n",
    "\n",
    "1. Filter and Visualize\n",
    ">Let's get back to the motivating question for this chapter: what is the average birth weight for babies in the U.S.?\n",
    "\n",
    "2. Histogram\n",
    ">In the previous lesson, we used data from the NSFG to compute birth weight in pounds and we stored the result in a Series called birth_weight. Let's see what the distribution of those values looks like. We'll use the pyplot submodule from the matplotlib visualization library, which we import as plt. Pyplot provides hist(), which takes a Series and plots a histogram; that is, it shows the values and how often they appear. However, pyplot doesn't work with NaNs, so we have to use dropna(), which makes a new Series that contains only the valid values. The second argument, bins, tells hist to divide the range of weights into 30 intervals, called \"bins\", and count how many values fall in each bin. hist() takes other arguments that specify the type and appearance of the histogram; you will have a chance to explore these options in the next exercise. To label the axes we'll use xlabel() and ylabel(), and finally, to display the plot, we'll use plt dot show().\n",
    "\n",
    "3. Histogram\n",
    ">And here's what the results look like. The x-axis is birth weight in pounds, divided into 30 bins. The y-axis is the number of births in each bin. The distribution looks a little like a bell curve, but the tail is longer on the left than on the right; that is, there are more light babies than heavy babies. That makes sense because the distribution includes some babies that were born preterm. The most common duration for pregnancy is 39 weeks, which is \"full term\"; \"preterm\" is usually defined to be less than 37 weeks.\n",
    "\n",
    "4. Boolean Series\n",
    ">To see which babies are preterm, we can use the prglngth column, which records pregnancy length in weeks. When you compare a Series to a value, the result is a Boolean Series; that is, each element is a Boolean value, True or False. In this case, it's True for each preterm baby and False otherwise. We can use head() to see the first 5 elements.\n",
    "\n",
    "5. Boolean Series\n",
    ">If you compute the sum of a Boolean Series, it treats True as 1 and False as 0, so the sum is the number of Trues, which is the number of preterm babies, about 3700. If you compute the mean, you get the fraction of Trues; in this case, it's close to 0.4; that is, about 40% of the births in this dataset are preterm.\n",
    "\n",
    "6. Filtering\n",
    ">We can use a Boolean Series as a filter; that is, we can select only rows that satisfy a condition or meet some criterion. For example, we can use preterm and the bracket operator to select values from birth_weight, so preterm_weight contains birth weights for preterm babies. To select full-term babies, we can use the tilde operator, which is \"logical NOT\" or inverse; it makes the Trues false and the Falses true. Not surprisingly, full term babies are heavier, on average, than preterm babies.\n",
    "\n",
    "7. Filtering\n",
    ">If you have two Boolean Series, you can use logical operators to combine them; ampersand is the logical AND operator, and the vertical bar or pipe is logical OR.\n",
    "\n",
    "8. Resampling\n",
    ">There's one more thing we have to do before we can answer our question: resampling. The NSFG is not exactly representative of the U.S. population; by design, some groups are more likely to appear in the sample than others; they are \"oversampled\". Oversampling helps to ensure that you have enough people in every subgroup to get reliable statistics, but it makes the analysis a little more complicated. However, we can correct for oversampling by resampling. I won't get into the details here, but I have provided a function called resample_rows_weighted() that you can use for the exercises. If you are interested in learning more about resampling, check out DataCamp's statistics courses.\n",
    "\n",
    "9. Finish it off!\n",
    ">Now we have everything we need to answer the motivating question. Let's get to it."
   ]
  },
  {
   "cell_type": "code",
   "execution_count": 37,
   "metadata": {
    "scrolled": true
   },
   "outputs": [
    {
     "data": {
      "image/png": "[encoded data removed]",
      "text/plain": [
       "<Figure size 864x288 with 1 Axes>"
      ]
     },
     "metadata": {
      "needs_background": "light"
     },
     "output_type": "display_data"
    }
   ],
   "source": [
    "fig = plt.figure(figsize=(12,4))\n",
    "plt.hist(birth_weight.dropna(), bins=30, label='Weight')\n",
    "plt.axvline(birth_weight.mean(), color='red', label='mean')\n",
    "plt.axvline(birth_weight.median(), color='black', label='median')\n",
    "plt.axvline(birth_weight.min(), linestyle='--', label='min')\n",
    "plt.axvline(birth_weight.max(), linestyle='-.', label='max')\n",
    "\n",
    "plt.xlabel('Birth weight (lb)')\n",
    "plt.ylabel('Fraction of births')\n",
    "plt.title(\"Baby born weight Distribution\", **title_param)\n",
    "plt.legend()\n",
    "plt.show()"
   ]
  },
  {
   "cell_type": "markdown",
   "metadata": {},
   "source": [
    "<img src=\"images/prglngth.png\"/>"
   ]
  },
  {
   "cell_type": "code",
   "execution_count": 39,
   "metadata": {},
   "outputs": [
    {
     "name": "stdout",
     "output_type": "stream",
     "text": [
      "Preterm born babies:  3742\n",
      "Preterm born babies (fraction):  0.39987176747168196\n"
     ]
    }
   ],
   "source": [
    "# Boolean Series\n",
    "preterm = nsfg['prglngth'] < 37\n",
    "\n",
    "print(\"Preterm born babies: \", preterm.sum())\n",
    "print(\"Preterm born babies (fraction): \", preterm.mean())"
   ]
  },
  {
   "cell_type": "code",
   "execution_count": 41,
   "metadata": {},
   "outputs": [
    {
     "name": "stdout",
     "output_type": "stream",
     "text": [
      "Weight preterm born babies average:  5.577598314606742\n",
      "Weight full born babies average   :  7.372323879231473\n"
     ]
    }
   ],
   "source": [
    "# Filtering\n",
    "preterm_weight = birth_weight[preterm]\n",
    "print(\"Weight preterm born babies average: \", preterm_weight.mean())\n",
    "full_term_weight = birth_weight[~preterm]\n",
    "print(\"Weight full born babies average   : \", full_term_weight.mean())"
   ]
  },
  {
   "cell_type": "markdown",
   "metadata": {},
   "source": [
    "# <font color=darkred>1.9 Make a histogram</font> \n",
    "\n",
    "Histograms are one of the most useful tools in exploratory data analysis. They quickly give you an overview of the distribution of a variable, that is, what values the variable can have, and how many times each value appears.\n",
    "\n",
    "As we saw in a previous exercise, the NSFG dataset includes a variable 'agecon' that records age at conception for each pregnancy. Here, you're going to plot a histogram of this variable. You'll use the bins parameter that you saw in the video, and also a new parameter - histtype - which you can read more about <a href=\"https://matplotlib.org/api/_as_gen/matplotlib.pyplot.hist.html\">here</a> in the matplotlib documentation. Learning how to read documentation is an essential skill. If you want to learn more about matplotlib, you can check out DataCamp's <a href=\"https://campus.datacamp.com/courses/exploratory-data-analysis-in-python/read-clean-and-validate?ex=9#:~:text=Histograms%20are%20one,to%20Matplotlib%20course\">Introduction to Matplotlib</a> course.\n",
    "\n",
    "<img src=\"images/AGECON(326-329).png\"/>\n",
    "\n",
    "**Instructions**\n",
    "- Plot a histogram of agecon with 20 bins.\n",
    "- Adapt your code to make an unfilled histogram by setting the parameter histtype to be 'step'.\n",
    "\n",
    "**Results**\n",
    "\n",
    "<font color=darkgreen>Nice job! matplotlib functions provide a lot of options; be sure to read the documentation so you know what they can do.</font>"
   ]
  },
  {
   "cell_type": "code",
   "execution_count": 44,
   "metadata": {},
   "outputs": [
    {
     "data": {
      "image/png": "[encoded data removed]",
      "text/plain": [
       "<Figure size 864x288 with 1 Axes>"
      ]
     },
     "metadata": {
      "needs_background": "light"
     },
     "output_type": "display_data"
    }
   ],
   "source": [
    "# Plot the histogram\n",
    "fig = plt.figure(figsize=(12,4))\n",
    "plt.hist(nsfg.agecon, bins=20)\n",
    "plt.axvline(nsfg.agecon.mean(), color='red', label='mean')\n",
    "\n",
    "# Label the axes\n",
    "plt.xlabel('Age at conception')\n",
    "plt.ylabel('Number of pregnancies')\n",
    "plt.title(\"Age at time of conception Distribution\", **title_param)\n",
    "plt.legend()\n",
    "plt.show()\n",
    "\n",
    "# Show the figure\n",
    "plt.show()"
   ]
  },
  {
   "cell_type": "code",
   "execution_count": 45,
   "metadata": {},
   "outputs": [
    {
     "data": {
      "image/png": "[encoded data removed]",
      "text/plain": [
       "<Figure size 864x288 with 1 Axes>"
      ]
     },
     "metadata": {
      "needs_background": "light"
     },
     "output_type": "display_data"
    }
   ],
   "source": [
    "# Plot the histogram\n",
    "fig = plt.figure(figsize=(12,4))\n",
    "plt.hist(nsfg.agecon, bins=20, histtype='step')\n",
    "plt.axvline(nsfg.agecon.mean(), color='red', label='mean')\n",
    "\n",
    "# Label the axes\n",
    "plt.xlabel('Age at conception')\n",
    "plt.ylabel('Number of pregnancies')\n",
    "plt.title(\"Age at time of conception Distribution\", **title_param)\n",
    "plt.legend()\n",
    "plt.show()\n",
    "\n",
    "# Show the figure\n",
    "plt.show()"
   ]
  },
  {
   "cell_type": "markdown",
   "metadata": {},
   "source": [
    "# <font color=darkred>1.10 Compute birth weight</font> \n",
    "\n",
    "Now let's pull together the steps in this chapter to compute the average birth weight for full-term babies.\n",
    "\n",
    "I've provided a function, resample_rows_weighted, that takes the NSFG data and resamples it using the sampling weights in wgt2013_2015. The result is a sample that is representative of the U.S. population.\n",
    "\n",
    "Then I extract birthwgt_lb1 and birthwgt_oz1, replace special codes with NaN, and compute total birth weight in pounds, birth_weight.\n",
    "\n",
    "<code>\n",
    "# Resample the data\n",
    "nsfg = resample_rows_weighted(nsfg, 'wgt2013_2015')\n",
    "# Clean the weight variables\n",
    "pounds = nsfg['birthwgt_lb1'].replace([98, 99], np.nan)\n",
    "ounces = nsfg['birthwgt_oz1'].replace([98, 99], np.nan)\n",
    "# Compute total birth weight\n",
    "birth_weight = pounds + ounces/16\n",
    "</code>\n",
    "\n",
    "**Instructions**\n",
    "- Make a Boolean Series called full_term that is true for babies with 'prglngth' greater than or equal to 37 weeks.\n",
    "- Use full_term and birth_weight to select birth weight in pounds for full-term babies. Store the result in full_term_weight.\n",
    "- Compute the mean weight of full-term babies.\n",
    "\n",
    "**Results**\n",
    "\n",
    "<font color=darkgreen>Nice job. You're almost done, but there's one last thing we have to check...</font>"
   ]
  },
  {
   "cell_type": "code",
   "execution_count": 46,
   "metadata": {},
   "outputs": [],
   "source": [
    "def resample_rows_weighted(df, column='finalwgt', seed=17):\n",
    "    \"\"\"Resamples a DataFrame using probabilities proportional to given column.\n",
    "\n",
    "    df: DataFrame\n",
    "    column: string column name to use as weights\n",
    "\n",
    "    returns: DataFrame\n",
    "    \"\"\"\n",
    "    np.random.seed(seed)\n",
    "    weights = df[column] / sum(df[column])\n",
    "    indices = np.random.choice(df.index, len(df), replace=True, p=weights)\n",
    "    sample = df.loc[indices]\n",
    "    return sample"
   ]
  },
  {
   "cell_type": "markdown",
   "metadata": {},
   "source": [
    "<img src='images/wgt2013_2015.png'/>"
   ]
  },
  {
   "cell_type": "code",
   "execution_count": 53,
   "metadata": {},
   "outputs": [],
   "source": [
    "# Read data\n",
    "nsfg = pd.read_hdf(r'datasets/nsfg.hdf5')\n",
    "\n",
    "# Resample the data\n",
    "nsfg = resample_rows_weighted(nsfg, 'wgt2013_2015')\n",
    "\n",
    "\n",
    "# Clean the weight variables\n",
    "pounds = nsfg['birthwgt_lb1'].replace([98, 99], np.nan)\n",
    "ounces = nsfg['birthwgt_oz1'].replace([98, 99], np.nan)\n",
    "\n",
    "# Compute total birth weight\n",
    "birth_weight = pounds + ounces/16"
   ]
  },
  {
   "cell_type": "code",
   "execution_count": 54,
   "metadata": {},
   "outputs": [
    {
     "name": "stdout",
     "output_type": "stream",
     "text": [
      "7.392597951914515\n"
     ]
    }
   ],
   "source": [
    "# Create a Boolean Series for full-term babies\n",
    "full_term = nsfg.prglngth >= 37\n",
    "\n",
    "# Select the weights of full-term babies\n",
    "full_term_weight = birth_weight [full_term]\n",
    "\n",
    "# Compute the mean weight of full-term babies\n",
    "print(full_term_weight.mean())"
   ]
  },
  {
   "cell_type": "markdown",
   "metadata": {},
   "source": [
    "# <font color=darkred>1.11 Filter</font> \n",
    "\n",
    "In the previous exercise, you computed the mean birth weight for full-term babies; you filtered out preterm babies because their distribution of weight is different.\n",
    "\n",
    "The distribution of weight is also different for multiple births, like twins and triplets. In this exercise, you'll filter them out, too, and see what effect it has on the mean.\n",
    "\n",
    "**Instructions**\n",
    "- Use the variable 'nbrnaliv' to make a Boolean Series that is True for single births (where 'nbrnaliv' equals 1) and False otherwise.\n",
    "- Use Boolean Series and logical operators to select single, full-term babies and compute their mean birth weight.\n",
    "- For comparison, select multiple, full-term babies and compute their mean birth weight.\n",
    "\n",
    "**Results**\n",
    "\n",
    "<font color=darkgreen>Congratulations on completing Chapter 1! Now that we have clean data, we're ready to explore. Coming up in Chapter 2, we'll look at distributions of variables in the General Social Survey and explore the relationship between education and income.</font>"
   ]
  },
  {
   "cell_type": "markdown",
   "metadata": {},
   "source": [
    "|prglngth|NBRNALIV(16-16)|\n",
    "|-|-|\n",
    "|<img src='images/prglngth.png'/>|<img src='images/NBRNALIV(16-16).png'/>|"
   ]
  },
  {
   "cell_type": "code",
   "execution_count": 55,
   "metadata": {},
   "outputs": [
    {
     "name": "stdout",
     "output_type": "stream",
     "text": [
      "Single full-term mean: 7.40297320308299\n",
      "Multiple full-term mean: 5.784722222222222\n"
     ]
    }
   ],
   "source": [
    "# Clean the multiple births variables\n",
    "pounds = nsfg['birthwgt_lb1'].replace([8], np.nan)\n",
    "\n",
    "# Filter full-term babies\n",
    "full_term = nsfg['prglngth'] >= 37\n",
    "\n",
    "# Filter single births\n",
    "single = nsfg['nbrnaliv'] == 1\n",
    "\n",
    "# Compute birth weight for single full-term babies\n",
    "single_full_term_weight = birth_weight[full_term & single]\n",
    "print('Single full-term mean:', single_full_term_weight.mean())\n",
    "\n",
    "# Compute birth weight for multiple full-term babies\n",
    "mult_full_term_weight = birth_weight[full_term & ~single]\n",
    "print('Multiple full-term mean:', mult_full_term_weight.mean())"
   ]
  },
  {
   "cell_type": "markdown",
   "metadata": {},
   "source": [
    "# Aditional material\n",
    "\n",
    "- Datacamp course: https://learn.datacamp.com/courses/exploratory-data-analysis-in-python"
   ]
  }
 ],
 "metadata": {
  "kernelspec": {
   "display_name": "Python 3",
   "language": "python",
   "name": "python3"
  },
  "language_info": {
   "codemirror_mode": {
    "name": "ipython",
    "version": 3
   },
   "file_extension": ".py",
   "mimetype": "text/x-python",
   "name": "python",
   "nbconvert_exporter": "python",
   "pygments_lexer": "ipython3",
   "version": "3.8.8"
  }
 },
 "nbformat": 4,
 "nbformat_minor": 4
}
