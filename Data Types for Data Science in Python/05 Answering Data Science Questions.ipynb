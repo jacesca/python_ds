{
 "cells": [
  {
   "cell_type": "code",
   "execution_count": 1,
   "metadata": {},
   "outputs": [],
   "source": [
    "# Import libraries\n",
    "import csv\n",
    "import calendar\n",
    "\n",
    "from pprint import pprint\n",
    "\n",
    "from collections import Counter\n",
    "from collections import defaultdict\n",
    "from collections import Counter\n",
    "\n",
    "from datetime import datetime"
   ]
  },
  {
   "cell_type": "markdown",
   "metadata": {},
   "source": [
    "## 05 Answering Data Science Questions\n",
    "\n",
    "Time for a case study to reinforce all of your learning so far! You'll use all the containers and data types you've learned about to answer several real world questions about a dataset containing information about crime in Chicago. Have fun!"
   ]
  },
  {
   "cell_type": "markdown",
   "metadata": {},
   "source": [
    "## 05.01 Counting within Date Ranges\n",
    "\n",
    "See the video."
   ]
  },
  {
   "cell_type": "markdown",
   "metadata": {},
   "source": [
    "## 05.02 Reading your data with CSV Reader and Establishing your Data Containers\n",
    "\n",
    "Let's get started! The exercises in this chapter are intentionally more challenging, to give you a chance to really solidify your knowledge. Don't lose heart if you find yourself stuck; think back to the concepts you've learned in previous chapters and how you can apply them to this crime dataset. Good luck!\n",
    "\n",
    "Your data file, __crime_sampler.csv__ contains the date (1st column), block where it occurred (2nd column), primary type of the crime (3rd), description of the crime (4th), description of the location (5th), if an arrest was made (6th), was it a domestic case (7th), and city district (8th).\n",
    "\n",
    "Here, however, you'll focus only 4 columns: The date, type of crime, location, and whether or not the crime resulted in an arrest.\n",
    "\n",
    "Your job in this exercise is to use a CSV Reader to load up a list to hold the data you're going to analyze.\n",
    "\n",
    "**Instructions**\n",
    "\n",
    "1. Import the Python csv module.\n",
    "3. Create a Python file object in read mode for crime_sampler.csv called csvfile.\n",
    "4. Create an empty list called crime_data.\n",
    "5. Loop over a csv reader on the file object :\n",
    "6. Inside the loop, append the date (first element), type of crime (third element), location description (fifth element), and arrest (sixth element) to the crime_data list.\n",
    "7. Remove the first element (headers) from the crime_data list.\n",
    "8. Print the first 10 records of the crime_data list. This has been done for you, so hit 'Submit Answer' to see the result!\n",
    "\n",
    "**Results:**<br>\n",
    "<font color=darkgreen>Great start! Have a look at the output and notice its structure. How are arrests denoted?</font>"
   ]
  },
  {
   "cell_type": "code",
   "execution_count": 2,
   "metadata": {},
   "outputs": [
    {
     "name": "stdout",
     "output_type": "stream",
     "text": [
      "[('05/23/2016 05:35:00 PM', 'ASSAULT', 'STREET', 'false'),\n",
      " ('03/26/2016 08:20:00 PM', 'BURGLARY', 'SMALL RETAIL STORE', 'false'),\n",
      " ('04/25/2016 03:05:00 PM', 'THEFT', 'DEPARTMENT STORE', 'true'),\n",
      " ('04/26/2016 05:30:00 PM', 'BATTERY', 'SIDEWALK', 'false'),\n",
      " ('06/19/2016 01:15:00 AM', 'BATTERY', 'SIDEWALK', 'false'),\n",
      " ('05/28/2016 08:00:00 PM', 'BATTERY', 'GAS STATION', 'false'),\n",
      " ('07/03/2016 03:43:00 PM', 'THEFT', 'OTHER', 'false'),\n",
      " ('06/11/2016 06:55:00 PM', 'PUBLIC PEACE VIOLATION', 'STREET', 'true'),\n",
      " ('10/04/2016 10:20:00 AM', 'BATTERY', 'STREET', 'true'),\n",
      " ('02/14/2017 09:00:00 PM', 'CRIMINAL DAMAGE', 'PARK PROPERTY', 'false')]\n"
     ]
    }
   ],
   "source": [
    "# Create the file object: csvfile\n",
    "file = 'data/crime_sampler.csv'\n",
    "with open(file, 'r') as csvfile:\n",
    "    # Create a list: crime_data, with the date, type of crime, location description, and arrest on the file object\n",
    "    crime_data = [(row[0], row[2], row[4], row[5]) for row in csv.reader(csvfile)]\n",
    "    \n",
    "# Remove the first element from crime_data\n",
    "del crime_data[0]\n",
    "\n",
    "# Print the first 10 records\n",
    "pprint(crime_data[:10])"
   ]
  },
  {
   "cell_type": "markdown",
   "metadata": {},
   "source": [
    "## 05.03 Find the Months with the Highest Number of Crimes\n",
    "\n",
    "Using the __crime_data__ list from the prior exercise, you'll answer a common question that arises when dealing with crime data: _How many crimes are committed each month?_\n",
    "\n",
    "Feel free to use the IPython Shell to explore the __crime_data list__ - it has been pre-loaded for you. For example, __crime_data[0][0]__ will show you the first column of the first row which, in this case, is the date and time time that the crime occurred.\n",
    "\n",
    "**Instructions**\n",
    "\n",
    "1. Import Counter from collections and datetime from datetime.\n",
    "2. Create a Counter object called crimes_by_month.\n",
    "3. Loop over the crime_data list:\n",
    "4. Using the datetime.strptime() function, convert the first element of each item into a Python Datetime Object called date.\n",
    "5. Increment the counter for the month associated with this row by one. You can access the month of date using date.month.\n",
    "6. Print the 3 most common months for crime.\n",
    "\n",
    "**Results:**<br>\n",
    "<font color=darkgreen>Well done! It looks like the months with the highest number of crimes are January, February, and July.</font>"
   ]
  },
  {
   "cell_type": "code",
   "execution_count": 3,
   "metadata": {},
   "outputs": [
    {
     "name": "stdout",
     "output_type": "stream",
     "text": [
      "[(1, 1948), (2, 1862), (7, 1257)]\n"
     ]
    }
   ],
   "source": [
    "# Create a Counter Object: crimes_by_month\n",
    "crimes_by_month = Counter()\n",
    "\n",
    "# Loop over the crime_data list\n",
    "for crime in crime_data:\n",
    "    \n",
    "    # Convert the first element of each item into a Python Datetime Object: date\n",
    "    date = datetime.strptime(crime[0], '%m/%d/%Y %I:%M:%S %p')\n",
    "    \n",
    "    # Increment the counter for the month of the row by one\n",
    "    crimes_by_month[date.month] += 1\n",
    "    \n",
    "# Print the 3 most common months for crime\n",
    "print(crimes_by_month.most_common(3))"
   ]
  },
  {
   "cell_type": "markdown",
   "metadata": {},
   "source": [
    "## 05.04 Transforming your Data Containers to Month and Location\n",
    "\n",
    "Now let's flip your __crime_data__ list into a dictionary keyed by month with a list of location values for each month, and filter down to the records for the year 2016. Remember you can use the shell to look at the __crime_data list__, such as __crime_data[1][4]__ to see the location of the crime in the second item of the list (since lists start at 0).\n",
    "\n",
    "**Instructions**\n",
    "\n",
    "1. Import defaultdict from collections and datetime from datetime.\n",
    "2. Create a dictionary that defaults to a list called locations_by_month.\n",
    "3. Loop over the crime_data list:\n",
    "4. Convert the first element to a date object exactly like you did in the previous exercise.\n",
    "5. If the year is 2016, set the key of locations_by_month to be the month of date and .append() the location (fifth element of row) to the values list.\n",
    "6. Print the dictionary. This has been done for you, so hit 'Submit Answer' to see the result!\n",
    "\n",
    "**Results:**<br>\n",
    "<font color=darkgreen>Well done! It is difficult to draw quick insights from this output - the .most_common() method would be useful here!</font>"
   ]
  },
  {
   "cell_type": "code",
   "execution_count": 4,
   "metadata": {},
   "outputs": [
    {
     "name": "stdout",
     "output_type": "stream",
     "text": [
      "In Jan, we registered 956 locations.\n",
      "In Jan, we registered 956 locations.\n",
      "In Feb, we registered 919 locations.\n",
      "In Feb, we registered 919 locations.\n",
      "In Mar, we registered 1080 locations.\n",
      "In Mar, we registered 1080 locations.\n",
      "In Apr, we registered 1036 locations.\n",
      "In Apr, we registered 1036 locations.\n",
      "In May, we registered 1092 locations.\n",
      "In May, we registered 1092 locations.\n",
      "In Jun, we registered 1136 locations.\n",
      "In Jun, we registered 1136 locations.\n",
      "In Jul, we registered 1257 locations.\n",
      "In Jul, we registered 1257 locations.\n",
      "In Aug, we registered 1218 locations.\n",
      "In Aug, we registered 1218 locations.\n",
      "In Sep, we registered 1146 locations.\n",
      "In Sep, we registered 1146 locations.\n",
      "In Oct, we registered 1128 locations.\n",
      "In Oct, we registered 1128 locations.\n",
      "In Nov, we registered 1026 locations.\n",
      "In Nov, we registered 1026 locations.\n",
      "In Dec, we registered 928 locations.\n",
      "In Dec, we registered 928 locations.\n"
     ]
    }
   ],
   "source": [
    "# Create a dictionary that defaults to a list: locations_by_month\n",
    "locations_by_month = defaultdict(list)\n",
    "\n",
    "# Loop over the crime_data list\n",
    "for row in crime_data:\n",
    "    # Convert the first element to a date object\n",
    "    date = datetime.strptime(row[0], '%m/%d/%Y %I:%M:%S %p')\n",
    "    \n",
    "    # If the year is 2016 \n",
    "    if date.year == 2016:\n",
    "        # Set the dictionary key to the month and append the location (fifth element) to the values list\n",
    "        locations_by_month[date.month].append(row[2])\n",
    "\n",
    "# Print the dictionary\n",
    "for m in sorted(locations_by_month):\n",
    "    print('In {}, we registered {} locations.'.format(datetime(1900, m, 1).strftime('%b'), len(locations_by_month[m])))\n",
    "    print(f'In {calendar.month_abbr[m]}, we registered {len(locations_by_month[m])} locations.')"
   ]
  },
  {
   "cell_type": "code",
   "execution_count": 5,
   "metadata": {},
   "outputs": [
    {
     "data": {
      "text/plain": [
       "'Dec'"
      ]
     },
     "execution_count": 5,
     "metadata": {},
     "output_type": "execute_result"
    }
   ],
   "source": [
    "datetime(1900, m, 1).strftime('%b')"
   ]
  },
  {
   "cell_type": "markdown",
   "metadata": {},
   "source": [
    "## 05.05 Find the Most Common Crimes by Location Type by Month in 2016\n",
    "\n",
    "Using the __locations_by_month__ dictionary from the prior exercise, you'll now determine common crimes by month and location type. Because your dataset is so large, it's a good idea to use Counter to look at an aspect of it in an easier to manageable size and learn more about it.\n",
    "\n",
    "**Instructions**\n",
    "1. Import Counter from collections.\n",
    "2. Loop over the items from your dictionary, using tuple expansion to unpack locations_by_month.items() into month and locations.\n",
    "3. Make a Counter of the locations called location_count.\n",
    "4. Print the month.\n",
    "5. Print the five most common crime locations.\n",
    "\n",
    "**Results:**<br>\n",
    "<font color=darkgreen>Fantastic work. It looks like most crimes in Chicago in 2016 took place on the street.</font>"
   ]
  },
  {
   "cell_type": "code",
   "execution_count": 6,
   "metadata": {},
   "outputs": [
    {
     "name": "stdout",
     "output_type": "stream",
     "text": [
      "5\n",
      "[('STREET', 241), ('RESIDENCE', 175), ('APARTMENT', 128), ('SIDEWALK', 111), ('OTHER', 41)]\n",
      "3\n",
      "[('STREET', 240), ('RESIDENCE', 190), ('APARTMENT', 139), ('SIDEWALK', 99), ('OTHER', 52)]\n",
      "4\n",
      "[('STREET', 213), ('RESIDENCE', 171), ('APARTMENT', 152), ('SIDEWALK', 96), ('OTHER', 40)]\n",
      "6\n",
      "[('STREET', 245), ('RESIDENCE', 164), ('APARTMENT', 159), ('SIDEWALK', 123), ('PARKING LOT/GARAGE(NON.RESID.)', 44)]\n",
      "7\n",
      "[('STREET', 309), ('RESIDENCE', 177), ('APARTMENT', 166), ('SIDEWALK', 125), ('OTHER', 47)]\n",
      "10\n",
      "[('STREET', 248), ('RESIDENCE', 206), ('APARTMENT', 122), ('SIDEWALK', 92), ('OTHER', 62)]\n",
      "12\n",
      "[('STREET', 207), ('RESIDENCE', 158), ('APARTMENT', 136), ('OTHER', 47), ('SIDEWALK', 46)]\n",
      "1\n",
      "[('STREET', 196), ('RESIDENCE', 160), ('APARTMENT', 153), ('SIDEWALK', 72), ('PARKING LOT/GARAGE(NON.RESID.)', 43)]\n",
      "9\n",
      "[('STREET', 279), ('RESIDENCE', 183), ('APARTMENT', 144), ('SIDEWALK', 121), ('OTHER', 39)]\n",
      "11\n",
      "[('STREET', 236), ('RESIDENCE', 182), ('APARTMENT', 154), ('SIDEWALK', 75), ('OTHER', 41)]\n",
      "8\n",
      "[('STREET', 280), ('RESIDENCE', 199), ('APARTMENT', 144), ('SIDEWALK', 109), ('OTHER', 47)]\n",
      "2\n",
      "[('STREET', 188), ('RESIDENCE', 159), ('APARTMENT', 144), ('SIDEWALK', 73), ('OTHER', 40)]\n"
     ]
    }
   ],
   "source": [
    "# Loop over the items from locations_by_month using tuple expansion of the month and locations\n",
    "for month, locations in locations_by_month.items():\n",
    "    # Make a Counter of the locations\n",
    "    location_count = Counter(locations)\n",
    "    # Print the month \n",
    "    print(month)\n",
    "    # Print the most common location\n",
    "    print(location_count.most_common(5))"
   ]
  },
  {
   "cell_type": "code",
   "execution_count": 7,
   "metadata": {},
   "outputs": [
    {
     "name": "stdout",
     "output_type": "stream",
     "text": [
      "In Jan, most common crime locations: \n",
      "[('STREET', 196), ('RESIDENCE', 160), ('APARTMENT', 153), ('SIDEWALK', 72), ('PARKING LOT/GARAGE(NON.RESID.)', 43)]\n",
      "In Feb, most common crime locations: \n",
      "[('STREET', 188), ('RESIDENCE', 159), ('APARTMENT', 144), ('SIDEWALK', 73), ('OTHER', 40)]\n",
      "In Mar, most common crime locations: \n",
      "[('STREET', 240), ('RESIDENCE', 190), ('APARTMENT', 139), ('SIDEWALK', 99), ('OTHER', 52)]\n",
      "In Apr, most common crime locations: \n",
      "[('STREET', 213), ('RESIDENCE', 171), ('APARTMENT', 152), ('SIDEWALK', 96), ('OTHER', 40)]\n",
      "In May, most common crime locations: \n",
      "[('STREET', 241), ('RESIDENCE', 175), ('APARTMENT', 128), ('SIDEWALK', 111), ('OTHER', 41)]\n",
      "In Jun, most common crime locations: \n",
      "[('STREET', 245), ('RESIDENCE', 164), ('APARTMENT', 159), ('SIDEWALK', 123), ('PARKING LOT/GARAGE(NON.RESID.)', 44)]\n",
      "In Jul, most common crime locations: \n",
      "[('STREET', 309), ('RESIDENCE', 177), ('APARTMENT', 166), ('SIDEWALK', 125), ('OTHER', 47)]\n",
      "In Aug, most common crime locations: \n",
      "[('STREET', 280), ('RESIDENCE', 199), ('APARTMENT', 144), ('SIDEWALK', 109), ('OTHER', 47)]\n",
      "In Sep, most common crime locations: \n",
      "[('STREET', 279), ('RESIDENCE', 183), ('APARTMENT', 144), ('SIDEWALK', 121), ('OTHER', 39)]\n",
      "In Oct, most common crime locations: \n",
      "[('STREET', 248), ('RESIDENCE', 206), ('APARTMENT', 122), ('SIDEWALK', 92), ('OTHER', 62)]\n",
      "In Nov, most common crime locations: \n",
      "[('STREET', 236), ('RESIDENCE', 182), ('APARTMENT', 154), ('SIDEWALK', 75), ('OTHER', 41)]\n",
      "In Dec, most common crime locations: \n",
      "[('STREET', 207), ('RESIDENCE', 158), ('APARTMENT', 136), ('OTHER', 47), ('SIDEWALK', 46)]\n"
     ]
    }
   ],
   "source": [
    "# Create a dictionary that defaults to a list: locations_by_month\n",
    "locations_by_month2 = defaultdict(Counter)\n",
    "\n",
    "# Loop over the crime_data list\n",
    "for row in crime_data:\n",
    "    # Convert the first element to a date object\n",
    "    date = datetime.strptime(row[0], '%m/%d/%Y %I:%M:%S %p')\n",
    "    \n",
    "    # If the year is 2016 \n",
    "    if date.year == 2016:\n",
    "        # Set the dictionary key to the month and append the location (fifth element) to the values list\n",
    "        locations_by_month2[date.month].update({row[2]: 1})\n",
    "\n",
    "# Print the dictionary\n",
    "for m in sorted(locations_by_month2):\n",
    "    print('In {}, most common crime locations: '.format(datetime(1900, m, 1).strftime('%b')))\n",
    "    print(locations_by_month2[m].most_common(5))"
   ]
  },
  {
   "cell_type": "markdown",
   "metadata": {},
   "source": [
    "## 05.06 Dictionaries with Time Windows for Keys\n",
    "\n",
    "See the video."
   ]
  },
  {
   "cell_type": "markdown",
   "metadata": {},
   "source": [
    "## 05.07 Reading your Data with DictReader and Establishing your Data Containers\n",
    "\n",
    "Your data file, __crime_sampler.csv__ contains in positional order: the date, block where it occurred, primary type of the crime, description of the crime, description of the location, if an arrest was made, was it a domestic case, and city district.\n",
    "\n",
    "You'll now use a DictReader to load up a dictionary to hold your data with the district as the key and the rest of the data in a list. The __csv__, __defaultdict__, and __datetime__ modules have already been imported for you.\n",
    "\n",
    "**Instructions**\n",
    "\n",
    "1. Create a Python file object in read mode for crime_sampler.csv called csvfile.\n",
    "2. Create a dictionary that defaults to a list called crimes_by_district.\n",
    "3. Loop over a DictReader of the CSV file:\n",
    "4. Pop 'District' from each row and store it as district.\n",
    "5. Append the rest of the data (row) to the district key of crimes_by_district.\n",
    "\n",
    "**Results:**<br>\n",
    "<font color=darkgreen>Brilliant work. You're now ready to analyze crime by district.</font>"
   ]
  },
  {
   "cell_type": "code",
   "execution_count": 27,
   "metadata": {},
   "outputs": [
    {
     "name": "stdout",
     "output_type": "stream",
     "text": [
      "In  1, it has been registered  753 crime(s).\n",
      "In  2, it has been registered  647 crime(s).\n",
      "In  3, it has been registered  650 crime(s).\n",
      "In  4, it has been registered  785 crime(s).\n",
      "In  5, it has been registered  685 crime(s).\n",
      "In  6, it has been registered  929 crime(s).\n",
      "In  7, it has been registered  847 crime(s).\n",
      "In  8, it has been registered  971 crime(s).\n",
      "In  9, it has been registered  697 crime(s).\n",
      "In 10, it has been registered  728 crime(s).\n",
      "In 11, it has been registered 1028 crime(s).\n",
      "In 12, it has been registered  740 crime(s).\n",
      "In 14, it has been registered  601 crime(s).\n",
      "In 15, it has been registered  632 crime(s).\n",
      "In 16, it has been registered  498 crime(s).\n",
      "In 17, it has been registered  429 crime(s).\n",
      "In 18, it has been registered  727 crime(s).\n",
      "In 19, it has been registered  713 crime(s).\n",
      "In 20, it has been registered  241 crime(s).\n",
      "In 22, it has been registered  461 crime(s).\n",
      "In 24, it has been registered  409 crime(s).\n",
      "In 25, it has been registered  828 crime(s).\n",
      "In 31, it has been registered    1 crime(s).\n",
      "{'Arrest': 'true',\n",
      " 'Block': '027XX W FULTON ST',\n",
      " 'Date': '04/22/2016 05:04:00 PM',\n",
      " 'Description': 'OVER $500',\n",
      " 'Domestic': 'false',\n",
      " 'Location Description': 'OTHER',\n",
      " 'Primary Type': 'THEFT'}\n"
     ]
    }
   ],
   "source": [
    "# Create the CSV file: csvfile\n",
    "with open(file, 'r') as csvfile:\n",
    "    # Create a dictionary that defaults to a list: crimes_by_district\n",
    "    crimes_by_district = defaultdict(list)\n",
    "    \n",
    "    # Loop over a DictReader of the CSV file\n",
    "    for row in csv.DictReader(csvfile):\n",
    "        # Pop the district from each row: district\n",
    "        district = row.pop('District')\n",
    "        # Append the rest of the data to the list for proper district in crimes_by_district\n",
    "        crimes_by_district[int(district)].append(row)\n",
    "\n",
    "for district in sorted(crimes_by_district):\n",
    "    print(f'In {district:>2}, it has been registered {len(crimes_by_district[district]):>4} crime(s).')\n",
    "\n",
    "pprint(crimes_by_district[district][0])"
   ]
  },
  {
   "cell_type": "markdown",
   "metadata": {},
   "source": [
    "## 05.08 Determine the Arrests by District by Year\n",
    "\n",
    "Using your __crimes_by_district__ dictionary from the previous exercise, you'll now determine the number arrests in each City district for each year. __Counter__ is already imported for you. You'll want to use the IPython Shell to explore the __crimes_by_district__ dictionary to determine how to check if an arrest was made.\n",
    "\n",
    "**Instructions**\n",
    "\n",
    "1. Loop over the crimes_by_district dictionary, unpacking it into the variables district and crimes.\n",
    "2. Create an empty Counter object called year_count.\n",
    "3. Loop over the crimes:\n",
    "4. If there was an arrest,\n",
    "5. Convert crime['Date'] to a datetime object called year.\n",
    "6. Add the crime to the Counter for the year, by using year as the key of year_count.\n",
    "6. Print the Counter. This has been done for you, so hit 'Submit Answer' to see the result!\n",
    "\n",
    "**Results:**<br>\n",
    "<font color=darkgreen>Interesting. It looked like most arrests took place in the 11th District.</font>"
   ]
  },
  {
   "cell_type": "code",
   "execution_count": 32,
   "metadata": {},
   "outputs": [
    {
     "name": "stdout",
     "output_type": "stream",
     "text": [
      "In district  1: Counter({2016: 124, 2017: 15})\n",
      "In district  2: Counter({2016: 84, 2017: 15})\n",
      "In district  3: Counter({2016: 98, 2017: 18})\n",
      "In district  4: Counter({2016: 134, 2017: 15})\n",
      "In district  5: Counter({2016: 149, 2017: 30})\n",
      "In district  6: Counter({2016: 157, 2017: 32})\n",
      "In district  7: Counter({2016: 181, 2017: 27})\n",
      "In district  8: Counter({2016: 124, 2017: 26})\n",
      "In district  9: Counter({2016: 116, 2017: 17})\n",
      "In district 10: Counter({2016: 144, 2017: 20})\n",
      "In district 11: Counter({2016: 275, 2017: 53})\n",
      "In district 12: Counter({2016: 72, 2017: 9})\n",
      "In district 14: Counter({2016: 59, 2017: 8})\n",
      "In district 15: Counter({2016: 154, 2017: 16})\n",
      "In district 16: Counter({2016: 66, 2017: 9})\n",
      "In district 17: Counter({2016: 38, 2017: 5})\n",
      "In district 18: Counter({2016: 92, 2017: 17})\n",
      "In district 19: Counter({2016: 88, 2017: 11})\n",
      "In district 20: Counter({2016: 27, 2017: 8})\n",
      "In district 22: Counter({2016: 78, 2017: 12})\n",
      "In district 24: Counter({2016: 51, 2017: 10})\n",
      "In district 25: Counter({2016: 150, 2017: 26})\n",
      "In district 31: Counter({2016: 1})\n"
     ]
    }
   ],
   "source": [
    "# Loop over the crimes_by_district using expansion as district and crimes\n",
    "for district, crimes in dict(sorted(crimes_by_district.items())).items():\n",
    "    # Create an empty Counter object: year_count\n",
    "    year_count = Counter()\n",
    "    \n",
    "    # Loop over the crimes:\n",
    "    for crime in crimes:\n",
    "        # If there was an arrest\n",
    "        if crime['Arrest'] == 'true':\n",
    "            # Convert the Date to a datetime and get the year\n",
    "            year = datetime.strptime(crime['Date'], '%m/%d/%Y %I:%M:%S %p').year\n",
    "            # Increment the Counter for the year\n",
    "            year_count[year] += 1\n",
    "            \n",
    "    # Print the district and  the counter\n",
    "    print(f'In district {district:>2}: {year_count}')"
   ]
  },
  {
   "cell_type": "markdown",
   "metadata": {},
   "source": [
    "## 05.09 Unique Crimes by City Block\n",
    "\n",
    "You're in the home stretch!\n",
    "\n",
    "Here, your data has been reshaped into a dictionary called __crimes_by_block__ in which crimes are listed by city block. Your task in this exercise is to get a unique list of crimes that have occurred on a couple of the blocks that have been selected for you to learn more about. You might remember that you used __set()__ to solve problems like this in Chapter 1.\n",
    "\n",
    "Go for it!\n",
    "\n",
    "**Instructions**\n",
    "\n",
    "1. Create a unique list of crimes for the '001XX N STATE ST' block called n_state_st_crimes and print it.\n",
    "2. Create a unique list of crimes for the '0000X W TERMINAL ST' block called w_terminal_st_crimes and print it.\n",
    "3. Find the crimes committed on 001XX N STATE ST but not 0000X W TERMINAL ST. Store the result as crime_differences and print it.\n",
    "\n",
    "**Results:**<br>\n",
    "<font color=darkgreen>Well done! There are some curious differences in crime between these two city blocks.</font>"
   ]
  },
  {
   "cell_type": "code",
   "execution_count": 68,
   "metadata": {
    "scrolled": false
   },
   "outputs": [
    {
     "name": "stdout",
     "output_type": "stream",
     "text": [
      "District No.1: Block \"0000X E 21ST ST\" registered 1 different types of crime(s).\n",
      "District No.1: Block \"0000X E 26TH ST\" registered 1 different types of crime(s).\n",
      "District No.1: Block \"0000X E 8TH ST\" registered 1 different types of crime(s).\n",
      "District No.1: Block \"0000X E ADAMS ST\" registered 3 different types of crime(s).\n",
      "District No.1: Block \"0000X E CERMAK RD\" registered 1 different types of crime(s).\n"
     ]
    }
   ],
   "source": [
    "crimes_by_district_and_block = defaultdict(dict)\n",
    "for district, crimes in dict(sorted(crimes_by_district.items())).items():\n",
    "    \n",
    "    crimes_by_block = defaultdict(set)\n",
    "    for crime in crimes:\n",
    "        crimes_by_block[crime['Block']].add(crime['Primary Type'])\n",
    "    crimes_by_district_and_block[district] = crimes_by_block\n",
    "    \n",
    "# Print data for district = 20\n",
    "district = 1\n",
    "for i, block in enumerate(sorted(crimes_by_district_and_block[district]), start=1):\n",
    "    if i > 5: break\n",
    "    print('District No.{}: Block \"{}\" registered {} different types of crime(s).'.format(\n",
    "                district, block,\n",
    "                len(crimes_by_district_and_block[district][block])))\n",
    "    "
   ]
  },
  {
   "cell_type": "code",
   "execution_count": 69,
   "metadata": {},
   "outputs": [
    {
     "name": "stdout",
     "output_type": "stream",
     "text": [
      "{'THEFT', 'CRIMINAL TRESPASS', 'OTHER OFFENSE', 'CRIMINAL DAMAGE', 'BATTERY', 'ASSAULT', 'DECEPTIVE PRACTICE', 'ROBBERY'}\n",
      "{'THEFT', 'CRIMINAL TRESPASS', 'OTHER OFFENSE', 'CRIMINAL DAMAGE', 'ASSAULT', 'DECEPTIVE PRACTICE', 'PUBLIC PEACE VIOLATION', 'NARCOTICS'}\n",
      "{'ROBBERY', 'BATTERY'}\n"
     ]
    }
   ],
   "source": [
    "# Create a unique list of crimes for the first block: n_state_st_crimes\n",
    "n_state_st_crimes = set(crimes_by_district_and_block[1]['001XX N STATE ST'])\n",
    "\n",
    "# Print the list\n",
    "print(n_state_st_crimes)\n",
    "\n",
    "# Create a unique list of crimes for the second block: w_terminal_st_crimes\n",
    "w_terminal_st_crimes = set(crimes_by_district_and_block[16]['0000X W TERMINAL ST'])\n",
    "\n",
    "# Print the list\n",
    "print(w_terminal_st_crimes)\n",
    "\n",
    "# Find the differences between the two blocks: crime_differences\n",
    "crime_differences = n_state_st_crimes.difference(w_terminal_st_crimes)\n",
    "\n",
    "# Print the differences\n",
    "print(crime_differences)"
   ]
  },
  {
   "cell_type": "markdown",
   "metadata": {},
   "source": [
    "## 05.10 Final thoughts\n",
    "\n",
    "See the video."
   ]
  },
  {
   "cell_type": "markdown",
   "metadata": {},
   "source": [
    "# Aditional material\n",
    "\n",
    "- **Datacamp course**: https://learn.datacamp.com/courses/data-types-for-data-science-in-python"
   ]
  }
 ],
 "metadata": {
  "kernelspec": {
   "display_name": "Python 3",
   "language": "python",
   "name": "python3"
  },
  "language_info": {
   "codemirror_mode": {
    "name": "ipython",
    "version": 3
   },
   "file_extension": ".py",
   "mimetype": "text/x-python",
   "name": "python",
   "nbconvert_exporter": "python",
   "pygments_lexer": "ipython3",
   "version": "3.8.8"
  }
 },
 "nbformat": 4,
 "nbformat_minor": 4
}
