{
 "cells": [
  {
   "cell_type": "code",
   "execution_count": 1,
   "metadata": {},
   "outputs": [],
   "source": [
    "# Import libraries\n",
    "import pandas as pd\n",
    "import csv\n",
    "\n",
    "from collections import defaultdict\n",
    "from pprint import pprint"
   ]
  },
  {
   "cell_type": "code",
   "execution_count": 2,
   "metadata": {},
   "outputs": [
    {
     "name": "stdout",
     "output_type": "stream",
     "text": [
      "       BRITH_YEAR  GENDER            ETHNICTY    NAME  COUNT  RANK\n",
      "7898         2012  FEMALE      ASIAN AND PACI   Chloe    172     1\n",
      "11622        2013    MALE  WHITE NON HISPANIC   David    304     1\n",
      "8619         2012  FEMALE      WHITE NON HISP    Emma    228     1\n",
      "322          2011  FEMALE  WHITE NON HISPANIC  Esther    224     1\n",
      "3206         2011  FEMALE  WHITE NON HISPANIC  Esther    224     1\n"
     ]
    }
   ],
   "source": [
    "# Read data from file into list of list\n",
    "df = pd.read_csv('data/baby_names.csv')\n",
    "df.sort_values(by = ['RANK', 'NAME'], inplace = True)\n",
    "df['NAME'] = df.NAME.str.title()\n",
    "print(df.head())"
   ]
  },
  {
   "cell_type": "code",
   "execution_count": 3,
   "metadata": {},
   "outputs": [
    {
     "data": {
      "text/html": [
       "<div>\n",
       "<style scoped>\n",
       "    .dataframe tbody tr th:only-of-type {\n",
       "        vertical-align: middle;\n",
       "    }\n",
       "\n",
       "    .dataframe tbody tr th {\n",
       "        vertical-align: top;\n",
       "    }\n",
       "\n",
       "    .dataframe thead th {\n",
       "        text-align: right;\n",
       "    }\n",
       "</style>\n",
       "<table border=\"1\" class=\"dataframe\">\n",
       "  <thead>\n",
       "    <tr style=\"text-align: right;\">\n",
       "      <th></th>\n",
       "      <th>BRITH_YEAR</th>\n",
       "      <th>GENDER</th>\n",
       "      <th>ETHNICTY</th>\n",
       "      <th>NAME</th>\n",
       "      <th>COUNT</th>\n",
       "      <th>RANK</th>\n",
       "    </tr>\n",
       "  </thead>\n",
       "  <tbody>\n",
       "    <tr>\n",
       "      <th>10031</th>\n",
       "      <td>2013</td>\n",
       "      <td>FEMALE</td>\n",
       "      <td>BLACK NON HISPANIC</td>\n",
       "      <td>Aaliyah</td>\n",
       "      <td>73</td>\n",
       "      <td>3</td>\n",
       "    </tr>\n",
       "    <tr>\n",
       "      <th>10637</th>\n",
       "      <td>2013</td>\n",
       "      <td>FEMALE</td>\n",
       "      <td>WHITE NON HISPANIC</td>\n",
       "      <td>Esther</td>\n",
       "      <td>214</td>\n",
       "      <td>3</td>\n",
       "    </tr>\n",
       "    <tr>\n",
       "      <th>10440</th>\n",
       "      <td>2013</td>\n",
       "      <td>FEMALE</td>\n",
       "      <td>HISPANIC</td>\n",
       "      <td>Mia</td>\n",
       "      <td>237</td>\n",
       "      <td>3</td>\n",
       "    </tr>\n",
       "    <tr>\n",
       "      <th>9988</th>\n",
       "      <td>2013</td>\n",
       "      <td>FEMALE</td>\n",
       "      <td>ASIAN AND PACIFIC ISLANDER</td>\n",
       "      <td>Olivia</td>\n",
       "      <td>109</td>\n",
       "      <td>3</td>\n",
       "    </tr>\n",
       "  </tbody>\n",
       "</table>\n",
       "</div>"
      ],
      "text/plain": [
       "       BRITH_YEAR  GENDER                    ETHNICTY     NAME  COUNT  RANK\n",
       "10031        2013  FEMALE          BLACK NON HISPANIC  Aaliyah     73     3\n",
       "10637        2013  FEMALE          WHITE NON HISPANIC   Esther    214     3\n",
       "10440        2013  FEMALE                    HISPANIC      Mia    237     3\n",
       "9988         2013  FEMALE  ASIAN AND PACIFIC ISLANDER   Olivia    109     3"
      ]
     },
     "execution_count": 3,
     "metadata": {},
     "output_type": "execute_result"
    }
   ],
   "source": [
    "df[(df.BRITH_YEAR==2013) & (df.GENDER=='FEMALE') & (df.RANK == 3)]"
   ]
  },
  {
   "cell_type": "code",
   "execution_count": 4,
   "metadata": {},
   "outputs": [],
   "source": [
    "baby_names_2012 = defaultdict(list)\n",
    "for n, c in df[(df.BRITH_YEAR == 2012)].NAME.value_counts().items():\n",
    "    baby_names_2012[c].append(n)\n",
    "\n",
    "# in:\n",
    "# baby_names_2012\n",
    "# out: \n",
    "# defaultdict(list,\n",
    "#            {6: ['ARIEL', 'JORDAN', 'AVERY'],\n",
    "#             5: ['RILEY', 'DYLAN', 'RYAN'],\n",
    "#             4: ['ISABELLA', 'MIA', 'SEBASTIAN', 'ADAM', ...]\n",
    "#             3: [EVA', 'ALICE', 'HAZEL', 'CONNOR', ...]\n",
    "#             2: ['KELLY', 'ERIK', 'ARMANI', 'AMELIE', ...]\n",
    "#             1: ['MOISES', 'TIANA', 'CARSON', 'BROOKE', ...])"
   ]
  },
  {
   "cell_type": "code",
   "execution_count": 5,
   "metadata": {},
   "outputs": [],
   "source": [
    "female_baby_names_2012 = df[(df.BRITH_YEAR == 2012) & (df.ETHNICTY.isin(['WHITE NON HISP', 'WHITE NON HISPANIC'])) &\n",
    "                            (df.GENDER == 'FEMALE')].set_index('RANK').sort_index().NAME.str.title().to_dict()"
   ]
  },
  {
   "cell_type": "code",
   "execution_count": 6,
   "metadata": {},
   "outputs": [],
   "source": [
    "male_baby_names = {2012: {},\n",
    "                   2013: df[(df.BRITH_YEAR == 2013) & (df.ETHNICTY.isin(['WHITE NON HISP', 'WHITE NON HISPANIC'])) &\n",
    "                            (df.GENDER == 'MALE')].set_index('RANK').sort_index().NAME.to_dict(),\n",
    "                   2014: df[(df.BRITH_YEAR == 2014) & (df.ETHNICTY.isin(['WHITE NON HISP', 'WHITE NON HISPANIC'])) &\n",
    "                            (df.GENDER == 'MALE')].set_index('RANK').sort_index().NAME.to_dict()}"
   ]
  },
  {
   "cell_type": "code",
   "execution_count": 7,
   "metadata": {},
   "outputs": [],
   "source": [
    "male_baby_names_2011 = df[(df.BRITH_YEAR == 2011) & (df.ETHNICTY.isin(['WHITE NON HISP', 'WHITE NON HISPANIC'])) &\n",
    "                            (df.GENDER == 'MALE')].set_index('RANK').sort_index().NAME.str.title().to_dict()"
   ]
  },
  {
   "cell_type": "code",
   "execution_count": 8,
   "metadata": {},
   "outputs": [],
   "source": [
    "female_baby_names = {2011: df[(df.BRITH_YEAR == 2011) & (df.ETHNICTY.isin(['WHITE NON HISP', 'WHITE NON HISPANIC'])) &\n",
    "                            (df.GENDER == 'FEMALE') & (df.RANK < 11)].set_index('RANK').sort_index().NAME.to_dict(),\n",
    "                     2012: df[(df.BRITH_YEAR == 2012) & (df.ETHNICTY.isin(['WHITE NON HISP', 'WHITE NON HISPANIC'])) &\n",
    "                            (df.GENDER == 'FEMALE') & (df.RANK < 11)].set_index('RANK').sort_index().NAME.to_dict(),\n",
    "                     2013: df[(df.BRITH_YEAR == 2013) & (df.ETHNICTY.isin(['WHITE NON HISP', 'WHITE NON HISPANIC'])) &\n",
    "                            (df.GENDER == 'FEMALE') & (df.RANK < 11)].set_index('RANK').sort_index().NAME.to_dict(),\n",
    "                     2014: df[(df.BRITH_YEAR == 2014) & (df.ETHNICTY.isin(['WHITE NON HISP', 'WHITE NON HISPANIC'])) &\n",
    "                            (df.GENDER == 'FEMALE') & (df.RANK < 11)].set_index('RANK').sort_index().NAME.to_dict()}"
   ]
  },
  {
   "cell_type": "markdown",
   "metadata": {},
   "source": [
    "# 02. Dictionaries - the root of Python\n",
    "\n",
    "At the root of all things Python is a dictionary. Herein, you'll learn how to use them to safely handle data that can viewed in a variety of ways to answer even more questions about the New York Baby Names dataset. You'll explore how to loop through data in a dictionary, access nested data, add new data, and come to appreciate all of the wonderful capabilities of Python dictionaries."
   ]
  },
  {
   "cell_type": "markdown",
   "metadata": {},
   "source": [
    "## 02.01 Using dictionaries\n",
    "\n",
    "See the video."
   ]
  },
  {
   "cell_type": "markdown",
   "metadata": {},
   "source": [
    "## 02.02 Creating and looping through dictionaries\n",
    "\n",
    "You'll often encounter the need to loop over some array type data, like in Chapter 1, and provide it some structure so you can find the data you desire quickly.\n",
    "\n",
    "You start that by creating an empty dictionary and assigning part of your array data as the key and the rest as the value.\n",
    "\n",
    "Previously, you used __sorted()__ to organize your data in a list. Dictionaries can also be sorted. By default, using __sorted()__ on a dictionary will sort by the keys of the dictionary. You can also reverse the order by passing __reverse=True__ as a keyword argument.\n",
    "\n",
    "Finally, since sorted returns a list, you can use slice notation to select only part of the list. For example, __[:10]__ will slice the first ten items off a list and return only those items.\n",
    "\n",
    "**Instructions**\n",
    "\n",
    "1. Create an empty dictionary called names_by_rank.\n",
    "2. Loop over female_baby_names_2012.items(), unpacking it into the variables rank and name.\n",
    "3. Inside the loop, add each name to the names_by_rank dictionary using the rank as the key.\n",
    "4. Sort the names_by_rank dictionary keys in descending order, select the first ten items. Print each item.\n",
    "\n",
    "**Results:**<br>\n",
    "<font color=darkgreen>Brilliant work!</font>"
   ]
  },
  {
   "cell_type": "code",
   "execution_count": 9,
   "metadata": {},
   "outputs": [
    {
     "name": "stdout",
     "output_type": "stream",
     "text": [
      "Yara\n",
      "Tzivia\n",
      "Yitta\n",
      "Tzipora\n",
      "Shaina\n",
      "Sima\n",
      "Sylvia\n",
      "Yehudis\n",
      "Vera\n",
      "Sloane\n"
     ]
    }
   ],
   "source": [
    "# Create an empty dictionary: names_by_rank\n",
    "names_by_rank = {}\n",
    "\n",
    "# Loop over the girl names\n",
    "for rank, name in female_baby_names_2012.items():\n",
    "    # Add each name to the names_by_rank dictionary using rank as the key\n",
    "    names_by_rank[rank] = name\n",
    "    \n",
    "# Sort the names_by_rank dict by rank in descending order and slice the first 10 items\n",
    "for rank in sorted(names_by_rank, reverse=True)[:10]:\n",
    "    # Print each item\n",
    "    print(names_by_rank[rank])"
   ]
  },
  {
   "cell_type": "markdown",
   "metadata": {},
   "source": [
    "## 02.03 Safely finding by key\n",
    "\n",
    "As demonstrated in the video, if you attempt to access a key that isn't present in a dictionary, you'll get a __KeyError__. One option to handle this type of error is to use a __try: except:__ block. You can learn more about error handling in Python Data Science Toolbox (Part 1) (https://learn.datacamp.com/courses/python-data-science-toolbox-part-1), specifically in this video (https://campus.datacamp.com/courses/python-data-science-toolbox-part-1/lambda-functions-and-error-handling?ex=7).\n",
    "\n",
    "Python provides a faster, more versatile tool to help with this problem in the form of the __.get()__ method. The __.get()__ method allows you to supply the name of a key, and optionally, what you'd like to have returned if the key is not found.\n",
    "\n",
    "You'll be using same __names__ dictionary from the previous exercise and will gain practice using the __.get()__ method.\n",
    "\n",
    "**Instructions**\n",
    "\n",
    "1. Safely print rank 7 from the names dictionary.\n",
    "2. Safely print the type of rank 100 from the names dictionary.\n",
    "3. Safely print rank 105 from the names dictionary or 'Not Found' if 105 is not found.\n",
    "\n",
    "**Results:**<br>\n",
    "<font color=darkgreen>Great work. Notice the difference in output between the three print statements. The names dictionary does not have ranks of 100 and 105.</font>"
   ]
  },
  {
   "cell_type": "code",
   "execution_count": 10,
   "metadata": {},
   "outputs": [
    {
     "name": "stdout",
     "output_type": "stream",
     "text": [
      "Chaya\n",
      "<class 'NoneType'>\n",
      "Not Found\n"
     ]
    }
   ],
   "source": [
    "# Safely print rank 7 from the names dictionary\n",
    "print(female_baby_names_2012.get(7))\n",
    "\n",
    "# Safely print the type of rank 100 from the names dictionary\n",
    "print(type(female_baby_names_2012.get(105)))\n",
    "\n",
    "# Safely print rank 105 from the names dictionary or 'Not Found'\n",
    "print(female_baby_names_2012.get(105, 'Not Found'))"
   ]
  },
  {
   "cell_type": "markdown",
   "metadata": {},
   "source": [
    "## 02.04 Dealing with nested data\n",
    "\n",
    "A dictionary can contain another dictionary as the value of a key, and this is a very common way to deal with repeating data structures such as yearly, monthly or weekly data. All the same rules apply when creating or accessing the dictionary.\n",
    "\n",
    "For example, if you had a dictionary that had a ranking of my cookie consumption by year and type of cookie. It might look like <code>cookies = {'2017': {'chocolate chip': 483, 'peanut butter': 115}, '2016': {'chocolate chip': 9513, 'peanut butter': 6792}}</code>. I could access how many chocolate chip cookies I ate in 2016 using <code>cookies['2016']['chocolate chip']</code>.\n",
    "\n",
    "When exploring a new dictionary, it can be helpful to use the <code>.keys()</code> method to get an idea of what data might be available within the dictionary. You can also iterate over a dictionary and it will return each key in the dictionary for you to use inside the loop. Here, a dictionary called __boy_names__ has been loaded into your workspace. It consists of all male names in 2013 and 2014.\n",
    "\n",
    "**Instructions**\n",
    "\n",
    "1. Print the keys of the boy_names dictionary.\n",
    "2. Print the keys of the boy_names dictionary for the year 2013.\n",
    "3. Loop over the boy_names dictionary.\n",
    "4. Inside the loop, safely print the year and the third ranked name. Print 'Unknown' if the third ranked name is not found.\n",
    "\n",
    "**Results:**<br>\n",
    "<font color=darkgreen>Excellent work! Dealing with nested dictionaries can be tricky. Here, the 2012 key consists of an empty dictionary, and so there is no third ranked name. As a result, 'Unknown' is printed, unlike for 2013 and 2014.</font>"
   ]
  },
  {
   "cell_type": "code",
   "execution_count": 11,
   "metadata": {},
   "outputs": [
    {
     "name": "stdout",
     "output_type": "stream",
     "text": [
      "dict_keys([2012, 2013, 2014])\n",
      "dict_keys([1, 2, 3, 4, 5, 6, 7, 8, 9, 10, 11, 12, 13, 14, 15, 16, 17, 18, 19, 20, 21, 22, 23, 24, 25, 26, 27, 28, 29, 30, 31, 32, 33, 34, 35, 36, 37, 38, 39, 40, 41, 42, 43, 44, 45, 46, 47, 48, 49, 50, 51, 52, 53, 54, 55, 56, 57, 58, 59, 60, 61, 62, 63, 64, 65, 66, 67, 68, 69, 70, 71, 72, 73, 74, 75, 76, 77, 78, 79, 80, 81, 82, 83, 84, 85, 86, 87, 88, 89, 90, 91, 92, 93, 94, 95, 96, 97, 98, 99, 100])\n",
      "2012 unknown\n",
      "2013 Michael\n",
      "2014 Michael\n"
     ]
    }
   ],
   "source": [
    "# Print a list of keys from the boy_names dictionary\n",
    "print(male_baby_names.keys())\n",
    "\n",
    "# Print a list of keys from the boy_names dictionary for the year 2013\n",
    "print(male_baby_names[2013].keys())\n",
    "\n",
    "# Loop over the dictionary\n",
    "for year in male_baby_names:\n",
    "    # Safely print the year and the third ranked name or 'Unknown'\n",
    "    print(year, male_baby_names[year].get(3, 'unknown'))"
   ]
  },
  {
   "cell_type": "markdown",
   "metadata": {},
   "source": [
    "## 02.05 Altering dictionaries\n",
    "\n",
    "See the video."
   ]
  },
  {
   "cell_type": "markdown",
   "metadata": {},
   "source": [
    "## 02.06 Adding and extending dictionaries\n",
    "\n",
    "If you have a dictionary and you want to add data to it, you can simply create a new key and assign the data you desire to it. It's important to remember that if it's a nested dictionary, then all the keys in the data path must exist, and each key in the path must be assigned individually.\n",
    "\n",
    "You can also use the __.update()__ method to update a dictionary with keys and values from another dictionary, tuples or keyword arguments.\n",
    "\n",
    "Here, you'll combine several techniques used in prior exercises to setup your dictionary in a way that makes it easy to find the least popular baby name for each year.\n",
    "\n",
    "Your job is to add data for the year 2011 to your dictionary by assignment, 2012 by update, and then find the least popular baby name for each year.\n",
    "\n",
    "**Instructions**\n",
    "\n",
    "1. Assign the names_2011 dictionary as the value to the 2011 key of the boy_names dictionary.\n",
    "2. Update the 2012 key in the boy_names dictionary with the following data in a list of tuples: (1, 'Casey'), (2, 'Aiden').\n",
    "3. Loop over the boy_names dictionary.\n",
    "4. Inside the for loop, sort the data for each year of boy_names by descending rank and take the first result which will be the lowest ranked name.\n",
    "5. Safely print the year and least popular name or 'Not Available' if it is not found. Take advantage of the .get() method.\n",
    "\n",
    "**Results:**<br>\n",
    "<font color=darkgreen>Great work! It looks like 'Yonah', 'Yitzchak', and 'Yidel' were the least popular baby names in 2011, 2013, and 2014. The dictionary in the 2012 key of boy_names did not contain any data until you added 'Casey' and 'Aiden', so unsurprisingly, 'Aiden' is the least popular name.</font>"
   ]
  },
  {
   "cell_type": "code",
   "execution_count": 12,
   "metadata": {},
   "outputs": [
    {
     "name": "stdout",
     "output_type": "stream",
     "text": [
      "2012 Aiden\n",
      "2013 Yitzchak\n",
      "2014 Yidel\n",
      "2011 Yonah\n"
     ]
    }
   ],
   "source": [
    "# Assign the names_2011 dictionary as the value to the 2011 key of boy_names\n",
    "male_baby_names[2011] = male_baby_names_2011\n",
    "\n",
    "# Update the 2012 key in the boy_names dictionary\n",
    "male_baby_names[2012].update([(1, 'Casey'), (2, 'Aiden')])\n",
    "\n",
    "# Loop over the years in the boy_names dictionary \n",
    "for year in male_baby_names:\n",
    "    # Sort the data for each year by descending rank and get the lowest one\n",
    "    lowest_ranked =  sorted(male_baby_names[year], reverse=True)[0]\n",
    "    # Safely print the year and the least popular name or 'Not Available'\n",
    "    print(year, male_baby_names[year].get(lowest_ranked, 'Not Available'))"
   ]
  },
  {
   "cell_type": "markdown",
   "metadata": {},
   "source": [
    "## 02.07 Popping and deleting from dictionaries\n",
    "\n",
    "Often, you will want to remove keys and value from a dictionary. You can do so using the __del__ Python instruction. It's important to remember that __del__ will throw a __KeyError__ if the key you are trying to delete does not exist. You can not use it with the __.get()__ method to safely delete items; however, it can be used with __try: catch:__.\n",
    "\n",
    "If you want to save that deleted data into another variable for further processing, the __.pop()__ dictionary method will do just that. You can supply a default value for __.pop()__ much like you did for __.get()__ to safely deal with missing keys. It's also typical to use __.pop()__ instead of del since it is a safe method.\n",
    "\n",
    "Here, you'll remove __2011__ and __2015__ to save them for later, and then delete __2012__ from the dictionary.\n",
    "\n",
    "**Instructions**\n",
    "\n",
    "1. Remove 2011 from female_names and store it as female_names_2011.\n",
    "2. Safely remove 2015 from female_names with a empty dictionary as the default and store it as female_names_2015. To do this, pass in an empty dictionary {} as a second argument to .pop().\n",
    "3. Delete 2012 from female_names.\n",
    "4. Print female_names.\n",
    "\n",
    "**Results:**<br>\n",
    "<font color=darkgreen>Great work! As expected, only the data from the years 2013 and 2014 is retained.</font>"
   ]
  },
  {
   "cell_type": "code",
   "execution_count": 13,
   "metadata": {},
   "outputs": [
    {
     "name": "stdout",
     "output_type": "stream",
     "text": [
      "{2013: {1: 'Olivia',\n",
      "        2: 'Emma',\n",
      "        3: 'Esther',\n",
      "        4: 'Sophia',\n",
      "        5: 'Sarah',\n",
      "        6: 'Leah',\n",
      "        7: 'Rachel',\n",
      "        8: 'Chaya',\n",
      "        9: 'Miriam',\n",
      "        10: 'Chana'},\n",
      " 2014: {1: 'Olivia',\n",
      "        2: 'Esther',\n",
      "        3: 'Rachel',\n",
      "        4: 'Leah',\n",
      "        5: 'Emma',\n",
      "        6: 'Chaya',\n",
      "        7: 'Sarah',\n",
      "        8: 'Sophia',\n",
      "        9: 'Ava',\n",
      "        10: 'Miriam'}}\n"
     ]
    }
   ],
   "source": [
    "# Remove 2011 from female_names and store it: female_names_2011\n",
    "female_names_2011 = female_baby_names.pop(2011)\n",
    "\n",
    "# Safely remove 2015 from female_names with an empty dictionary as the default: female_names_2015\n",
    "female_names_2015 = female_baby_names.pop(2015, {})\n",
    "\n",
    "# Delete 2012 from female_names\n",
    "del female_baby_names[2012]\n",
    "\n",
    "# Print female_names\n",
    "pprint(female_baby_names)"
   ]
  },
  {
   "cell_type": "markdown",
   "metadata": {},
   "source": [
    "## 02.08 Pythonically using dictionaries\n",
    "\n",
    "See the video."
   ]
  },
  {
   "cell_type": "markdown",
   "metadata": {},
   "source": [
    "## 02.09 Working with dictionaries more pythonically\n",
    "\n",
    "So far, you've worked a lot with the keys of a dictionary to access data, but in Python, the preferred manner for iterating over items in a dictionary is with the __.items()__ method.\n",
    "\n",
    "This returns each key and value from the dictionary as a tuple, which you can unpack in a __for__ loop. You'll now get practice doing this.\n",
    "\n",
    "**Instructions**\n",
    "\n",
    "1. Iterate over baby_names[2014], unpacking it into rank and name.\n",
    "2. Print each rank and name.\n",
    "3. Repeat the process for baby_names[2012].\n",
    "\n",
    "**Results:**<br>\n",
    "<font color=darkgreen>Nicely done. Using the .items() method to iterate over dictionaries is something you'll be doing very frequently in Python.</font>"
   ]
  },
  {
   "cell_type": "code",
   "execution_count": 14,
   "metadata": {},
   "outputs": [
    {
     "name": "stdout",
     "output_type": "stream",
     "text": [
      "1 Joseph\n",
      "2 David\n",
      "3 Michael\n",
      "4 Moshe\n",
      "5 Jacob\n",
      "6 Benjamin\n",
      "7 Alexander\n",
      "8 Daniel\n",
      "9 Samuel\n",
      "10 Jack\n"
     ]
    }
   ],
   "source": [
    "# Iterate over the 2014 nested dictionary\n",
    "for rank, name in list(male_baby_names[2014].items())[:10]:\n",
    "    # Print rank and name\n",
    "    print(rank, name)"
   ]
  },
  {
   "cell_type": "code",
   "execution_count": 15,
   "metadata": {},
   "outputs": [],
   "source": [
    "# Iterate over the 2012 nested dictionary\n",
    "for rank, name in female_baby_names.get(2012,{}).items():\n",
    "    # Print rank and name\n",
    "    print(rank, name)"
   ]
  },
  {
   "cell_type": "markdown",
   "metadata": {},
   "source": [
    "## 02.10 Checking dictionaries for data\n",
    "\n",
    "You can check to see if a key exists in a dictionary by using the __in__ expression.\n",
    "\n",
    "For example, you can check to see if __'cookies'__ is a key in the dictionary by using __if 'cookies' in recipes_dict:__ this allows you to safely react to data being present in the dictionary.\n",
    "\n",
    "You can also use the __in__ expression so see if data is in the value of a dictionary such as __if 'cookies' in recipes_dict.values()__. Remember you have to handle nested dictionaries differently as illustrated in the video and previous exercises, and use the in expression on each nested dictionary.\n",
    "\n",
    "**Instructions**\n",
    "\n",
    "1. Check to see if 2011 is in the baby_names dictionary.\n",
    "2. Print 'Found 2011' if it is present.\n",
    "3. Check to see if 1 is in baby_names[2012].\n",
    "4. Print 'Found Rank 1 in 2012' if found and 'Rank 1 missing from 2012' if not found.\n",
    "5. Check to see if rank 5 is in baby_names[2013].\n",
    "5. Print 'Found Rank 5' if it is present.\n",
    "\n",
    "**Results:**<br>\n",
    "<font color=darkgreen>Superb! If you explore baby_names[2012] in the IPython Shell, you'll see that it is empty. Similarly, baby_names does not contain 2011.</font>"
   ]
  },
  {
   "cell_type": "code",
   "execution_count": 16,
   "metadata": {},
   "outputs": [],
   "source": [
    "female_baby_names[2012] = {}"
   ]
  },
  {
   "cell_type": "code",
   "execution_count": 17,
   "metadata": {},
   "outputs": [
    {
     "name": "stdout",
     "output_type": "stream",
     "text": [
      "Rank 1 missing from 2012\n",
      "Found Rank 5\n"
     ]
    }
   ],
   "source": [
    "# Check to see if 2011 is in baby_names\n",
    "if 2011 in female_baby_names:\n",
    "    # Print 'Found 2011'\n",
    "    print('Found 2011')\n",
    "    \n",
    "# Check to see if rank 1 is in 2012\n",
    "if 1 in female_baby_names[2012]:\n",
    "    # Print 'Found Rank 1 in 2012' if found\n",
    "    print('Found Rank 1 in 2012')\n",
    "else:\n",
    "    # Print 'Rank 1 missing from 2012' if not found\n",
    "    print('Rank 1 missing from 2012')\n",
    "    \n",
    "# Check to see if Rank 5 is in 2013\n",
    "if 5 in female_baby_names[2013]:\n",
    "   # Print 'Found Rank 5'\n",
    "   print('Found Rank 5')"
   ]
  },
  {
   "cell_type": "markdown",
   "metadata": {},
   "source": [
    "## 02.11 Working with CSV files\n",
    "\n",
    "See the video."
   ]
  },
  {
   "cell_type": "code",
   "execution_count": 18,
   "metadata": {},
   "outputs": [],
   "source": [
    "csvfile = 'data/ART_GALLERY.csv'"
   ]
  },
  {
   "cell_type": "code",
   "execution_count": 19,
   "metadata": {},
   "outputs": [
    {
     "name": "stdout",
     "output_type": "stream",
     "text": [
      "['NAME', 'TEL', 'ADDRESS1', 'ADDRESS2', 'CITY', 'ZIP']\n",
      "[\"O'reilly William & Co Ltd\", '(212) 396-1822', '52 E 76th St', '', 'New York', '10021']\n"
     ]
    }
   ],
   "source": [
    "# Reading from a file using CSV reader\n",
    "with open(csvfile, 'r') as f:\n",
    "    for row in csv.reader(f):\n",
    "        print(row)"
   ]
  },
  {
   "cell_type": "code",
   "execution_count": 20,
   "metadata": {},
   "outputs": [
    {
     "name": "stdout",
     "output_type": "stream",
     "text": [
      "{'ADDRESS1': '52 E 76th St',\n",
      " 'ADDRESS2': '',\n",
      " 'CITY': 'New York',\n",
      " 'NAME': \"O'reilly William & Co Ltd\",\n",
      " 'TEL': '(212) 396-1822',\n",
      " 'ZIP': '10021'}\n"
     ]
    }
   ],
   "source": [
    "# Creating a dictionary from a file\n",
    "with open(csvfile, 'r') as f:\n",
    "    for row in csv.DictReader(f):\n",
    "        pprint(row)"
   ]
  },
  {
   "cell_type": "markdown",
   "metadata": {},
   "source": [
    "## 02.12 Reading from a file using CSV reader\n",
    "\n",
    "Python provides a wonderful module called __csv__ to work with CSV files. You can pass the __.reader()__ method of __csv__ a Python file object and use it as you would any other iterable. To create a Python file object, you use the __open()__ function, which accepts a file name and a mode. The mode is typically __'r'__ for read or __'w'__ for write.\n",
    "\n",
    "Though you won't use it for this exercise, often CSV files will have a header row with field names, and you will need to use slice notation such as __[1:]__ to skip the header row.\n",
    "\n",
    "You'll now use the __csv__ module to read the __baby_names.csv__ file and fill the __baby_names__ dictionary with data. This __baby_names__ dictionary has already been created for you.\n",
    "\n",
    "**Instructions**\n",
    "\n",
    "1. Import the python csv module.\n",
    "2. Create a Python file object in read mode for baby_names.csv called csvfile with the open function.\n",
    "3. Use the reader method from the csv module on the file object in a for loop. Inside the loop:\n",
    "4. Print each row and add the rank (the 6th element of row) as the key and name (the 4th element of row) as the value to the existing dictionary (baby_names).\n",
    "5. Print the keys of baby_names.\n",
    "\n",
    "**Results:**<br>\n",
    "<font color=darkgreen>Fantastic work! CSV files are among the most common methods of storing tabular data, and you'll encounter them in the wild very frequently. As a result, knowing how to leverage the csv module can be a great addition to your data science toolbox.</font>"
   ]
  },
  {
   "cell_type": "code",
   "execution_count": 21,
   "metadata": {},
   "outputs": [],
   "source": [
    "baby_names = {}\n",
    "csvfile = 'data/baby_names.csv'"
   ]
  },
  {
   "cell_type": "code",
   "execution_count": 22,
   "metadata": {},
   "outputs": [
    {
     "name": "stdout",
     "output_type": "stream",
     "text": [
      "['BRITH_YEAR', 'GENDER', 'ETHNICTY', 'NAME', 'COUNT', 'RANK']\n",
      "['2011', 'FEMALE', 'HISPANIC', 'GERALDINE', '13', '75']\n",
      "['2011', 'FEMALE', 'HISPANIC', 'GIA', '21', '67']\n",
      "['2011', 'FEMALE', 'HISPANIC', 'GIANNA', '49', '42']\n",
      "['2011', 'FEMALE', 'HISPANIC', 'GISELLE', '38', '51']\n",
      "['2011', 'FEMALE', 'HISPANIC', 'GRACE', '36', '53']\n",
      "['2011', 'FEMALE', 'HISPANIC', 'GUADALUPE', '26', '62']\n",
      "['2011', 'FEMALE', 'HISPANIC', 'HAILEY', '126', '8']\n",
      "['2011', 'FEMALE', 'HISPANIC', 'HALEY', '14', '74']\n",
      "['2011', 'FEMALE', 'HISPANIC', 'HANNAH', '17', '71']\n",
      "['2011', 'FEMALE', 'HISPANIC', 'HAYLEE', '17', '71']\n",
      "dict_keys(['RANK', '75', '67', '42', '51', '53', '62', '8', '74', '71'])\n"
     ]
    }
   ],
   "source": [
    "# Create a python file object in read mode for the baby_names.csv file: csvfile\n",
    "with open(csvfile, 'r') as f:\n",
    "    # Loop over a csv reader on the file object\n",
    "    for i, row in enumerate(csv.reader(f)):\n",
    "        if i > 10:\n",
    "            break\n",
    "        else:\n",
    "            # Print each row \n",
    "            print(row)\n",
    "            # Add the rank and name to the dictionary\n",
    "            baby_names[row[5]] = row[3]\n",
    "\n",
    "# Print the dictionary keys\n",
    "print(baby_names.keys())"
   ]
  },
  {
   "cell_type": "markdown",
   "metadata": {},
   "source": [
    "## 02.13 Creating a dictionary from a file\n",
    "\n",
    "The __csv__ module also provides a way to directly create a dictionary from a CSV file with the __DictReader__ class. If the file has a header row, that row will automatically be used as the keys for the dictionary. However, if not, you can supply a list of keys to be used. Each row from the file is returned as a dictionary. Using DictReader can make it much easier to read your code and understand what data is being used, especially when compared to the numbered indexes you used in the prior exercise.\n",
    "\n",
    "Your job in this exercise is to create a dictionary directly from the data file using DictReader. __NOTE:__ The misspellings are from the original data, and this is a very common issue. Again, the baby_names dictionary has already been created for you.\n",
    "\n",
    "**Instructions**\n",
    "\n",
    "1. Import the Python csv module.\n",
    "2. Create a Python file object in read mode for the baby_names.csv called csvfile.\n",
    "3. Loop over a csv DictReader on csvfile. Inside the loop:\n",
    "4. Print each row.\n",
    "5. Add the 'RANK' of each row as the key and 'NAME' of each row as the value to the existing dictionary.\n",
    "6. Print the dictionary keys.\n",
    "\n",
    "**Results:**<br>\n",
    "<font color=darkgreen></font>"
   ]
  },
  {
   "cell_type": "code",
   "execution_count": 23,
   "metadata": {},
   "outputs": [],
   "source": [
    "baby_names = {}\n",
    "csvfile = 'data/baby_names.csv'"
   ]
  },
  {
   "cell_type": "code",
   "execution_count": 24,
   "metadata": {},
   "outputs": [
    {
     "name": "stdout",
     "output_type": "stream",
     "text": [
      "{'BRITH_YEAR': '2011', 'GENDER': 'FEMALE', 'ETHNICTY': 'HISPANIC', 'NAME': 'GERALDINE', 'COUNT': '13', 'RANK': '75'}\n",
      "{'BRITH_YEAR': '2011', 'GENDER': 'FEMALE', 'ETHNICTY': 'HISPANIC', 'NAME': 'GIA', 'COUNT': '21', 'RANK': '67'}\n",
      "{'BRITH_YEAR': '2011', 'GENDER': 'FEMALE', 'ETHNICTY': 'HISPANIC', 'NAME': 'GIANNA', 'COUNT': '49', 'RANK': '42'}\n",
      "{'BRITH_YEAR': '2011', 'GENDER': 'FEMALE', 'ETHNICTY': 'HISPANIC', 'NAME': 'GISELLE', 'COUNT': '38', 'RANK': '51'}\n",
      "{'BRITH_YEAR': '2011', 'GENDER': 'FEMALE', 'ETHNICTY': 'HISPANIC', 'NAME': 'GRACE', 'COUNT': '36', 'RANK': '53'}\n",
      "{'BRITH_YEAR': '2011', 'GENDER': 'FEMALE', 'ETHNICTY': 'HISPANIC', 'NAME': 'GUADALUPE', 'COUNT': '26', 'RANK': '62'}\n",
      "{'BRITH_YEAR': '2011', 'GENDER': 'FEMALE', 'ETHNICTY': 'HISPANIC', 'NAME': 'HAILEY', 'COUNT': '126', 'RANK': '8'}\n",
      "{'BRITH_YEAR': '2011', 'GENDER': 'FEMALE', 'ETHNICTY': 'HISPANIC', 'NAME': 'HALEY', 'COUNT': '14', 'RANK': '74'}\n",
      "{'BRITH_YEAR': '2011', 'GENDER': 'FEMALE', 'ETHNICTY': 'HISPANIC', 'NAME': 'HANNAH', 'COUNT': '17', 'RANK': '71'}\n",
      "{'BRITH_YEAR': '2011', 'GENDER': 'FEMALE', 'ETHNICTY': 'HISPANIC', 'NAME': 'HAYLEE', 'COUNT': '17', 'RANK': '71'}\n",
      "dict_keys(['75', '67', '42', '51', '53', '62', '8', '74', '71'])\n"
     ]
    }
   ],
   "source": [
    "# Create a python file object in read mode for the `baby_names.csv` file: csvfile\n",
    "with open(csvfile, 'r') as f:\n",
    "    # Loop over a DictReader on the file\n",
    "    for i, row in enumerate(csv.DictReader(f), start=1):\n",
    "        if i > 10:\n",
    "            break;\n",
    "        # Print each row \n",
    "        print(row)\n",
    "        # Add the rank and name to the dictionary: baby_names\n",
    "        baby_names[row['RANK']] = row['NAME']\n",
    "\n",
    "    # Print the dictionary keys\n",
    "    print(baby_names.keys())"
   ]
  },
  {
   "cell_type": "markdown",
   "metadata": {},
   "source": [
    "# Aditional material\n",
    "\n",
    "- **Datacamp course**: https://learn.datacamp.com/courses/data-types-for-data-science-in-python"
   ]
  }
 ],
 "metadata": {
  "kernelspec": {
   "display_name": "Python 3",
   "language": "python",
   "name": "python3"
  },
  "language_info": {
   "codemirror_mode": {
    "name": "ipython",
    "version": 3
   },
   "file_extension": ".py",
   "mimetype": "text/x-python",
   "name": "python",
   "nbconvert_exporter": "python",
   "pygments_lexer": "ipython3",
   "version": "3.8.8"
  }
 },
 "nbformat": 4,
 "nbformat_minor": 4
}
