{
 "cells": [
  {
   "cell_type": "code",
   "execution_count": 1,
   "metadata": {},
   "outputs": [],
   "source": [
    "# Import libraries\n",
    "import numpy as np\n",
    "import pandas as pd\n",
    "\n",
    "from pprint import pprint"
   ]
  },
  {
   "cell_type": "code",
   "execution_count": 2,
   "metadata": {},
   "outputs": [],
   "source": [
    "# Read data from file into list of list\n",
    "baby_records = list(np.genfromtxt('data/baby_names.csv', delimiter=',', skip_header=1,\n",
    "                                  encoding='utf-8', dtype=None))"
   ]
  },
  {
   "cell_type": "code",
   "execution_count": 3,
   "metadata": {},
   "outputs": [
    {
     "data": {
      "text/plain": [
       "[(2011, 'FEMALE', 'HISPANIC', 'GERALDINE', 13, 75),\n",
       " (2011, 'FEMALE', 'HISPANIC', 'GIA', 21, 67)]"
      ]
     },
     "execution_count": 3,
     "metadata": {},
     "output_type": "execute_result"
    }
   ],
   "source": [
    "baby_records[:2]"
   ]
  },
  {
   "cell_type": "code",
   "execution_count": 4,
   "metadata": {},
   "outputs": [
    {
     "name": "stdout",
     "output_type": "stream",
     "text": [
      "   BRITH_YEAR  GENDER  ETHNICTY       NAME  COUNT  RANK\n",
      "0        2011  FEMALE  HISPANIC  GERALDINE     13    75\n",
      "1        2011  FEMALE  HISPANIC        GIA     21    67\n",
      "2        2011  FEMALE  HISPANIC     GIANNA     49    42\n",
      "3        2011  FEMALE  HISPANIC    GISELLE     38    51\n",
      "4        2011  FEMALE  HISPANIC      GRACE     36    53\n"
     ]
    }
   ],
   "source": [
    "df = pd.read_csv('data/baby_names.csv')\n",
    "print(df.head())"
   ]
  },
  {
   "cell_type": "code",
   "execution_count": 5,
   "metadata": {},
   "outputs": [],
   "source": [
    "girl_names = list(df[df.GENDER == 'FEMALE'].NAME.unique())\n",
    "boy_names = list(df[df.GENDER == 'MALE'].NAME.unique())\n",
    "\n",
    "baby_names_2011 = set(df[(df.BRITH_YEAR.isin([2011, 2012]))].NAME.str.title())\n",
    "baby_names_2014 = set(df[(df.BRITH_YEAR.isin([2013, 2014]))].NAME.str.title())"
   ]
  },
  {
   "cell_type": "markdown",
   "metadata": {},
   "source": [
    "# 01. Fundamental data types\n",
    "\n",
    "This chapter will introduce you to the fundamental Python data types - lists, sets, and tuples. These data containers are critical as they provide the basis for storing and looping over ordered data. To make things interesting, you'll apply what you learn about these types to answer questions about the New York Baby Names dataset!"
   ]
  },
  {
   "cell_type": "markdown",
   "metadata": {},
   "source": [
    "## 01.01 Introduction and lists\n",
    "\n",
    "See the video."
   ]
  },
  {
   "cell_type": "code",
   "execution_count": 6,
   "metadata": {},
   "outputs": [
    {
     "name": "stdout",
     "output_type": "stream",
     "text": [
      "['chocolate chip', 'peanut butter', 'sugar', 'Tirggel']\n",
      "sugar\n"
     ]
    }
   ],
   "source": [
    "# Accessing single items in list\n",
    "cookies = ['chocolate chip', 'peanut butter', 'sugar']\n",
    "cookies.append('Tirggel')\n",
    "print(cookies)\n",
    "print(cookies[2])"
   ]
  },
  {
   "cell_type": "code",
   "execution_count": 7,
   "metadata": {},
   "outputs": [
    {
     "name": "stdout",
     "output_type": "stream",
     "text": [
      "['chocolate chip', 'peanut butter', 'sugar', 'Tirggel', 'strawberry', 'vanilla']\n"
     ]
    }
   ],
   "source": [
    "# Combining Lists\n",
    "cakes = ['strawberry', 'vanilla']\n",
    "desserts = cookies + cakes\n",
    "print(desserts)"
   ]
  },
  {
   "cell_type": "code",
   "execution_count": 8,
   "metadata": {},
   "outputs": [
    {
     "name": "stdout",
     "output_type": "stream",
     "text": [
      "2\n",
      "sugar\n"
     ]
    }
   ],
   "source": [
    "# Finding Elements in a List\n",
    "position = cookies.index('sugar')\n",
    "print(position)\n",
    "\n",
    "print(cookies[position])"
   ]
  },
  {
   "cell_type": "code",
   "execution_count": 9,
   "metadata": {},
   "outputs": [
    {
     "name": "stdout",
     "output_type": "stream",
     "text": [
      "sugar\n",
      "['chocolate chip', 'peanut butter', 'Tirggel']\n"
     ]
    }
   ],
   "source": [
    "# Removing Elements in a List\n",
    "name = cookies.pop(position)\n",
    "print(name)\n",
    "print(cookies)"
   ]
  },
  {
   "cell_type": "code",
   "execution_count": 10,
   "metadata": {},
   "outputs": [
    {
     "name": "stdout",
     "output_type": "stream",
     "text": [
      "chocolate chip\n",
      "peanut butter\n",
      "Tirggel\n"
     ]
    }
   ],
   "source": [
    "# Iterating over lists\n",
    "for cookie in cookies:\n",
    "    print(cookie)"
   ]
  },
  {
   "cell_type": "code",
   "execution_count": 11,
   "metadata": {},
   "outputs": [
    {
     "name": "stdout",
     "output_type": "stream",
     "text": [
      "['chocolate chip', 'peanut butter', 'Tirggel']\n",
      "['chocolate chip', 'peanut butter', 'Tirggel']\n"
     ]
    }
   ],
   "source": [
    "# Sorting lists\n",
    "print(cookies)\n",
    "\n",
    "sorted_cookies = sorted(cookies, key=str.lower)\n",
    "print(sorted_cookies)"
   ]
  },
  {
   "cell_type": "markdown",
   "metadata": {},
   "source": [
    "## 01.02 Manipulating lists for fun and profit\n",
    "\n",
    "You may be familiar with adding individual data elements to a list by using the __.append()__ method. However, if you want to combine a list with another array type (list, set, tuple), you can use the __.extend()__ method on the list.\n",
    "\n",
    "You can also use the __.index()__ method to find the position of an item in a list. You can then use that position to remove the item with the __.pop()__ method.\n",
    "\n",
    "In this exercise, you'll practice using all these methods!\n",
    "\n",
    "**Instructions**\n",
    "\n",
    "1. Create a list called baby_names with the names 'Ximena', 'Aliza', 'Ayden', and 'Calvin'.\n",
    "2. Use the .extend() method on baby_names to add 'Rowen' and 'Sandeep' and print the list.\n",
    "3. Use the .index() method to find the position of 'Aliza' in the list. Save the result as position.\n",
    "4. Use the .pop() method with position to remove 'Aliza' from the list.\n",
    "5. Print the baby_names list. This has been done for you, so hit 'Submit Answer' to see the results!\n",
    "\n",
    "**Results:**<br>\n",
    "<font color=darkgreen>Well done! Notice how the second time you print baby_names, 'Aliza' is no longer in the list.</font>"
   ]
  },
  {
   "cell_type": "code",
   "execution_count": 12,
   "metadata": {},
   "outputs": [
    {
     "name": "stdout",
     "output_type": "stream",
     "text": [
      "['Ximena', 'Aliza', 'Ayden', 'Calvin', 'Rowen', 'Sandeep']\n",
      "['Ximena', 'Ayden', 'Calvin', 'Rowen', 'Sandeep']\n"
     ]
    }
   ],
   "source": [
    "# Create a list containing the names: baby_names\n",
    "baby_names = ['Ximena', 'Aliza', 'Ayden', 'Calvin']\n",
    "\n",
    "# Extend baby_names with 'Rowen' and 'Sandeep'\n",
    "baby_names.extend(['Rowen', 'Sandeep'])\n",
    "\n",
    "# Print baby_names\n",
    "print(baby_names)\n",
    "\n",
    "# Find the position of 'Aliza': position\n",
    "position = baby_names.index('Aliza')\n",
    "\n",
    "# Remove 'Aliza' from baby_names\n",
    "_ = baby_names.pop(position)\n",
    "\n",
    "# Print baby_names\n",
    "print(baby_names)"
   ]
  },
  {
   "cell_type": "markdown",
   "metadata": {},
   "source": [
    "## 01.03 Looping over lists\n",
    "\n",
    "You can use a __for__ loop to iterate through all the items in a list. You can take that a step further with the __sorted()__ function which will sort the data in a list from lowest to highest in the case of numbers and alphabetical order if the list contains strings.\n",
    "\n",
    "The __sorted()__ function returns a new list and does not affect the list you passed into the function. You can learn more about __sorted()__ in the Python documentation (https://docs.python.org/3/library/functions.html#sorted).\n",
    "\n",
    "A list of lists, __records__ has been pre-loaded. If you explore it in the IPython Shell, you'll see that each entry is a list of this form:\n",
    "\n",
    "<code>['2011', 'FEMALE', 'HISPANIC', 'GERALDINE', '13', '75']</code>\n",
    "\n",
    "The name of the baby (__'GERALDINE'__) is the fourth entry of this list. Your job in this exercise is to loop over this list of lists and append the names of each baby to a new list called __baby_names__.\n",
    "\n",
    "**Instructions**\n",
    "\n",
    "1. Create an empty list called baby_names.\n",
    "2. Use a for loop to iterate over each row of records appending the name, found in the fourth element of row, to baby_names.\n",
    "3. Print each name in baby_names in alphabetical order. To do this:\n",
    "4. Use the sorted() function as part of a for loop to iterate over the sorted names, printing each one.\n",
    "\n",
    "**Results:**<br>\n",
    "<font color=darkgreen>Wonderful. As you can see, baby_names is now in alphabetical order.</font>"
   ]
  },
  {
   "cell_type": "code",
   "execution_count": 13,
   "metadata": {},
   "outputs": [
    {
     "name": "stdout",
     "output_type": "stream",
     "text": [
      "['AALIYAH', 'AALIYAH', 'AALIYAH', 'AALIYAH', 'AALIYAH', 'AALIYAH', 'AALIYAH', 'AALIYAH', 'AALIYAH', 'AALIYAH', 'AARAV', 'AARAV', 'AARAV', 'AARAV', 'AARAV', 'AARON', 'AARON', 'AARON', 'AARON', 'AARON', 'AARON', 'AARON', 'AARON', 'AARON', 'AARON', 'AARON', 'AARON', 'AARON', 'AARON', 'AARON']\n",
      "['Zoey', 'Zoey', 'Zoey', 'Zoey', 'Zoey', 'Zoey', 'Zoey', 'Zoya', 'Zuri', 'Zuri']\n"
     ]
    }
   ],
   "source": [
    "# Create the empty list: baby_names\n",
    "baby_names = []\n",
    "\n",
    "# Loop over records \n",
    "for row in baby_records:\n",
    "    # Add the name to the list\n",
    "    baby_names.append(row[3])\n",
    "    \n",
    "# Sort the names in alphabetical order\n",
    "sorted_baby_names = sorted(baby_names)\n",
    "\n",
    "# Print first 30 names\n",
    "print(sorted_baby_names[:30])\n",
    "\n",
    "# Print last 10 names\n",
    "print(sorted_baby_names[-10:])"
   ]
  },
  {
   "cell_type": "markdown",
   "metadata": {},
   "source": [
    "## 01.04 Meet the Tuples\n",
    "\n",
    "See the video."
   ]
  },
  {
   "cell_type": "markdown",
   "metadata": {},
   "source": [
    "## 01.05 Data type usage\n",
    "\n",
    "Which data type would you use if you wanted your data to be immutable and ordered?\n",
    "\n",
    "**Answer the question**\n",
    "1. List.\n",
    "2. String.\n",
    "__3. Tuple.__\n",
    "4. Set.\n",
    "\n",
    "**Results:**<br>\n",
    "<font color=darkgreen>Well done! Tuples are indeed immutable and ordered. You'll be using them a lot in this course!</font>"
   ]
  },
  {
   "cell_type": "markdown",
   "metadata": {},
   "source": [
    "## 01.06 Using and unpacking tuples\n",
    "\n",
    "Tuples are made of several items just like a list, but they cannot be modified in any way. It is very common for tuples to be used to represent data from a database. If you have a tuple like <code>('chocolate chip cookies', 15)</code> and you want to access each part of the data, you can use an index just like a list. However, you can also \"unpack\" the tuple into multiple variables such as type, <code>count = ('chocolate chip cookies', 15)</code> that will set type to 'chocolate chip cookies' and count to 15.\n",
    "\n",
    "Often you'll want to pair up multiple array data types. The __zip()__ function does just that. It will return a list of tuples containing one element from each list passed into __zip()__.\n",
    "\n",
    "When looping over a list, you can also track your position in the list by using the __enumerate()__ function. The function returns the index of the list item you are currently on in the list and the list item itself.\n",
    "\n",
    "You'll practice using the __enumerate()__ and __zip()__ functions in this exercise, in which your job is to pair up the most common boy and girl names. Two lists - __girl_names__ and __boy_names__ - have been pre-loaded into your workspace.\n",
    "\n",
    "**Instructions**\n",
    "\n",
    "1. Use the zip() function to pair up girl_names and boy_names into a variable called pairs.\n",
    "2. Use a for loop to loop through pairs, using enumerate() to keep track of your position. Unpack pairs into the variables idx and pair.\n",
    "3. Inside the for loop:\n",
    "4. Unpack pair into the variables girl_name and boy_name.\n",
    "5. Print the rank, girl name, and boy name, in that order. The rank is contained in idx.\n",
    "\n",
    "**Results:**<br>\n",
    "<font color=darkgreen>Excellent work! What are some of the most common girl names and boy names?</font>"
   ]
  },
  {
   "cell_type": "code",
   "execution_count": 14,
   "metadata": {},
   "outputs": [
    {
     "name": "stdout",
     "output_type": "stream",
     "text": [
      "1512 1339\n"
     ]
    }
   ],
   "source": [
    "print(len(girl_names), len(boy_names))"
   ]
  },
  {
   "cell_type": "code",
   "execution_count": 15,
   "metadata": {},
   "outputs": [
    {
     "name": "stdout",
     "output_type": "stream",
     "text": [
      "['Rank 0: GERALDINE and AARAV',\n",
      " 'Rank 1: GIA and AARON',\n",
      " 'Rank 2: GIANNA and ABDUL',\n",
      " 'Rank 3: GISELLE and ABDULLAH',\n",
      " 'Rank 4: GRACE and ADAM',\n",
      " 'Rank 5: GUADALUPE and ADITYA',\n",
      " 'Rank 6: HAILEY and ADRIAN',\n",
      " 'Rank 7: HALEY and AHMED',\n",
      " 'Rank 8: HANNAH and AIDAN',\n",
      " 'Rank 9: HAYLEE and AIDEN']\n"
     ]
    }
   ],
   "source": [
    "# Pair up the girl and boy names: pairs\n",
    "pairs = zip(girl_names, boy_names)\n",
    "\n",
    "# Iterate over pairs\n",
    "result = []\n",
    "for idx, pair in enumerate(pairs):\n",
    "    # Unpack pair: girl_name, boy_name\n",
    "    girl_name, boy_name = pair\n",
    "    # Print the rank and names associated with each rank\n",
    "    result.append('Rank {}: {} and {}'.format(idx, girl_name, boy_name))\n",
    "pprint(result[:10])"
   ]
  },
  {
   "cell_type": "markdown",
   "metadata": {},
   "source": [
    "## 01.07 Making tuples by accident\n",
    "\n",
    "Tuples are very powerful and useful, and it's super easy to make one by accident. All you have to do is create a variable and follow the assignment with a comma. This becomes an error when you try to use the variable later expecting it to be a string or a number.\n",
    "\n",
    "You can verify the data type of a variable with the __type()__ function. In this exercise, you'll see for yourself how easy it is to make a tuple by accident.\n",
    "\n",
    "**Instructions**\n",
    "\n",
    "1. Create a variable named normal and set it equal to 'simple'.\n",
    "2. Create a variable named error and set it equal 'trailing comma',.\n",
    "3. Print the type of the normal and error variables.\n",
    "\n",
    "**Results:**<br>\n",
    "<font color=darkgreen>Great work! As you can see, the trailing comma caused error to be stored as a tuple instead of as a string. Watch out for those trailing commas!</font>"
   ]
  },
  {
   "cell_type": "code",
   "execution_count": 16,
   "metadata": {},
   "outputs": [
    {
     "name": "stdout",
     "output_type": "stream",
     "text": [
      "<class 'str'>\n",
      "<class 'tuple'>\n"
     ]
    }
   ],
   "source": [
    "# Create the normal variable: normal\n",
    "normal = 'simple'\n",
    "\n",
    "# Create the mistaken variable: error\n",
    "error = 'trailing comma',\n",
    "\n",
    "# Print the types of the variables\n",
    "print(type(normal))\n",
    "print(type(error))"
   ]
  },
  {
   "cell_type": "markdown",
   "metadata": {},
   "source": [
    "## 01.08 Sets for unordered and unique data\n",
    "\n",
    "See the video."
   ]
  },
  {
   "cell_type": "code",
   "execution_count": 17,
   "metadata": {},
   "outputs": [
    {
     "name": "stdout",
     "output_type": "stream",
     "text": [
      "{'chocolate chip', 'oatmeal cream', 'peanut butter'}\n"
     ]
    }
   ],
   "source": [
    "# Creating Sets\n",
    "cookies_eaten_today = ['chocolate chip', 'peanut butter',\n",
    "                       'chocolate chip', 'oatmeal cream', 'chocolate chip']\n",
    "types_of_cookies_eaten = set(cookies_eaten_today)\n",
    "print(types_of_cookies_eaten)"
   ]
  },
  {
   "cell_type": "code",
   "execution_count": 18,
   "metadata": {},
   "outputs": [
    {
     "name": "stdout",
     "output_type": "stream",
     "text": [
      "{'chocolate chip', 'oatmeal cream', 'peanut butter', 'biscotti'}\n"
     ]
    }
   ],
   "source": [
    "# Modifying Sets\n",
    "types_of_cookies_eaten.add('biscotti')\n",
    "types_of_cookies_eaten.add('chocolate chip')\n",
    "print(types_of_cookies_eaten)"
   ]
  },
  {
   "cell_type": "code",
   "execution_count": 19,
   "metadata": {},
   "outputs": [
    {
     "name": "stdout",
     "output_type": "stream",
     "text": [
      "{'oatmeal cream', 'peanut butter', 'anzac', 'chocolate chip', 'biscotti'}\n"
     ]
    }
   ],
   "source": [
    "# Updating Sets\n",
    "cookies_hugo_ate = ['chocolate chip', 'anzac']\n",
    "types_of_cookies_eaten.update(cookies_hugo_ate)\n",
    "print(types_of_cookies_eaten)"
   ]
  },
  {
   "cell_type": "code",
   "execution_count": 20,
   "metadata": {},
   "outputs": [
    {
     "name": "stdout",
     "output_type": "stream",
     "text": [
      "{'oatmeal cream', 'peanut butter', 'anzac', 'chocolate chip'}\n",
      "oatmeal cream\n",
      "peanut butter\n",
      "{'anzac', 'chocolate chip'}\n"
     ]
    }
   ],
   "source": [
    "# Removing data from sets\n",
    "types_of_cookies_eaten.discard('biscotti')\n",
    "print(types_of_cookies_eaten)\n",
    "print(types_of_cookies_eaten.pop())\n",
    "print(types_of_cookies_eaten.pop())\n",
    "print(types_of_cookies_eaten)"
   ]
  },
  {
   "cell_type": "code",
   "execution_count": 21,
   "metadata": {},
   "outputs": [
    {
     "name": "stdout",
     "output_type": "stream",
     "text": [
      "Jason:  {'chocolate chip', 'oatmeal cream', 'peanut butter'}\n",
      "Hugo :  {'chocolate chip', 'anzac'}\n"
     ]
    }
   ],
   "source": [
    "# Two sets\n",
    "cookies_jason_ate = set(['chocolate chip', 'oatmeal cream',\n",
    "'peanut butter'])\n",
    "cookies_hugo_ate = set(['chocolate chip', 'anzac'])\n",
    "print('Jason: ', cookies_jason_ate)\n",
    "print('Hugo : ', cookies_hugo_ate)"
   ]
  },
  {
   "cell_type": "code",
   "execution_count": 22,
   "metadata": {},
   "outputs": [
    {
     "name": "stdout",
     "output_type": "stream",
     "text": [
      "Eaten by Jason and Hugo:  {'chocolate chip', 'oatmeal cream', 'peanut butter', 'anzac'}\n"
     ]
    }
   ],
   "source": [
    "# Set Operations - Similarities\n",
    "cookies_jason_ate = set(['chocolate chip', 'oatmeal cream',\n",
    "'peanut butter'])\n",
    "cookies_hugo_ate = set(['chocolate chip', 'anzac'])\n",
    "print('Eaten by Jason and Hugo: ', cookies_jason_ate.union(cookies_hugo_ate))"
   ]
  },
  {
   "cell_type": "code",
   "execution_count": 23,
   "metadata": {},
   "outputs": [
    {
     "name": "stdout",
     "output_type": "stream",
     "text": [
      "Not eaten by Hugo:  {'oatmeal cream', 'peanut butter'}\n",
      "Not eaten by Jason:  {'anzac'}\n"
     ]
    }
   ],
   "source": [
    "# Set Operations - Differences\n",
    "print('Not eaten by Hugo: ', cookies_jason_ate.difference(cookies_hugo_ate))\n",
    "print('Not eaten by Jason: ', cookies_hugo_ate.difference(cookies_jason_ate))"
   ]
  },
  {
   "cell_type": "markdown",
   "metadata": {},
   "source": [
    "## 01.09 Finding all the data and the overlapping data between sets\n",
    "\n",
    "Sets have several methods to combine, compare, and study them all based on mathematical set theory. The __.union()__ method returns a set of all the names found in the set you used the method on plus any sets passed as arguments to the method. You can also look for overlapping data in sets by using the __.intersection()__ method on a set and passing another set as an argument. It will return an empty set if nothing matches.\n",
    "\n",
    "Your job in this exercise is to find the union and intersection in the names from 2011 and 2014. For this purpose, two sets have been pre-loaded into your workspace: __baby_names_2011__ and __baby_names_2014__.\n",
    "\n",
    "One quirk in the baby names dataset is that names in 2011 and 2012 are all in upper case, while names in 2013 and 2014 are in title case (where the first letter of each name is capitalized). Consequently, if you were to compare the 2011 and 2014 data in this form, you would find no overlapping names between the two years! To remedy this, we converted the names in 2011 to title case using Python's __.title()__ method.\n",
    "\n",
    "Real-world data can often come with quirks like this - it's important to catch them to ensure your results are meaningful.\n",
    "\n",
    "**Instructions**\n",
    "\n",
    "1. Combine all the names in baby_names_2011 and baby_names_2014 by computing their union. Store the result as all_names.\n",
    "2. Print the number of names that occur in all_names. You can use the len() function to compute the number of names in all_names.\n",
    "3. Find all the names that occur in both baby_names_2011 and baby_names_2014 by computing their intersection. Store the result as overlapping_names.\n",
    "4. Print the number of names that occur in overlapping_names.\n",
    "\n",
    "**Results:**<br>\n",
    "<font color=darkgreen>Wonderful work! As you can see from the output of len(overlapping_names), there are 987 overlapping names between the two sets.</font>"
   ]
  },
  {
   "cell_type": "code",
   "execution_count": 24,
   "metadata": {},
   "outputs": [
    {
     "name": "stdout",
     "output_type": "stream",
     "text": [
      "1629\n",
      "1182\n"
     ]
    }
   ],
   "source": [
    "# Find the union: all_names\n",
    "all_names = baby_names_2011.union(baby_names_2014)\n",
    "\n",
    "# Print the count of names in all_names\n",
    "print(len(all_names))\n",
    "\n",
    "# Find the intersection: overlapping_names\n",
    "overlapping_names = baby_names_2011.intersection(baby_names_2014)\n",
    "\n",
    "# Print the count of names in overlapping_names\n",
    "print(len(overlapping_names))"
   ]
  },
  {
   "cell_type": "markdown",
   "metadata": {},
   "source": [
    "## 01.10 Determining set differences\n",
    "\n",
    "Another way of comparing sets is to use the __difference()__ method. It returns all the items found in one set but not another. It's important to remember the set you call the method on will be the one from which the items are returned. Unlike tuples, you can __add()__ items to a set. A set will only add items that do not exist in the set.\n",
    "\n",
    "In this exercise, you'll explore what names were common in 2011, but are no longer common in 2014. The set __baby_names_2014__ has been pre-loaded into your workspace. As in the previous exercise, the names have been converted to title case to ensure a proper comparison.\n",
    "\n",
    "**Instructions**\n",
    "\n",
    "1. Create an empty set called baby_names_2011. You can do this using set().\n",
    "2. Use a for loop to iterate over each row in records:\n",
    "3. If the first column of each row in records is '2011', add its fourth column to baby_names_2011. Remember that Python is 0-indexed!\n",
    "4. Find the difference between baby_names_2011 and baby_names_2014. Store the result as differences.\n",
    "5. Print the differences. This has been done for you, so hit 'Submit Answer' to see the result!\n",
    "\n",
    "**Results:**<br>\n",
    "<font color=darkgreen>Excellent work, and congratulations, you've completed Chapter 1! Having learned about lists, tuples, and sets, you're now ready to learn all about dictionaries. See you in Chapter 2!</font>"
   ]
  },
  {
   "cell_type": "code",
   "execution_count": 25,
   "metadata": {},
   "outputs": [
    {
     "name": "stdout",
     "output_type": "stream",
     "text": [
      "1206\n"
     ]
    }
   ],
   "source": [
    "# Create the empty set: baby_names_2011\n",
    "baby_names_2011 = set()\n",
    "\n",
    "# Loop over records and add the names from 2011 to the baby_names_2011 set\n",
    "for row in baby_records:\n",
    "    # Check if the first column is '2011'\n",
    "    if row[0] == 2011:\n",
    "        # Add the fourth column to the set\n",
    "        baby_names_2011.add(row[3])\n",
    "\n",
    "# Find the difference between 2011 and 2014: differences\n",
    "differences = baby_names_2011.difference(baby_names_2014)\n",
    "\n",
    "# Print the differences\n",
    "print(len(differences))"
   ]
  },
  {
   "cell_type": "markdown",
   "metadata": {},
   "source": [
    "# Aditional material\n",
    "\n",
    "- **Datacamp course**: https://learn.datacamp.com/courses/data-types-for-data-science-in-python\n",
    "- **Sorted**: https://docs.python.org/3/library/functions.html#sorted\n",
    "- **Example of sorted**: https://docs.python.org/3/howto/sorting.html#sortinghowto"
   ]
  }
 ],
 "metadata": {
  "kernelspec": {
   "display_name": "Python 3",
   "language": "python",
   "name": "python3"
  },
  "language_info": {
   "codemirror_mode": {
    "name": "ipython",
    "version": 3
   },
   "file_extension": ".py",
   "mimetype": "text/x-python",
   "name": "python",
   "nbconvert_exporter": "python",
   "pygments_lexer": "ipython3",
   "version": "3.8.8"
  }
 },
 "nbformat": 4,
 "nbformat_minor": 4
}
