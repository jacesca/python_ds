{
 "cells": [
  {
   "cell_type": "code",
   "execution_count": 1,
   "metadata": {},
   "outputs": [],
   "source": [
    "# Import libraries\n",
    "from collections import Counter\n",
    "from collections import defaultdict\n",
    "from collections import OrderedDict\n",
    "from collections import namedtuple\n",
    "\n",
    "from pprint import pprint\n",
    "from datetime import datetime\n",
    "\n",
    "import pandas as pd"
   ]
  },
  {
   "cell_type": "code",
   "execution_count": 2,
   "metadata": {},
   "outputs": [
    {
     "name": "stdout",
     "output_type": "stream",
     "text": [
      "   station_id         stationname        date         daytype  rides\n",
      "0       40010  Austin-Forest Park  01/01/2015  SUNDAY/HOLIDAY    587\n",
      "1       40010  Austin-Forest Park  01/02/2015         WEEKDAY   1386\n",
      "2       40010  Austin-Forest Park  01/03/2015        SATURDAY    785\n",
      "3       40010  Austin-Forest Park  01/04/2015  SUNDAY/HOLIDAY    625\n",
      "4       40010  Austin-Forest Park  01/05/2015         WEEKDAY   1752\n"
     ]
    }
   ],
   "source": [
    "# Read data from file into list of list\n",
    "df = pd.read_csv('data/cta_daily_station_totals.csv')\n",
    "print(df.head())"
   ]
  },
  {
   "cell_type": "code",
   "execution_count": 3,
   "metadata": {},
   "outputs": [],
   "source": [
    "#stations = ['stationname'] + df.stationname.to_list()\n",
    "stations = df.stationname.to_list()\n",
    "entries = list(df[['date', 'stationname', 'rides']].to_records(index=False))\n",
    "entries_Austin_Forest_Park = list(df[df.stationname == 'Austin-Forest Park'][['date', 'rides']].to_records(index=False))"
   ]
  },
  {
   "cell_type": "markdown",
   "metadata": {},
   "source": [
    "# 03. Meet the collections module\n",
    "\n",
    "The collections module is part of Python's standard library and holds some more advanced data containers. You'll learn how to use the Counter, defaultdict, OrderedDict and namedtuple in the context of answering questions about the Chicago transit dataset."
   ]
  },
  {
   "cell_type": "markdown",
   "metadata": {},
   "source": [
    "## 03.01 Counting made easy\n",
    "\n",
    "See the video."
   ]
  },
  {
   "cell_type": "code",
   "execution_count": 4,
   "metadata": {},
   "outputs": [
    {
     "name": "stdout",
     "output_type": "stream",
     "text": [
      "Counter({'Mobile Food Truck': 10, 'Food Cart': 7, 'Snack Bar': 5, 'Restaurant': 3, 'Fruit & Vegetable Cart': 1})\n",
      "3\n"
     ]
    }
   ],
   "source": [
    "nyc_eatery_types = ['Mobile Food Truck', 'Mobile Food Truck', 'Mobile Food Truck', 'Mobile Food Truck', 'Mobile Food Truck', \n",
    "                    'Mobile Food Truck', 'Mobile Food Truck', 'Mobile Food Truck', 'Mobile Food Truck', 'Mobile Food Truck', \n",
    "                    'Food Cart', 'Food Cart', 'Food Cart', 'Food Cart', 'Food Cart', 'Food Cart', 'Food Cart', 'Snack Bar', \n",
    "                    'Snack Bar', 'Snack Bar', 'Snack Bar', 'Snack Bar', 'Restaurant', 'Restaurant', 'Restaurant', \n",
    "                    'Fruit & Vegetable Cart']\n",
    "\n",
    "nyc_eatery_count_by_types = Counter(nyc_eatery_types)\n",
    "print(nyc_eatery_count_by_types)\n",
    "\n",
    "print(nyc_eatery_count_by_types['Restaurant'])"
   ]
  },
  {
   "cell_type": "markdown",
   "metadata": {},
   "source": [
    "## 03.02 Using Counter on lists\n",
    "\n",
    "__Counter__ is a powerful tool for counting, validating, and learning more about the elements within a dataset that is found in the __collections__ module. You pass an iterable (list, set, tuple) or a dictionary to the __Counter__. You can also use the __Counter__ object similarly to a dictionary with key/value assignment, for example __counter[key] = value__.\n",
    "\n",
    "A common usage for __Counter__ is checking data for consistency prior to using it, so let's do just that. In this exercise, you'll be using data from the Chicago Transit Authority on ridership.\n",
    "\n",
    "**Instructions**\n",
    "\n",
    "1. Import the Counter object from collections.\n",
    "2. Print the first ten items from the stations list.\n",
    "3. Create a Counter of the stations list called station_count.\n",
    "4. Print the station_count.\n",
    "\n",
    "**Results:**<br>\n",
    "<font color=darkgreen>Great work!</font>"
   ]
  },
  {
   "cell_type": "code",
   "execution_count": 5,
   "metadata": {},
   "outputs": [
    {
     "name": "stdout",
     "output_type": "stream",
     "text": [
      "['Austin-Forest Park', 'Austin-Forest Park', 'Austin-Forest Park', 'Austin-Forest Park', 'Austin-Forest Park', 'Austin-Forest Park', 'Austin-Forest Park', 'Austin-Forest Park', 'Austin-Forest Park', 'Austin-Forest Park']\n",
      "Counter({'Austin-Forest Park': 700,\n",
      "         'Harlem-Lake': 700,\n",
      "         'Pulaski-Lake': 700,\n",
      "         'Quincy/Wells': 700,\n",
      "         'Davis': 700,\n",
      "         \"Belmont-O'Hare\": 700,\n",
      "         'Jackson/Dearborn': 700,\n",
      "         'Sheridan': 700,\n",
      "         'Damen-Brown': 700,\n",
      "         'Morse': 700,\n",
      "         '35th/Archer': 700,\n",
      "         '51st': 700,\n",
      "         'Dempster-Skokie': 700,\n",
      "         'Pulaski-Cermak': 700,\n",
      "         'LaSalle/Van Buren': 700,\n",
      "         'Ashland-Lake': 700,\n",
      "         'Oak Park-Forest Park': 700,\n",
      "         'Sox-35th-Dan Ryan': 700,\n",
      "         'Randolph/Wabash': 700,\n",
      "         'Damen-Cermak': 700,\n",
      "         'Western-Forest Park': 700,\n",
      "         'Cumberland': 700,\n",
      "         '79th': 700,\n",
      "         'Kedzie-Homan-Forest Park': 700,\n",
      "         'State/Lake': 700,\n",
      "         'Main': 700,\n",
      "         'Central-Lake': 700,\n",
      "         'Ashland/63rd': 700,\n",
      "         'Indiana': 700,\n",
      "         'Western-Orange': 700,\n",
      "         'Division/Milwaukee': 700,\n",
      "         'Grand/State': 700,\n",
      "         'Berwyn': 700,\n",
      "         'UIC-Halsted': 700,\n",
      "         'Southport': 700,\n",
      "         'Washington/Dearborn': 700,\n",
      "         'Clark/Lake': 700,\n",
      "         'Forest Park': 700,\n",
      "         'Noyes': 700,\n",
      "         'Cicero-Cermak': 700,\n",
      "         'Clinton-Forest Park': 700,\n",
      "         'California-Cermak': 700,\n",
      "         '95th/Dan Ryan': 700,\n",
      "         'Merchandise Mart': 700,\n",
      "         'Racine': 700,\n",
      "         'Cicero-Lake': 700,\n",
      "         'Grand/Milwaukee': 700,\n",
      "         'Garfield-South Elevated': 700,\n",
      "         'Foster': 700,\n",
      "         'Diversey': 700,\n",
      "         'Wilson': 700,\n",
      "         \"Irving Park-O'Hare\": 700,\n",
      "         'Jackson/State': 700,\n",
      "         'California/Milwaukee': 700,\n",
      "         '54th/Cermak': 700,\n",
      "         'Damen/Milwaukee': 700,\n",
      "         'Kostner': 700,\n",
      "         'Ridgeland': 700,\n",
      "         'Clark/Division': 700,\n",
      "         'Madison/Wabash': 700,\n",
      "         'North/Clybourn': 700,\n",
      "         'Armitage': 700,\n",
      "         'Western/Milwaukee': 700,\n",
      "         'Adams/Wabash': 700,\n",
      "         'Dempster': 700,\n",
      "         'Laramie': 700,\n",
      "         'Chicago/Franklin': 700,\n",
      "         'East 63rd-Cottage Grove': 700,\n",
      "         'Washington/Wells': 700,\n",
      "         'Western-Cermak': 700,\n",
      "         \"Harlem-O'Hare\": 700,\n",
      "         'Granville': 700,\n",
      "         'Lawrence': 700,\n",
      "         'Central Park': 700,\n",
      "         'Monroe/Dearborn': 700,\n",
      "         'Sedgwick': 700,\n",
      "         'Medical Center': 700,\n",
      "         'Rosemont': 700,\n",
      "         '18th': 700,\n",
      "         'South Boulevard': 700,\n",
      "         'Library': 700,\n",
      "         'Francisco': 700,\n",
      "         'Thorndale': 700,\n",
      "         \"O'Hare Airport\": 700,\n",
      "         'Howard': 700,\n",
      "         '63rd-Dan Ryan': 700,\n",
      "         'Pulaski-Forest Park': 700,\n",
      "         'Midway Airport': 700,\n",
      "         'Halsted/63rd': 700,\n",
      "         'Pulaski-Orange': 700,\n",
      "         'Cicero-Forest Park': 700,\n",
      "         'Harlem-Forest Park': 700,\n",
      "         '69th': 700,\n",
      "         'Cermak-Chinatown': 700,\n",
      "         'Rockwell': 700,\n",
      "         'Logan Square': 700,\n",
      "         'Polk': 700,\n",
      "         'Kedzie-Cermak': 700,\n",
      "         'Linden': 700,\n",
      "         'Ashland-Orange': 700,\n",
      "         'Kedzie-Lake': 700,\n",
      "         '47th-South Elevated': 700,\n",
      "         'Monroe/State': 700,\n",
      "         '35-Bronzeville-IIT': 700,\n",
      "         'Halsted-Orange': 700,\n",
      "         'King Drive': 700,\n",
      "         'Kedzie-Midway': 700,\n",
      "         'Clinton-Lake': 700,\n",
      "         'Garfield-Dan Ryan': 700,\n",
      "         'Kedzie-Brown': 700,\n",
      "         'Jarvis': 700,\n",
      "         'Argyle': 700,\n",
      "         'Wellington': 700,\n",
      "         'Fullerton': 700,\n",
      "         '47th-Dan Ryan': 700,\n",
      "         \"Addison-O'Hare\": 700,\n",
      "         'Central-Evanston': 700,\n",
      "         'Austin-Lake': 700,\n",
      "         '43rd': 700,\n",
      "         'Jefferson Park': 700,\n",
      "         'Kimball': 700,\n",
      "         'Loyola': 700,\n",
      "         'Paulina': 700,\n",
      "         'Belmont-North Main': 700,\n",
      "         \"Montrose-O'Hare\": 700,\n",
      "         'LaSalle': 700,\n",
      "         'Oak Park-Lake': 700,\n",
      "         'California-Lake': 700,\n",
      "         'Bryn Mawr': 700,\n",
      "         'Roosevelt': 700,\n",
      "         'Chicago/Milwaukee': 700,\n",
      "         'Addison-North Main': 700,\n",
      "         '87th': 700,\n",
      "         'Addison-Brown': 700,\n",
      "         'Chicago/State': 700,\n",
      "         'Irving Park-Brown': 700,\n",
      "         'Western-Brown': 700,\n",
      "         'Harrison': 700,\n",
      "         'Montrose-Brown': 700,\n",
      "         'Morgan-Lake': 700,\n",
      "         'Lake/State': 700,\n",
      "         'Conservatory': 700,\n",
      "         'Oakton-Skokie': 700,\n",
      "         'Cermak-McCormick Place': 700})\n"
     ]
    }
   ],
   "source": [
    "# Print the first ten items from the stations list\n",
    "print(stations[:10])\n",
    "\n",
    "# Create a Counter of the stations list: station_count\n",
    "station_count = Counter(stations)\n",
    "\n",
    "# Print the station_count\n",
    "pprint(station_count)"
   ]
  },
  {
   "cell_type": "markdown",
   "metadata": {},
   "source": [
    "## 03.03 Finding most common elements\n",
    "\n",
    "Another powerful usage of __Counter__ is finding the most common elements in a list. This can be done with the __.most_common()__ method.\n",
    "\n",
    "Practice using this now to find the most common stations in a stations list.\n",
    "\n",
    "**Instructions**\n",
    "\n",
    "1. Import the Counter object from collections.\n",
    "2. Create a Counter of the stations list called station_count.\n",
    "3. Print the 5 most common elements.\n",
    "\n",
    "**Results:**<br>\n",
    "<font color=darkgreen>Great work!</font>"
   ]
  },
  {
   "cell_type": "code",
   "execution_count": 6,
   "metadata": {},
   "outputs": [
    {
     "name": "stdout",
     "output_type": "stream",
     "text": [
      "[('Austin-Forest Park', 700), ('Harlem-Lake', 700), ('Pulaski-Lake', 700), ('Quincy/Wells', 700), ('Davis', 700)]\n"
     ]
    }
   ],
   "source": [
    "# Find the 5 most common elements\n",
    "print(station_count.most_common(5))"
   ]
  },
  {
   "cell_type": "markdown",
   "metadata": {},
   "source": [
    "## 03.04 Dictionaries of unknown structure - Defaultdict\n",
    "\n",
    "See the video."
   ]
  },
  {
   "cell_type": "markdown",
   "metadata": {},
   "source": [
    "## 03.05 Creating dictionaries of an unknown structure\n",
    "\n",
    "Occasionally, you'll need a structure to hold nested data, and you may not be certain that the keys will all actually exist. This can be an issue if you're trying to append items to a list for that key. You might remember the NYC data that we explored in the video. In order to solve the problem with a regular dictionary, you'll need to test that the key exists in the dictionary, and if not, add it with an empty list.\n",
    "\n",
    "You'll be working with a list of entries that contains ridership details on the Chicago transit system. You're going to solve this same type of problem with a much easier solution in the next exercise.\n",
    "\n",
    "**Instructions**\n",
    "\n",
    "1. Create an empty dictionary called ridership.\n",
    "2. Iterate over entries, unpacking it into the variables date, stop, and riders.\n",
    "3. Check to see if the date already exists in the ridership dictionary. If it does not exist, create an empty list for the date key.\n",
    "4. Append a tuple consisting of stop and riders to the date key of the ridership dictionary.\n",
    "5. Print the ridership for '03/09/2016'.\n",
    "\n",
    "**Results:**<br>\n",
    "<font color=darkgreen>Nicely done! In the next exercise, you'll practice creating a defaultdict and see how useful it can be.</font>"
   ]
  },
  {
   "cell_type": "code",
   "execution_count": 7,
   "metadata": {},
   "outputs": [
    {
     "name": "stdout",
     "output_type": "stream",
     "text": [
      "[('Austin-Forest Park', 2128),\n",
      " ('Harlem-Lake', 3769),\n",
      " ('Pulaski-Lake', 1502),\n",
      " ('Quincy/Wells', 8139),\n",
      " ('Davis', 3656),\n",
      " (\"Belmont-O'Hare\", 5294),\n",
      " ('Jackson/Dearborn', 8369),\n",
      " ('Sheridan', 5823),\n",
      " ('Damen-Brown', 3048),\n",
      " ('Morse', 4826)]\n"
     ]
    }
   ],
   "source": [
    "# Create an empty dictionary: ridership\n",
    "ridership = {}\n",
    "\n",
    "# Iterate over the entries\n",
    "for date, stop, riders in entries:\n",
    "    # Check to see if date is already in the ridership dictionary\n",
    "    if date not in ridership:\n",
    "        # Create an empty list for any missing date\n",
    "        ridership[date] = []\n",
    "    # Append the stop and riders as a tuple to the date keys list\n",
    "    ridership[date].append((stop, riders))\n",
    "    \n",
    "# Print the ridership for '03/09/2016'\n",
    "pprint(ridership['03/09/2016'][:10])"
   ]
  },
  {
   "cell_type": "markdown",
   "metadata": {},
   "source": [
    "## 03.06 Safely appending to a key's value list\n",
    "\n",
    "Often when working with dictionaries, you will need to initialize a data type before you can use it. A prime example of this is a list, which has to be initialized on each key before you can append to that list.\n",
    "\n",
    "A __defaultdict__ allows you to define what each uninitialized key will contain. When establishing a __defaultdict__, you pass it the type you want it to be, such as a __list__, __tuple__, __set__, __int__, __string__, __dictionary__ or any other valid type object.\n",
    "\n",
    "**Instructions**\n",
    "\n",
    "1. Import defaultdict from collections.\n",
    "2. Create a defaultdict with a default type of list called ridership.\n",
    "3. Iterate over the list entries, unpacking it into the variables date, stop, and riders, exactly as you did in the previous exercise.\n",
    "4. Use stop as the key of the ridership dictionary and append riders to its value.\n",
    "5. Print the first 10 items of the ridership dictionary. You can use the .items() method for this. Remember, you have to convert ridership.items() to a list before slicing.\n",
    "\n",
    "**Results:**<br>\n",
    "<font color=darkgreen>Great work!</font>"
   ]
  },
  {
   "cell_type": "code",
   "execution_count": 8,
   "metadata": {},
   "outputs": [
    {
     "name": "stdout",
     "output_type": "stream",
     "text": [
      "[('Austin-Forest Park', [587, 1386, 785, 625, 1752, 1777, 1269, 1435, 1631, 771, 588, 2065, 2108, 2012, 2069, 2003, 953, 706, 1216, 2115, 2132, 2185, 2072, 854, 585, 2095, 2251, 2133, 2083, 2074, 953, 596, 1583, 2263, 2179, 2105, 2076, 1049, 612, 2095, 2191, 2117, 1931, 1943, 800, 584, 1434, 2078, 1869, 1455, 1830, 841, 621, 1884, 2100, 2046, 2066, 2016, 875, 615, 1975, 2391, 2058, 2035, 2008, 989, 635, 2105, 2148, 2152, 2155, 2182, 1340, 718, 2191, 2220, 2154, 2248, 2183, 1073, 664, 1924, 2060, 2049, 2138, 1930, 972, 693, 2059, 2060, 2120, 2062, 1751, 928, 664, 2047, 2032, 2030, 1899, 2096, 1012, 688, 2090, 2160, 2182, 2184, 2235, 1060, 732, 2090, 2161, 2115, 2203, 2180, 885, 738, 2152, 2175, 2230, 2218, 2320, 1207, 773, 2171, 2090, 2225, 2333, 2098, 1042, 678, 2048, 2097, 2118, 2198, 2273, 1095, 779, 2103, 2119, 2090, 2206, 2081, 1095, 767, 795, 2025, 2171, 2271, 2175, 910, 668, 2148, 2110, 2198, 2152, 2138, 1129, 773, 2041, 2156, 2172, 2093, 2010, 1225, 843, 2006, 2126, 2062, 2341, 2022, 1134, 832, 1938, 2142, 2117, 2076, 1932, 1155, 1172, 2022, 2097, 2152, 2093, 1445, 1205, 884, 1946, 2044, 2146, 2247, 2226, 1162, 1039, 1983, 2094, 2175, 2037, 2106, 1086, 877, 2031, 2141, 2125, 2190, 2192, 1207, 757, 2038, 2164, 2177, 2066, 2181, 1247, 974, 1997, 2118, 2102, 2119, 2072, 1082, 752, 1926, 2152, 2075, 2086, 2086, 1129, 850, 2026, 2021, 2055, 2120, 2099, 1162, 813, 2195, 2333, 2267, 2253, 2148, 976, 836, 2221, 2401, 2177, 2356, 2160, 1043, 897, 787, 2197, 2366, 2335, 2215, 1055, 787, 2296, 2391, 2359, 2367, 2187, 1103, 837, 2286, 2424, 2321, 2333, 2231, 1164, 773, 2393, 2391, 2435, 2489, 2305, 1031, 757, 2366, 2457, 2435, 2400, 2458, 1083, 890, 2038, 2438, 2386, 2467, 2245, 1078, 752, 2237, 2437, 2461, 2345, 2336, 1035, 735, 2299, 2351, 2349, 2344, 2264, 937, 788, 2284, 2256, 2426, 2383, 2245, 1086, 799, 2227, 2399, 2038, 2363, 2156, 1005, 709, 2229, 2233, 2319, 2207, 2103, 947, 631, 2142, 2229, 1887, 642, 971, 852, 666, 2098, 2192, 2237, 2200, 2168, 1059, 820, 1992, 2130, 2172, 2192, 2213, 1261, 715, 1904, 2049, 2056, 2082, 1944, 834, 715, 1664, 1820, 1585, 1022, 523, 774, 650, 1300, 1512, 1534, 1418, 586, 799, 599, 1835, 1891, 1974, 1983, 1938, 823, 502, 1865, 1939, 1907, 2095, 1979, 855, 493, 883, 1968, 2044, 2078, 2021, 804, 609, 2053, 2065, 2145, 2118, 1993, 879, 664, 2128, 2013, 2158, 2167, 1970, 950, 643, 1988, 2023, 2038, 2041, 1766, 782, 601, 1384, 1995, 2080, 2098, 2172, 1051, 671, 1995, 2111, 2084, 2107, 2002, 940, 749, 1941, 2056, 2061, 2048, 1950, 895, 649, 2004, 2148, 2128, 2079, 2097, 1129, 634, 2056, 2001, 2104, 2193, 2104, 929, 707, 1869, 2000, 1927, 1826, 1586, 881, 590, 1899, 2037, 2071, 2061, 1992, 1014, 884, 2005, 2126, 2055, 2114, 1990, 927, 669, 2072, 2131, 2235, 2184, 2126, 1193, 918, 2063, 2088, 2105, 2126, 1978, 1054, 861, 2066, 2152, 2056, 2154, 2173, 956, 748, 2017, 2129, 2066, 2276, 2151, 1142, 797, 1897, 1912, 2054, 2000, 1993, 1035, 847, 2020, 2099, 2113, 2110, 2048, 1234, 881, 2038, 2122, 2078, 2172, 1977, 1069, 895, 878, 2030, 2136, 2211, 2222, 1041, 925, 2036, 2189, 2190, 2065, 2239, 1130, 837, 2063, 2153, 2119, 2184, 2050, 1097, 774, 2043, 2162, 1946, 2074, 2127, 1101, 903, 1955, 2153, 2116, 2190, 2005, 1013, 810, 894, 1910, 2038, 2171, 2047, 1180, 887, 2009, 2084, 2090, 2101, 2137, 1101, 835, 2015, 2256, 2152, 2102, 2061, 1054, 775, 1913, 2104, 2160, 2159, 2223, 1080, 847, 1969, 2070, 2084, 2148, 2076, 1093, 803, 1919, 2108, 2107, 2094, 1836, 1099, 846, 1916, 2134, 2107, 2002, 2091, 1055, 909, 2067, 2243, 2102, 2081, 2128, 1000, 743, 2217, 2225, 2261, 2322, 2245, 1079, 872, 833, 2313, 2307, 2318, 2267, 1036, 778, 2294, 2356, 2387, 2411, 2279, 1077, 774, 2299, 2420, 2266, 2359, 2302, 1086, 815, 2278, 2398, 2209, 2218, 2186, 943, 715, 2222, 2415, 2402, 2219, 2310, 1068, 930, 1860, 2309, 2346, 2295, 2321, 1101, 770, 2285, 2353, 2389, 2238, 2143, 1101, 704, 2215, 2267, 2227, 2315, 2218, 1033, 733, 2136, 2326, 2338, 2286, 3226, 1040, 729, 2200, 2231, 2311, 2230, 1896, 991, 705, 2257, 2330, 2353, 2324, 2152, 1031, 640, 2179, 2195, 1763, 564, 1002, 847, 630, 2015, 2224, 2197])]\n"
     ]
    }
   ],
   "source": [
    "# Create a defaultdict with a default type of list: ridership\n",
    "ridership = defaultdict(list)\n",
    "\n",
    "# Iterate over the entries\n",
    "for date, stop, riders in entries:\n",
    "    # Use the stop as the key of ridership and append the riders to its value\n",
    "    ridership[stop].append(riders)\n",
    "    \n",
    "# Print the first 10 items of the ridership dictionary\n",
    "print(list(ridership.items())[:1])"
   ]
  },
  {
   "cell_type": "markdown",
   "metadata": {},
   "source": [
    "## 03.07 Maintaining Dictionary Order with OrderedDict\n",
    "\n",
    "See the video."
   ]
  },
  {
   "cell_type": "markdown",
   "metadata": {},
   "source": [
    "## 03.08 Working with OrderedDictionaries\n",
    "\n",
    "Recently in Python 3.6, dictionaries were made to maintain the order in which the keys were inserted; however, in all versions prior to that you need to use an __OrderedDict__ to maintain insertion order.\n",
    "\n",
    "Let's create a dictionary of all the stop times by route and rider, then use it to find the ridership throughout the day.\n",
    "\n",
    "**Instructions**\n",
    "\n",
    "1. Import OrderedDict from collections.\n",
    "2. Create an OrderedDict called ridership_date.\n",
    "3. Iterate over the list entries, unpacking it into date and riders.\n",
    "4. If a key does not exist in ridership_date for the date, set it equal to 0 (if only you could use defaultdict here!)\n",
    "5. Add riders to the date key of ridership_date.\n",
    "5. Print the first 31 records. Remember to convert the items into a list.\n",
    "\n",
    "**Results:**<br>\n",
    "<font color=darkgreen>Great work using the OrderedDict! Do you see any interesting patterns in the ridership in January 2015?</font>"
   ]
  },
  {
   "cell_type": "code",
   "execution_count": 9,
   "metadata": {},
   "outputs": [
    {
     "name": "stdout",
     "output_type": "stream",
     "text": [
      "[(('01/01/2015', 'Thu'), 587),\n",
      " (('01/02/2015', 'Fri'), 1386),\n",
      " (('01/03/2015', 'Sat'), 785),\n",
      " (('01/04/2015', 'Sun'), 625),\n",
      " (('01/05/2015', 'Mon'), 1752),\n",
      " (('01/06/2015', 'Tue'), 1777),\n",
      " (('01/07/2015', 'Wed'), 1269),\n",
      " (('01/08/2015', 'Thu'), 1435),\n",
      " (('01/09/2015', 'Fri'), 1631),\n",
      " (('01/10/2015', 'Sat'), 771),\n",
      " (('01/11/2015', 'Sun'), 588),\n",
      " (('01/12/2015', 'Mon'), 2065),\n",
      " (('01/13/2015', 'Tue'), 2108),\n",
      " (('01/14/2015', 'Wed'), 2012),\n",
      " (('01/15/2015', 'Thu'), 2069),\n",
      " (('01/16/2015', 'Fri'), 2003),\n",
      " (('01/17/2015', 'Sat'), 953),\n",
      " (('01/18/2015', 'Sun'), 706),\n",
      " (('01/19/2015', 'Mon'), 1216),\n",
      " (('01/20/2015', 'Tue'), 2115),\n",
      " (('01/21/2015', 'Wed'), 2132),\n",
      " (('01/22/2015', 'Thu'), 2185),\n",
      " (('01/23/2015', 'Fri'), 2072),\n",
      " (('01/24/2015', 'Sat'), 854),\n",
      " (('01/25/2015', 'Sun'), 585),\n",
      " (('01/26/2015', 'Mon'), 2095),\n",
      " (('01/27/2015', 'Tue'), 2251),\n",
      " (('01/28/2015', 'Wed'), 2133),\n",
      " (('01/29/2015', 'Thu'), 2083),\n",
      " (('01/30/2015', 'Fri'), 2074),\n",
      " (('01/31/2015', 'Sat'), 953)]\n"
     ]
    }
   ],
   "source": [
    "# Create an OrderedDict called: ridership_date\n",
    "ridership_date = OrderedDict()\n",
    "\n",
    "# Iterate over the entries\n",
    "for date, riders in entries_Austin_Forest_Park:\n",
    "    day = datetime.strptime(date, \"%m/%d/%Y\").strftime(\"%a\")\n",
    "    date_day = (date, day)\n",
    "    \n",
    "    # If a key does not exist in ridership_date, set it to 0\n",
    "    if date_day not in ridership_date:\n",
    "        ridership_date[date_day] = 0\n",
    "        \n",
    "    # Add riders to the date key in ridership_date\n",
    "    ridership_date[date_day] += riders\n",
    "    \n",
    "# Print the first 31 records\n",
    "pprint(list(ridership_date.items())[:31])"
   ]
  },
  {
   "cell_type": "markdown",
   "metadata": {},
   "source": [
    "## 03.09 Powerful Ordered popping\n",
    "\n",
    "Where OrderedDicts really shine is when you need to access the data in the dictionary in the order you added it. OrderedDict has a __.popitem()__ method that will return items in reverse of which they were inserted. You can also pass __.popitem()__ the __last=False__ keyword argument and go through the items in the order of how they were added.\n",
    "\n",
    "Here, you'll use the ridership_date OrderedDict you created in the previous exercise.\n",
    "\n",
    "**Instructions**\n",
    "\n",
    "1. Print the first key in ridership_date (Remember to make keys a list before slicing).\n",
    "2. Pop the first item from ridership_date and print it.\n",
    "3. Print the last key in ridership_date.\n",
    "4. Pop the last item from ridership_date and print it.\n",
    "\n",
    "**Results:**<br>\n",
    "<font color=darkgreen>Wonderful work!</font>"
   ]
  },
  {
   "cell_type": "code",
   "execution_count": 10,
   "metadata": {},
   "outputs": [
    {
     "name": "stdout",
     "output_type": "stream",
     "text": [
      "('01/01/2015', 'Thu')\n",
      "(('01/01/2015', 'Thu'), 587)\n",
      "('11/30/2016', 'Wed')\n",
      "(('11/30/2016', 'Wed'), 2197)\n"
     ]
    }
   ],
   "source": [
    "# Print the first key in ridership_date\n",
    "print(list(ridership_date.keys())[0])\n",
    "\n",
    "# Pop the first item from ridership_date and print it\n",
    "print(ridership_date.popitem(last=False))\n",
    "\n",
    "# Print the last key in ridership_date\n",
    "print(list(ridership_date.keys())[-1])\n",
    "\n",
    "# Pop the last item from ridership_date and print it\n",
    "print(ridership_date.popitem())"
   ]
  },
  {
   "cell_type": "markdown",
   "metadata": {},
   "source": [
    "## 03.10 What do you mean I don't have any class? Namedtuple\n",
    "\n",
    "See the video."
   ]
  },
  {
   "cell_type": "markdown",
   "metadata": {},
   "source": [
    "## 03.11 Creating namedtuples for storing data\n",
    "\n",
    "Often times when working with data, you will use a dictionary just so you can use key names to make reading the code and accessing the data easier to understand. Python has another container called a __namedtuple__ that is a tuple, but has names for each position of the tuple. You create one by passing a name for the tuple type and a list of field names.\n",
    "\n",
    "For example, __Cookie = namedtuple(\"Cookie\", ['name', 'quantity'])__ will create a container, and you can create new ones of the type using __Cookie('chocolate chip', 1)__ where you can access the name using the __name__ attribute, and then get the quantity using the __quantity__ attribute.\n",
    "\n",
    "In this exercise, you're going to restructure the transit data you've been working with into namedtuples for more descriptive code.\n",
    "\n",
    "**Instructions**\n",
    "\n",
    "1. Import namedtuple from collections.\n",
    "2. Create a namedtuple called DateDetails with a type name of DateDetails and fields of 'date', 'stop', and 'riders'.\n",
    "3. Create a list called labeled_entries.\n",
    "4. Iterate over the entries list, unpacking it into date, stop, and riders.\n",
    "5. Create a new DateDetails namedtuple instance for each entry and append it to labeled_entries.\n",
    "6. Print the first 5 items in labeled_entries. This has been done for you, so hit 'Submit Answer' to see the result!\n",
    "\n",
    "**Results:**<br>\n",
    "<font color=darkgreen>Namedtuples are great for making an easy-to-use datatype. Let's look at how we can use them to make our code easier to read and reason about.</font>"
   ]
  },
  {
   "cell_type": "code",
   "execution_count": 11,
   "metadata": {},
   "outputs": [
    {
     "name": "stdout",
     "output_type": "stream",
     "text": [
      "[DateDetails(date='01/01/2015', stop='Austin-Forest Park', riders=587),\n",
      " DateDetails(date='01/02/2015', stop='Austin-Forest Park', riders=1386),\n",
      " DateDetails(date='01/03/2015', stop='Austin-Forest Park', riders=785),\n",
      " DateDetails(date='01/04/2015', stop='Austin-Forest Park', riders=625),\n",
      " DateDetails(date='01/05/2015', stop='Austin-Forest Park', riders=1752)]\n"
     ]
    }
   ],
   "source": [
    "# Create the namedtuple: DateDetails\n",
    "DateDetails = namedtuple('DateDetails', ['date', 'stop', 'riders'])\n",
    "\n",
    "# Create the empty list: labeled_entries\n",
    "labeled_entries = []\n",
    "\n",
    "# Iterate over the entries list\n",
    "for date, stop, riders in entries:\n",
    "    # Append a new DateDetails namedtuple instance for each entry to labeled_entries\n",
    "    labeled_entries.append(DateDetails(date, stop, riders))\n",
    "    \n",
    "# Print the first 5 items in labeled_entries\n",
    "pprint(labeled_entries[:5])"
   ]
  },
  {
   "cell_type": "markdown",
   "metadata": {},
   "source": [
    "## 03.12 Leveraging attributes on namedtuples\n",
    "\n",
    "Once you have a namedtuple, you can write more expressive code that is easier to understand. Remember, you can access the elements in the tuple by their name as an attribute. For example, you can access the date of the namedtuples in the previous exercise using the __.date__ attribute.\n",
    "\n",
    "Here, you'll use the tuples you made in the previous exercise to see how this works.\n",
    "\n",
    "**Instructions**\n",
    "\n",
    "1. Iterate over the first twenty items in the labeled_entries list:\n",
    "2. Print each item's stop.\n",
    "3. Print each item's date.\n",
    "4. Print each item's riders.\n",
    "\n",
    "**Results:**<br>\n",
    "<font color=darkgreen>Congratulations on finishing Chapter 3! See you in Chapter 4, where you'll learn how to deal with Dates and Times in Python.</font>"
   ]
  },
  {
   "cell_type": "code",
   "execution_count": 12,
   "metadata": {},
   "outputs": [
    {
     "name": "stdout",
     "output_type": "stream",
     "text": [
      "Austin-Forest Park 01/01/2015 587\n",
      "Austin-Forest Park 01/02/2015 1386\n",
      "Austin-Forest Park 01/03/2015 785\n",
      "Austin-Forest Park 01/04/2015 625\n",
      "Austin-Forest Park 01/05/2015 1752\n",
      "Austin-Forest Park 01/06/2015 1777\n",
      "Austin-Forest Park 01/07/2015 1269\n",
      "Austin-Forest Park 01/08/2015 1435\n",
      "Austin-Forest Park 01/09/2015 1631\n",
      "Austin-Forest Park 01/10/2015 771\n",
      "Austin-Forest Park 01/11/2015 588\n",
      "Austin-Forest Park 01/12/2015 2065\n",
      "Austin-Forest Park 01/13/2015 2108\n",
      "Austin-Forest Park 01/14/2015 2012\n",
      "Austin-Forest Park 01/15/2015 2069\n",
      "Austin-Forest Park 01/16/2015 2003\n",
      "Austin-Forest Park 01/17/2015 953\n",
      "Austin-Forest Park 01/18/2015 706\n",
      "Austin-Forest Park 01/19/2015 1216\n",
      "Austin-Forest Park 01/20/2015 2115\n"
     ]
    }
   ],
   "source": [
    "# Iterate over the first twenty items in labeled_entries\n",
    "for item in labeled_entries[:20]:\n",
    "    # Print each item's stop, date and riders\n",
    "    print(item.stop, item.date, item.riders)"
   ]
  },
  {
   "cell_type": "markdown",
   "metadata": {},
   "source": [
    "# Aditional material\n",
    "\n",
    "- **Datacamp course**: https://learn.datacamp.com/courses/data-types-for-data-science-in-python"
   ]
  }
 ],
 "metadata": {
  "kernelspec": {
   "display_name": "Python 3",
   "language": "python",
   "name": "python3"
  },
  "language_info": {
   "codemirror_mode": {
    "name": "ipython",
    "version": 3
   },
   "file_extension": ".py",
   "mimetype": "text/x-python",
   "name": "python",
   "nbconvert_exporter": "python",
   "pygments_lexer": "ipython3",
   "version": "3.8.8"
  }
 },
 "nbformat": 4,
 "nbformat_minor": 4
}
