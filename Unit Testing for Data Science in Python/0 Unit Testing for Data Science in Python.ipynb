{
 "cells": [
  {
   "cell_type": "markdown",
   "metadata": {},
   "source": [
    "# Unit Testing for Data Science in Python\n",
    "\n",
    "Every data science project needs unit testing. It comes with huge benefits - saving a lot of development and maintenance time, improving documentation, increasing end-user trust and reducing downtime of productive systems. As a result, unit testing has become a must-have skill in the industry, used by almost every company. This course teaches unit testing in Python using the most popular testing framework pytest. By the end of this course, you will have written a complete test suite for a data science project. In the process, you will learn to write unit tests for data preprocessors, models and visualizations, interpret test results and fix any buggy code. You will also learn advanced concepts like TDD, test organization, fixtures and mocking so that you can test your own data science projects properly."
   ]
  },
  {
   "cell_type": "markdown",
   "metadata": {},
   "source": [
    "## 1. Unit testing basics\n",
    "\n",
    "In this chapter, you will get introduced to the pytest package and use it to write simple unit tests. You'll run the tests, interpret the test result reports and fix bugs. Throughout the chapter, we will use examples exclusively from the data preprocessing module of a linear regression project, making sure you learn unit testing in the context of data science.\n",
    "\n",
    "    1.1 Why unit test?\n",
    "    1.2 How frequently is a function tested?\n",
    "    1.3 Manual testing\n",
    "    1.4 Write a simple unit test using pytest\n",
    "    1.5 Your first unit test using pytest\n",
    "    1.6 Running unit tests\n",
    "    1.7 Understanding test result report\n",
    "    1.8 What causes a unit test to fail?\n",
    "    1.9 Spotting and fixing bugs\n",
    "    1.10 More benefits and test types\n",
    "    1.11 Benefits of unit testing\n",
    "    1.12 Unit tests as documentation"
   ]
  },
  {
   "cell_type": "markdown",
   "metadata": {},
   "source": [
    "## 2. Intermediate unit testing\n",
    "\n",
    "In this chapter, you will write more advanced unit tests. Starting from testing complicated data types like NumPy arrays to testing exception handling, you'll do it all. Once you have mastered the science of testing, we will also focus on the arts. For example, we will learn how to find the balance between writing too many tests and too few tests. In the last lesson, you will get introduced to a radically new programming methodology called Test Driven Development (TDD) and put it to practice. This might actually change the way you code forever!\n",
    "\n",
    "    2.1 Mastering assert statements\n",
    "    2.2 Write an informative test failure message\n",
    "    2.3 Testing float return values\n",
    "    2.4 Testing with multiple assert statements\n",
    "    2.5 Testing for exceptions instead of return values\n",
    "    2.6 Practice the context manager\n",
    "    2.7 Unit test a ValueError\n",
    "    2.8 The well tested function\n",
    "    2.9 Testing well: Boundary values\n",
    "    2.10 Testing well: Values triggering special logic\n",
    "    2.11 Testing well: Normal arguments\n",
    "    2.12 Test Driven Development (TDD)\n",
    "    2.13 TDD: Tests for normal arguments\n",
    "    2.14 TDD: Requirement collection\n",
    "    2.15 TDD: Implement the function"
   ]
  },
  {
   "cell_type": "markdown",
   "metadata": {},
   "source": [
    "## 3. Test Organization and Execution\n",
    "\n",
    "In any data science project, you quickly reach a point when it becomes impossible to organize and manage unit tests. In this chapter, we will learn about how to structure your test suite well, how to effortlessly execute any subset of tests and how to mark problematic tests so that your test suite always stays green. The last lesson will even enable you to add the trust-inspiring build status and code coverage badges to your own project. Complete this chapter and become a unit testing wizard!\n",
    "\n",
    "    3.1 How to organize a growing set of tests?\n",
    "    3.2 Place test modules at the correct location\n",
    "    3.3 Create a test class\n",
    "    3.4 Mastering test execution\n",
    "    3.5 One command to run them all\n",
    "    3.6 Running test classes\n",
    "    3.7 Expected failures and conditional skipping\n",
    "    3.8 Mark a test class as expected to fail\n",
    "    3.9 Mark a test as conditionally skipped\n",
    "    3.10 Reasoning in the test result report\n",
    "    3.11 Continuous integration and code coverage\n",
    "    3.12 Build failing\n",
    "    3.13 What does code coverage mean?"
   ]
  },
  {
   "cell_type": "markdown",
   "metadata": {},
   "source": [
    "## 4. Testing Models, Plots and Much More\n",
    "\n",
    "In this chapter, You will pick up advanced unit testing skills like setup, teardown and mocking. You will also learn how to write sanity tests for your data science models and how to test matplotlib plots. By the end of this chapter, you will be ready to test real world data science projects!\n",
    "\n",
    "    4.1 Beyond assertion: setup and teardown\n",
    "    4.2 Use a fixture for a clean data file\n",
    "    4.3 Write a fixture for an empty data file\n",
    "    4.4 Fixture chaining using tmpdir\n",
    "    4.5 Mocking\n",
    "    4.6 Program a bug-free dependency\n",
    "    4.7 Mock a dependency\n",
    "    4.8 Testing models\n",
    "    4.9 Testing on linear data\n",
    "    4.10 Testing on circular data\n",
    "    4.11 Testing plots\n",
    "    4.12 Generate the baseline image\n",
    "    4.13 Run the tests for the plotting function\n",
    "    4.14 Fix the plotting function\n",
    "    4.15 Congratulations"
   ]
  },
  {
   "cell_type": "markdown",
   "metadata": {},
   "source": [
    "# Aditional material\n",
    "\n",
    "- Datacamp course: https://learn.datacamp.com/courses/unit-testing-for-data-science-in-python\n",
    "- Project https://github.com/gutfeeling/univariate-linear-regression\n",
    "\n",
    "(From https://travis-ci.com/github/gutfeeling/univariate-linear-regression) --> Review .travis.yml file\n",
    ">git clone https://github.com/gutfeeling/univariate-linear-regression.git<br>\n",
    ">\n",
    ">cd univariate_linear_regression\n",
    ">\n",
    "> Modify setup.py<br>\n",
    "> Change the install_requires to (with out version):<br>\n",
    "> <code>[\"jupyter\", \"matplotlib\", \"numpy\",\"pytest\", \"pytest-mpl\", \"pytest-mock\", \"scipy\",]</code><br>\n",
    ">\n",
    ">pip install -e .<br>\n",
    ">\n",
    ">pip install codecov pytest-cov\n",
    ">\n",
    ">pytest --cov=src tests\n",
    ">\n",
    ">codecov\n",
    "\n",
    "- Local instalation dir: <a href=C:\\Anaconda3\\envs\\datascience\\Lib\\site-packages>C:\\Anaconda3\\envs\\datascience\\Lib\\site-packages</a>**\n",
    "\n",
    "- To create an egg: https://python101.pythonlibrary.org/chapter38_eggs.html "
   ]
  },
  {
   "cell_type": "markdown",
   "metadata": {},
   "source": [
    "**Creating an egg**\n",
    ">You can think of an egg as just an alternative to a source distribution or Windows executable, but it should be noted that for pure Python eggs, the egg file is completely cross-platform. We will take a look at how to create our own egg using the package we created in a previous modules and packages chapter. To get started creating an egg, you will need to create a new folder and put the mymath folder inside it. Then create a setup.py file in the parent directory to mymath with the following contents:\n",
    "\n",
    "<code>\n",
    "from setuptools import setup, find_packages\n",
    "setup(\n",
    "    name = \"mymath\",\n",
    "    version = \"0.1\",\n",
    "    packages = find_packages()\n",
    "    )\n",
    "</code>\n",
    "\n",
    "Python has its own package for creating distributions that is called distutils. However instead of using Python’s distutils’ setup function, we’re using setuptools’ setup. We’re also using setuptools’ find_packages function which will automatically look for any packages in the current directory and add them to the egg. To create said egg, you’ll need to run the following from the command line:\n",
    "\n",
    "<code>\n",
    "python.exe setup.py bdist_egg\n",
    "</code>"
   ]
  }
 ],
 "metadata": {
  "kernelspec": {
   "display_name": "Python 3",
   "language": "python",
   "name": "python3"
  },
  "language_info": {
   "codemirror_mode": {
    "name": "ipython",
    "version": 3
   },
   "file_extension": ".py",
   "mimetype": "text/x-python",
   "name": "python",
   "nbconvert_exporter": "python",
   "pygments_lexer": "ipython3",
   "version": "3.8.8"
  }
 },
 "nbformat": 4,
 "nbformat_minor": 4
}
