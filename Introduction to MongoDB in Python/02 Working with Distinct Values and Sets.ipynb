{
 "cells": [
  {
   "cell_type": "code",
   "execution_count": 1,
   "metadata": {},
   "outputs": [],
   "source": [
    "# Import libraries\n",
    "from pymongo import MongoClient\n",
    "from pprint import pprint\n",
    "from bson.regex import Regex\n",
    "\n",
    "import re"
   ]
  },
  {
   "cell_type": "code",
   "execution_count": 2,
   "metadata": {},
   "outputs": [],
   "source": [
    "# Client connects to \"localhost\" by default\n",
    "client = MongoClient()\n",
    "\n",
    "# Connect to \"nobel\" database on the fly\n",
    "db = client[\"nobel\"]"
   ]
  },
  {
   "cell_type": "markdown",
   "metadata": {},
   "source": [
    "# 02. Working with Distinct Values and Sets\n",
    "\n",
    "Now you have a sense of the data's structure. This chapter is about dipping your toes into the pools of values for various fields. You'll collect distinct values, test for membership in sets, and match values to patterns."
   ]
  },
  {
   "cell_type": "markdown",
   "metadata": {},
   "source": [
    "## 02.01 Survey Distinct Values\n",
    "\n",
    "1. The distinct() method\n",
    ">In this lesson, we'll learn to use the \"distinct\" method on Mongo collections. Using this method, we can collect the set of values assigned to a field across all documents.\n",
    "\n",
    "2. An exceptional laureate\n",
    ">We found an exceptional laureate in the last chapter. This laureate has received three Nobel prizes, more than any other laureate. Here we can see that this is the International Committee of the Red Cross. You may not have known that organizations can win Nobel prizes, but they have. For example, 23 employees of Lawrence Berkeley Lab shared the Nobel Peace Prize in 2007. They were part of the Intergovernmental Panel on Climate Change. A future exercise will be about the proportion of Nobel prizes awarded to immigrants. Keep in mind that the idea of immigration doesn't apply to some laureates. In this document, I see that the \"gender\" field has a value of \"org\", presumably short for \"organization\". What are the values that this field stores across documents in this collection? MongoDB provides a built-in collection method for such aggregation.\n",
    "\n",
    "3. Using .distinct()\n",
    ">Here, we call the \"distinct\" method on the laureates collection. We pass a single argument, \"gender\". MongoDB collects the distinct values that this field takes across the collection. We see that there are three and only three values for the \"gender\" field across the collection. You may be wondering where this method comes from, or how you can define a similar operation yourself. The \"distinct\" method is a convenience for a common aggregation. The \"count_documents\" method we have been using is a similar convenience. An aggregation processes data across a collection and produces a computed result. In the last chapter of this course, we'll learn how to create custom aggregations. You may be wondering about the efficiency of aggregations in MongoDB. You can register so-called \"indexes\" on fields for MongoDB to maintain. These indexes can ensure efficient queries and aggregations. In some cases, a query might not even need to run on a collection. We will learn how to create indexes in the next chapter. But, if we're not working with a lot of data, indexes are generally not needed. The laureates collection we're using in this course fits in memory. It weighs in at under a megabyte and has on the order of a thousand documents or fewer. It doesn't matter much if you use an inefficient algorithm to sort a list of a few hundred items. Likewise, a full collection scan isn't a big deal for this aggregation.\n",
    "\n",
    "4. .distinct() with dot notation\n",
    ">You can use dot notation to specify fields embedded deeper than the root level of a document. This applies in query methods like \"find\" and \"find_one\", and it applies for aggregations as well. I notice here that each subdocument in the \"prizes\" array field has a \"category\" field. The dot-two in the filter denotes index two of an array field. Thus, this is a laureate where a third element exists in the prizes array. Let's fetch the distinct values of this field. We see, as expected, that there is a value for each category of Nobel prize.\n",
    "\n",
    "5. Let's practice!\n",
    ">Let's use the distinct method to answer some questions about our Nobel Prize data."
   ]
  },
  {
   "cell_type": "code",
   "execution_count": 3,
   "metadata": {},
   "outputs": [
    {
     "name": "stdout",
     "output_type": "stream",
     "text": [
      "{'prizes.2': {'$exists': True}} 1\n",
      "{'_id': ObjectId('6035898c6109195e81d36b1b'),\n",
      " 'born': '0000-00-00',\n",
      " 'died': '0000-00-00',\n",
      " 'firstname': 'Comité international de la Croix Rouge (International Committee '\n",
      "              'of the Red Cross)',\n",
      " 'gender': 'org',\n",
      " 'id': '482',\n",
      " 'prizes': [{'affiliations': [[]],\n",
      "             'category': 'peace',\n",
      "             'share': '1',\n",
      "             'year': '1917'},\n",
      "            {'affiliations': [[]],\n",
      "             'category': 'peace',\n",
      "             'share': '1',\n",
      "             'year': '1944'},\n",
      "            {'affiliations': [[]],\n",
      "             'category': 'peace',\n",
      "             'share': '2',\n",
      "             'year': '1963'}]}\n",
      "\n",
      "gender: ['female', 'male', 'org']\n",
      "\n",
      "prizes.category: ['chemistry', 'economics', 'literature', 'medicine', 'peace', 'physics']\n"
     ]
    }
   ],
   "source": [
    "# An exceptional laureate\n",
    "criteria = {\"prizes.2\": {\"$exists\": True}}\n",
    "print(criteria, db.laureates.count_documents(criteria))\n",
    "pprint(db.laureates.find_one(criteria))\n",
    "\n",
    "# Using .distinct()\n",
    "criteria = \"gender\"\n",
    "print(f'\\n{criteria}:', db.laureates.distinct(criteria))\n",
    "\n",
    "# .distinct() with dot notation\n",
    "criteria = \"prizes.category\"\n",
    "print(f'\\n{criteria}:', db.laureates.distinct(criteria))"
   ]
  },
  {
   "cell_type": "markdown",
   "metadata": {},
   "source": [
    "## 02.02 Categorical data validation\n",
    "\n",
    "Remember to explore example documents in the console via e.g. __db.prizes.find_one()__ and __db.laureates.find_one()__.\n",
    "\n",
    "**Instructions**\n",
    "\n",
    "What expression asserts that the distinct Nobel Prize categories catalogued by the \"prizes\" collection are the same as those catalogued by the \"laureates\"? \n",
    "\n",
    "**Possible Answers**\n",
    "\n",
    "1. assert db.prizes.distinct(\"category\") == db.laureates.distinct(\"prizes.category\")\n",
    "<font color=darkred>==>Although <collection>.distinct returns unique values, they are returned as a list and not guaranteed to be sorted in any way.</font>\n",
    "2. assert db.prizes.distinct(\"laureates.category\") == db.laureates.distinct(\"prizes.category\")\n",
    "3. __assert set(db.prizes.distinct(\"category\")) == set(db.laureates.distinct(\"prizes.category\"))__\n",
    "\n",
    "**Results**\n",
    "\n",
    "<font color=darkgreen>Correct! Converting the lists returned by <collection>.distinct to sets ensures that a check for equality is reliable.</font>"
   ]
  },
  {
   "cell_type": "code",
   "execution_count": 4,
   "metadata": {},
   "outputs": [
    {
     "name": "stdout",
     "output_type": "stream",
     "text": [
      "{'_id': ObjectId('6035898c6109195e81d36797'),\n",
      " 'category': 'physics',\n",
      " 'laureates': [{'firstname': 'Arthur',\n",
      "                'id': '960',\n",
      "                'motivation': '\"for the optical tweezers and their application '\n",
      "                              'to biological systems\"',\n",
      "                'share': '2',\n",
      "                'surname': 'Ashkin'},\n",
      "               {'firstname': 'Gérard',\n",
      "                'id': '961',\n",
      "                'motivation': '\"for their method of generating high-intensity, '\n",
      "                              'ultra-short optical pulses\"',\n",
      "                'share': '4',\n",
      "                'surname': 'Mourou'},\n",
      "               {'firstname': 'Donna',\n",
      "                'id': '962',\n",
      "                'motivation': '\"for their method of generating high-intensity, '\n",
      "                              'ultra-short optical pulses\"',\n",
      "                'share': '4',\n",
      "                'surname': 'Strickland'}],\n",
      " 'overallMotivation': '“for groundbreaking inventions in the field of laser '\n",
      "                      'physics”',\n",
      " 'year': '2018'}\n"
     ]
    }
   ],
   "source": [
    "pprint(db.prizes.find_one())"
   ]
  },
  {
   "cell_type": "code",
   "execution_count": 5,
   "metadata": {},
   "outputs": [
    {
     "name": "stdout",
     "output_type": "stream",
     "text": [
      "{'_id': ObjectId('6035898c6109195e81d369e5'),\n",
      " 'born': '1853-07-18',\n",
      " 'bornCity': 'Arnhem',\n",
      " 'bornCountry': 'the Netherlands',\n",
      " 'bornCountryCode': 'NL',\n",
      " 'died': '1928-02-04',\n",
      " 'diedCountry': 'the Netherlands',\n",
      " 'diedCountryCode': 'NL',\n",
      " 'firstname': 'Hendrik Antoon',\n",
      " 'gender': 'male',\n",
      " 'id': '2',\n",
      " 'prizes': [{'affiliations': [{'city': 'Leiden',\n",
      "                               'country': 'the Netherlands',\n",
      "                               'name': 'Leiden University'}],\n",
      "             'category': 'physics',\n",
      "             'motivation': '\"in recognition of the extraordinary service they '\n",
      "                           'rendered by their researches into the influence of '\n",
      "                           'magnetism upon radiation phenomena\"',\n",
      "             'share': '2',\n",
      "             'year': '1902'}],\n",
      " 'surname': 'Lorentz'}\n"
     ]
    }
   ],
   "source": [
    "pprint(db.laureates.find_one())"
   ]
  },
  {
   "cell_type": "code",
   "execution_count": 6,
   "metadata": {},
   "outputs": [
    {
     "name": "stdout",
     "output_type": "stream",
     "text": [
      "['chemistry', 'economics', 'literature', 'medicine', 'peace', 'physics']\n",
      "['chemistry', 'economics', 'literature', 'medicine', 'peace', 'physics']\n"
     ]
    }
   ],
   "source": [
    "print(db.prizes.distinct(\"category\"))\n",
    "print(db.laureates.distinct(\"prizes.category\"))"
   ]
  },
  {
   "cell_type": "markdown",
   "metadata": {},
   "source": [
    "## 02.03 Never from there, but sometimes there at last\n",
    "\n",
    "There are some recorded countries of death (__\"diedCountry\"__) that do not appear as a country of birth (__\"bornCountry\"__) for laureates. One such country is \"East Germany\".\n",
    "\n",
    "**Instructions**\n",
    "\n",
    "1. Return a set of all such countries as countries.\n",
    "\n",
    "**Results**\n",
    "\n",
    "<font color=darkgreen>Well done! Some of these countries are likely to remain in this set, as they no longer exist!</font>"
   ]
  },
  {
   "cell_type": "code",
   "execution_count": 7,
   "metadata": {},
   "outputs": [
    {
     "name": "stdout",
     "output_type": "stream",
     "text": [
      "{'Puerto Rico', 'Greece', 'Tunisia', 'Israel', 'Philippines', 'Gabon', 'Yugoslavia (now Serbia)', 'East Germany', 'USSR', 'Barbados', 'Northern Rhodesia (now Zambia)', 'Czechoslovakia', 'Jamaica'}\n"
     ]
    }
   ],
   "source": [
    "# Countries recorded as countries of death but not as countries of birth\n",
    "countries = set(db.laureates.distinct('diedCountry')) - set(db.laureates.distinct('bornCountry'))\n",
    "print(countries)"
   ]
  },
  {
   "cell_type": "markdown",
   "metadata": {},
   "source": [
    "## 02.04 Countries of affiliation\n",
    "\n",
    "We saw in the last exercise that countries can be associated with a laureate as their country of birth and as their country of death. For each prize a laureate received, they may also have been affiliated with an institution at the time, located in a country.\n",
    "\n",
    "**Instructions**\n",
    "\n",
    "1. Determine the number of distinct countries recorded as part of an affiliation for laureates' prizes. Save this as count.\n",
    "\n",
    "**Results**\n",
    "\n",
    "<font color=darkgreen>Bravo! This number is less than the number of distinct countries of death, and far less than the number of distinct countries of birth.</font>"
   ]
  },
  {
   "cell_type": "code",
   "execution_count": 8,
   "metadata": {},
   "outputs": [
    {
     "name": "stdout",
     "output_type": "stream",
     "text": [
      "bornCountry: 120\n",
      "diedCountry: 52\n",
      "prizes.affiliations.country: 29\n"
     ]
    }
   ],
   "source": [
    "# The number of distinct countries of laureate affiliation for prizes\n",
    "bornCountry = len(db.laureates.distinct('bornCountry'))\n",
    "diedCountry = len(db.laureates.distinct('diedCountry'))\n",
    "affiliations = len(db.laureates.distinct('prizes.affiliations.country'))\n",
    "print('bornCountry:', bornCountry)\n",
    "print('diedCountry:', diedCountry)\n",
    "print('prizes.affiliations.country:', affiliations)"
   ]
  },
  {
   "cell_type": "markdown",
   "metadata": {},
   "source": [
    "## 02.05 Distinct Values Given Filters\n",
    "\n",
    "1. Pre-filtering distinct values\n",
    ">In this lesson, we're going to dip our toes into the world of aggregation pipelines. We'll use the \"filter\" parameter of the \"distinct\" method to match certain documents. The method will fetch field values only from these matching documents.\n",
    "\n",
    "2. Awards into prize shares\n",
    ">Here I've found a laureate document with a value of \"4\" for the \"share\" field in one of it's \"prizes\" subdocuments. Pierre Curie shared the 1903 Nobel Prize in physics with his wife Marie. They also shared it with physicist Henri Becquerel. Marie and Pierre each received a quarter share of the prize. Henri received the remaining half share. The Nobel Prize API encodes prize share - in particular, the denominator of the fractional share - as a string. Thus, the document records Pierre's quarter share as the string \"4\".\n",
    "\n",
    "3. High-share prize categories\n",
    ">Which Nobel prize categories other than physics have laureates with quarter shares? We know how to get the distinct values of prize categories from the laureates collection. We pass the dotted path \"prizes-dot-category\" to the \"distinct\" method. We also know how to find - and list - all laureate documents satisfying some criteria using a filter document. Can we compose these two ideas? Sure! The \"distinct\" method takes an optional filter argument. You can think of this as a two-stage pipeline. First, filter the collection for documents that match a filter. Then, collected and return distinct values of a field for these documents. In the last chapter of this course, we'll learn how to custom-build such pipelines in an explicit way. The Nobel Prize API serves its data in a denormalized way. Thus, we can answer our question from a different perspective. Here, we ask the \"prizes\" collection to return distinct prize categories. Given a filter on laureate shares, we return distinct values of the \"category\" field. The result is the same as the call above using the laureates collection.\n",
    "\n",
    "4. Prize categories with multi-winners\n",
    ">Let's look at one more example of pre-filtering distinct values. Which prize categories have laureates who have won more than one prize? We'll start by counting laureates who won at least two prizes. In other words, those for which a second element exists in their document's \"prizes\" array. Next, we pass this filter document as a second argument to the \"distinct\" method. Our first argument is the dotted path to the prize category field. This returns all prize category values with laureates who have won more than one prize. Here are the corresponding prize categories for these six laureates. Notice that not all won prizes in the same category. Marie Curie, for instance, won prizes in both physics and chemistry. Linus Pauling won prizes in both chemistry and peace. We'll learn in the next chapter how to fetch only the document substructure we need. In this case, the MongoDB server returned only enough to communicate prize categories.\n",
    "\n",
    "5. Practice time!\n",
    ">Now it's your turn. Let's practice enumerating distinct field values of collections given filters."
   ]
  },
  {
   "cell_type": "code",
   "execution_count": 9,
   "metadata": {},
   "outputs": [
    {
     "name": "stdout",
     "output_type": "stream",
     "text": [
      "{'_id': ObjectId('6035898c6109195e81d369f3'),\n",
      " 'born': '1936-01-10',\n",
      " 'bornCity': 'Houston, TX',\n",
      " 'bornCountry': 'USA',\n",
      " 'bornCountryCode': 'US',\n",
      " 'died': '0000-00-00',\n",
      " 'firstname': 'Robert Woodrow',\n",
      " 'gender': 'male',\n",
      " 'id': '112',\n",
      " 'prizes': [{'affiliations': [{'city': 'Holmdel, NJ',\n",
      "                               'country': 'USA',\n",
      "                               'name': 'Bell Laboratories'}],\n",
      "             'category': 'physics',\n",
      "             'motivation': '\"for their discovery of cosmic microwave '\n",
      "                           'background radiation\"',\n",
      "             'share': '4',\n",
      "             'year': '1978'}],\n",
      " 'surname': 'Wilson'}\n",
      "{'_id': ObjectId('6035898c6109195e81d36797'),\n",
      " 'category': 'physics',\n",
      " 'laureates': [{'firstname': 'Arthur',\n",
      "                'id': '960',\n",
      "                'motivation': '\"for the optical tweezers and their application '\n",
      "                              'to biological systems\"',\n",
      "                'share': '2',\n",
      "                'surname': 'Ashkin'},\n",
      "               {'firstname': 'Gérard',\n",
      "                'id': '961',\n",
      "                'motivation': '\"for their method of generating high-intensity, '\n",
      "                              'ultra-short optical pulses\"',\n",
      "                'share': '4',\n",
      "                'surname': 'Mourou'},\n",
      "               {'firstname': 'Donna',\n",
      "                'id': '962',\n",
      "                'motivation': '\"for their method of generating high-intensity, '\n",
      "                              'ultra-short optical pulses\"',\n",
      "                'share': '4',\n",
      "                'surname': 'Strickland'}],\n",
      " 'overallMotivation': '“for groundbreaking inventions in the field of laser '\n",
      "                      'physics”',\n",
      " 'year': '2018'}\n",
      "['chemistry', 'medicine', 'physics']\n",
      "['chemistry', 'medicine', 'physics']\n"
     ]
    }
   ],
   "source": [
    "# Awards into prize shares\n",
    "# Found a laureate document with a value of \"4\" for the \"share\" field in one of it's \"prizes\" subdocuments.\n",
    "pprint(db.laureates.find_one({\"prizes.share\": \"4\"}))\n",
    "pprint(db.prizes.find_one({\"laureates.share\": \"4\"}))\n",
    "\n",
    "# High-share prize categories\n",
    "print(db.laureates.distinct(\"prizes.category\", {\"prizes.share\": '4'}))\n",
    "print(db.prizes.distinct(\"category\", {\"laureates.share\": \"4\"}))"
   ]
  },
  {
   "cell_type": "code",
   "execution_count": 10,
   "metadata": {},
   "outputs": [
    {
     "name": "stdout",
     "output_type": "stream",
     "text": [
      "['chemistry', 'peace', 'physics']\n",
      "chemistry\n",
      "peace\n",
      "physics\n",
      "chemistry\n",
      "physics\n",
      "physics\n",
      "chemistry\n",
      "chemistry\n",
      "peace\n",
      "peace\n",
      "peace\n",
      "peace\n",
      "peace\n"
     ]
    }
   ],
   "source": [
    "# Prize categories with multi-winners\n",
    "criteria = {\"prizes.1\": {\"$exists\": True}}\n",
    "print(db.laureates.distinct(\"prizes.category\", criteria))\n",
    "for doc in db.laureates.find(criteria):\n",
    "    for prize in doc['prizes']:\n",
    "        print(prize['category'])"
   ]
  },
  {
   "cell_type": "markdown",
   "metadata": {},
   "source": [
    "## 02.06 Born here, went there\n",
    "\n",
    "**Instructions**\n",
    "\n",
    "In which countries have USA-born laureates had affiliations for their prizes?\n",
    "\n",
    "**Possible Answers**\n",
    "\n",
    "1. __Australia, Denmark, United Kingdom, USA__\n",
    "2. Australia, France, Sweden, United Kingdom, USA\n",
    "3. Australia, Canada, Israel, United Kingdom, USA\n",
    "\n",
    "**Results**\n",
    "\n",
    "<font color=darkgreen>Yes! This is the output of db.laureates.distinct('prizes.affiliations.country', {'bornCountry': 'USA'})</font>"
   ]
  },
  {
   "cell_type": "code",
   "execution_count": 11,
   "metadata": {},
   "outputs": [
    {
     "name": "stdout",
     "output_type": "stream",
     "text": [
      "['Australia', 'Denmark', 'USA', 'United Kingdom']\n"
     ]
    }
   ],
   "source": [
    "print(db.laureates.distinct('prizes.affiliations.country', {'bornCountry': 'USA'}))"
   ]
  },
  {
   "cell_type": "markdown",
   "metadata": {},
   "source": [
    "## 02.07 Triple plays (mostly) all around\n",
    "\n",
    "Prizes can be shared, even by more than two laureates. In fact, all prize categories but one – literature – have had prizes shared by three or more laureates.\n",
    "\n",
    "**Instructions**\n",
    "\n",
    "1. Save a filter document criteria that, when passed to db.prizes.distinct, returns all prize categories shared by three or more laureates. That is, \"laureates.2\" must exist for such documents.\n",
    "2. Save these prize categories as a Python set called triple_play_categories.\n",
    "3. Confirm via an assertion that \"literature\" is the only prize category with no prizes shared by three or more laureates.\n",
    "\n",
    "**Results**\n",
    "\n",
    "<font color=darkgreen>Around the horn! One day, literature, one day...</font>"
   ]
  },
  {
   "cell_type": "code",
   "execution_count": 12,
   "metadata": {},
   "outputs": [
    {
     "name": "stdout",
     "output_type": "stream",
     "text": [
      "{'medicine', 'physics', 'economics', 'chemistry', 'peace'}\n",
      "{'medicine', 'physics', 'economics', 'chemistry', 'peace', 'literature'}\n"
     ]
    }
   ],
   "source": [
    "# Save a filter for prize documents with three or more laureates\n",
    "criteria = {\"laureates.2\": {'$exists': True}}\n",
    "\n",
    "# Save the set of distinct prize categories in documents satisfying the criteria\n",
    "triple_play_categories = set(db.prizes.distinct('category', criteria))\n",
    "print(triple_play_categories)\n",
    "\n",
    "all_categories = set(db.prizes.distinct('category'))\n",
    "print(all_categories)\n",
    "# Confirm literature as the only category not satisfying the criteria.\n",
    "assert all_categories - triple_play_categories == {'literature'}"
   ]
  },
  {
   "cell_type": "markdown",
   "metadata": {},
   "source": [
    "## 02.08 Filter Arrays using Distinct Values\n",
    "\n",
    "1. Matching array fields\n",
    ">In this lesson, we'll learn more about how to query array fields and their structured values.\n",
    "\n",
    "2. Array fields and equality\n",
    ">Here we see part of the laureates collection document for John Bardeen. He won two prizes, both in physics. Each prizes array in a laureate document contains subdocuments. Each subdocument has a category field. We can use dot notation to filter for and count laureates with a prize category equal to physics.\n",
    "\n",
    "3. Array fields and equality, simplified\n",
    ">Here's a simpler example using a fictitious field. Let's imagine that laureate documents had an extra field, \"nicknames\". This field stores an array of string values. Let's now find all laureates with a nickname of \"JB\". We could use a filter document like this. The filter matches all documents that have at least one value in the \"nicknames\" array field equal to \"JB\". This notation is familiar. If \"nicknames\" was not an array, the filter would match for the field value being equal to \"JB\". Because \"nicknames\" is an array, the filter matches if any member of the array matches.\n",
    "\n",
    "4. Array fields and operators\n",
    ">Let's go back to filtering on the real \"category\" field. This field is within subdocuments of the top-level \"prizes\" array field. As before, we can wrap filter document values with operators. For example, here we filter for laureates with a prize not in physics. Note that these documents may contain a prize subdocument with a category of physics. They need only also contain a prize subdocument with another category value. Another example. Here, we use the \"in\" operator to find laureates with at least one prize in these three categories. And here, we use the \"not-in\" operator to find laureates with at least one prize not in these three categories.\n",
    "\n",
    "5. Enter \\$elemMatch\n",
    ">But what if we want to filter on more than one field within a prize subdocument? Let's try something like this to count laureates who won unshared prizes in physics. Hmm, that's not quite what we want. This filter matches prize subdocuments that have two and only two fields. No laureates have a prize subdocument that looks exactly like this. All prize subdocuments also have a year field, for instance. This next filter is better, but it's not quite what we want. This filter matches laureate documents satisfying two conditions. The first is that a prizes field has at least one subdocument with a \"category\" field equal to \"physics\". The second is that that a prizes field has at least one subdocument with a \"share\" field equal to \"1\". The prizes that match for a laureate could be different prizes. This is where the \"element match\" - or \"elemMatch\" - operator comes in. Finally, we count all laureates that have at least one unshared prize in physics. Within the \"elemMatch\" operation, as with any operation, we can continue to drill down. Operations can nest to make finer-grained queries. Here, we extend the last filter to include laureates only if they won a solo prize in physics before 1945.\n",
    "\n",
    "6. Onward and array-ward!\n",
    ">Let's make sure you understand how to filter arrays with \"elemMatch\". We'll do this in concert with other operators. And we'll learn some Nobel prize statistics along the way."
   ]
  },
  {
   "cell_type": "code",
   "execution_count": 13,
   "metadata": {},
   "outputs": [
    {
     "name": "stdout",
     "output_type": "stream",
     "text": [
      "{'prizes.category': 'physics'} 209\n",
      "\n",
      "{'nicknames': {'$exists': True}} 0\n",
      "\n",
      "{'prizes.category': 'physics'} 209\n",
      "\n",
      "{'prizes.category': {'$ne': 'physics'}} 725\n",
      "\n",
      "{'prizes.category': {'$in': ['physics', 'chemistry', 'medicine']}} 604\n",
      "\n",
      "{'prizes.category': {'$nin': ['physics', 'chemistry', 'medicine']}} 330\n",
      "\n",
      "Count laureates who won unshared prizes in physics:\n",
      "Incorrect --> {'prizes': {'category': 'physics', 'share': '1'}} 0\n",
      "Incorrect --> {'prizes.category': 'physics', 'prizes.share': '1'} 48\n",
      "{'prizes': {'$elemMatch': {'category': 'physics', 'share': '1'}}} 47\n",
      "\n",
      "{'prizes': {'$elemMatch': {'category': 'physics', 'share': '1', 'year': {'$lt': '1945'}}}} 29\n"
     ]
    }
   ],
   "source": [
    "# Array fields and equality\n",
    "criteria = {\"prizes.category\": \"physics\"}\n",
    "print(criteria, db.laureates.count_documents(criteria))\n",
    "\n",
    "# Array fields and equality, simplified\n",
    "criteria = {'nicknames': {'$exists': True}}\n",
    "print(f'\\n{criteria}', db.laureates.count_documents(criteria))\n",
    "\n",
    "# Array fields and operators\n",
    "criteria = {\"prizes.category\": \"physics\"}\n",
    "print(f'\\n{criteria}', db.laureates.count_documents(criteria))\n",
    "\n",
    "criteria = {\"prizes.category\": {\"$ne\": \"physics\"}}\n",
    "print(f'\\n{criteria}', db.laureates.count_documents(criteria))\n",
    "\n",
    "criteria = {\"prizes.category\": {\"$in\": [\"physics\", \"chemistry\", \"medicine\"]}}\n",
    "print(f'\\n{criteria}', db.laureates.count_documents(criteria))\n",
    "\n",
    "criteria ={\"prizes.category\": {\"$nin\": [\"physics\", \"chemistry\", \"medicine\"]}}\n",
    "print(f'\\n{criteria}', db.laureates.count_documents(criteria))\n",
    "\n",
    "# Enter $elemMatch\n",
    "print('\\nCount laureates who won unshared prizes in physics:')\n",
    "criteria = {\"prizes\": {\"category\": \"physics\", \"share\": \"1\"}}\n",
    "print(f'Incorrect --> {criteria}', db.laureates.count_documents(criteria)) # Structure not found\n",
    "\n",
    "criteria = {\"prizes.category\": \"physics\", \"prizes.share\": \"1\"}\n",
    "print(f'Incorrect --> {criteria}', db.laureates.count_documents(criteria)) # Match both not necessary in the same subdocument.\n",
    "\n",
    "criteria = {\"prizes\": {\"$elemMatch\":{\"category\": \"physics\", \"share\": \"1\"}}}\n",
    "print(criteria, db.laureates.count_documents(criteria)) # Perfect!\n",
    "\n",
    "criteria = {\"prizes\": {\"$elemMatch\": {\"category\": \"physics\",\n",
    "                                      \"share\": \"1\",\n",
    "                                      \"year\": {\"$lt\": \"1945\"},}}}\n",
    "print(f'\\n{criteria}', db.laureates.count_documents(criteria))"
   ]
  },
  {
   "cell_type": "markdown",
   "metadata": {},
   "source": [
    "## 02.09 Sharing in physics after World War II\n",
    "\n",
    "**Instructions**\n",
    "What is the approximate ratio of the number of laureates who won an unshared (__{\"share\": \"1\"}__) prize in physics after World War II (__{\"year\": {\"$gte\": \"1945\"}}__) to the number of laureates who won a shared prize in physics after World War II?\n",
    "\n",
    "For reference, the code below determines the number of laureates who won a shared prize in physics before 1945.\n",
    "\n",
    "<code>db.laureates.count_documents({\n",
    "    \"prizes\": {\"\\$elemMatch\": {\n",
    "        \"category\": \"physics\",\n",
    "        \"share\": {\"\\$ne\": \"1\"},\n",
    "        \"year\": {\"\\$lt\": \"1945\"}}}})</code>\n",
    "        \n",
    "**Possible Answers**\n",
    "1. 0.06\n",
    "2. __0.13__\n",
    "3. 0.33\n",
    "4. 0.50\n",
    "\n",
    "**Results**\n",
    "\n",
    "<font color=darkgreen>Right-o! There has been significant sharing of physics prizes since World War II</font>"
   ]
  },
  {
   "cell_type": "code",
   "execution_count": 14,
   "metadata": {},
   "outputs": [
    {
     "name": "stdout",
     "output_type": "stream",
     "text": [
      "Unshared prize: 18\n",
      "Shared prize: 143\n",
      "Ratio: 0.1258741258741259\n"
     ]
    }
   ],
   "source": [
    "criteria = {\"prizes\": {\"$elemMatch\": {\"category\": \"physics\", \n",
    "                                      \"share\": \"1\", \n",
    "                                      \"year\": {\"$gte\": \"1945\"}}}}\n",
    "unshared_prize = db.laureates.count_documents(criteria)\n",
    "print('Unshared prize:', unshared_prize)\n",
    "\n",
    "criteria = {\"prizes\": {\"$elemMatch\": {\"category\": \"physics\", \n",
    "                                      \"share\": {\"$ne\": \"1\"}, \n",
    "                                      \"year\": {\"$gte\": \"1945\"}}}}\n",
    "shared_prize = db.laureates.count_documents(criteria)\n",
    "print('Shared prize:', shared_prize)\n",
    "\n",
    "print('Ratio:', unshared_prize/shared_prize)"
   ]
  },
  {
   "cell_type": "markdown",
   "metadata": {},
   "source": [
    "## 02.10 Meanwhile, in other categories...\n",
    "\n",
    "We learned in the last exercise that there has been significantly more sharing of physics prizes since World War II: the ratio of the number of laureates who won an unshared prize in physics in or after 1945 to the number of laureates who shared a prize in physics in or after 1945 is approximately 0.13. What is this ratio for prize categories other than physics, chemistry, and medicine?\n",
    "\n",
    "**Instructions**\n",
    "\n",
    "1. Save an \\$elemMatch filter unshared to count laureates with unshared prizes in categories other than (\"not in\") [\"physics\", \"chemistry\", \"medicine\"] in or after 1945.\n",
    "2. Save an \\$elemMatch filter shared to count laureates with shared (i.e., \"share\" is not \"1\") prizes in categories other than [\"physics\", \"chemistry\", \"medicine\"] in or after 1945.\n",
    "\n",
    "**Results**\n",
    "\n",
    "<font color=darkgreen>Wow! This ratio is a ten-fold jump over the ratio for physics!</font>"
   ]
  },
  {
   "cell_type": "code",
   "execution_count": 15,
   "metadata": {},
   "outputs": [
    {
     "name": "stdout",
     "output_type": "stream",
     "text": [
      "1.3653846153846154\n"
     ]
    }
   ],
   "source": [
    "# Save a filter for laureates with unshared prizes\n",
    "unshared = {\n",
    "    \"prizes\": {'$elemMatch': {\n",
    "        'category': {'$nin': [\"physics\", \"chemistry\", \"medicine\"]},\n",
    "        \"share\": \"1\",\n",
    "        \"year\": {'$gte': \"1945\"},\n",
    "    }}}\n",
    "\n",
    "# Save a filter for laureates with shared prizes\n",
    "shared = {\n",
    "    \"prizes\": {'$elemMatch': {\n",
    "        'category': {'$nin': [\"physics\", \"chemistry\", \"medicine\"]},\n",
    "        \"share\": {'$ne': \"1\"},\n",
    "        \"year\": {'$gte': \"1945\"},\n",
    "    }}}\n",
    "\n",
    "ratio = db.laureates.count_documents(unshared) / db.laureates.count_documents(shared)\n",
    "print(ratio)"
   ]
  },
  {
   "cell_type": "markdown",
   "metadata": {},
   "source": [
    "## 02.11 Organizations and prizes over time\n",
    "\n",
    "How many organizations won prizes before 1945 versus in or after 1945?\n",
    "\n",
    "**Instructions**\n",
    "\n",
    "1. You won't need the \\$elemMatch operator at all for this exercise.\n",
    "2. Save a filter before to count organization laureates with prizes won before 1945. Recall that organization status is encoded with the \"gender\" field, and that dot notation is needed to access a laureate's \"year\" field within its \"prizes\" array.\n",
    "3. Save a filter in_or_after to count organization laureates with prizes won in or after 1945.\n",
    "\n",
    "\n",
    "**Results**\n",
    "\n",
    "<font color=darkgreen>Cool! Even though fewer than two thirds of Nobel prizes were awarded in 1945 and later, over 80% of organizations won prizes then.</font>"
   ]
  },
  {
   "cell_type": "code",
   "execution_count": 16,
   "metadata": {},
   "outputs": [
    {
     "name": "stdout",
     "output_type": "stream",
     "text": [
      "0.84\n"
     ]
    }
   ],
   "source": [
    "# Save a filter for organization laureates with prizes won before 1945\n",
    "before = {\n",
    "    'gender': 'org',\n",
    "    'prizes.year': {'$lt': \"1945\"},\n",
    "    }\n",
    "\n",
    "# Save a filter for organization laureates with prizes won in or after 1945\n",
    "in_or_after = {\n",
    "    'gender': 'org',\n",
    "    'prizes.year': {'$gte': \"1945\"},\n",
    "    }\n",
    "\n",
    "n_before = db.laureates.count_documents(before)\n",
    "n_in_or_after = db.laureates.count_documents(in_or_after)\n",
    "ratio = n_in_or_after / (n_in_or_after + n_before)\n",
    "print(ratio)"
   ]
  },
  {
   "cell_type": "markdown",
   "metadata": {},
   "source": [
    "## 02.12 Distinct As You Like It\n",
    "\n",
    "1. Distinct As You Like It: Filtering with Regular Expressions\n",
    ">We've seen how to construct filters comparing a field's value exactly. For string-valued fields, we may want instead to match a field's value to a pattern. We may want to match a substring. We may want to constrain that substring to appear at the start or end of a field's value. Or, we may want something more complex. Regular expressions are a powerful way to express such filters. Let's see how MongoDB supports them.\n",
    "\n",
    "2. Finding a substring with \\$regex\n",
    ">Let's look at the laureate document for Marie Curie. Recall that she discovered a new element and named it polonium. She did this to publicize her native land's lack of independence. We see here that Poland is a substring of her document's \"bornCountry\". How can we filter for values of \"bornCountry\" that contain Poland as a substring? We can use MongoDB's regular expression operator, regex. Here I use the regex operator on the string \"Poland\" in a filter document. This expression gets distinct values of \"bornCountry\" that contain \"Poland\" as a substring. The results show that some laureates were born in places that at the time were not part of Poland but today are. Others were born in places that at the time were part of Poland but today are not. And finally, some were born in places that both at the time were and today are part of Poland.\n",
    "\n",
    "3. Flag options for regular expressions\n",
    ">We can use the regex operator together with the options operator. This will change the conditions for matching. For example, the \"i\" option ensures case-insensitive matching. The string passed to regex in the second statement is \"poland\", all lower case. The assertion here is true - Poland is always capitalized for this field. MongoDB also supports compiled regular expression objects. The pymongo driver includes a bson package with a Regex class, which you can import and use as shown. Finally, using native Python regular expression objects is possible. I do not recommend this, though. Use of the bson Regex class is more robust for MongoDB.\n",
    "\n",
    "4. Beginning and ending (and escaping)\n",
    ">The syntax of regular expressions is rich. For the exercises, though, you only need to know a few tricks. First, you need to know how to match the beginning or end of a field's value. Second, you need to know how to escape a special character so that you match the character itself. To match the beginning of a field's value, use the caret character. Anchor it to the beginning of the string you pass to regex. This expression returns distinct values of the \"bornCountry\" field that start with Poland. To escape a character, use a backslash. A paren functions to capture groups in regular expressions. Because we want to match a literal open paren and not use this function, we escape it with a backslash. This expression returns \"bornCountry\" values for countries that used to be Poland. Finally, to match the end of a field's value, use the dollar sign. Anchor it to the end of what you pass to regex. This expression returns all countries that became Poland after a laureate's birth. What you see here is all you need for the exercises. Use a caret to match the beginning of a field, a dollar sign to match the end, and a backslash to escape parentheses.\n",
    "\n",
    "5. Let's practice!\n",
    ">We have new tools to answer questions about string-valued fields in MongoDB collections. Let's practice!"
   ]
  },
  {
   "cell_type": "code",
   "execution_count": 17,
   "metadata": {},
   "outputs": [
    {
     "name": "stdout",
     "output_type": "stream",
     "text": [
      "Filter: {'firstname': 'Marie'} \n",
      "Found elements:\n",
      "{'_id': ObjectId('6035898c6109195e81d36a29'),\n",
      " 'born': '1867-11-07',\n",
      " 'bornCity': 'Warsaw',\n",
      " 'bornCountry': 'Russian Empire (now Poland)',\n",
      " 'bornCountryCode': 'PL',\n",
      " 'died': '1934-07-04',\n",
      " 'diedCity': 'Sallanches',\n",
      " 'diedCountry': 'France',\n",
      " 'diedCountryCode': 'FR',\n",
      " 'firstname': 'Marie',\n",
      " 'gender': 'female',\n",
      " 'id': '6',\n",
      " 'prizes': [{'affiliations': [[]],\n",
      "             'category': 'physics',\n",
      "             'motivation': '\"in recognition of the extraordinary services they '\n",
      "                           'have rendered by their joint researches on the '\n",
      "                           'radiation phenomena discovered by Professor Henri '\n",
      "                           'Becquerel\"',\n",
      "             'share': '4',\n",
      "             'year': '1903'},\n",
      "            {'affiliations': [{'city': 'Paris',\n",
      "                               'country': 'France',\n",
      "                               'name': 'Sorbonne University'}],\n",
      "             'category': 'chemistry',\n",
      "             'motivation': '\"in recognition of her services to the advancement '\n",
      "                           'of chemistry by the discovery of the elements '\n",
      "                           'radium and polonium, by the isolation of radium '\n",
      "                           'and the study of the nature and compounds of this '\n",
      "                           'remarkable element\"',\n",
      "             'share': '1',\n",
      "             'year': '1911'}],\n",
      " 'surname': 'Curie, née Sklodowska'}\n",
      "\n",
      "Filter: {'bornCountry': {'$regex': 'Poland'}} \n",
      "Found elements:\n",
      "['Austria-Hungary (now Poland)',\n",
      " 'Free City of Danzig (now Poland)',\n",
      " 'German-occupied Poland (now Poland)',\n",
      " 'Germany (now Poland)',\n",
      " 'Poland',\n",
      " 'Poland (now Belarus)',\n",
      " 'Poland (now Lithuania)',\n",
      " 'Poland (now Ukraine)',\n",
      " 'Prussia (now Poland)',\n",
      " 'Russian Empire (now Poland)']\n"
     ]
    }
   ],
   "source": [
    "# Exploring\n",
    "criteria = {\"firstname\": \"Marie\"}\n",
    "print(f'Filter: {criteria} \\nFound elements:')\n",
    "pprint(db.laureates.find_one(criteria))\n",
    "\n",
    "# Finding a substring with $regex\n",
    "criteria = {\"bornCountry\": {\"$regex\": \"Poland\"}}\n",
    "print(f'\\nFilter: {criteria} \\nFound elements:')\n",
    "pprint(db.laureates.distinct('bornCountry', criteria))"
   ]
  },
  {
   "cell_type": "code",
   "execution_count": 18,
   "metadata": {},
   "outputs": [
    {
     "name": "stdout",
     "output_type": "stream",
     "text": [
      "['Austria-Hungary (now Poland)',\n",
      " 'Free City of Danzig (now Poland)',\n",
      " 'German-occupied Poland (now Poland)',\n",
      " 'Germany (now Poland)',\n",
      " 'Poland',\n",
      " 'Poland (now Belarus)',\n",
      " 'Poland (now Lithuania)',\n",
      " 'Poland (now Ukraine)',\n",
      " 'Prussia (now Poland)',\n",
      " 'Russian Empire (now Poland)']\n",
      "['Austria-Hungary (now Poland)',\n",
      " 'Free City of Danzig (now Poland)',\n",
      " 'German-occupied Poland (now Poland)',\n",
      " 'Germany (now Poland)',\n",
      " 'Poland',\n",
      " 'Poland (now Belarus)',\n",
      " 'Poland (now Lithuania)',\n",
      " 'Poland (now Ukraine)',\n",
      " 'Prussia (now Poland)',\n",
      " 'Russian Empire (now Poland)']\n"
     ]
    }
   ],
   "source": [
    "# Flag options for regular expressions - using $regex\n",
    "case_sensitive = db.laureates.distinct(\"bornCountry\", {\"bornCountry\": {\"$regex\": \"Poland\"}})\n",
    "pprint(case_sensitive)\n",
    "\n",
    "case_insensitive = db.laureates.distinct(\"bornCountry\", {\"bornCountry\": {\"$regex\": \"poland\", \"$options\": \"i\"}})\n",
    "pprint(case_insensitive)\n",
    "\n",
    "assert set(case_sensitive) == set(case_insensitive)\n",
    "\n",
    "# Flag options for regular expressions - using bson.regex (the best option)\n",
    "bson_option = db.laureates.distinct(\"bornCountry\", {\"bornCountry\": Regex(\"poland\", \"i\")})\n",
    "\n",
    "assert set(case_sensitive) == set(bson_option)\n",
    "\n",
    "# Flag options for regular expressions - using re (not recomended)\n",
    "re_option = db.laureates.distinct(\"bornCountry\", {\"bornCountry\": re.compile(\"poland\", re.I)})\n",
    "\n",
    "assert set(case_sensitive) == set(re_option)"
   ]
  },
  {
   "cell_type": "code",
   "execution_count": 19,
   "metadata": {},
   "outputs": [
    {
     "name": "stdout",
     "output_type": "stream",
     "text": [
      "\n",
      "Begin with \"Poland\":\n",
      "['Poland',\n",
      " 'Poland (now Belarus)',\n",
      " 'Poland (now Lithuania)',\n",
      " 'Poland (now Ukraine)']\n",
      "\n",
      "Begin with \"Poland (now\"\n",
      "['Poland (now Belarus)', 'Poland (now Lithuania)', 'Poland (now Ukraine)']\n",
      "\n",
      "End with \"Poland)\"\n",
      "['Austria-Hungary (now Poland)',\n",
      " 'Free City of Danzig (now Poland)',\n",
      " 'German-occupied Poland (now Poland)',\n",
      " 'Germany (now Poland)',\n",
      " 'Prussia (now Poland)',\n",
      " 'Russian Empire (now Poland)']\n"
     ]
    }
   ],
   "source": [
    "# Beginning and ending (and escaping)\n",
    "print('\\nBegin with \"Poland\":')\n",
    "pprint(db.laureates.distinct(\"bornCountry\", {\"bornCountry\": Regex(\"^Poland\")}))\n",
    "\n",
    "print('\\nBegin with \"Poland (now\"')\n",
    "pprint(db.laureates.distinct(\"bornCountry\", {\"bornCountry\": Regex(\"^Poland \\(now\")}))\n",
    "\n",
    "print('\\nEnd with \"Poland)\"')\n",
    "pprint(db.laureates.distinct(\"bornCountry\", {\"bornCountry\": Regex(\"now Poland\\)$\")}))"
   ]
  },
  {
   "cell_type": "markdown",
   "metadata": {},
   "source": [
    "## 02.13 Glenn, George, and others in the G.B. crew\n",
    "\n",
    "**Instructions**\n",
    "\n",
    "There are two laureates with Berkeley, California as a prize affiliation city that have the initials G.S. - Glenn Seaborg and George Smoot. How many laureates in total have a first name beginning with \"G\" and a surname beginning with \"S\"?\n",
    "\n",
    "Evaluate the expression\n",
    "\n",
    "<code>db.laureates.count_documents({\"firstname\": Regex(____), \"surname\": Regex(____)})</code>\n",
    "\n",
    "in the console, filling in the blanks appropriately.\n",
    "\n",
    "**Possible Answers**\n",
    "\n",
    "1. __9 laureates__\n",
    "2. 12 laureates\n",
    "3. 50 laureates\n",
    "\n",
    "**Results**\n",
    "\n",
    "<font color=darkgreen>Correct! The filter {\"firstname\": Regex(\"^G\"), \"surname\": Regex(\"^S\")} gives us the right answer.</font>"
   ]
  },
  {
   "cell_type": "code",
   "execution_count": 20,
   "metadata": {},
   "outputs": [
    {
     "data": {
      "text/plain": [
       "9"
      ]
     },
     "execution_count": 20,
     "metadata": {},
     "output_type": "execute_result"
    }
   ],
   "source": [
    "db.laureates.count_documents({\"firstname\": Regex('^G'), \"surname\": Regex('^S')})"
   ]
  },
  {
   "cell_type": "markdown",
   "metadata": {},
   "source": [
    "## 02.14 Germany, then and now\n",
    "\n",
    "Just as we saw with Poland, there are laureates who were born somewhere that was in Germany at the time but is now not, and others born somewhere that was not in Germany at the time but now is.\n",
    "\n",
    "**Instructions**\n",
    "\n",
    "1. Use a regular expression object to filter for laureates with \"Germany\" in their \"bornCountry\" value.\n",
    "2. Use a regular expression object to filter for laureates with a \"bornCountry\" value starting with \"Germany\".\n",
    "3. Use a regular expression object to filter for laureates born in what was at the time Germany but is now another country.\n",
    "4. Use a regular expression object to filter for laureates born in what is now Germany but at the time was another country.\n",
    "\n",
    "**Results**\n",
    "\n",
    "<font color=darkgreen>Wunderbar! There are twelve distinct values that represent countries that were or became part of Germany. Also, some laureates were born in parts of modern-day Poland, France, and Russia that were at the time part of Germany. Finally, it's true – the home of Oktoberfest, Bavaria, was really its own country at one time!</font>"
   ]
  },
  {
   "cell_type": "code",
   "execution_count": 21,
   "metadata": {},
   "outputs": [
    {
     "name": "stdout",
     "output_type": "stream",
     "text": [
      "Filter: {'bornCountry': Regex('Germany', 0)} \n",
      "Found born country:\n",
      "{'Bavaria (now Germany)',\n",
      " 'East Friesland (now Germany)',\n",
      " 'Germany',\n",
      " 'Germany (now France)',\n",
      " 'Germany (now Poland)',\n",
      " 'Germany (now Russia)',\n",
      " 'Hesse-Kassel (now Germany)',\n",
      " 'Mecklenburg (now Germany)',\n",
      " 'Prussia (now Germany)',\n",
      " 'Schleswig (now Germany)',\n",
      " 'W&uuml;rttemberg (now Germany)',\n",
      " 'West Germany (now Germany)'}\n",
      "\n",
      "Filter: {'bornCountry': Regex('^Germany', 0)} \n",
      "Found born country:\n",
      "{'Germany',\n",
      " 'Germany (now France)',\n",
      " 'Germany (now Poland)',\n",
      " 'Germany (now Russia)'}\n",
      "\n",
      "Filter: {'bornCountry': Regex('^Germany \\\\(now', 0)} \n",
      "Found born country:\n",
      "{'Germany (now Russia)', 'Germany (now Poland)', 'Germany (now France)'}\n",
      "\n",
      "Filter: {'bornCountry': Regex('now Germany\\\\)$', 0)} \n",
      "Found born country:\n",
      "{'Bavaria (now Germany)',\n",
      " 'East Friesland (now Germany)',\n",
      " 'Hesse-Kassel (now Germany)',\n",
      " 'Mecklenburg (now Germany)',\n",
      " 'Prussia (now Germany)',\n",
      " 'Schleswig (now Germany)',\n",
      " 'W&uuml;rttemberg (now Germany)',\n",
      " 'West Germany (now Germany)'}\n"
     ]
    }
   ],
   "source": [
    "# Filter for laureates with \"Germany\" in their \"bornCountry\" value\n",
    "criteria = {\"bornCountry\": Regex('Germany')}\n",
    "print(f'Filter: {criteria} \\nFound born country:')\n",
    "pprint(set(db.laureates.distinct(\"bornCountry\", criteria)))\n",
    "\n",
    "# Filter for laureates with a \"bornCountry\" value starting with \"Germany\"\n",
    "criteria = {\"bornCountry\": Regex('^Germany')}\n",
    "print(f'\\nFilter: {criteria} \\nFound born country:')\n",
    "pprint(set(db.laureates.distinct(\"bornCountry\", criteria)))\n",
    "\n",
    "# Fill in a string value to be sandwiched between the strings \"^Germany \" and \"now\"\n",
    "criteria = {\"bornCountry\": Regex(\"^Germany \" + '\\(' + \"now\")}\n",
    "print(f'\\nFilter: {criteria} \\nFound born country:')\n",
    "pprint(set(db.laureates.distinct(\"bornCountry\", criteria)))\n",
    "\n",
    "#Filter for currently-Germany countries of birth. Fill in a string value to be sandwiched between the strings \"now\" and \"$\"\n",
    "criteria = {\"bornCountry\": Regex(\"now\" + ' Germany\\)' + \"$\")}\n",
    "print(f'\\nFilter: {criteria} \\nFound born country:')\n",
    "pprint(set(db.laureates.distinct(\"bornCountry\", criteria)))"
   ]
  },
  {
   "cell_type": "markdown",
   "metadata": {},
   "source": [
    "## 02.15 The prized transistor\n",
    "\n",
    "Three people shared a Nobel prize \"for their researches on semiconductors and their discovery of the transistor effect\". We can filter on \"transistor\" as a substring of a laureate's \"prizes.motivation\" field value to find these laureates.\n",
    "\n",
    "**Instructions**\n",
    "\n",
    "1. Save a filter criteria that finds laureates with prizes.motivation values containing \"transistor\" as a substring. The substring can appear anywhere within the value, so no anchoring characters are needed.\n",
    "2. Save to first and last the field names corresponding to a laureate's first name and last name (i.e. \"surname\") so that we can print out the names of these laureates.\n",
    "\n",
    "**Results**\n",
    "\n",
    "<font color=darkgreen>Great! Shockley and Bareen and Brattain were a great team.</font>"
   ]
  },
  {
   "cell_type": "code",
   "execution_count": 22,
   "metadata": {},
   "outputs": [
    {
     "name": "stdout",
     "output_type": "stream",
     "text": [
      "[('William Bradford', 'Shockley'),\n",
      " ('John', 'Bardeen'),\n",
      " ('Walter Houser', 'Brattain')]\n"
     ]
    }
   ],
   "source": [
    "# Save a filter for laureates with prize motivation values containing \"transistor\" as a substring\n",
    "criteria = {'prizes.motivation': Regex('transistor')}\n",
    "\n",
    "# Save the field names corresponding to a laureate's first name and last name\n",
    "first, last = 'firstname', 'surname'\n",
    "pprint([(laureate[first], laureate[last]) for laureate in db.laureates.find(criteria)])"
   ]
  },
  {
   "cell_type": "markdown",
   "metadata": {},
   "source": [
    "# Aditional material\n",
    "- Datacamp course: https://learn.datacamp.com/courses/introduction-to-using-mongodb-for-data-science-with-python"
   ]
  }
 ],
 "metadata": {
  "kernelspec": {
   "display_name": "Python 3",
   "language": "python",
   "name": "python3"
  },
  "language_info": {
   "codemirror_mode": {
    "name": "ipython",
    "version": 3
   },
   "file_extension": ".py",
   "mimetype": "text/x-python",
   "name": "python",
   "nbconvert_exporter": "python",
   "pygments_lexer": "ipython3",
   "version": "3.8.8"
  }
 },
 "nbformat": 4,
 "nbformat_minor": 4
}
