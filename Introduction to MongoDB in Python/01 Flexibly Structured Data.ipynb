{
 "cells": [
  {
   "cell_type": "code",
   "execution_count": 1,
   "metadata": {},
   "outputs": [],
   "source": [
    "# Import libraries\n",
    "import requests\n",
    "import json\n",
    "import numpy as np\n",
    "\n",
    "from pymongo import MongoClient\n",
    "from pprint import pprint"
   ]
  },
  {
   "cell_type": "markdown",
   "metadata": {},
   "source": [
    "# 01. Flexibly Structured Data\n",
    "\n",
    "This chapter is about getting a bird's-eye view of the Nobel Prize data's structure. You will relate MongoDB documents, collections, and databases to JSON and Python types. You'll then use filters, operators, and dot notation to explore substructure."
   ]
  },
  {
   "cell_type": "markdown",
   "metadata": {},
   "source": [
    "## 01.01 Intro to MongoDB and the Nobel Prize dataset\n",
    "\n",
    "1. Welcome\n",
    ">Welcome to my intro to MongoDB with Python. MongoDB is a tool that helps you explore data without requiring it to have a strict, known structure. Because of this, you can handle diverse data together and unify analytics. You can also keep improving and fix issues as your requirements evolve. Most application programming interfaces - or APIs - on the web today expose a certain data format. If you can express your data in this format, then you can get started with MongoDB. Here's what I mean:\n",
    "\n",
    "2. JavaScript Object Notation (JSON)\n",
    ">Javascript is the language of web browsers. JavaScript Object Notation, or JSON, is a common way that web services and client code pass data. JSON is also the basis of MongoDB's data format. So, what is JSON? JSON has two collection structures. Objects map string keys to values, and arrays order values. Values, in turn, are one of a few things.\n",
    "\n",
    "3. JavaScript Object Notation (JSON)\n",
    ">Values, in turn, are one of a few things. Values are strings, numbers, the value \"true\", the value \"false\", the value \"null\", or another object or array. That's it.\n",
    "\n",
    "4. JSON <> Python\n",
    ">These JSON data types have equivalents in Python. JSON objects are like Python dictionaries with string-type keys. Arrays are like Python lists. And the values I mentioned also map to Python. For example, null in JSON maps to None in Python.\n",
    "\n",
    "5. JSON <> Python <> MongoDB\n",
    ">Now, how are these JSON/Python types expressed in MongoDB? A database maps names to collections. You can access collections by name the same way you would access values in a Python dictionary. A collection, in turn, is like a list of dictionaries, called \"documents\" by MongoDB. When a dictionary is a value within a document, that's a subdocument. Values in a document can be any of the types I mentioned. MongoDB also supports some types native to Python but not to JSON. Two examples are dates and regular expressions.\n",
    "\n",
    "6. The Nobel Prize API data(base)\n",
    ">Let's make concrete how JSON maps to Python and in turn to MongoDB. Here is how I accessed the Nobel Prize API and collected its data into a Mongo database for you. First, I import the requests library, which will get the data from the API. I also import the MongoClient class from pymongo. Pymongo is the official Python driver for MongoDB. Then, I connect to my local database server. I say that I want a database with the name \"nobel\", and MongoDB creates it. Finally, I gather JSON responses for the \"prize\" and \"laureate\" endpoints. I insert them into the \"prizes\" and \"laureates\" collections, which Mongo also creates for me.\n",
    "\n",
    "7. Accessing databases and collections\n",
    ">Now, let's go over how to count documents in a collection, and how to find one to inspect. First, a note on accessing databases and collections from a client object. One way is square bracket notation, as if a client is a dictionary of databases, with database names as keys. A database in turn is like a dictionary of collections, with collection names as keys. Another way to access things is dot notation. Databases are attributes of a client, and collections are attributes of a database.\n",
    "\n",
    "8. Count documents in a collection\n",
    ">To count documents, use the \"count_documents \" collection method. Pass a filter document to limit what you count. In this case, I want an unfiltered total count, so I pass an empty document as the filter. Finally, you can fetch a document and infer the schema of the raw JSON data given by the Nobel Prize API. Use the find_one method, again with no filter, to grab a document from the collection.\n",
    "\n",
    "9. Let's practice!\n",
    ">Now, let's practice. You'll access databases and collections from a connected client. You'll count documents, and you'll inspect them."
   ]
  },
  {
   "cell_type": "code",
   "execution_count": 2,
   "metadata": {},
   "outputs": [
    {
     "name": "stdout",
     "output_type": "stream",
     "text": [
      "Cleaning finished...\n"
     ]
    }
   ],
   "source": [
    "# Client connects to \"localhost\" by default\n",
    "client = MongoClient()\n",
    "\n",
    "# PREPARING THE DATABASE\n",
    "# Use empty document {} as a filter\n",
    "filter = {}\n",
    "database_collections = {'nobel' : ['prizes', 'laureates'], \n",
    "                        'nobel2': ['nobelPrizes', 'laureates']}\n",
    "for database in database_collections:\n",
    "    db = client[database]\n",
    "    for collection_name in database_collections[database]:\n",
    "        db[collection_name].delete_many(filter)\n",
    "print('Cleaning finished...')"
   ]
  },
  {
   "cell_type": "code",
   "execution_count": 3,
   "metadata": {},
   "outputs": [
    {
     "name": "stdout",
     "output_type": "stream",
     "text": [
      "Year 1901 added...\n",
      "Year 1902 added...\n",
      "Year 1903 added...\n",
      "Year 1904 added...\n",
      "Year 1905 added...\n",
      "Year 1906 added...\n",
      "Year 1907 added...\n",
      "Year 1908 added...\n",
      "Year 1909 added...\n",
      "Year 1910 added...\n",
      "Year 1911 added...\n",
      "Year 1912 added...\n",
      "Year 1913 added...\n",
      "Year 1914 added...\n",
      "Year 1915 added...\n",
      "Year 1916 added...\n",
      "Year 1917 added...\n",
      "Year 1918 added...\n",
      "Year 1919 added...\n",
      "Year 1920 added...\n",
      "Year 1921 added...\n",
      "Year 1922 added...\n",
      "Year 1923 added...\n",
      "Year 1924 added...\n",
      "Year 1925 added...\n",
      "Year 1926 added...\n",
      "Year 1927 added...\n",
      "Year 1928 added...\n",
      "Year 1929 added...\n",
      "Year 1930 added...\n",
      "Year 1931 added...\n",
      "Year 1932 added...\n",
      "Year 1933 added...\n",
      "Year 1934 added...\n",
      "Year 1935 added...\n",
      "Year 1936 added...\n",
      "Year 1937 added...\n",
      "Year 1938 added...\n",
      "Year 1939 added...\n",
      "Year 1943 added...\n",
      "Year 1944 added...\n",
      "Year 1945 added...\n",
      "Year 1946 added...\n",
      "Year 1947 added...\n",
      "Year 1948 added...\n",
      "Year 1949 added...\n",
      "Year 1950 added...\n",
      "Year 1951 added...\n",
      "Year 1952 added...\n",
      "Year 1953 added...\n",
      "Year 1954 added...\n",
      "Year 1955 added...\n",
      "Year 1956 added...\n",
      "Year 1957 added...\n",
      "Year 1958 added...\n",
      "Year 1959 added...\n",
      "Year 1960 added...\n",
      "Year 1961 added...\n",
      "Year 1962 added...\n",
      "Year 1963 added...\n",
      "Year 1964 added...\n",
      "Year 1965 added...\n",
      "Year 1966 added...\n",
      "Year 1967 added...\n",
      "Year 1968 added...\n",
      "Year 1969 added...\n",
      "Year 1970 added...\n",
      "Year 1971 added...\n",
      "Year 1972 added...\n",
      "Year 1973 added...\n",
      "Year 1974 added...\n",
      "Year 1975 added...\n",
      "Year 1976 added...\n",
      "Year 1977 added...\n",
      "Year 1978 added...\n",
      "Year 1979 added...\n",
      "Year 1980 added...\n",
      "Year 1981 added...\n",
      "Year 1982 added...\n",
      "Year 1983 added...\n",
      "Year 1984 added...\n",
      "Year 1985 added...\n",
      "Year 1986 added...\n",
      "Year 1987 added...\n",
      "Year 1988 added...\n",
      "Year 1989 added...\n",
      "Year 1990 added...\n",
      "Year 1991 added...\n",
      "Year 1992 added...\n",
      "Year 1993 added...\n",
      "Year 1994 added...\n",
      "Year 1995 added...\n",
      "Year 1996 added...\n",
      "Year 1997 added...\n",
      "Year 1998 added...\n",
      "Year 1999 added...\n",
      "Year 2000 added...\n",
      "Year 2001 added...\n",
      "Year 2002 added...\n",
      "Year 2003 added...\n",
      "Year 2004 added...\n",
      "Year 2005 added...\n",
      "Year 2006 added...\n",
      "Year 2007 added...\n",
      "Year 2008 added...\n",
      "Year 2009 added...\n",
      "Year 2010 added...\n",
      "Year 2011 added...\n",
      "Year 2012 added...\n",
      "Year 2013 added...\n",
      "Year 2014 added...\n",
      "Year 2015 added...\n",
      "Year 2016 added...\n",
      "Year 2017 added...\n",
      "Year 2018 added...\n",
      "Year 2019 added...\n",
      "Year 2020 added...\n",
      "Loading finished...\n"
     ]
    }
   ],
   "source": [
    "# READING FROM API SERVICE\n",
    "# Create local \"nobel2\" database on the fly\n",
    "db = client[\"nobel2\"]\n",
    "\n",
    "years = np.arange(1901, 2021)\n",
    "path_data = {\"nobelPrizes\": 'https://api.nobelprize.org/2.0/nobelPrizes', \n",
    "             \"laureates\": 'https://api.nobelprize.org/2.0/laureates'}\n",
    "for nobelPrizeYear in years:\n",
    "    for collection_name in path_data:\n",
    "        # collect the data from the API\n",
    "        response = requests.get(path_data[collection_name], params={'nobelPrizeYear': nobelPrizeYear})\n",
    "        \n",
    "        # convert the data to json\n",
    "        documents = response.json()[collection_name]\n",
    "    \n",
    "        # Create collections on the fly\n",
    "        if len(documents) > 0:\n",
    "            db[collection_name].insert_many(documents) \n",
    "    \n",
    "    if len(documents) > 0:\n",
    "        print(f'Year {nobelPrizeYear} added...')\n",
    "\n",
    "print('Loading finished...')\n",
    "\n",
    "## Create local \"nobel2\" database on the fly\n",
    "#db = client[\"nobel2\"]\n",
    "#\n",
    "#path_data = {\"nobelPrizes\": 'https://api.nobelprize.org/2.0/nobelPrizes', \n",
    "#             \"laureates\": 'https://api.nobelprize.org/2.0/laureates'}\n",
    "#for collection_name in path_data:\n",
    "#    # collect the data from the API\n",
    "#    response = requests.get(path_data[collection_name], params={'limit': 100})\n",
    "#    \n",
    "#    # convert the data to json\n",
    "#    documents = response.json()[collection_name]\n",
    "#    \n",
    "#    # Create collections on the fly\n",
    "#    db[collection_name].insert_many(documents)\n",
    "#\n",
    "#print('Loading finished...')"
   ]
  },
  {
   "cell_type": "code",
   "execution_count": 4,
   "metadata": {},
   "outputs": [
    {
     "name": "stdout",
     "output_type": "stream",
     "text": [
      "Loading finished...\n"
     ]
    }
   ],
   "source": [
    "# READING FROM LOCAL FILE\n",
    "# Create local \"nobel\" database on the fly\n",
    "db = client[\"nobel\"]\n",
    "\n",
    "path_file = 'data/{}.json'\n",
    "\n",
    "for collection_name in ['prizes', 'laureates']:\n",
    "    documents= json.load(open(path_file.format(collection_name)))\n",
    "    # Create collections on the fly\n",
    "    db[collection_name].insert_many(documents)\n",
    "\n",
    "print('Loading finished...')"
   ]
  },
  {
   "cell_type": "code",
   "execution_count": 5,
   "metadata": {},
   "outputs": [
    {
     "name": "stdout",
     "output_type": "stream",
     "text": [
      "Documents in Prizes collections   : 590\n",
      "Documents in Laureates collections: 934\n"
     ]
    }
   ],
   "source": [
    "# Count documents in a collection\n",
    "# Use empty document {} as a filter\n",
    "filter = {}\n",
    "\n",
    "# Count documents in a collection\n",
    "n_prizes = db.prizes.count_documents(filter)\n",
    "n_laureates = db.laureates.count_documents(filter)\n",
    "\n",
    "print('Documents in Prizes collections   :', n_prizes)\n",
    "print('Documents in Laureates collections:', n_laureates)"
   ]
  },
  {
   "cell_type": "markdown",
   "metadata": {},
   "source": [
    "## 01.02 Count documents in a collection\n",
    "\n",
    "In the video, you learned that a MongoDB database can consist of several collections. Collections, in turn, consist of documents, which store the data.\n",
    "\n",
    "You will be working with the Nobel laureates database which we have retrieved as __nobel__. The database has two collections, __prizes__ and __laureates__. In the __prizes__ collection, every document correspond to a single Nobel prize, and in the __laureates__ collection - to a single Nobel laureate.\n",
    "\n",
    "Recall that you can access databases by name as attributes of the client, like __client.my_database__ (a connected client is already provided to you as __client__). Similarly, collections can be accessed by name as attributes of databases (__my_database.my_collection__).\n",
    "\n",
    "**Instructions**\n",
    "\n",
    "_Use the console on the right to compare the number of laureates and prizes using the __.count_documents()__ method on a collection (don't forget to specify an empty filter document as the argument!), and pick a statement that is __TRUE__._\n",
    "\n",
    "**Possible Answers**\n",
    "\n",
    "1. The number of prizes and laureates are equal.\n",
    "2. Prizes outnumber laureates.\n",
    "3. __Laureates outnumber prizes.__\n",
    "\n",
    "**Results**\n",
    "\n",
    "<font color=darkgreen>Correct! Many laureates have shared prizes!</font>"
   ]
  },
  {
   "cell_type": "code",
   "execution_count": 6,
   "metadata": {},
   "outputs": [
    {
     "name": "stdout",
     "output_type": "stream",
     "text": [
      "590\n",
      "934\n"
     ]
    }
   ],
   "source": [
    "# Create local \"nobel\" database on the fly\n",
    "client = MongoClient()\n",
    "\n",
    "print(client.nobel.prizes.count_documents({}))\n",
    "print(client.nobel.laureates.count_documents({}))"
   ]
  },
  {
   "cell_type": "markdown",
   "metadata": {},
   "source": [
    "## 01.03 Listing databases and collections\n",
    "\n",
    "Our __MongoClient__ object is not actually a dictionary, so we can't __call keys()__ to list the names of accessible databases. The same is true for listing collections of a database. Instead, we can list database names by calling __.list_database_names()__ on a client instance, and we can list collection names by calling __.list_collection_names()__ on a database instance.\n",
    "\n",
    "**Instructions**\n",
    "\n",
    "1. Save a list, called db_names, of the names of the databases managed by our connected client.\n",
    "2. Similarly, save a list, called nobel_coll_names, of the names of the collections managed by the \"nobel\" database.\n",
    "\n",
    "**Results**\n",
    "\n",
    "<font color=darkgreen>Excellent! Did you notice any strange database/collection names? Every Mongo host has 'admin' and 'local' databases for internal bookkeeping, and every Mongo database has a 'system.indexes' collection to store indexes that make searches faster.</font>"
   ]
  },
  {
   "cell_type": "code",
   "execution_count": 7,
   "metadata": {},
   "outputs": [
    {
     "name": "stdout",
     "output_type": "stream",
     "text": [
      "['admin', 'config', 'local', 'nobel', 'nobel2']\n",
      "['prizes', 'laureates']\n"
     ]
    }
   ],
   "source": [
    "# Save a list of names of the databases managed by client\n",
    "db_names = client.list_database_names()\n",
    "print(db_names)\n",
    "\n",
    "# Save a list of names of the collections managed by the \"nobel\" database\n",
    "nobel_coll_names = client.nobel.list_collection_names()\n",
    "print(nobel_coll_names)"
   ]
  },
  {
   "cell_type": "markdown",
   "metadata": {},
   "source": [
    "## 01.04 List fields of a document\n",
    "\n",
    "The __.find_one()__ method of a collection can be used to retrieve a single document. This method accepts an optional __filter__ argument that specifies the pattern that the document must match. You will learn more about filters in the next lesson, but for now, you can specify no filter or an empty document filter (__{}__), in which case MongoDB will return the document that is first in the internal order of the collection.\n",
    "\n",
    "This method is useful when you want to learn the structure of documents in the collection.\n",
    "\n",
    "In Python, the returned document takes the form of a dictionary:\n",
    "\n",
    "><code>sample_doc = {'id' : 12345, 'name':'Donny Winston', 'instructor': True}</code>\n",
    "\n",
    "The keys of the dictionary are the (root-level) \"fields\" of the document, e.g. __'id'__, __'name'__, __'instructor'__.\n",
    "\n",
    "**Instructions**\n",
    "\n",
    "1. Connect to the nobel database.\n",
    "2. Fetch one document from each of the prizes and laureates collections, and then take a look at the output in the console to see the format and type of the documents in Python.\n",
    "\n",
    "Since prize and laureate are dictionaries, you can use the __.keys()__ method to return the keys (i.e. the field names). But it's often more convenient to work with lists of fields.\n",
    "\n",
    "3. Use the list() constructor to save a list of the fields present in the prize and laureate documents.\n",
    "\n",
    "**Result**\n",
    "\n",
    "<font color=darkgreen>Way to fetch those fields! Notice that the prize documents contains a laureates field that stores the information on all the laureates sharing the prize, and the laureate document contains a prizes field, that stores the info on all the prizes they won.</font>"
   ]
  },
  {
   "cell_type": "code",
   "execution_count": 8,
   "metadata": {},
   "outputs": [
    {
     "name": "stdout",
     "output_type": "stream",
     "text": [
      "{'_id': ObjectId('6035cd48354dd8e354623018'),\n",
      " 'category': 'physics',\n",
      " 'laureates': [{'firstname': 'Arthur',\n",
      "                'id': '960',\n",
      "                'motivation': '\"for the optical tweezers and their application '\n",
      "                              'to biological systems\"',\n",
      "                'share': '2',\n",
      "                'surname': 'Ashkin'},\n",
      "               {'firstname': 'Gérard',\n",
      "                'id': '961',\n",
      "                'motivation': '\"for their method of generating high-intensity, '\n",
      "                              'ultra-short optical pulses\"',\n",
      "                'share': '4',\n",
      "                'surname': 'Mourou'},\n",
      "               {'firstname': 'Donna',\n",
      "                'id': '962',\n",
      "                'motivation': '\"for their method of generating high-intensity, '\n",
      "                              'ultra-short optical pulses\"',\n",
      "                'share': '4',\n",
      "                'surname': 'Strickland'}],\n",
      " 'overallMotivation': '“for groundbreaking inventions in the field of laser '\n",
      "                      'physics”',\n",
      " 'year': '2018'}\n",
      "{'_id': ObjectId('6035cd48354dd8e354623266'),\n",
      " 'born': '1853-07-18',\n",
      " 'bornCity': 'Arnhem',\n",
      " 'bornCountry': 'the Netherlands',\n",
      " 'bornCountryCode': 'NL',\n",
      " 'died': '1928-02-04',\n",
      " 'diedCountry': 'the Netherlands',\n",
      " 'diedCountryCode': 'NL',\n",
      " 'firstname': 'Hendrik Antoon',\n",
      " 'gender': 'male',\n",
      " 'id': '2',\n",
      " 'prizes': [{'affiliations': [{'city': 'Leiden',\n",
      "                               'country': 'the Netherlands',\n",
      "                               'name': 'Leiden University'}],\n",
      "             'category': 'physics',\n",
      "             'motivation': '\"in recognition of the extraordinary service they '\n",
      "                           'rendered by their researches into the influence of '\n",
      "                           'magnetism upon radiation phenomena\"',\n",
      "             'share': '2',\n",
      "             'year': '1902'}],\n",
      " 'surname': 'Lorentz'}\n",
      "<class 'dict'>\n",
      "['_id', 'year', 'category', 'overallMotivation', 'laureates']\n",
      "['_id', 'id', 'firstname', 'surname', 'born', 'died', 'bornCountry', 'bornCountryCode', 'bornCity', 'diedCountry', 'diedCountryCode', 'gender', 'prizes']\n"
     ]
    }
   ],
   "source": [
    "# Connect to the \"nobel\" database\n",
    "db = client.nobel\n",
    "\n",
    "# Retrieve sample prize and laureate documents\n",
    "prize = db.prizes.find_one()\n",
    "laureate = db.laureates.find_one()\n",
    "\n",
    "# Print the sample prize and laureate documents\n",
    "pprint(prize)\n",
    "pprint(laureate)\n",
    "print(type(laureate))\n",
    "\n",
    "# Get the fields present in each type of document\n",
    "prize_fields = list(prize.keys())\n",
    "laureate_fields = list(laureate.keys())\n",
    "\n",
    "print(prize_fields)\n",
    "print(laureate_fields)"
   ]
  },
  {
   "cell_type": "markdown",
   "metadata": {},
   "source": [
    "## 01.05 Finding documents\n",
    "\n",
    "1. Finding documents\n",
    ">In the last lesson, we learned about databases, collections, and documents. We also learned how data structures in MongoDB relate to those of JSON and Python. In this lesson, we will learn how to query a collection to find documents of interest.\n",
    "\n",
    "2. An example \"laureates\" document\n",
    ">Here we have an example document in the laureates collection. Finding documents in MongoDB reminds me of the work of this particular laureate. The remarkable rays named after him are today called x-rays.\n",
    "\n",
    "3. Filters as (sub)documents\n",
    ">To find documents satisfying some criteria, we express those criteria as a document. This filter document mirrors the structure of documents to match in the collection. Imagine a filter document as an x-ray image like the one on the right. This image is one of the first x-ray images ever recorded. Imagine you use it to filter by eye a collection of color photos of people's hands. You might keep ones with five fingers and a ring on the ring finger.\n",
    "\n",
    "4. The Walrus is Out\n",
    ">Here's another way to think about filter documents. Hold a pair of pants up to a collection of mammals, one at a time. The pants fit a part of the structure of human beings, but not that of a walrus. Sorry, Wally.\n",
    "\n",
    "5. Simple filters\n",
    ">Filter documents can be small. For example, there are 48 laureate documents with a value for the field gender equal to female. We can do the same for other fields, like country of death and city of birth. Also, we can merge criteria into a single filter document.\n",
    "\n",
    "6. Composing filters\n",
    ">This filter document will have the same form as matching documents. In this case, the filter matches Marie Curie. She discovered the element polonium, named after her native land. Poland was under Russian rule at the time. She hoped that naming an element after it would publicize its lack of independence. Many immigrants won Nobel Prizes, but in what proportion? Later exercises in the course will explore this question.\n",
    "\n",
    "7. Query operators\n",
    ">We've seen filters that match exact values in a document. What about satisfying other constraints? Query operators are like different ways to input values on a website form. Some values you select from options, like countries; some you select with a range slider. All operators on fields wrap around their corresponding values. You might operate a drop-down menu to select a country and a slider to pick a value in a range. Query operators in MongoDB work the same way. You place an operator in a filter document to wrap around a field and its acceptable values.\n",
    "\n",
    "8. Query operators\n",
    ">For example, let's find documents where the field 'diedCountry' is either France or USA. We use the \"in\" operator to wrap around acceptable values. Operators in MongoDB have a dollar-sign prefix. Another example. To find documents where 'diedCountry' is not equal to a certain string, we can use the not-equal - or en ee - operator We can compose query operators for a field.\n",
    "\n",
    "9. Query operators\n",
    ">For example, here we query for documents with 'diedCountry' greater than - or gee tee - the string 'Belgium'. At the same time, we query for 'diedCountry' less than or equal to - or el tee ee - the string 'USA'. How rude that MongoDB considers some countries to be greater than or less than others! Actually, this highlights MongoDB's loose requirements for comparisons. Comparison operators order values in lexicographic order, meaning alphabetical order for non-numeric values. This behavior is something to keep in mind when working with raw, unprocessed data.\n",
    "\n",
    "10. Let's Practice!\n",
    ">Let's practice constructing filter documents, including those with query operators."
   ]
  },
  {
   "cell_type": "code",
   "execution_count": 9,
   "metadata": {},
   "outputs": [
    {
     "name": "stdout",
     "output_type": "stream",
     "text": [
      "Filter: {'born': '1845-03-27', 'diedCountry': 'Germany', 'gender': 'male', 'surname': 'Röntgen'}\n",
      "1\n",
      "Filter: {'gender': 'female'}\n",
      "51\n",
      "Filter: {'diedCountry': 'France'}\n",
      "50\n",
      "Filter: {'bornCity': 'Warsaw'}\n",
      "2\n"
     ]
    }
   ],
   "source": [
    "# Filters as (sub)documents\n",
    "filter_doc = {'born': '1845-03-27',\n",
    "              'diedCountry': 'Germany',\n",
    "              'gender': 'male',\n",
    "              'surname': 'Röntgen'}\n",
    "\n",
    "print('Filter:', filter_doc)\n",
    "print(db.laureates.count_documents(filter_doc))\n",
    "\n",
    "# Simple filters\n",
    "for filter in [{'gender': 'female'}, {'diedCountry': 'France'}, {'bornCity': 'Warsaw'}]:\n",
    "    print('Filter: {}\\n{}'.format(filter, db.laureates.count_documents(filter)))"
   ]
  },
  {
   "cell_type": "code",
   "execution_count": 10,
   "metadata": {},
   "outputs": [
    {
     "name": "stdout",
     "output_type": "stream",
     "text": [
      "Filter: {'gender': 'female', 'diedCountry': 'France', 'bornCity': 'Warsaw'}\n",
      "1\n",
      "{'_id': ObjectId('6035cd48354dd8e3546232aa'),\n",
      " 'born': '1867-11-07',\n",
      " 'bornCity': 'Warsaw',\n",
      " 'bornCountry': 'Russian Empire (now Poland)',\n",
      " 'bornCountryCode': 'PL',\n",
      " 'died': '1934-07-04',\n",
      " 'diedCity': 'Sallanches',\n",
      " 'diedCountry': 'France',\n",
      " 'diedCountryCode': 'FR',\n",
      " 'firstname': 'Marie',\n",
      " 'gender': 'female',\n",
      " 'id': '6',\n",
      " 'prizes': [{'affiliations': [[]],\n",
      "             'category': 'physics',\n",
      "             'motivation': '\"in recognition of the extraordinary services they '\n",
      "                           'have rendered by their joint researches on the '\n",
      "                           'radiation phenomena discovered by Professor Henri '\n",
      "                           'Becquerel\"',\n",
      "             'share': '4',\n",
      "             'year': '1903'},\n",
      "            {'affiliations': [{'city': 'Paris',\n",
      "                               'country': 'France',\n",
      "                               'name': 'Sorbonne University'}],\n",
      "             'category': 'chemistry',\n",
      "             'motivation': '\"in recognition of her services to the advancement '\n",
      "                           'of chemistry by the discovery of the elements '\n",
      "                           'radium and polonium, by the isolation of radium '\n",
      "                           'and the study of the nature and compounds of this '\n",
      "                           'remarkable element\"',\n",
      "             'share': '1',\n",
      "             'year': '1911'}],\n",
      " 'surname': 'Curie, née Sklodowska'}\n"
     ]
    }
   ],
   "source": [
    "# Composing filters\n",
    "filter_doc = {'gender': 'female',\n",
    "              'diedCountry': 'France',\n",
    "              'bornCity': 'Warsaw'}\n",
    "print('Filter:', filter_doc)\n",
    "print(db.laureates.count_documents(filter_doc))\n",
    "pprint(db.laureates.find_one(filter_doc))"
   ]
  },
  {
   "cell_type": "code",
   "execution_count": 11,
   "metadata": {},
   "outputs": [
    {
     "name": "stdout",
     "output_type": "stream",
     "text": [
      "Filter: {'diedCountry': {'$in': ['France', 'USA']}}\n",
      "259\n",
      "Filter: {'diedCountry': {'$ne': 'France'}}\n",
      "884\n",
      "Filter: {'diedCountry': {'$gt': 'Belgium', '$lte': 'USA'}}\n",
      "455\n"
     ]
    }
   ],
   "source": [
    "# Query operators\n",
    "for filter in [{'diedCountry': {'$in': ['France', 'USA']}}, # Value in a range $in: <list>\n",
    "               {'diedCountry': {'$ne': 'France'}}, # Not equal $ne : <value> \n",
    "               {'diedCountry': {'$gt': 'Belgium', '$lte': 'USA'}} #Comparison: > : $gt , ≥ : $gte; < : $lt , ≤ : $lte\n",
    "              ]: \n",
    "    print('Filter: {}\\n{}'.format(filter, db.laureates.count_documents(filter)))"
   ]
  },
  {
   "cell_type": "markdown",
   "metadata": {},
   "source": [
    "## 01.06 \"born\" approximation\n",
    "\n",
    "The __\"born\"__ field in a laureate collection document records the date of birth of that laureate. __\"born\"__ values are of the form \"YYYY-MM-DD\", also known as ISO 8601 format. An example value is \"1937-02-01\", for February 1st, 1937. This format is convenient for lexicographic comparison. For example, the query\n",
    "\n",
    "><code>db.laureates.count_documents({\"born\": {\"$lt\": \"1900\"}})</code>\n",
    "\n",
    "returns the number of laureates with recorded dates of birth earlier than the year 1900 (__\"$lt\"__ is for \"less than\"). \n",
    "\n",
    "**Instructions**\n",
    "    \n",
    "Using the query format above, what is the number of laureates born prior to 1800? What about prior to 1700?\n",
    "\n",
    "**Possible Answers**\n",
    "\n",
    "1. 38 prior to 1800, and 0 prior to 1700\n",
    "2. 324 prior to 1800, and 35 prior to 1700\n",
    "3. __38 prior to 1800, and 38 prior to 1700__\n",
    "\n",
    "**Results**\n",
    "\n",
    "<font color=darkgreen>Correct! The first Nobel Prize was awarded in 1901, they are not awarded posthumously, so...some laureates lived to be more than 200 years old?? It turns out that a laureate's date of birth is recorded as '0000-00-00' when it is not known. Check your assumptions when working with data!</font>"
   ]
  },
  {
   "cell_type": "code",
   "execution_count": 12,
   "metadata": {},
   "outputs": [
    {
     "name": "stdout",
     "output_type": "stream",
     "text": [
      "Prior to 1800: 38\n",
      "Prior to 1700: 38\n"
     ]
    }
   ],
   "source": [
    "print('Prior to 1800:', db.laureates.count_documents({'born': {'$lt':'1800'}}))\n",
    "print('Prior to 1700:', db.laureates.count_documents({'born': {'$lt':'1700'}}))"
   ]
  },
  {
   "cell_type": "markdown",
   "metadata": {},
   "source": [
    "## 01.07 Composing filters\n",
    "\n",
    "It is often useful to incrementally build up a filter document in order to see the effect of adding constraints one at a time. In this exercise, we will count the number of laureate documents matching some criteria, and we will gradually add criteria.\n",
    "\n",
    "**Instructions**\n",
    "\n",
    "1. Create a filter criteria to count laureates who died (\"diedCountry\") in the USA (\"USA\"). Save the document count as count.\n",
    "2. Create a filter to count laureates who died in the United States but were born (\"bornCountry\") in Germany.\n",
    "3. Count laureates who died in the USA, were born in Germany, and whose first name (\"firstname\") was \"Albert\".\n",
    "\n",
    "**Results**\n",
    "\n",
    "<font color=darkgreen>Great work!</font>"
   ]
  },
  {
   "cell_type": "code",
   "execution_count": 13,
   "metadata": {},
   "outputs": [
    {
     "name": "stdout",
     "output_type": "stream",
     "text": [
      "209\n",
      "5\n",
      "1\n"
     ]
    }
   ],
   "source": [
    "# Create a filter for laureates who died in the USA\n",
    "criteria = {'diedCountry': 'USA'}\n",
    "count = db.laureates.count_documents(criteria)\n",
    "print(count)\n",
    "\n",
    "# Create a filter for laureates who died in the USA but were born in Germany\n",
    "criteria = {'diedCountry': 'USA', \n",
    "            'bornCountry': 'Germany'}\n",
    "count = db.laureates.count_documents(criteria)\n",
    "print(count)\n",
    "\n",
    "# Create a filter for Germany-born laureates who died in the USA and with the first name \"Albert\"\n",
    "criteria = {'diedCountry': 'USA', \n",
    "            'bornCountry': 'Germany',\n",
    "            'firstname'  : 'Albert'}\n",
    "count = db.laureates.count_documents(criteria)\n",
    "print(count)"
   ]
  },
  {
   "cell_type": "markdown",
   "metadata": {},
   "source": [
    "## 01.08 We've got options\n",
    "\n",
    "Sometimes, we wish to find documents where a field's value matches any of a set of options. We saw that the __$in__ query operator can be used for this purpose. For example, how many laureates were born in any of \"Canada\", \"Mexico\", or \"USA\"?\n",
    "\n",
    "If we wish to accept all but one option as a value for a field, we can use the __$ne__ (not equal) operator. For example, how many laureates died in the USA but were not born in the USA?\n",
    "\n",
    "**Instructions**\n",
    "\n",
    "1. How many laureates were born in \"USA\", \"Canada\", or \"Mexico\"? Save a filter as criteria and your count as count.\n",
    "2. How many laureates died in the USA but were not born there? Save your filter as criteria and your count as count.\n",
    "\n",
    "**Results**\n",
    "\n",
    "<font color=darkgreen>Good work! $ne is great when you don't want to have to list all other options to $in.</font>"
   ]
  },
  {
   "cell_type": "code",
   "execution_count": 14,
   "metadata": {},
   "outputs": [
    {
     "name": "stdout",
     "output_type": "stream",
     "text": [
      "291\n",
      "69\n"
     ]
    }
   ],
   "source": [
    "# Save a filter for laureates born in the USA, Canada, or Mexico\n",
    "criteria = {'bornCountry': { \"$in\": ['USA', 'Canada', 'Mexico']}}\n",
    "count = db.laureates.count_documents(criteria)\n",
    "print(count)\n",
    "\n",
    "\n",
    "# Save a filter for laureates who died in the USA and were not born there\n",
    "criteria = {'bornCountry': { \"$ne\": 'USA'},\n",
    "            'diedCountry': 'USA'}\n",
    "count = db.laureates.count_documents(criteria)\n",
    "print(count)"
   ]
  },
  {
   "cell_type": "markdown",
   "metadata": {},
   "source": [
    "## 01.09 Dot notation: reach into substructure\n",
    "\n",
    "1. Dot notation: reach into substructure\n",
    ">In the last lesson, we learned how to construct and compose filter documents. We also learned about query operators to express criteria other than simple equality. In this lesson, we are going to learn how to query arrays and subdocuments using dot notation. Dot notation is how MongoDB allows us to query document substructure.\n",
    "\n",
    "2. A functional density\n",
    ">Let's use the find_one method to retrieve one of my favorite laureates. Walter Kohn co-developed an important technique for computational chemistry. Notice that the \"prizes\" field is an array. In this case, the array has one element with data on Kohn's two-way share of the 1998 prize in chemistry. Note also that a laureate may have many affiliations for a prize. The affiliations field of each prize subdocument is an array. To fit text on this slide, I use parentheses to form multiline strings, and I show only part of the document. MongoDB allows you to query document substructure using dot notation. Here's a count of laureates. We reach into the prizes array to query on the affiliations field across prizes. From there, we reach again, this time to query on the name field across affiliations. We count laureates with at least one prize affiliation name as specified. The dot notation gives a full path to a field from the document root. I'm curious how many laureates had an affiliation in Berkeley, CA when they received a prize. Here's my query. Go Bears!\n",
    "\n",
    "3. No Country for Naipaul\n",
    ">MongoDB allows you to specify and enforce a schema for a collection, but this is not required. For example, fields do not need to have the same type of value across documents in a collection. In the case of this laureate, there is an \"empty\" affiliation associated with his prize. Another accommodation in MongoDB is that of field presence. Even root-level fields don't need to be present in all documents. In this document, for example, the \"bornCountry\" field is absent. Using the \"exists\" operator, We can query for the existence, or non-existence of fields. Here, we see that many laureates documents do not have a \"bornCountry\" field.\n",
    "\n",
    "4. Multiple prizes\n",
    ">Do all laureates have a prizes field? With the help of the exists operator, we see that, in fact, they do. But are any of those prizes fields empty arrays? I hope not. We can check using dot notation to access array elements. This borrows from javascript syntax. Here we see a filter document for the criteria that a value exists for the field \"0\" within the \"prizes\" field. You can reference an array element by its numerical index using dot notation. Thus, this expression counts documents that have a non-empty prizes array. We see, to our relief, that all laureate documents contain at least one prize. Are there laureates with more than one prize? Yes! We see that Marie Curie is in this group, along with a few other people you may recognize.\n",
    "\n",
    "5. On to exercises!\n",
    ">We've learned about dot notation to query array and subdocument fields. We've also learned about the \"exists\" operator to check for the presence of fields. Now, let's explore our data some more."
   ]
  },
  {
   "cell_type": "code",
   "execution_count": 15,
   "metadata": {},
   "outputs": [
    {
     "name": "stdout",
     "output_type": "stream",
     "text": [
      "{'_id': ObjectId('6035cd48354dd8e354623266'),\n",
      " 'born': '1853-07-18',\n",
      " 'bornCity': 'Arnhem',\n",
      " 'bornCountry': 'the Netherlands',\n",
      " 'bornCountryCode': 'NL',\n",
      " 'died': '1928-02-04',\n",
      " 'diedCountry': 'the Netherlands',\n",
      " 'diedCountryCode': 'NL',\n",
      " 'firstname': 'Hendrik Antoon',\n",
      " 'gender': 'male',\n",
      " 'id': '2',\n",
      " 'prizes': [{'affiliations': [{'city': 'Leiden',\n",
      "                               'country': 'the Netherlands',\n",
      "                               'name': 'Leiden University'}],\n",
      "             'category': 'physics',\n",
      "             'motivation': '\"in recognition of the extraordinary service they '\n",
      "                           'rendered by their researches into the influence of '\n",
      "                           'magnetism upon radiation phenomena\"',\n",
      "             'share': '2',\n",
      "             'year': '1902'}],\n",
      " 'surname': 'Lorentz'}\n",
      "{'prizes.affiliations.name': 'University of California'} 34\n",
      "{'prizes.affiliations.city': 'Berkeley, CA'} 19\n",
      "{'surname': 'Naipaul'} 1\n",
      "{'bornCountry': {'$exists': False}} 33\n"
     ]
    }
   ],
   "source": [
    "# A functional density\n",
    "criteria = {\"firstname\": \"Walter\", \"surname\": \"Kohn\"}\n",
    "pprint(db.laureates.find_one())\n",
    "\n",
    "criteria = {\"prizes.affiliations.name\": (\"University of California\")}\n",
    "print(criteria, db.laureates.count_documents(criteria))\n",
    "\n",
    "criteria = {\"prizes.affiliations.city\": (\"Berkeley, CA\")}\n",
    "print(criteria, db.laureates.count_documents(criteria))\n",
    "\n",
    "criteria = {'surname': 'Naipaul'}\n",
    "print(criteria, db.laureates.count_documents(criteria))\n",
    "\n",
    "criteria = {\"bornCountry\": {\"$exists\": False}}\n",
    "print(criteria, db.laureates.count_documents(criteria))"
   ]
  },
  {
   "cell_type": "code",
   "execution_count": 16,
   "metadata": {},
   "outputs": [
    {
     "name": "stdout",
     "output_type": "stream",
     "text": [
      "Total documents: 934\n",
      "With prizes: 934\n",
      "With at least one prize: 934\n",
      "With more than one prize: 6\n"
     ]
    }
   ],
   "source": [
    "# Multiple prizes\n",
    "criteria = {}\n",
    "print('Total documents:', db.laureates.count_documents(criteria))\n",
    "\n",
    "criteria = {\"prizes\": {\"$exists\": True}}\n",
    "print('With prizes:', db.laureates.count_documents(criteria))\n",
    "\n",
    "criteria = {\"prizes.0\": {\"$exists\": True}}\n",
    "print('With at least one prize:', db.laureates.count_documents(criteria))\n",
    "\n",
    "criteria = {\"prizes.1\": {\"$exists\": True}}\n",
    "print('With more than one prize:', db.laureates.count_documents(criteria))"
   ]
  },
  {
   "cell_type": "markdown",
   "metadata": {},
   "source": [
    "## 01.10 Choosing tools\n",
    "(The __nobel__ database is available in the console as __db__, and the Walter's Kohn document is available to you as __doc__. Feel free to examine the structure of the document __doc__ in the console, and play around with database queries!)\n",
    "\n",
    "**Instructions**\n",
    "We saw from his laureate document that Walter Kohn's country of birth was \"Austria\" and that his prize affiliation country was \"USA\". If we want to count the number of laureates born in Austria with a prize affiliation country that is not also Austria, what MongoDB concepts/tools should we use?\n",
    "\n",
    "**Possible Answers**\n",
    "\n",
    "1. __dot notation and the \\$ne operator__\n",
    "2. dot notation and the \\$exists operator\n",
    "3. dot notation and the \\$in operator\n",
    "\n",
    "\n",
    "**Results**\n",
    "\n",
    "<font color=darkgreen>Correct! We will need dot notation to specify criteria for the prize affiliation country. We will need $ne to exclude the value \"Austria\".</font>"
   ]
  },
  {
   "cell_type": "code",
   "execution_count": 17,
   "metadata": {},
   "outputs": [
    {
     "name": "stdout",
     "output_type": "stream",
     "text": [
      "10\n"
     ]
    }
   ],
   "source": [
    "criteria = {'bornCountry': 'Austria', \n",
    "            'prizes.affiliations.country': {'$ne': 'Austria'}}\n",
    "print(db.laureates.count_documents(criteria))"
   ]
  },
  {
   "cell_type": "markdown",
   "metadata": {},
   "source": [
    "## 01.11 Starting our ascent\n",
    "\n",
    "Throughout this course, we will gradually build up a set of tools to examine the proportion of Nobel prizes that were awarded to immigrants. In this exercise, you will answer a limited but related question using tools we have introduced so far.\n",
    "\n",
    "We saw from his laureate document that Walter Kohn's country of birth was \"Austria\" and that his prize affiliation country was \"USA\". Count the number of laureates born in Austria with a prize affiliation country that is not also Austria.\n",
    "\n",
    "**Instructions**\n",
    "\n",
    "1. Save a filter criteria for laureates born in (bornCountry) \"Austria\" with a non-Austria prizes.affiliations.country.\n",
    "3. Save your count of laureates as count.\n",
    "\n",
    "**Results**\n",
    "\n",
    "<font color=darkgreen>I am doting about your dot notation!</font>"
   ]
  },
  {
   "cell_type": "code",
   "execution_count": 18,
   "metadata": {},
   "outputs": [
    {
     "name": "stdout",
     "output_type": "stream",
     "text": [
      "10\n"
     ]
    }
   ],
   "source": [
    "# Filter for laureates born in Austria with non-Austria prize affiliation\n",
    "criteria = {'bornCountry': 'Austria', \n",
    "            'prizes.affiliations.country': {\"$ne\": 'Austria'}}\n",
    "\n",
    "# Count the number of such laureates\n",
    "count = db.laureates.count_documents(criteria)\n",
    "print(count)"
   ]
  },
  {
   "cell_type": "markdown",
   "metadata": {},
   "source": [
    "## 01.12 Our 'born' approximation, and a special laureate\n",
    "\n",
    "We saw earlier that the laureates collection encodes uncertainty about birthdate in a special way. When a birthdate is unknown, the __\"born\"__ field has the value __\"0000-00-00\"__. Thus,\n",
    "\n",
    "><code>db.laureates.count_documents({\"born\": \"0000-00-00\"})</code>\n",
    "\n",
    "counts the number of such laureates. Or does it?\n",
    "\n",
    "We also saw that the total number of laureate prizes is more than the number of laureates -- some were awarded more than one prize. There is one in particular with a whopping three prizes, and this laureate holds key information to aid our quest to determine the proportion of prizes awarded to immigrants.\n",
    "\n",
    "**Instructions**\n",
    "\n",
    "1. Use a filter document (criteria) to count the documents that don't have a \"born\" field.\n",
    "2. Use a filter document (criteria) to find a document for a laureate with at least three elements in its \"prizes\" array. In other words, does a third element exist for the array? Remember about the zero-based indexing!\n",
    "\n",
    "**Results**\n",
    "\n",
    "<font color=darkgreen>Well done. Take a look at the document in the counsole. What about this laureate presents a challenge to our goal of partitioning laureates into immigrant and non-immigrant Prize recipients?</font>"
   ]
  },
  {
   "cell_type": "code",
   "execution_count": 19,
   "metadata": {},
   "outputs": [
    {
     "name": "stdout",
     "output_type": "stream",
     "text": [
      "{'born': '0000-00-00'} 38\n",
      "{'born': {'$exists': False}} 0\n",
      "{'prizes.2': {'$exists': True}} 1\n",
      "{'_id': ObjectId('6035cd48354dd8e35462339c'),\n",
      " 'born': '0000-00-00',\n",
      " 'died': '0000-00-00',\n",
      " 'firstname': 'Comité international de la Croix Rouge (International Committee '\n",
      "              'of the Red Cross)',\n",
      " 'gender': 'org',\n",
      " 'id': '482',\n",
      " 'prizes': [{'affiliations': [[]],\n",
      "             'category': 'peace',\n",
      "             'share': '1',\n",
      "             'year': '1917'},\n",
      "            {'affiliations': [[]],\n",
      "             'category': 'peace',\n",
      "             'share': '1',\n",
      "             'year': '1944'},\n",
      "            {'affiliations': [[]],\n",
      "             'category': 'peace',\n",
      "             'share': '2',\n",
      "             'year': '1963'}]}\n"
     ]
    }
   ],
   "source": [
    "criteria = {\"born\": \"0000-00-00\"}\n",
    "print(criteria, db.laureates.count_documents(criteria))\n",
    "\n",
    "# Filter for documents without a \"born\" field\n",
    "criteria = {'born': {'$exists': False}}\n",
    "count = db.laureates.count_documents(criteria)\n",
    "print(criteria, count)\n",
    "\n",
    "# Filter for laureates with at least three prizes\n",
    "criteria = {\"prizes.2\": {'$exists': True}}\n",
    "count = db.laureates.count_documents(criteria)\n",
    "print(criteria, count)\n",
    "doc = db.laureates.find_one(criteria)\n",
    "pprint(doc)"
   ]
  },
  {
   "cell_type": "markdown",
   "metadata": {},
   "source": [
    "# Aditional material\n",
    "- Datacamp course: https://learn.datacamp.com/courses/introduction-to-using-mongodb-for-data-science-with-python\n",
    "- Data source: https://www.nobelprize.org/about/developer-zone-2/"
   ]
  }
 ],
 "metadata": {
  "kernelspec": {
   "display_name": "Python 3",
   "language": "python",
   "name": "python3"
  },
  "language_info": {
   "codemirror_mode": {
    "name": "ipython",
    "version": 3
   },
   "file_extension": ".py",
   "mimetype": "text/x-python",
   "name": "python",
   "nbconvert_exporter": "python",
   "pygments_lexer": "ipython3",
   "version": "3.8.8"
  }
 },
 "nbformat": 4,
 "nbformat_minor": 4
}
