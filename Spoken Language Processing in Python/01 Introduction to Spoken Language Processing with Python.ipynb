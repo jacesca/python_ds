{
 "cells": [
  {
   "cell_type": "code",
   "execution_count": 1,
   "metadata": {},
   "outputs": [],
   "source": [
    "%matplotlib inline\n",
    "\n",
    "# Importing the requires libraries\n",
    "import wave\n",
    "import numpy as np\n",
    "import matplotlib"
   ]
  },
  {
   "cell_type": "markdown",
   "metadata": {},
   "source": [
    "# 01. Introduction to Spoken Language Processing with Python\n",
    "\n",
    "Audio files are different from most other types of data. Before you can start working with them, they require some preprocessing. In this chapter, you'll learn the first steps to working with speech files by converting two different audio files into soundwaves and comparing them visually."
   ]
  },
  {
   "cell_type": "markdown",
   "metadata": {},
   "source": [
    "## 01.01 Introduction to audio data in Python\n",
    "\n",
    "See the video.\n",
    "\n",
    "**Examples from the video - Opening an audio file in Python**"
   ]
  },
  {
   "cell_type": "code",
   "execution_count": 2,
   "metadata": {},
   "outputs": [
    {
     "data": {
      "text/plain": [
       "<wave.Wave_read at 0x19d937598e0>"
      ]
     },
     "execution_count": 2,
     "metadata": {},
     "output_type": "execute_result"
    }
   ],
   "source": [
    "# Import audio file as wave object\n",
    "good_morning = wave.open(\"good_morning.wav\", \"r\")\n",
    "good_morning"
   ]
  },
  {
   "cell_type": "code",
   "execution_count": 3,
   "metadata": {},
   "outputs": [
    {
     "name": "stdout",
     "output_type": "stream",
     "text": [
      "<class 'bytes'>\n",
      "b'\\xfd\\xff\\xfb\\xff\\xf8\\xff\\xf8\\xff\\xf7\\xff'\n"
     ]
    }
   ],
   "source": [
    "# Convert wave object to bytes\n",
    "soundwave_gm = good_morning.readframes(-1)\n",
    "print(type(soundwave_gm))\n",
    "print(soundwave_gm[:10])"
   ]
  },
  {
   "cell_type": "code",
   "execution_count": 4,
   "metadata": {},
   "outputs": [
    {
     "name": "stdout",
     "output_type": "stream",
     "text": [
      "Variable       Type         Data/Info\n",
      "-------------------------------------\n",
      "good_morning   Wave_read    <wave.Wave_read object at 0x0000019D937598E0>\n",
      "matplotlib     module       <module 'matplotlib' from<...>matplotlib\\\\__init__.py'>\n",
      "np             module       <module 'numpy' from 'C:\\<...>ges\\\\numpy\\\\__init__.py'>\n",
      "soundwave_gm   bytes        b'\\xfd\\xff\\xfb\\xff\\xf8\\xf<...>\\x00?\\x00B\\x008\\x00=\\x00'\n",
      "wave           module       <module 'wave' from 'C:\\\\<...>tascience\\\\lib\\\\wave.py'>\n"
     ]
    }
   ],
   "source": [
    "# To display variable info\n",
    "%whos "
   ]
  },
  {
   "cell_type": "markdown",
   "metadata": {},
   "source": [
    "## 01.02 The right frequency\n",
    "\n",
    "**Instructions:**<br>\n",
    "Movies play multiple pictures per second succession to give the illusion of moving pictures, sound is similar but usually at a much larger rate. What's the standard unit of measure for sound frequency?\n",
    "\n",
    "**Possible Answers:**\n",
    "1. FPS (frames per second)\n",
    "2. SPS (sound per second)\n",
    "3. __Hz (Hertz)__\n",
    "4. WPS (waves per second)\n",
    "\n",
    "**Results:**<br>\n",
    "<font color=darkgreen>That's it! Our audio files have been 48 kHz so far, that's 48,000 cycles per second!</font>"
   ]
  },
  {
   "cell_type": "markdown",
   "metadata": {},
   "source": [
    "## 01.03 Importing an audio file with Python\n",
    "\n",
    "You've seen how there are different kinds of audio files and how streaming music and spoken language have different sampling rates. But now we want to start working with these files.\n",
    "\n",
    "To begin, we're going to import the good_morning.wav audio file using Python's in-built wave library. Then we'll see what it looks like in byte form using the built-in readframes() method.\n",
    "\n",
    "You can listen to good_morning.wav here: https://assets.datacamp.com/production/repositories/4637/datasets/d30b8e2319792fb3e9d7ce1e469b15ecf3f75227/good-morning.wav.\n",
    "\n",
    "Remember, good_morning.wav is only a few seconds long but at 48 kHz, that means it contains 48,000 pieces of information per second.\n",
    "\n",
    "**Instructions:**\n",
    "1. Import the Python wave library.\n",
    "2. Read in the good_morning.wav audio file and save it to good_morning.\n",
    "3. Create signal_gm by reading all the frames from good_morning using readframes().\n",
    "4. See what the first 10 frames of audio look like by slicing signal_gm.\n",
    "\n",
    "**Result**<br>\n",
    "<font color=darkgreen>_Boom! You've just imported your first audio file and seen what it looks like with pure Python. Now let's convert it something more readable._</font>"
   ]
  },
  {
   "cell_type": "code",
   "execution_count": 5,
   "metadata": {},
   "outputs": [
    {
     "name": "stdout",
     "output_type": "stream",
     "text": [
      "b'\\xfd\\xff\\xfb\\xff\\xf8\\xff\\xf8\\xff\\xf7\\xff'\n"
     ]
    }
   ],
   "source": [
    "# Create audio file wave object\n",
    "good_morning = wave.open(\"good_morning.wav\", 'r')\n",
    "\n",
    "# Read all frames from wave object \n",
    "signal_gm = good_morning.readframes(-1)\n",
    "\n",
    "# View first 10\n",
    "print(signal_gm[:10])"
   ]
  },
  {
   "cell_type": "markdown",
   "metadata": {},
   "source": [
    "## 01.04 Converting sound wave bytes to integers\n",
    "\n",
    "See the video.\n",
    "\n",
    "**Examples from the video - Converting bytes to integers**"
   ]
  },
  {
   "cell_type": "code",
   "execution_count": 6,
   "metadata": {},
   "outputs": [
    {
     "data": {
      "text/plain": [
       "array([ -3,  -5,  -8,  -8,  -9, -13,  -8, -10,  -9, -11], dtype=int16)"
      ]
     },
     "execution_count": 6,
     "metadata": {},
     "output_type": "execute_result"
    }
   ],
   "source": [
    "# Convert soundwave_gm from bytes to integers\n",
    "signal_gm = np.frombuffer(soundwave_gm, dtype='int16')\n",
    "\n",
    "# Show the first 10 items\n",
    "signal_gm[:10]"
   ]
  },
  {
   "cell_type": "code",
   "execution_count": 7,
   "metadata": {},
   "outputs": [
    {
     "data": {
      "text/plain": [
       "249984"
      ]
     },
     "execution_count": 7,
     "metadata": {},
     "output_type": "execute_result"
    }
   ],
   "source": [
    "len(signal_gm)"
   ]
  },
  {
   "cell_type": "markdown",
   "metadata": {},
   "source": [
    "**Examples from the video - Finding the frame rate**"
   ]
  },
  {
   "cell_type": "code",
   "execution_count": 8,
   "metadata": {},
   "outputs": [
    {
     "data": {
      "text/plain": [
       "48000"
      ]
     },
     "execution_count": 8,
     "metadata": {},
     "output_type": "execute_result"
    }
   ],
   "source": [
    "# Get the frame rate\n",
    "framerate_gm = good_morning.getframerate()\n",
    "\n",
    "# Show the frame rate\n",
    "framerate_gm"
   ]
  },
  {
   "cell_type": "code",
   "execution_count": 9,
   "metadata": {},
   "outputs": [
    {
     "data": {
      "text/plain": [
       "5.208"
      ]
     },
     "execution_count": 9,
     "metadata": {},
     "output_type": "execute_result"
    }
   ],
   "source": [
    "#Duration of audio file (seconds) = length of wave objects / frequency (Hz)\n",
    "len(signal_gm) / framerate_gm"
   ]
  },
  {
   "cell_type": "markdown",
   "metadata": {},
   "source": [
    "**Examples from the video - Finding sound wave timestamps**"
   ]
  },
  {
   "cell_type": "code",
   "execution_count": 10,
   "metadata": {},
   "outputs": [
    {
     "data": {
      "text/plain": [
       "array([0.00000000e+00, 2.08333750e-05, 4.16667500e-05, ...,\n",
       "       1.04159583e+01, 1.04159792e+01, 1.04160000e+01])"
      ]
     },
     "execution_count": 10,
     "metadata": {},
     "output_type": "execute_result"
    }
   ],
   "source": [
    "# Get the timestamps of the good morning sound wave\n",
    "time_gm = np.linspace(start = 0, \n",
    "                      stop  = len(soundwave_gm)/framerate_gm, \n",
    "                      num   = len(soundwave_gm))\n",
    "time_gm"
   ]
  },
  {
   "cell_type": "markdown",
   "metadata": {},
   "source": [
    "_Each of this values is the time in seconds where each sound have wave byte occurred_"
   ]
  },
  {
   "cell_type": "markdown",
   "metadata": {},
   "source": [
    "## 01.05 The right data type\n",
    "\n",
    "**Instructions:**<br>\n",
    "\n",
    "\n",
    "<code>dtype</code> defaults to float in <code>np.frombuffer()</code>, what's the correct <code>dtype</code> to set it to for visualizing sound wave bytes?\n",
    "\n",
    "You can try the different options by running<br>\n",
    "<code>np.frombuffer(signal_gm, dtype=____)</code> \n",
    "\n",
    "**Possible Answers:**\n",
    "1. float\n",
    "2. __int16__\n",
    "3. np.uint8\n",
    "4. string\n",
    "\n",
    "**Results:**<br>\n",
    "<font color=darkgreen>Nice! The 'int16' data type returns positive and negative integers, just as we wanted. Our sound wave integers will be ready to plot in no time!</font>"
   ]
  },
  {
   "cell_type": "code",
   "execution_count": 11,
   "metadata": {},
   "outputs": [
    {
     "name": "stdout",
     "output_type": "stream",
     "text": [
      "[            nan             nan             nan ... 1.44634554e-307\n",
      " 2.00267003e-307 1.61322608e-307]\n",
      "[-3 -5 -8 ... 66 56 61]\n",
      "[253 255 251 ...   0  61   0]\n"
     ]
    }
   ],
   "source": [
    "print(np.frombuffer(signal_gm, dtype=float))\n",
    "print(np.frombuffer(signal_gm, dtype='int16'))\n",
    "print(np.frombuffer(signal_gm, dtype=np.uint8))"
   ]
  },
  {
   "cell_type": "markdown",
   "metadata": {},
   "source": [
    "## 01.06 Bytes to integers\n",
    "\n",
    "You've seen how to import and read an audio file using Python's <code>wave</code> module and the <code>readframes()</code> method. But doing that results in an array of bytes.\n",
    "\n",
    "To convert the bytes into something more useful, we'll use NumPy's <code>frombuffer()</code> method.\n",
    "\n",
    "Passing <code>frombuffer()</code> our sound waves bytes and indicating a <code>dtype</code> of <code>'int16'</code>, we can convert our bytes to integers. Integers are much easier to work with than bytes.\n",
    "\n",
    "The Python <code>wave</code> library has already been imported along with the <code>good_morning.wav</code> audio file. \n",
    "\n",
    "**Instructions:**<br>\n",
    "1. Import the numpy package with its common alias np.\n",
    "2. Open and read the good morning audio file.\n",
    "3. Convert the signal_gm bytes to int16 integers.\n",
    "4. View the first 10 sound wave values.\n",
    "\n",
    "**Results:**<br>\n",
    "<font color=darkgreen>Great effort! You've read in an audio file with Python and converted into to integers, that's the first step towards speech recognition!</font>"
   ]
  },
  {
   "cell_type": "code",
   "execution_count": 12,
   "metadata": {},
   "outputs": [
    {
     "name": "stdout",
     "output_type": "stream",
     "text": [
      "[ -3  -5  -8  -8  -9 -13  -8 -10  -9 -11]\n"
     ]
    }
   ],
   "source": [
    "# Open good morning sound wave and read frames as bytes\n",
    "good_morning = wave.open('good_morning.wav', 'r')\n",
    "signal_gm = good_morning.readframes(-1)\n",
    "\n",
    "# Convert good morning audio bytes to integers\n",
    "soundwave_gm = np.frombuffer(signal_gm, dtype='int16')\n",
    "\n",
    "# View the first 10 sound wave values\n",
    "print(soundwave_gm[:10])"
   ]
  },
  {
   "cell_type": "markdown",
   "metadata": {},
   "source": [
    "## 01.07 Finding the time stamps\n",
    "\n",
    "We know the frequency of our sound wave is 48 kHz, but what if we didn't? We could find it by dividing the length of our sound wave array by the duration of our sound wave. However, Python's <code>wave</code> module has a better way. Calling <code>getframerate()</code> on a wave object returns the frame rate of that wave object.\n",
    "\n",
    "We can then use NumPy's <code>linspace()</code> method to find the time stamp of each integer in our sound wave array. This will help us visualize our sound wave in the future.\n",
    "\n",
    "The <code>linspace()</code> method takes <code>start</code>, <code>stop</code> and <code>num</code> parameters and returns <code>num</code> evenly spaced values between <code>start</code> and <code>stop</code>.\n",
    "\n",
    "In our case, <code>start</code> will be zero, <code>stop</code> will be the length of our sound wave array over the frame rate (or the duration of our audio file) and <code>num</code> will be the length of our sound wave array.\n",
    "\n",
    "**Instructions:**<br>\n",
    "1. Convert the sound wave bytes to integers.\n",
    "2. Get the frame rate of the good morning audio file using getframerate().\n",
    "3. Set stop to be the length of soundwave_gm over the frame rate.\n",
    "4. Set num to be the length of soundwave_gm.\n",
    "\n",
    "**Results:**<br>\n",
    "<font color=darkgreen>Nice! You've done some great data manipulation to our good morning sound wave. Now we'll use all your hard work to plot it and see what it looks like!</font>"
   ]
  },
  {
   "cell_type": "code",
   "execution_count": 13,
   "metadata": {},
   "outputs": [
    {
     "name": "stdout",
     "output_type": "stream",
     "text": [
      "[0.00000000e+00 2.08334167e-05 4.16668333e-05 6.25002500e-05\n",
      " 8.33336667e-05 1.04167083e-04 1.25000500e-04 1.45833917e-04\n",
      " 1.66667333e-04 1.87500750e-04]\n"
     ]
    }
   ],
   "source": [
    "# Read in sound wave and convert from bytes to integers\n",
    "good_morning = wave.open('good_morning.wav', 'r')\n",
    "signal_gm = good_morning.readframes(-1)\n",
    "soundwave_gm = np.frombuffer(signal_gm, dtype='int16')\n",
    "\n",
    "# Get the sound wave frame rate\n",
    "framerate_gm = good_morning.getframerate()\n",
    "\n",
    "# Find the sound wave timestamps\n",
    "time_gm = np.linspace(start=0,\n",
    "                      stop=len(soundwave_gm)/framerate_gm,\n",
    "                      num=len(soundwave_gm))\n",
    "\n",
    "# Print the first 10 timestamps\n",
    "print(time_gm[:10])"
   ]
  },
  {
   "cell_type": "markdown",
   "metadata": {},
   "source": [
    "## 01.08 Visualizing sound waves\n",
    "\n",
    "See the video.\n",
    "\n",
    "**Examples from the video**"
   ]
  },
  {
   "cell_type": "code",
   "execution_count": 14,
   "metadata": {},
   "outputs": [
    {
     "name": "stdout",
     "output_type": "stream",
     "text": [
      "[0.00000000e+00 2.08333960e-05 4.16667921e-05 6.25001881e-05\n",
      " 8.33335841e-05 1.04166980e-04 1.25000376e-04 1.45833772e-04\n",
      " 1.66667168e-04 1.87500564e-04]\n"
     ]
    }
   ],
   "source": [
    "# Read good_afternoon.wav\n",
    "good_afternoon = wave.open('good_afternoon.wav', 'r')\n",
    "signal_ga = good_afternoon.readframes(-1)\n",
    "soundwave_ga = np.frombuffer(signal_ga, dtype='int16')\n",
    "\n",
    "# Get the sound wave frame rate\n",
    "framerate_ga = good_afternoon.getframerate()\n",
    "\n",
    "# Find the sound wave timestamps\n",
    "time_ga = np.linspace(start=0,\n",
    "                      stop=len(soundwave_ga)/framerate_ga,\n",
    "                      num=len(soundwave_ga))\n",
    "\n",
    "# Print the first 10 timestamps\n",
    "print(time_ga[:10])"
   ]
  },
  {
   "cell_type": "code",
   "execution_count": 15,
   "metadata": {},
   "outputs": [
    {
     "data": {
      "image/png": "[encoded data removed]",
      "text/plain": [
       "<Figure size 432x288 with 1 Axes>"
      ]
     },
     "metadata": {
      "needs_background": "light"
     },
     "output_type": "display_data"
    }
   ],
   "source": [
    "# Initialize figure and setup title\n",
    "plt.title(\"Good Afternoon vs. Good Morning\")\n",
    "\n",
    "# x and y axis labels\n",
    "plt.xlabel(\"Time (seconds)\")\n",
    "plt.ylabel(\"Amplitude\")\n",
    "\n",
    "# Add good morning and good afternoon values\n",
    "plt.plot(time_ga, soundwave_ga, label =\"Good Afternoon\", alpha=0.5)\n",
    "plt.plot(time_gm, soundwave_gm, label=\"Good Morning\", alpha=0.5)\n",
    "\n",
    "# Create a legend and show our plot\n",
    "_ = plt.legend()\n",
    "#plt.show()"
   ]
  },
  {
   "cell_type": "markdown",
   "metadata": {},
   "source": [
    "## 01.09 Staying consistent\n",
    "\n",
    "**Instructions:**<br>\n",
    "Why is it important to ensure the same data transformations are performed on all of your audio files?\n",
    "\n",
    "**Possible Answers:**\n",
    "1. So data can be processed faster.\n",
    "2. Only performing transformations on one audio file is okay.\n",
    "3. Audio files don't have to be transformed, if you can hear it, it's ready.\n",
    "4. __To ensure data consistency and prevent potential data mismatches.__\n",
    "\n",
    "**Results:**<br>\n",
    "<font color=darkgreen>Correct! Performing the same transformations on all of audio files, allows us to work with them in a consistent manner.</font>"
   ]
  },
  {
   "cell_type": "markdown",
   "metadata": {},
   "source": [
    "## 01.10 Processing audio data with Python\n",
    "\n",
    "You've seen how a sound waves can be turned into numbers but what does all that conversion look like?\n",
    "\n",
    "And how about another similar sound wave? One slightly different?\n",
    "\n",
    "In this exercise, we're going to use MatPlotLib to plot the sound wave of <code>good_morning</code> against <code>good_afternoon</code>.\n",
    "\n",
    "To have the <code>good_morning</code> and <code>good_afternoon</code> sound waves on the same plot and distinguishable from each other, we'll use MatPlotLib's <code>alpha</code> parameter.\n",
    "\n",
    "You can listen to the <code>good_morning</code> audio here https://assets.datacamp.com/production/repositories/4637/datasets/d30b8e2319792fb3e9d7ce1e469b15ecf3f75227/good-morning.wav \n",
    "and <code>good_afternoon</code> audio here https://assets.datacamp.com/production/repositories/4637/datasets/16379ca3c3689f5f7cfb3de20585cb6da609294b/good-afternoon.wav\n",
    "\n",
    "**Instructions:**<br>\n",
    "1. Set the title to reflect the plot we are making.\n",
    "2. Add the good_afternoon time variable (time_ga) and amplitude variable (soundwave_ga) to the plot.\n",
    "3. Do the same with the good_morning time variable (time_gm) and amplitude variable (soundwave_gm) to the plot.\n",
    "4. Set the alpha variable to 0.5.\n",
    "\n",
    "**Results:**<br>\n",
    "<font color=darkgreen>Great effort! Notice the two sound waves are very similar in the beginning. Because the first word is \"good\" in both audio files, they almost completely overlap. A well-built speech recognition system would recognize this and return the same first word for each wave. Let's build one to do just that.</font>"
   ]
  },
  {
   "cell_type": "code",
   "execution_count": 16,
   "metadata": {},
   "outputs": [
    {
     "data": {
      "image/png": "[encoded data removed]",
      "text/plain": [
       "<Figure size 432x288 with 1 Axes>"
      ]
     },
     "metadata": {
      "needs_background": "light"
     },
     "output_type": "display_data"
    }
   ],
   "source": [
    "# Setup the title and axis titles\n",
    "plt.title('Good Afternoon vs. Good Morning')\n",
    "plt.ylabel('Amplitude')\n",
    "plt.xlabel('Time (seconds)')\n",
    "\n",
    "# Add the Good Afternoon data to the plot\n",
    "plt.plot(time_ga, soundwave_ga, label='Good Afternoon')\n",
    "\n",
    "# Add the Good Morning data to the plot\n",
    "plt.plot(time_gm, soundwave_gm, label='Good Morning',\n",
    "   # Set the alpha variable to 0.5\n",
    "   alpha=0.5)\n",
    "\n",
    "_ = plt.legend()\n",
    "#plt.show()"
   ]
  },
  {
   "cell_type": "markdown",
   "metadata": {},
   "source": [
    "**Another example - Good Morning from two different voices**"
   ]
  },
  {
   "cell_type": "code",
   "execution_count": 17,
   "metadata": {},
   "outputs": [],
   "source": [
    "# Define a funtion to make the transformations\n",
    "def transform_wav_files(wav_file):\n",
    "    # Read the wav file\n",
    "    wf = wave.open(wav_file, 'r')\n",
    "    signal = wf.readframes(-1)\n",
    "    soundwave = np.frombuffer(signal, dtype='int16')\n",
    "\n",
    "    # Get the sound wave frame rate\n",
    "    framerate = wf.getframerate()\n",
    "\n",
    "    # Find the sound wave timestamps\n",
    "    time = np.linspace(start=0, stop=len(soundwave)/framerate, num=len(soundwave))\n",
    "    \n",
    "    return wf, soundwave, time"
   ]
  },
  {
   "cell_type": "code",
   "execution_count": 18,
   "metadata": {},
   "outputs": [
    {
     "data": {
      "text/plain": [
       "'good_morning.wav vs good_morning_jacesca.wav'"
      ]
     },
     "execution_count": 18,
     "metadata": {},
     "output_type": "execute_result"
    }
   ],
   "source": [
    "wav_files_to_compare = ['good_morning.wav', 'good_morning_jacesca.wav']\n",
    "' vs '.join(wav_files_to_compare)"
   ]
  },
  {
   "cell_type": "code",
   "execution_count": 19,
   "metadata": {},
   "outputs": [
    {
     "data": {
      "image/png": "[encoded data removed]",
      "text/plain": [
       "<Figure size 432x288 with 1 Axes>"
      ]
     },
     "metadata": {
      "needs_background": "light"
     },
     "output_type": "display_data"
    }
   ],
   "source": [
    "wav_files_to_compare = ['good_morning.wav', 'good_morning_jacesca.wav']\n",
    "\n",
    "# Setup the title and axis titles\n",
    "plt.title(' vs '.join(wav_files_to_compare))\n",
    "plt.ylabel('Amplitude')\n",
    "plt.xlabel('Time (seconds)')\n",
    "\n",
    "for file in wav_files_to_compare:\n",
    "    # Get data from file\n",
    "    wf, soundwave, time = transform_wav_files(file)\n",
    "    \n",
    "    # Add data to the plot\n",
    "    plt.plot(time, soundwave, label=file, alpha=0.5)\n",
    "\n",
    "\n",
    "_ = plt.legend()\n",
    "#plt.show()"
   ]
  },
  {
   "cell_type": "markdown",
   "metadata": {},
   "source": [
    "# Aditional material\n",
    "\n",
    "- **Online Voice Recorder & Audio Cutter**: https://voice-recorder-online.com/\n",
    "- **Datacamp course**: https://learn.datacamp.com/courses/spoken-language-processing-in-python"
   ]
  }
 ],
 "metadata": {
  "kernelspec": {
   "display_name": "Python 3",
   "language": "python",
   "name": "python3"
  },
  "language_info": {
   "codemirror_mode": {
    "name": "ipython",
    "version": 3
   },
   "file_extension": ".py",
   "mimetype": "text/x-python",
   "name": "python",
   "nbconvert_exporter": "python",
   "pygments_lexer": "ipython3",
   "version": "3.8.8"
  }
 },
 "nbformat": 4,
 "nbformat_minor": 4
}
