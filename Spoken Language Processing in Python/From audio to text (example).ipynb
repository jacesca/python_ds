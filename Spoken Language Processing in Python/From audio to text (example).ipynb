{
 "cells": [
  {
   "cell_type": "code",
   "execution_count": 1,
   "metadata": {},
   "outputs": [],
   "source": [
    "# importing libraries \n",
    "import speech_recognition as sr \n",
    "\n",
    "import os\n",
    "import shutil\n",
    "import sys\n",
    "\n",
    "from pydub import AudioSegment\n",
    "from pydub.silence import split_on_silence\n",
    "\n",
    "import pydub"
   ]
  },
  {
   "cell_type": "markdown",
   "metadata": {},
   "source": [
    "The error:\n",
    "> (WindowsError: [Error 2] The system can not find the file specified)\n",
    "\n",
    "was solved copying the ffmpeg files (ffmpeg.exe, ffplay.exe, ffprobe.exe) to the pydub module folder (C:\\Anaconda3\\envs\\datascience\\Lib\\site-packages\\pydub)\n",
    "\n",
    "Some blogs says that you can add the following lines to the code:\n",
    "> sys.path.append(r'C:\\Anaconda3\\ffmpeg\\bin')<br>\n",
    "> AudioSegment.converter = r\"C:\\Anaconda3\\ffmpeg\\bin\\ffmpeg.exe\"<br>\n",
    "> AudioSegment.ffprobe   = r\"C:\\Anaconda3\\ffmpeg\\bin\\ffprobe.exe\"\n",
    "\n",
    "These don't work"
   ]
  },
  {
   "cell_type": "code",
   "execution_count": 2,
   "metadata": {},
   "outputs": [],
   "source": [
    "# a function that splits the audio file into chunks and applies speech recognition\n",
    "def get_large_audio_transcription(file, language, energy_threshold=300, duration=None, offset=None, show_all=None, noise=0):\n",
    "    \"\"\"\n",
    "    Splitting the large audio file into chunks and apply speech recognition on each of these chunks\n",
    "    \"\"\"\n",
    "    \n",
    "    # create a speech recognition object\n",
    "    recognizer = sr.Recognizer()\n",
    "\n",
    "    # open the audio file using pydub\n",
    "    if '.wav' in file:\n",
    "        audio_file = AudioSegment.from_wav(file)\n",
    "    elif '.mp3' in file:\n",
    "        audio_file = AudioSegment.from_file(file, \"mp3\")\n",
    "    elif '.ogg' in file:\n",
    "        audio_file = AudioSegment.from_ogg(file)\n",
    "    elif '.flv' in file:\n",
    "        audio_file = AudioSegment.from_flv(file)\n",
    "    elif '.mp4' in file:\n",
    "        audio_file = AudioSegment.from_file(file, \"mp4\")\n",
    "    elif '.wma' in file:\n",
    "        audio_file = AudioSegment.from_file(file, \"wma\")\n",
    "    elif '.aiff' in file:\n",
    "        audio_file = AudioSegment.from_file(file, \"aac\")\n",
    "    else:\n",
    "        audio_file = AudioSegment.from_file(file)  \n",
    "    \n",
    "    # split audio_file where silence is 700 miliseconds or more and get chunks\n",
    "    chunks = split_on_silence(audio_file,\n",
    "                              min_silence_len = 500, # experiment with this value for your target audio file\n",
    "                              silence_thresh = audio_file.dBFS-14, # adjust this per requirement\n",
    "                              keep_silence=500, # keep the silence for 1 second, adjustable as well\n",
    "                             )\n",
    "    folder_name = \"audio-chunks-temp\"\n",
    "    \n",
    "    # create a directory to store the audio chunks\n",
    "    if os.path.isdir(folder_name):\n",
    "        shutil.rmtree(folder_name)\n",
    "    os.mkdir(folder_name)\n",
    "    \n",
    "    whole_text = \"\"\n",
    "    with open(file.split('.')[0]+'.txt', 'w') as f:\n",
    "        # process each chunk \n",
    "        print(\"Let's begin:\")\n",
    "        for i, audio_chunk in enumerate(chunks, start=1):\n",
    "            # export audio chunk and save it in the `folder_name` directory.\n",
    "            chunk_filename = os.path.join(folder_name, f\"chunk{i}.wav\")\n",
    "            \n",
    "            audio_chunk.export(chunk_filename, format=\"wav\")\n",
    "            \n",
    "            # recognize the chunk\n",
    "            with sr.AudioFile(chunk_filename) as source:\n",
    "                # Adjust for ambient noise and record\n",
    "                if noise>0:\n",
    "                    recognizer.adjust_for_ambient_noise(source, duration=noise)\n",
    "                \n",
    "                # Record the audio\n",
    "                audio_listened = recognizer.record(source,\n",
    "                                                   duration=duration, #Listen from the begining to duration value.\n",
    "                                                   offset=offset) #used to skip over a specific seconds at the start.\n",
    "                \n",
    "                # Set the energy threshold\n",
    "                recognizer.energy_threshold = energy_threshold\n",
    "    \n",
    "                # try converting it to text\n",
    "                try:\n",
    "                    text = recognizer.recognize_google(audio_listened, language=language)\n",
    "                except sr.UnknownValueError as e:\n",
    "                    msg_to_write = f\"Error: {str(e)}\\n\" \n",
    "                    print(msg_to_write)\n",
    "                else:\n",
    "                    text = f\"{text.capitalize()}. \"\n",
    "                    msg_to_write = f\"{i}: {text}\\n\"\n",
    "                    print(chunk_filename, \":\", text)\n",
    "                    whole_text += text\n",
    "                \n",
    "                # Write the text to the file\n",
    "                f.write(msg_to_write)\n",
    "        print('End.')\n",
    "    \n",
    "    # return the text for all chunks detected\n",
    "    return whole_text"
   ]
  },
  {
   "cell_type": "code",
   "execution_count": 3,
   "metadata": {},
   "outputs": [
    {
     "name": "stdout",
     "output_type": "stream",
     "text": [
      "Let's begin:\n",
      "audio-chunks-temp\\chunk1.wav : His abode which you had fixed in a bowery or country seat. \n",
      "audio-chunks-temp\\chunk2.wav : Have a short distance from the city. \n",
      "audio-chunks-temp\\chunk3.wav : Just at what is now called dutch street. \n",
      "audio-chunks-temp\\chunk4.wav : Sooner bounded with proofs of his ingenuity. \n",
      "audio-chunks-temp\\chunk5.wav : Patent smokejack. \n",
      "audio-chunks-temp\\chunk6.wav : It required a horse to work some. \n",
      "audio-chunks-temp\\chunk7.wav : Dutch oven roasted meat without fire. \n",
      "audio-chunks-temp\\chunk8.wav : Carts that went before the horses. \n",
      "audio-chunks-temp\\chunk9.wav : Weather cox that turned against the wind and other wrongheaded contrivances. \n",
      "audio-chunks-temp\\chunk10.wav : So just understand can found it all beholders. \n",
      "End.\n",
      "\n",
      "Full text: His abode which you had fixed in a bowery or country seat. Have a short distance from the city. Just at what is now called dutch street. Sooner bounded with proofs of his ingenuity. Patent smokejack. It required a horse to work some. Dutch oven roasted meat without fire. Carts that went before the horses. Weather cox that turned against the wind and other wrongheaded contrivances. So just understand can found it all beholders. \n"
     ]
    }
   ],
   "source": [
    "path = \"7601-291468-0006.wav\"\n",
    "print(\"\\nFull text:\", get_large_audio_transcription(path, language='en-US'))"
   ]
  },
  {
   "cell_type": "code",
   "execution_count": 4,
   "metadata": {},
   "outputs": [
    {
     "name": "stdout",
     "output_type": "stream",
     "text": [
      "1: His abode which you had fixed in a bowery or country seat. \n",
      "2: Have a short distance from the city. \n",
      "3: Just at what is now called dutch street. \n",
      "4: Sooner bounded with proofs of his ingenuity. \n",
      "5: Patent smokejack. \n",
      "6: It required a horse to work some. \n",
      "7: Dutch oven roasted meat without fire. \n",
      "8: Carts that went before the horses. \n",
      "9: Weather cox that turned against the wind and other wrongheaded contrivances. \n",
      "10: So just understand can found it all beholders. \n",
      "\n"
     ]
    }
   ],
   "source": [
    "with open('7601-291468-0006.txt', 'r') as f:\n",
    "    print(f.read())"
   ]
  },
  {
   "cell_type": "code",
   "execution_count": 5,
   "metadata": {},
   "outputs": [
    {
     "name": "stdout",
     "output_type": "stream",
     "text": [
      "Let's begin:\n",
      "audio-chunks-temp\\chunk1.wav : One of the limitations of the speech recognition lottery. \n",
      "audio-chunks-temp\\chunk2.wav : Is that it doesn't recognize different speakers invoices. \n",
      "audio-chunks-temp\\chunk3.wav : It will just return it all as one block a text. \n",
      "End.\n"
     ]
    }
   ],
   "source": [
    "path = \"multiple-speakers-16k.wav\"\n",
    "#print(\"\\nFull text:\", get_large_audio_transcription(path, language='en-US'))\n",
    "_ = get_large_audio_transcription(path, language='en-US')"
   ]
  },
  {
   "cell_type": "code",
   "execution_count": 6,
   "metadata": {},
   "outputs": [
    {
     "name": "stdout",
     "output_type": "stream",
     "text": [
      "1: One of the limitations of the speech recognition lottery. \n",
      "2: Is that it doesn't recognize different speakers invoices. \n",
      "3: It will just return it all as one block a text. \n",
      "\n"
     ]
    }
   ],
   "source": [
    "with open('multiple-speakers-16k.txt', 'r') as f:\n",
    "    print(f.read())"
   ]
  },
  {
   "cell_type": "code",
   "execution_count": 7,
   "metadata": {},
   "outputs": [
    {
     "name": "stdout",
     "output_type": "stream",
     "text": [
      "Let's begin:\n",
      "audio-chunks-temp\\chunk1.wav : Sabe usted dónde está el secreto de los norteamericanos. \n",
      "audio-chunks-temp\\chunk2.wav : Muy sencillo. \n",
      "audio-chunks-temp\\chunk3.wav : Hace más de 150 años aprendieron algo que en latinoamérica pareciera que no hemos ni queremos aprender. \n",
      "audio-chunks-temp\\chunk4.wav : Son sólo diez muy simples premisas. \n",
      "audio-chunks-temp\\chunk5.wav : Es el decálogo de abraham lincoln. \n",
      "audio-chunks-temp\\chunk6.wav : Usted no puede crear prosperidad desalentando la iniciativa propia. \n",
      "audio-chunks-temp\\chunk7.wav : Usted no puede fortalecer al débil debilitando al fuerte. \n",
      "audio-chunks-temp\\chunk8.wav : Usted no puede ayudar a los pequeños aplastando a los grandes. \n",
      "audio-chunks-temp\\chunk9.wav : Usted no puede ayudar al pobre destruyendo al rico. \n",
      "audio-chunks-temp\\chunk10.wav : Usted no puede elevar al asalariado presionando a quién paga el salario. \n",
      "audio-chunks-temp\\chunk11.wav : Usted no puede resolver sus problemas mientras gaste más de lo que gana. \n",
      "audio-chunks-temp\\chunk12.wav : Usted no puede promover la fraternidad de la humanidad. \n",
      "audio-chunks-temp\\chunk13.wav : Admitiendo e incitando el odio de clases. \n",
      "audio-chunks-temp\\chunk14.wav : Usted no puede garantizar una adecuada seguridad con dinero prestado. \n",
      "audio-chunks-temp\\chunk15.wav : Usted no puede formar el carácter y el valor del hombre. \n",
      "audio-chunks-temp\\chunk16.wav : Quitándole su independencia. \n",
      "audio-chunks-temp\\chunk17.wav : Iniciativa. \n",
      "audio-chunks-temp\\chunk18.wav : Usted no puede ayudar a los hombres. \n",
      "audio-chunks-temp\\chunk19.wav : Realizando por ellos permanentemente lo que ellos pueden y deben hacer por sí mismos. \n",
      "audio-chunks-temp\\chunk20.wav : A esto se pudiera agregar otra lección de abraham lincoln. \n",
      "audio-chunks-temp\\chunk21.wav : Un político puede engañar a uno todo el tiempo. \n",
      "audio-chunks-temp\\chunk22.wav : Y puede engañar a todos por algún tiempo. \n",
      "audio-chunks-temp\\chunk23.wav : Pero lo que no podrá lograr es engañar a todos. \n",
      "audio-chunks-temp\\chunk24.wav : Todo el tiempo. \n",
      "audio-chunks-temp\\chunk25.wav : El socialismo es una filosofía del fracaso. \n",
      "audio-chunks-temp\\chunk26.wav : El credo de la ignorancia y el evangelio de la envidia. \n",
      "audio-chunks-temp\\chunk27.wav : Su virtud inherente es la distribución equitativa de la miseria. \n",
      "audio-chunks-temp\\chunk28.wav : Winston churchill. \n",
      "End.\n"
     ]
    }
   ],
   "source": [
    "path = \"AUD-20180918-WA0000.mp3\"\n",
    "#print(\"\\nFull text:\", get_large_audio_transcription(path, language='es-US'))\n",
    "_ = get_large_audio_transcription(path, language='es-US')"
   ]
  },
  {
   "cell_type": "code",
   "execution_count": 8,
   "metadata": {},
   "outputs": [
    {
     "name": "stdout",
     "output_type": "stream",
     "text": [
      "1: Sabe usted dónde está el secreto de los norteamericanos. \n",
      "2: Muy sencillo. \n",
      "3: Hace más de 150 años aprendieron algo que en latinoamérica pareciera que no hemos ni queremos aprender. \n",
      "4: Son sólo diez muy simples premisas. \n",
      "5: Es el decálogo de abraham lincoln. \n",
      "6: Usted no puede crear prosperidad desalentando la iniciativa propia. \n",
      "7: Usted no puede fortalecer al débil debilitando al fuerte. \n",
      "8: Usted no puede ayudar a los pequeños aplastando a los grandes. \n",
      "9: Usted no puede ayudar al pobre destruyendo al rico. \n",
      "10: Usted no puede elevar al asalariado presionando a quién paga el salario. \n",
      "11: Usted no puede resolver sus problemas mientras gaste más de lo que gana. \n",
      "12: Usted no puede promover la fraternidad de la humanidad. \n",
      "13: Admitiendo e incitando el odio de clases. \n",
      "14: Usted no puede garantizar una adecuada seguridad con dinero prestado. \n",
      "15: Usted no puede formar el carácter y el valor del hombre. \n",
      "16: Quitándole su independencia. \n",
      "17: Iniciativa. \n",
      "18: Usted no puede ayudar a los hombres. \n",
      "19: Realizando por ellos permanentemente lo que ellos pueden y deben hacer por sí mismos. \n",
      "20: A esto se pudiera agregar otra lección de abraham lincoln. \n",
      "21: Un político puede engañar a uno todo el tiempo. \n",
      "22: Y puede engañar a todos por algún tiempo. \n",
      "23: Pero lo que no podrá lograr es engañar a todos. \n",
      "24: Todo el tiempo. \n",
      "25: El socialismo es una filosofía del fracaso. \n",
      "26: El credo de la ignorancia y el evangelio de la envidia. \n",
      "27: Su virtud inherente es la distribución equitativa de la miseria. \n",
      "28: Winston churchill. \n",
      "\n"
     ]
    }
   ],
   "source": [
    "with open('AUD-20180918-WA0000.txt', 'r') as f:\n",
    "    print(f.read())"
   ]
  },
  {
   "cell_type": "code",
   "execution_count": 9,
   "metadata": {},
   "outputs": [
    {
     "name": "stdout",
     "output_type": "stream",
     "text": [
      "Let's begin:\n",
      "Error: \n",
      "\n",
      "Error: \n",
      "\n",
      "Error: \n",
      "\n",
      "Error: \n",
      "\n",
      "Error: \n",
      "\n",
      "Error: \n",
      "\n",
      "audio-chunks-temp\\chunk7.wav : El objetivo que nosotros tenemos el del departamento de recursos humanos es conseguir. \n",
      "audio-chunks-temp\\chunk8.wav : La gente que trabaja en cocacola. \n",
      "audio-chunks-temp\\chunk9.wav : Este agusto tenga los medios adecuados para hacer su trabajo. \n",
      "audio-chunks-temp\\chunk10.wav : Y que por tanto por ese abajo otros tenemos una iniciativa que es el instituto de la felicidad en el que trabajamos en muchas acciones hacia fuera pero un poco la filosofía de la compañía es que lo mismo que nosotros mostramos aquí afuera o declinamos hacia dentro. \n",
      "audio-chunks-temp\\chunk11.wav : Y básicamente lo que intentamos es las mismas acciones. \n",
      "audio-chunks-temp\\chunk12.wav : Tenemos aquí afuera. \n",
      "audio-chunks-temp\\chunk13.wav : Hacerlas con nuestros empleados. \n",
      "audio-chunks-temp\\chunk14.wav : Y y perseguir la máxima del instituto que es que la gente que está feliz. \n",
      "audio-chunks-temp\\chunk15.wav : Pues trabajando nosotros lo definimos como una universidad corporativa virtual. \n",
      "audio-chunks-temp\\chunk16.wav : Al final la filosofía de la universidad sedes recoger las mejores prácticas a nivel mundial. \n",
      "audio-chunks-temp\\chunk17.wav : Cocacola está presente en más de 206 países. \n",
      "audio-chunks-temp\\chunk18.wav : Y acercar las mejores prácticas a los empleados independientemente de allá donde estén nosotros tenemos un centro de formación corporativo en en atlanta pero la filosofía de la universidad es trabajar sobre los pilares más importantes de desarrollo en cuba cola de formación y desarrollo y acercarlos a la gente a través de diferentes programas y cipalmente los los pilares de la universidad son cuatro el primero es liderazgo que independientemente del país donde trabajé. \n",
      "audio-chunks-temp\\chunk19.wav : Responsable de personas pues queremos que que tenga los mismos valores la misma cultura y el mismo estilo de liderazgo. \n",
      "audio-chunks-temp\\chunk20.wav : Luego tenemos tres pilares que qué son los pilares de marketing es muy importante para la cola. \n",
      "audio-chunks-temp\\chunk21.wav : Toda la parte de formación comercial. \n",
      "audio-chunks-temp\\chunk22.wav : Y toda la parte de relación con con nuestros socios embotelladores se traduce resumiendo mucho en unas reuniones. \n",
      "audio-chunks-temp\\chunk23.wav : Que nosotros tenemos dos o tres veces al año que se hacen en todos los países en los que se discute del del talento de la compañía hablando prácticamente de cada uno de los empleados que trabajamos en coca cola básicamente en esas conversaciones se lo que se discute es y cuáles son los puntos fuertes de las personas y cuáles son sus áreas de desarrollo y cuáles son sus siguientes pasos el iphone call recogemos medidas pues desde horario flexible el horario para entrar por las mañanas y para salir por las tardes es la mente flexible. \n",
      "audio-chunks-temp\\chunk24.wav : El área los trabajadores los medios informáticos ordenador portátil por ejemplo para todos los empleados. \n",
      "audio-chunks-temp\\chunk25.wav : Para que puedan trabajar desde desde casa. \n",
      "audio-chunks-temp\\chunk26.wav : Tener por ejemplo un banco de tiempo que no es más que un proveedor de servicios que se pueden cargar de cualquier cosa desde hacerte la copia de unas llaves comprarte un libro que necesites para para los niños o cualquier otro tipo de actividad que tú deberías de realizar y de esta manera tienes alguien que lo hace por ti y lo llamamos banco de tiempo porque te ahorras el tiempo es un programa en el que trabajamos conjuntamente con varias asociaciones donde trabajamos con jóvenes en riesgo de inclusión social todas las acciones de rsc las las realizamos conjuntamente con todo todo el área de relaciones públicas de la compañía y un poco desde el punto de vista de recursos humanos casi. \n",
      "audio-chunks-temp\\chunk27.wav : También la realizamos pues porque nuestros propios empleados son los que nos piden participar con el plan integra nosotros un poco lo que hacemos es trabajar con esas esas asociaciones y nuestros empleados actúan como coaches. \n",
      "audio-chunks-temp\\chunk28.wav : De los chicos que participan en el programa. \n",
      "audio-chunks-temp\\chunk29.wav : Para orientarles hacer una labor de orientadores y luego además también les les facilitamos prácticas información sobre inserción en el mundo laboral y diferentes. \n",
      "audio-chunks-temp\\chunk30.wav : Tenemos los los proyectos que hemos ido comentando yo por comentarte 22 cosas que no han salido en la conversación tenemos ahora un reto importante desde el punto de vista desarrollo es toda la transición que estamos viviendo hace un entorno mucho más digital e impacta bastante a nuestro departamento de marketing en sentido amplio marketing comunicación y sobre el que estamos trabajando bastante para ser capaces de equipara a nuestro zebraman ayerza a todos nuestros trabajadores a ser capaces de moverse en esa evolución digital en las que todos estamos inmersos. \n",
      "audio-chunks-temp\\chunk31.wav : Y el segundo proyecto que comentaría de los muchos que tenemos es bueno es uno que tengo especialmente cariño. \n",
      "audio-chunks-temp\\chunk32.wav : Y qué es el que está relacionado con todas las acciones relacionadas con el instituto de la felicidad nosotros tenemos un puesto en la compañía que es happiness institute manager que yo creo que es muy especial y es una persona que trabaja en él en la felicidad tanto hacía fuera como acciones hacia nuestros empleados llevan desde charlas quedamos en los empleados con diferentes ponentes sobre aspectos relativos a bienestar salud felicidad y pasan hasta por ejemplo con con un estudio que vamos a empezar ahora una universidad con la universidad de california sobre cuál es la correlación entre la felicidad y el rendimiento en el trabajo. \n",
      "End.\n"
     ]
    }
   ],
   "source": [
    "path = \"CocaCola.mp3\"\n",
    "#print(\"\\nFull text:\", get_large_audio_transcription(path, language='es-US'))\n",
    "_ = get_large_audio_transcription(path, language='es-US')"
   ]
  },
  {
   "cell_type": "code",
   "execution_count": 10,
   "metadata": {},
   "outputs": [
    {
     "name": "stdout",
     "output_type": "stream",
     "text": [
      "Error: \n",
      "Error: \n",
      "Error: \n",
      "Error: \n",
      "Error: \n",
      "Error: \n",
      "7: El objetivo que nosotros tenemos el del departamento de recursos humanos es conseguir. \n",
      "8: La gente que trabaja en cocacola. \n",
      "9: Este agusto tenga los medios adecuados para hacer su trabajo. \n",
      "10: Y que por tanto por ese abajo otros tenemos una iniciativa que es el instituto de la felicidad en el que trabajamos en muchas acciones hacia fuera pero un poco la filosofía de la compañía es que lo mismo que nosotros mostramos aquí afuera o declinamos hacia dentro. \n",
      "11: Y básicamente lo que intentamos es las mismas acciones. \n",
      "12: Tenemos aquí afuera. \n",
      "13: Hacerlas con nuestros empleados. \n",
      "14: Y y perseguir la máxima del instituto que es que la gente que está feliz. \n",
      "15: Pues trabajando nosotros lo definimos como una universidad corporativa virtual. \n",
      "16: Al final la filosofía de la universidad sedes recoger las mejores prácticas a nivel mundial. \n",
      "17: Cocacola está presente en más de 206 países. \n",
      "18: Y acercar las mejores prácticas a los empleados independientemente de allá donde estén nosotros tenemos un centro de formación corporativo en en atlanta pero la filosofía de la universidad es trabajar sobre los pilares más importantes de desarrollo en cuba cola de formación y desarrollo y acercarlos a la gente a través de diferentes programas y cipalmente los los pilares de la universidad son cuatro el primero es liderazgo que independientemente del país donde trabajé. \n",
      "19: Responsable de personas pues queremos que que tenga los mismos valores la misma cultura y el mismo estilo de liderazgo. \n",
      "20: Luego tenemos tres pilares que qué son los pilares de marketing es muy importante para la cola. \n",
      "21: Toda la parte de formación comercial. \n",
      "22: Y toda la parte de relación con con nuestros socios embotelladores se traduce resumiendo mucho en unas reuniones. \n",
      "23: Que nosotros tenemos dos o tres veces al año que se hacen en todos los países en los que se discute del del talento de la compañía hablando prácticamente de cada uno de los empleados que trabajamos en coca cola básicamente en esas conversaciones se lo que se discute es y cuáles son los puntos fuertes de las personas y cuáles son sus áreas de desarrollo y cuáles son sus siguientes pasos el iphone call recogemos medidas pues desde horario flexible el horario para entrar por las mañanas y para salir por las tardes es la mente flexible. \n",
      "24: El área los trabajadores los medios informáticos ordenador portátil por ejemplo para todos los empleados. \n",
      "25: Para que puedan trabajar desde desde casa. \n",
      "26: Tener por ejemplo un banco de tiempo que no es más que un proveedor de servicios que se pueden cargar de cualquier cosa desde hacerte la copia de unas llaves comprarte un libro que necesites para para los niños o cualquier otro tipo de actividad que tú deberías de realizar y de esta manera tienes alguien que lo hace por ti y lo llamamos banco de tiempo porque te ahorras el tiempo es un programa en el que trabajamos conjuntamente con varias asociaciones donde trabajamos con jóvenes en riesgo de inclusión social todas las acciones de rsc las las realizamos conjuntamente con todo todo el área de relaciones públicas de la compañía y un poco desde el punto de vista de recursos humanos casi. \n",
      "27: También la realizamos pues porque nuestros propios empleados son los que nos piden participar con el plan integra nosotros un poco lo que hacemos es trabajar con esas esas asociaciones y nuestros empleados actúan como coaches. \n",
      "28: De los chicos que participan en el programa. \n",
      "29: Para orientarles hacer una labor de orientadores y luego además también les les facilitamos prácticas información sobre inserción en el mundo laboral y diferentes. \n",
      "30: Tenemos los los proyectos que hemos ido comentando yo por comentarte 22 cosas que no han salido en la conversación tenemos ahora un reto importante desde el punto de vista desarrollo es toda la transición que estamos viviendo hace un entorno mucho más digital e impacta bastante a nuestro departamento de marketing en sentido amplio marketing comunicación y sobre el que estamos trabajando bastante para ser capaces de equipara a nuestro zebraman ayerza a todos nuestros trabajadores a ser capaces de moverse en esa evolución digital en las que todos estamos inmersos. \n",
      "31: Y el segundo proyecto que comentaría de los muchos que tenemos es bueno es uno que tengo especialmente cariño. \n",
      "32: Y qué es el que está relacionado con todas las acciones relacionadas con el instituto de la felicidad nosotros tenemos un puesto en la compañía que es happiness institute manager que yo creo que es muy especial y es una persona que trabaja en él en la felicidad tanto hacía fuera como acciones hacia nuestros empleados llevan desde charlas quedamos en los empleados con diferentes ponentes sobre aspectos relativos a bienestar salud felicidad y pasan hasta por ejemplo con con un estudio que vamos a empezar ahora una universidad con la universidad de california sobre cuál es la correlación entre la felicidad y el rendimiento en el trabajo. \n",
      "\n"
     ]
    }
   ],
   "source": [
    "with open('CocaCola.txt', 'r') as f:\n",
    "    print(f.read())"
   ]
  },
  {
   "cell_type": "code",
   "execution_count": null,
   "metadata": {},
   "outputs": [],
   "source": []
  }
 ],
 "metadata": {
  "kernelspec": {
   "display_name": "Python 3",
   "language": "python",
   "name": "python3"
  },
  "language_info": {
   "codemirror_mode": {
    "name": "ipython",
    "version": 3
   },
   "file_extension": ".py",
   "mimetype": "text/x-python",
   "name": "python",
   "nbconvert_exporter": "python",
   "pygments_lexer": "ipython3",
   "version": "3.8.8"
  }
 },
 "nbformat": 4,
 "nbformat_minor": 4
}
